{
 "cells": [
  {
   "cell_type": "markdown",
   "metadata": {},
   "source": [
    "Run the following line if you don't have any of the libraries"
   ]
  },
  {
   "cell_type": "code",
   "execution_count": 1,
   "metadata": {
    "scrolled": false
   },
   "outputs": [
    {
     "name": "stdout",
     "output_type": "stream",
     "text": [
      "Collecting statsmodels\n",
      "  Downloading statsmodels-0.11.1-cp37-none-win_amd64.whl (8.2 MB)\n",
      "Collecting pandas\n",
      "  Downloading pandas-1.0.3-cp37-cp37m-win_amd64.whl (8.7 MB)\n",
      "Collecting numpy\n",
      "  Downloading numpy-1.18.2-cp37-cp37m-win_amd64.whl (12.8 MB)\n",
      "Requirement already satisfied, skipping upgrade: scipy>=1.0 in c:\\programdata\\anaconda3\\lib\\site-packages (from statsmodels) (1.4.1)\n",
      "Requirement already satisfied, skipping upgrade: patsy>=0.5 in c:\\programdata\\anaconda3\\lib\\site-packages (from statsmodels) (0.5.1)\n",
      "Requirement already satisfied, skipping upgrade: pytz>=2017.2 in c:\\programdata\\anaconda3\\lib\\site-packages (from pandas) (2019.3)\n",
      "Requirement already satisfied, skipping upgrade: python-dateutil>=2.6.1 in c:\\programdata\\anaconda3\\lib\\site-packages (from pandas) (2.8.1)\n",
      "Requirement already satisfied, skipping upgrade: six in c:\\programdata\\anaconda3\\lib\\site-packages (from patsy>=0.5->statsmodels) (1.14.0)\n",
      "Installing collected packages: numpy, pandas, statsmodels\n",
      "Successfully installed numpy-1.18.2 pandas-1.0.3 statsmodels-0.11.1\n"
     ]
    },
    {
     "name": "stderr",
     "output_type": "stream",
     "text": [
      "  WARNING: The script f2py.exe is installed in 'C:\\Users\\JJ\\AppData\\Roaming\\Python\\Python37\\Scripts' which is not on PATH.\n",
      "  Consider adding this directory to PATH or, if you prefer to suppress this warning, use --no-warn-script-location.\n"
     ]
    }
   ],
   "source": [
    "!pip install statsmodels pandas numpy --upgrade --user"
   ]
  },
  {
   "cell_type": "code",
   "execution_count": 11,
   "metadata": {},
   "outputs": [],
   "source": [
    "import pandas as pd\n",
    "import statsmodels.api as sm\n",
    "from statsmodels.tsa.ar_model import AutoReg, ar_select_order\n",
    "from statsmodels.tsa.api import acf, pacf, graphics, VAR\n",
    "import data_prep_modified as dpm\n",
    "import numpy as np"
   ]
  },
  {
   "cell_type": "code",
   "execution_count": 3,
   "metadata": {},
   "outputs": [
    {
     "data": {
      "text/plain": [
       "['Date',\n",
       " 'Open_Pharm',\n",
       " 'High_Pharm',\n",
       " 'Low_Pharm',\n",
       " 'Close_Pharm',\n",
       " 'Adj Close_Pharm',\n",
       " 'Volume_Pharm',\n",
       " 'Open_Semicon',\n",
       " 'High_Semicon',\n",
       " 'Low_Semicon',\n",
       " 'Close_Semicon',\n",
       " 'Adj Close_Semicon',\n",
       " 'Volume_Semicon',\n",
       " 'Open_SNP500',\n",
       " 'High_SNP500',\n",
       " 'Low_SNP500',\n",
       " 'Close_SNP500',\n",
       " 'Adj Close_SNP500',\n",
       " 'Volume_SNP500',\n",
       " 'Open_Industrial',\n",
       " 'High_Industrial',\n",
       " 'Low_Industrial',\n",
       " 'Close_Industrial',\n",
       " 'Adj Close_Industrial',\n",
       " 'Volume_Industrial',\n",
       " 'Open_Energy',\n",
       " 'High_Energy',\n",
       " 'Low_Energy',\n",
       " 'Close_Energy',\n",
       " 'Adj Close_Energy',\n",
       " 'Volume_Energy',\n",
       " 'Open_Financial',\n",
       " 'High_Financial',\n",
       " 'Low_Financial',\n",
       " 'Close_Financial',\n",
       " 'Adj Close_Financial',\n",
       " 'Volume_Financial',\n",
       " 'Open_Tech',\n",
       " 'High_Tech',\n",
       " 'Low_Tech',\n",
       " 'Close_Tech',\n",
       " 'Adj Close_Tech',\n",
       " 'Volume_Tech',\n",
       " 'Open_Utilities',\n",
       " 'High_Utilities',\n",
       " 'Low_Utilities',\n",
       " 'Close_Utilities',\n",
       " 'Adj Close_Utilities',\n",
       " 'Volume_Utilities',\n",
       " 'Open_Consumer',\n",
       " 'High_Consumer',\n",
       " 'Low_Consumer',\n",
       " 'Close_Consumer',\n",
       " 'Adj Close_Consumer',\n",
       " 'Volume_Consumer']"
      ]
     },
     "execution_count": 3,
     "metadata": {},
     "output_type": "execute_result"
    }
   ],
   "source": [
    "data = pd.read_csv(\"./data/output.csv\")\n",
    "list(data.columns) "
   ]
  },
  {
   "cell_type": "code",
   "execution_count": 4,
   "metadata": {},
   "outputs": [],
   "source": [
    "#variable prep commands, replace snp500 with variable of choice\n",
    "snp500delta = dpm.get_perc_return(data, column_name=\"Adj Close_SNP500\")\n",
    "snp500delta.set_index('Date', inplace=True)\n",
    "#for some reason, I cant put the set_index command in the function because of some error"
   ]
  },
  {
   "cell_type": "code",
   "execution_count": 5,
   "metadata": {},
   "outputs": [
    {
     "data": {
      "text/html": [
       "<div>\n",
       "<style scoped>\n",
       "    .dataframe tbody tr th:only-of-type {\n",
       "        vertical-align: middle;\n",
       "    }\n",
       "\n",
       "    .dataframe tbody tr th {\n",
       "        vertical-align: top;\n",
       "    }\n",
       "\n",
       "    .dataframe thead th {\n",
       "        text-align: right;\n",
       "    }\n",
       "</style>\n",
       "<table border=\"1\" class=\"dataframe\">\n",
       "  <thead>\n",
       "    <tr style=\"text-align: right;\">\n",
       "      <th></th>\n",
       "      <th>%_returns</th>\n",
       "    </tr>\n",
       "    <tr>\n",
       "      <th>Date</th>\n",
       "      <th></th>\n",
       "    </tr>\n",
       "  </thead>\n",
       "  <tbody>\n",
       "    <tr>\n",
       "      <th>5/1/2010</th>\n",
       "      <td>0.003116</td>\n",
       "    </tr>\n",
       "    <tr>\n",
       "      <th>6/1/2010</th>\n",
       "      <td>0.000546</td>\n",
       "    </tr>\n",
       "    <tr>\n",
       "      <th>7/1/2010</th>\n",
       "      <td>0.004001</td>\n",
       "    </tr>\n",
       "    <tr>\n",
       "      <th>8/1/2010</th>\n",
       "      <td>0.002882</td>\n",
       "    </tr>\n",
       "    <tr>\n",
       "      <th>11/1/2010</th>\n",
       "      <td>0.001747</td>\n",
       "    </tr>\n",
       "  </tbody>\n",
       "</table>\n",
       "</div>"
      ],
      "text/plain": [
       "           %_returns\n",
       "Date                \n",
       "5/1/2010    0.003116\n",
       "6/1/2010    0.000546\n",
       "7/1/2010    0.004001\n",
       "8/1/2010    0.002882\n",
       "11/1/2010   0.001747"
      ]
     },
     "execution_count": 5,
     "metadata": {},
     "output_type": "execute_result"
    }
   ],
   "source": [
    "snp500delta.head()"
   ]
  },
  {
   "cell_type": "code",
   "execution_count": 9,
   "metadata": {},
   "outputs": [
    {
     "name": "stderr",
     "output_type": "stream",
     "text": [
      "C:\\Users\\Hamu\\AppData\\Roaming\\Python\\Python37\\site-packages\\statsmodels\\tsa\\base\\tsa_model.py:218: ValueWarning: A date index has been provided, but it has no associated frequency information and so will be ignored when e.g. forecasting.\n",
      "  ' ignored when e.g. forecasting.', ValueWarning)\n",
      "C:\\Users\\Hamu\\AppData\\Roaming\\Python\\Python37\\site-packages\\statsmodels\\tsa\\base\\tsa_model.py:222: ValueWarning: A date index has been provided, but it is not monotonic and so will be ignored when e.g. forecasting.\n",
      "  ' forecasting.', ValueWarning)\n"
     ]
    },
    {
     "data": {
      "text/plain": [
       "-9.143433697491265"
      ]
     },
     "execution_count": 9,
     "metadata": {},
     "output_type": "execute_result"
    }
   ],
   "source": [
    "ar_1 = AutoReg(snp500delta, lags =1).fit()\n",
    "ar_1.summary()\n",
    "ar_1.aic"
   ]
  },
  {
   "cell_type": "code",
   "execution_count": 10,
   "metadata": {},
   "outputs": [],
   "source": [
    "pharmdelta = dpm.get_perc_return(data, column_name=\"Adj Close_Pharm\")\n",
    "pharmdelta.set_index('Date', inplace=True)"
   ]
  },
  {
   "cell_type": "code",
   "execution_count": 23,
   "metadata": {},
   "outputs": [],
   "source": [
    "pharmdelta.columns = ['pharm_returns']"
   ]
  },
  {
   "cell_type": "code",
   "execution_count": 25,
   "metadata": {},
   "outputs": [
    {
     "data": {
      "text/html": [
       "<div>\n",
       "<style scoped>\n",
       "    .dataframe tbody tr th:only-of-type {\n",
       "        vertical-align: middle;\n",
       "    }\n",
       "\n",
       "    .dataframe tbody tr th {\n",
       "        vertical-align: top;\n",
       "    }\n",
       "\n",
       "    .dataframe thead th {\n",
       "        text-align: right;\n",
       "    }\n",
       "</style>\n",
       "<table border=\"1\" class=\"dataframe\">\n",
       "  <thead>\n",
       "    <tr style=\"text-align: right;\">\n",
       "      <th></th>\n",
       "      <th>%_returns</th>\n",
       "      <th>pharm_returns</th>\n",
       "    </tr>\n",
       "    <tr>\n",
       "      <th>Date</th>\n",
       "      <th></th>\n",
       "      <th></th>\n",
       "    </tr>\n",
       "  </thead>\n",
       "  <tbody>\n",
       "    <tr>\n",
       "      <th>5/1/2010</th>\n",
       "      <td>0.003116</td>\n",
       "      <td>-0.009392</td>\n",
       "    </tr>\n",
       "    <tr>\n",
       "      <th>6/1/2010</th>\n",
       "      <td>0.000546</td>\n",
       "      <td>0.004966</td>\n",
       "    </tr>\n",
       "    <tr>\n",
       "      <th>7/1/2010</th>\n",
       "      <td>0.004001</td>\n",
       "      <td>-0.001647</td>\n",
       "    </tr>\n",
       "    <tr>\n",
       "      <th>8/1/2010</th>\n",
       "      <td>0.002882</td>\n",
       "      <td>0.000300</td>\n",
       "    </tr>\n",
       "    <tr>\n",
       "      <th>11/1/2010</th>\n",
       "      <td>0.001747</td>\n",
       "      <td>0.006899</td>\n",
       "    </tr>\n",
       "    <tr>\n",
       "      <th>...</th>\n",
       "      <td>...</td>\n",
       "      <td>...</td>\n",
       "    </tr>\n",
       "    <tr>\n",
       "      <th>16/3/2020</th>\n",
       "      <td>-0.119841</td>\n",
       "      <td>-0.089813</td>\n",
       "    </tr>\n",
       "    <tr>\n",
       "      <th>17/3/2020</th>\n",
       "      <td>0.059955</td>\n",
       "      <td>0.060510</td>\n",
       "    </tr>\n",
       "    <tr>\n",
       "      <th>18/3/2020</th>\n",
       "      <td>-0.051831</td>\n",
       "      <td>-0.052955</td>\n",
       "    </tr>\n",
       "    <tr>\n",
       "      <th>19/3/2020</th>\n",
       "      <td>0.004708</td>\n",
       "      <td>-0.007876</td>\n",
       "    </tr>\n",
       "    <tr>\n",
       "      <th>20/3/2020</th>\n",
       "      <td>-0.043360</td>\n",
       "      <td>-0.025997</td>\n",
       "    </tr>\n",
       "  </tbody>\n",
       "</table>\n",
       "<p>2570 rows × 2 columns</p>\n",
       "</div>"
      ],
      "text/plain": [
       "           %_returns  pharm_returns\n",
       "Date                               \n",
       "5/1/2010    0.003116      -0.009392\n",
       "6/1/2010    0.000546       0.004966\n",
       "7/1/2010    0.004001      -0.001647\n",
       "8/1/2010    0.002882       0.000300\n",
       "11/1/2010   0.001747       0.006899\n",
       "...              ...            ...\n",
       "16/3/2020  -0.119841      -0.089813\n",
       "17/3/2020   0.059955       0.060510\n",
       "18/3/2020  -0.051831      -0.052955\n",
       "19/3/2020   0.004708      -0.007876\n",
       "20/3/2020  -0.043360      -0.025997\n",
       "\n",
       "[2570 rows x 2 columns]"
      ]
     },
     "execution_count": 25,
     "metadata": {},
     "output_type": "execute_result"
    }
   ],
   "source": [
    "adl_df = pd.concat([snp500delta,pharmdelta], axis = 1)\n",
    "adl_df"
   ]
  },
  {
   "cell_type": "code",
   "execution_count": 35,
   "metadata": {},
   "outputs": [
    {
     "name": "stderr",
     "output_type": "stream",
     "text": [
      "C:\\Users\\Hamu\\AppData\\Roaming\\Python\\Python37\\site-packages\\statsmodels\\tsa\\base\\tsa_model.py:218: ValueWarning: A date index has been provided, but it has no associated frequency information and so will be ignored when e.g. forecasting.\n",
      "  ' ignored when e.g. forecasting.', ValueWarning)\n",
      "C:\\Users\\Hamu\\AppData\\Roaming\\Python\\Python37\\site-packages\\statsmodels\\tsa\\base\\tsa_model.py:222: ValueWarning: A date index has been provided, but it is not monotonic and so will be ignored when e.g. forecasting.\n",
      "  ' forecasting.', ValueWarning)\n"
     ]
    },
    {
     "data": {
      "text/plain": [
       "  Summary of Regression Results   \n",
       "==================================\n",
       "Model:                         VAR\n",
       "Method:                        OLS\n",
       "Date:           Mon, 06, Apr, 2020\n",
       "Time:                     19:16:33\n",
       "--------------------------------------------------------------------\n",
       "No. of Equations:         2.00000    BIC:                   -90.0695\n",
       "Nobs:                     2570.00    HQIC:                  -90.0753\n",
       "Log likelihood:           108462.    FPE:                7.57476e-40\n",
       "AIC:                     -90.0786    Det(Omega_mle):     7.56298e-40\n",
       "--------------------------------------------------------------------\n",
       "Results for equation %_returns\n",
       "================================================================================\n",
       "                   coefficient       std. error           t-stat            prob\n",
       "--------------------------------------------------------------------------------\n",
       "const                 0.000083         0.000120            0.695           0.487\n",
       "pharm_returns         0.833727         0.011717           71.157           0.000\n",
       "================================================================================\n",
       "\n",
       "Results for equation pharm_returns\n",
       "=======================================================================================\n",
       "                   coefficient       std. error                  t-stat            prob\n",
       "---------------------------------------------------------------------------------------\n",
       "const                 0.000000         0.000000                   0.965           0.335\n",
       "pharm_returns         1.000000         0.000000  114109960128737408.000           0.000\n",
       "=======================================================================================\n",
       "\n",
       "Correlation matrix of residuals\n",
       "                 %_returns  pharm_returns\n",
       "%_returns         1.000000      -0.002554\n",
       "pharm_returns    -0.002554       1.000000\n",
       "\n"
      ]
     },
     "execution_count": 35,
     "metadata": {},
     "output_type": "execute_result"
    }
   ],
   "source": [
    "test = VAR(adl_df, exog = adl_df['pharm_returns']).fit(maxlags=15, ic='aic')\n",
    "test.summary()"
   ]
  },
  {
   "cell_type": "code",
   "execution_count": 33,
   "metadata": {},
   "outputs": [
    {
     "ename": "AttributeError",
     "evalue": "'VARResults' object has no attribute 'endog_names'",
     "output_type": "error",
     "traceback": [
      "\u001b[1;31m---------------------------------------------------------------------------\u001b[0m",
      "\u001b[1;31mAttributeError\u001b[0m                            Traceback (most recent call last)",
      "\u001b[1;32m<ipython-input-33-535f47e1adb0>\u001b[0m in \u001b[0;36m<module>\u001b[1;34m()\u001b[0m\n\u001b[1;32m----> 1\u001b[1;33m \u001b[0mtest\u001b[0m\u001b[1;33m.\u001b[0m\u001b[0mendog_names\u001b[0m\u001b[1;33m\u001b[0m\u001b[0m\n\u001b[0m",
      "\u001b[1;32m~\\AppData\\Roaming\\Python\\Python37\\site-packages\\statsmodels\\base\\wrapper.py\u001b[0m in \u001b[0;36m__getattribute__\u001b[1;34m(self, attr)\u001b[0m\n\u001b[0;32m     34\u001b[0m             \u001b[1;32mpass\u001b[0m\u001b[1;33m\u001b[0m\u001b[0m\n\u001b[0;32m     35\u001b[0m \u001b[1;33m\u001b[0m\u001b[0m\n\u001b[1;32m---> 36\u001b[1;33m         \u001b[0mobj\u001b[0m \u001b[1;33m=\u001b[0m \u001b[0mgetattr\u001b[0m\u001b[1;33m(\u001b[0m\u001b[0mresults\u001b[0m\u001b[1;33m,\u001b[0m \u001b[0mattr\u001b[0m\u001b[1;33m)\u001b[0m\u001b[1;33m\u001b[0m\u001b[0m\n\u001b[0m\u001b[0;32m     37\u001b[0m         \u001b[0mdata\u001b[0m \u001b[1;33m=\u001b[0m \u001b[0mresults\u001b[0m\u001b[1;33m.\u001b[0m\u001b[0mmodel\u001b[0m\u001b[1;33m.\u001b[0m\u001b[0mdata\u001b[0m\u001b[1;33m\u001b[0m\u001b[0m\n\u001b[0;32m     38\u001b[0m         \u001b[0mhow\u001b[0m \u001b[1;33m=\u001b[0m \u001b[0mself\u001b[0m\u001b[1;33m.\u001b[0m\u001b[0m_wrap_attrs\u001b[0m\u001b[1;33m.\u001b[0m\u001b[0mget\u001b[0m\u001b[1;33m(\u001b[0m\u001b[0mattr\u001b[0m\u001b[1;33m)\u001b[0m\u001b[1;33m\u001b[0m\u001b[0m\n",
      "\u001b[1;31mAttributeError\u001b[0m: 'VARResults' object has no attribute 'endog_names'"
     ]
    }
   ],
   "source": []
  }
 ],
 "metadata": {
  "kernelspec": {
   "display_name": "Python 3",
   "language": "python",
   "name": "python3"
  },
  "language_info": {
   "codemirror_mode": {
    "name": "ipython",
    "version": 3
   },
   "file_extension": ".py",
   "mimetype": "text/x-python",
   "name": "python",
   "nbconvert_exporter": "python",
   "pygments_lexer": "ipython3",
   "version": "3.7.6"
  }
 },
 "nbformat": 4,
 "nbformat_minor": 4
}
