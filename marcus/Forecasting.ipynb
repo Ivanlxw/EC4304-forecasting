{
 "cells": [
  {
   "cell_type": "markdown",
   "metadata": {},
   "source": [
    "Run the following line if you don't have any of the libraries"
   ]
  },
  {
   "cell_type": "code",
   "execution_count": null,
   "metadata": {
    "scrolled": false
   },
   "outputs": [],
   "source": [
    "!pip install statsmodels pandas numpy --upgrade --user"
   ]
  },
  {
   "cell_type": "code",
   "execution_count": 1,
   "metadata": {},
   "outputs": [],
   "source": [
    "import pandas as pd\n",
    "import statsmodels.api as sm\n",
    "from statsmodels.tsa.ar_model import AutoReg, ar_select_order\n",
    "from statsmodels.tsa.api import acf, pacf, graphics\n",
    "import data_prep_modified as dpm\n",
    "import numpy as np"
   ]
  },
  {
   "cell_type": "code",
   "execution_count": 2,
   "metadata": {},
   "outputs": [
    {
     "data": {
      "text/plain": [
       "['Date',\n",
       " 'Open_Pharm',\n",
       " 'High_Pharm',\n",
       " 'Low_Pharm',\n",
       " 'Close_Pharm',\n",
       " 'Adj Close_Pharm',\n",
       " 'Volume_Pharm',\n",
       " 'Open_Semicon',\n",
       " 'High_Semicon',\n",
       " 'Low_Semicon',\n",
       " 'Close_Semicon',\n",
       " 'Adj Close_Semicon',\n",
       " 'Volume_Semicon',\n",
       " 'Open_SNP500',\n",
       " 'High_SNP500',\n",
       " 'Low_SNP500',\n",
       " 'Close_SNP500',\n",
       " 'Adj Close_SNP500',\n",
       " 'Volume_SNP500',\n",
       " 'Open_Industrial',\n",
       " 'High_Industrial',\n",
       " 'Low_Industrial',\n",
       " 'Close_Industrial',\n",
       " 'Adj Close_Industrial',\n",
       " 'Volume_Industrial',\n",
       " 'Open_Energy',\n",
       " 'High_Energy',\n",
       " 'Low_Energy',\n",
       " 'Close_Energy',\n",
       " 'Adj Close_Energy',\n",
       " 'Volume_Energy',\n",
       " 'Open_Financial',\n",
       " 'High_Financial',\n",
       " 'Low_Financial',\n",
       " 'Close_Financial',\n",
       " 'Adj Close_Financial',\n",
       " 'Volume_Financial',\n",
       " 'Open_Tech',\n",
       " 'High_Tech',\n",
       " 'Low_Tech',\n",
       " 'Close_Tech',\n",
       " 'Adj Close_Tech',\n",
       " 'Volume_Tech',\n",
       " 'Open_Utilities',\n",
       " 'High_Utilities',\n",
       " 'Low_Utilities',\n",
       " 'Close_Utilities',\n",
       " 'Adj Close_Utilities',\n",
       " 'Volume_Utilities',\n",
       " 'Open_Consumer',\n",
       " 'High_Consumer',\n",
       " 'Low_Consumer',\n",
       " 'Close_Consumer',\n",
       " 'Adj Close_Consumer',\n",
       " 'Volume_Consumer']"
      ]
     },
     "execution_count": 2,
     "metadata": {},
     "output_type": "execute_result"
    }
   ],
   "source": [
    "data = pd.read_csv(\"./data/output.csv\")\n",
    "list(data.columns) "
   ]
  },
  {
   "cell_type": "code",
   "execution_count": 4,
   "metadata": {},
   "outputs": [],
   "source": [
    "#variable prep commands, replace snp500 with variable of choice\n",
    "snp500delta = dpm.get_perc_return(data, column_name=\"Adj Close_SNP500\")\n",
    "snp500delta.set_index('Date', inplace=True)\n",
    "#for some reason, I cant put the set_index command in the function because of some error"
   ]
  },
  {
   "cell_type": "code",
   "execution_count": 5,
   "metadata": {},
   "outputs": [
    {
     "data": {
      "text/html": [
       "<div>\n",
       "<style scoped>\n",
       "    .dataframe tbody tr th:only-of-type {\n",
       "        vertical-align: middle;\n",
       "    }\n",
       "\n",
       "    .dataframe tbody tr th {\n",
       "        vertical-align: top;\n",
       "    }\n",
       "\n",
       "    .dataframe thead th {\n",
       "        text-align: right;\n",
       "    }\n",
       "</style>\n",
       "<table border=\"1\" class=\"dataframe\">\n",
       "  <thead>\n",
       "    <tr style=\"text-align: right;\">\n",
       "      <th></th>\n",
       "      <th>%_returns</th>\n",
       "    </tr>\n",
       "    <tr>\n",
       "      <th>Date</th>\n",
       "      <th></th>\n",
       "    </tr>\n",
       "  </thead>\n",
       "  <tbody>\n",
       "    <tr>\n",
       "      <th>5/1/2010</th>\n",
       "      <td>0.003116</td>\n",
       "    </tr>\n",
       "    <tr>\n",
       "      <th>6/1/2010</th>\n",
       "      <td>0.000546</td>\n",
       "    </tr>\n",
       "    <tr>\n",
       "      <th>7/1/2010</th>\n",
       "      <td>0.004001</td>\n",
       "    </tr>\n",
       "    <tr>\n",
       "      <th>8/1/2010</th>\n",
       "      <td>0.002882</td>\n",
       "    </tr>\n",
       "    <tr>\n",
       "      <th>11/1/2010</th>\n",
       "      <td>0.001747</td>\n",
       "    </tr>\n",
       "  </tbody>\n",
       "</table>\n",
       "</div>"
      ],
      "text/plain": [
       "           %_returns\n",
       "Date                \n",
       "5/1/2010    0.003116\n",
       "6/1/2010    0.000546\n",
       "7/1/2010    0.004001\n",
       "8/1/2010    0.002882\n",
       "11/1/2010   0.001747"
      ]
     },
     "execution_count": 5,
     "metadata": {},
     "output_type": "execute_result"
    }
   ],
   "source": [
    "snp500delta.head()"
   ]
  },
  {
   "cell_type": "code",
   "execution_count": 6,
   "metadata": {},
   "outputs": [
    {
     "name": "stderr",
     "output_type": "stream",
     "text": [
      "C:\\Users\\Hamu\\AppData\\Roaming\\Python\\Python37\\site-packages\\statsmodels\\tsa\\base\\tsa_model.py:218: ValueWarning: A date index has been provided, but it has no associated frequency information and so will be ignored when e.g. forecasting.\n",
      "  ' ignored when e.g. forecasting.', ValueWarning)\n",
      "C:\\Users\\Hamu\\AppData\\Roaming\\Python\\Python37\\site-packages\\statsmodels\\tsa\\base\\tsa_model.py:222: ValueWarning: A date index has been provided, but it is not monotonic and so will be ignored when e.g. forecasting.\n",
      "  ' forecasting.', ValueWarning)\n"
     ]
    },
    {
     "data": {
      "text/html": [
       "<table class=\"simpletable\">\n",
       "<caption>AutoReg Model Results</caption>\n",
       "<tr>\n",
       "  <th>Dep. Variable:</th>     <td>%_returns</td>    <th>  No. Observations:  </th>   <td>2570</td>  \n",
       "</tr>\n",
       "<tr>\n",
       "  <th>Model:</th>            <td>AutoReg(1)</td>    <th>  Log Likelihood     </th> <td>8102.487</td>\n",
       "</tr>\n",
       "<tr>\n",
       "  <th>Method:</th>         <td>Conditional MLE</td> <th>  S.D. of innovations</th>   <td>0.010</td> \n",
       "</tr>\n",
       "<tr>\n",
       "  <th>Date:</th>          <td>Mon, 06 Apr 2020</td> <th>  AIC                </th>  <td>-9.143</td> \n",
       "</tr>\n",
       "<tr>\n",
       "  <th>Time:</th>              <td>14:01:12</td>     <th>  BIC                </th>  <td>-9.137</td> \n",
       "</tr>\n",
       "<tr>\n",
       "  <th>Sample:</th>                <td>1</td>        <th>  HQIC               </th>  <td>-9.141</td> \n",
       "</tr>\n",
       "<tr>\n",
       "  <th></th>                     <td>2570</td>       <th>                     </th>     <td> </td>   \n",
       "</tr>\n",
       "</table>\n",
       "<table class=\"simpletable\">\n",
       "<tr>\n",
       "        <td></td>          <th>coef</th>     <th>std err</th>      <th>z</th>      <th>P>|z|</th>  <th>[0.025</th>    <th>0.975]</th>  \n",
       "</tr>\n",
       "<tr>\n",
       "  <th>intercept</th>    <td>    0.0004</td> <td>    0.000</td> <td>    1.882</td> <td> 0.060</td> <td>-1.59e-05</td> <td>    0.001</td>\n",
       "</tr>\n",
       "<tr>\n",
       "  <th>%_returns.L1</th> <td>   -0.1533</td> <td>    0.020</td> <td>   -7.836</td> <td> 0.000</td> <td>   -0.192</td> <td>   -0.115</td>\n",
       "</tr>\n",
       "</table>\n",
       "<table class=\"simpletable\">\n",
       "<caption>Roots</caption>\n",
       "<tr>\n",
       "    <td></td>   <th>            Real</th>  <th>         Imaginary</th> <th>         Modulus</th>  <th>        Frequency</th>\n",
       "</tr>\n",
       "<tr>\n",
       "  <th>AR.1</th> <td>          -6.5230</td> <td>          +0.0000j</td> <td>           6.5230</td> <td>           0.5000</td>\n",
       "</tr>\n",
       "</table>"
      ],
      "text/plain": [
       "<class 'statsmodels.iolib.summary.Summary'>\n",
       "\"\"\"\n",
       "                            AutoReg Model Results                             \n",
       "==============================================================================\n",
       "Dep. Variable:              %_returns   No. Observations:                 2570\n",
       "Model:                     AutoReg(1)   Log Likelihood                8102.487\n",
       "Method:               Conditional MLE   S.D. of innovations              0.010\n",
       "Date:                Mon, 06 Apr 2020   AIC                             -9.143\n",
       "Time:                        14:01:12   BIC                             -9.137\n",
       "Sample:                             1   HQIC                            -9.141\n",
       "                                 2570                                         \n",
       "================================================================================\n",
       "                   coef    std err          z      P>|z|      [0.025      0.975]\n",
       "--------------------------------------------------------------------------------\n",
       "intercept        0.0004      0.000      1.882      0.060   -1.59e-05       0.001\n",
       "%_returns.L1    -0.1533      0.020     -7.836      0.000      -0.192      -0.115\n",
       "                                    Roots                                    \n",
       "=============================================================================\n",
       "                  Real          Imaginary           Modulus         Frequency\n",
       "-----------------------------------------------------------------------------\n",
       "AR.1           -6.5230           +0.0000j            6.5230            0.5000\n",
       "-----------------------------------------------------------------------------\n",
       "\"\"\""
      ]
     },
     "execution_count": 6,
     "metadata": {},
     "output_type": "execute_result"
    }
   ],
   "source": [
    "ar_1 = AutoReg(snp500delta, lags =1).fit()\n",
    "ar_1.summary()"
   ]
  }
 ],
 "metadata": {
  "kernelspec": {
   "display_name": "Python 3",
   "language": "python",
   "name": "python3"
  },
  "language_info": {
   "codemirror_mode": {
    "name": "ipython",
    "version": 3
   },
   "file_extension": ".py",
   "mimetype": "text/x-python",
   "name": "python",
   "nbconvert_exporter": "python",
   "pygments_lexer": "ipython3",
   "version": "3.7.0"
  }
 },
 "nbformat": 4,
 "nbformat_minor": 4
}
