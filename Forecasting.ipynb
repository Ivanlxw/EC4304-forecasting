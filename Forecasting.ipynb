{
 "cells": [
  {
   "cell_type": "markdown",
   "metadata": {},
   "source": [
    "Run the following line if you don't have any of the libraries"
   ]
  },
  {
   "cell_type": "code",
   "execution_count": 1,
   "metadata": {
    "scrolled": false
   },
   "outputs": [],
   "source": [
    "# %%bash\n",
    "# pip install statsmodels pandas numpy sklearn"
   ]
  },
  {
   "cell_type": "code",
   "execution_count": 2,
   "metadata": {},
   "outputs": [],
   "source": [
    "import warnings\n",
    "warnings.filterwarnings('ignore')\n",
    "\n",
    "import numpy as np\n",
    "import pandas as pd\n",
    "import matplotlib.pyplot as plt\n",
    "import statsmodels\n",
    "from statsmodels.tsa.ar_model import AutoReg, ar_select_order\n",
    "from statsmodels.graphics.tsaplots import plot_acf, plot_pacf\n",
    "from statsmodels.tsa.arima_model import ARMA\n",
    "\n",
    "from sklearn.metrics import mean_squared_error as mse\n",
    "\n",
    "import data_prep\n",
    "import eval_utils\n",
    "from eval_utils import build_and_model_VAR"
   ]
  },
  {
   "cell_type": "code",
   "execution_count": 3,
   "metadata": {
    "scrolled": true
   },
   "outputs": [
    {
     "data": {
      "text/plain": [
       "<matplotlib.axes._subplots.AxesSubplot at 0x21169da1088>"
      ]
     },
     "execution_count": 3,
     "metadata": {},
     "output_type": "execute_result"
    },
    {
     "data": {
      "image/png": "[encoded data removed]",
      "text/plain": [
       "<Figure size 432x288 with 1 Axes>"
      ]
     },
     "metadata": {
      "needs_background": "light"
     },
     "output_type": "display_data"
    }
   ],
   "source": [
    "df_perc_returns = data_prep.get_perc_return(\"./data/SnP_500.csv\", column_name=\"Open\")\n",
    "df_perc_returns.plot()"
   ]
  },
  {
   "cell_type": "markdown",
   "metadata": {},
   "source": [
    "The way returns are distributed shows a stationary process with no correlation with time \n",
    "This also leads us to try out GARCH models since we proabably can model these spikes in volatility.\n",
    "\n",
    "Following which, we'll look at the full dataset, a concatnation of all the variables together with S&P500"
   ]
  },
  {
   "cell_type": "code",
   "execution_count": 4,
   "metadata": {
    "scrolled": false
   },
   "outputs": [],
   "source": [
    "full_industries = [\"Pharm\", \"Semicon\", \"Industrial\", \"Energy\", \"Financial\", \"Tech\", \"Utilities\", \"Consumer\"]\n",
    "full_df, idx_psuedo_OOB, idx_OOB = data_prep.split_data(\"./data/output.csv\")\n",
    "df = full_df[:idx_psuedo_OOB]\n",
    "\n",
    "df = build_and_model_VAR(df, full_industries).dropna()\n",
    "# t.to_csv(\"./data/output2.csv\")"
   ]
  },
  {
   "cell_type": "code",
   "execution_count": 37,
   "metadata": {},
   "outputs": [
    {
     "data": {
      "text/plain": [
       "2387"
      ]
     },
     "execution_count": 37,
     "metadata": {},
     "output_type": "execute_result"
    }
   ],
   "source": [
    "len(df)"
   ]
  },
  {
   "cell_type": "code",
   "execution_count": 6,
   "metadata": {},
   "outputs": [
    {
     "data": {
      "text/html": [
       "<div>\n",
       "<style scoped>\n",
       "    .dataframe tbody tr th:only-of-type {\n",
       "        vertical-align: middle;\n",
       "    }\n",
       "\n",
       "    .dataframe tbody tr th {\n",
       "        vertical-align: top;\n",
       "    }\n",
       "\n",
       "    .dataframe thead th {\n",
       "        text-align: right;\n",
       "    }\n",
       "</style>\n",
       "<table border=\"1\" class=\"dataframe\">\n",
       "  <thead>\n",
       "    <tr style=\"text-align: right;\">\n",
       "      <th></th>\n",
       "      <th>Adj Close_Pharm_L1</th>\n",
       "      <th>Adj Close_Pharm_L2</th>\n",
       "      <th>Adj Close_Pharm_L3</th>\n",
       "      <th>Volume_Pharm_L1</th>\n",
       "      <th>Volume_Pharm_L2</th>\n",
       "      <th>Volume_Pharm_L3</th>\n",
       "      <th>Adj Close_Semicon_L1</th>\n",
       "      <th>Adj Close_Semicon_L2</th>\n",
       "      <th>Adj Close_Semicon_L3</th>\n",
       "      <th>Volume_Semicon_L1</th>\n",
       "      <th>...</th>\n",
       "      <th>Adj Close_Consumer_L3</th>\n",
       "      <th>Volume_Consumer_L1</th>\n",
       "      <th>Volume_Consumer_L2</th>\n",
       "      <th>Volume_Consumer_L3</th>\n",
       "      <th>Adj Close_SNP500_L1</th>\n",
       "      <th>Adj Close_SNP500_L2</th>\n",
       "      <th>Adj Close_SNP500_L3</th>\n",
       "      <th>Volume_SNP500_L1</th>\n",
       "      <th>Volume_SNP500_L2</th>\n",
       "      <th>Volume_SNP500_L3</th>\n",
       "    </tr>\n",
       "    <tr>\n",
       "      <th>Date</th>\n",
       "      <th></th>\n",
       "      <th></th>\n",
       "      <th></th>\n",
       "      <th></th>\n",
       "      <th></th>\n",
       "      <th></th>\n",
       "      <th></th>\n",
       "      <th></th>\n",
       "      <th></th>\n",
       "      <th></th>\n",
       "      <th></th>\n",
       "      <th></th>\n",
       "      <th></th>\n",
       "      <th></th>\n",
       "      <th></th>\n",
       "      <th></th>\n",
       "      <th></th>\n",
       "      <th></th>\n",
       "      <th></th>\n",
       "      <th></th>\n",
       "      <th></th>\n",
       "    </tr>\n",
       "  </thead>\n",
       "  <tbody>\n",
       "    <tr>\n",
       "      <th>8/1/2010</th>\n",
       "      <td>-0.164698</td>\n",
       "      <td>0.496613</td>\n",
       "      <td>-0.939242</td>\n",
       "      <td>764600.0</td>\n",
       "      <td>1492400.0</td>\n",
       "      <td>1933200.0</td>\n",
       "      <td>-0.780742</td>\n",
       "      <td>-0.247798</td>\n",
       "      <td>-0.563153</td>\n",
       "      <td>14338900.0</td>\n",
       "      <td>...</td>\n",
       "      <td>0.366668</td>\n",
       "      <td>5736700.0</td>\n",
       "      <td>4246900.0</td>\n",
       "      <td>6162200.0</td>\n",
       "      <td>0.400120</td>\n",
       "      <td>0.054552</td>\n",
       "      <td>0.311568</td>\n",
       "      <td>5.270680e+09</td>\n",
       "      <td>4.972660e+09</td>\n",
       "      <td>2.491020e+09</td>\n",
       "    </tr>\n",
       "    <tr>\n",
       "      <th>11/1/2010</th>\n",
       "      <td>0.029955</td>\n",
       "      <td>-0.164698</td>\n",
       "      <td>0.496613</td>\n",
       "      <td>1218200.0</td>\n",
       "      <td>764600.0</td>\n",
       "      <td>1492400.0</td>\n",
       "      <td>2.002905</td>\n",
       "      <td>-0.780742</td>\n",
       "      <td>-0.247798</td>\n",
       "      <td>20879500.0</td>\n",
       "      <td>...</td>\n",
       "      <td>0.132848</td>\n",
       "      <td>6438000.0</td>\n",
       "      <td>5736700.0</td>\n",
       "      <td>4246900.0</td>\n",
       "      <td>0.288173</td>\n",
       "      <td>0.400120</td>\n",
       "      <td>0.054552</td>\n",
       "      <td>4.389590e+09</td>\n",
       "      <td>5.270680e+09</td>\n",
       "      <td>4.972660e+09</td>\n",
       "    </tr>\n",
       "    <tr>\n",
       "      <th>12/1/2010</th>\n",
       "      <td>0.689881</td>\n",
       "      <td>0.029955</td>\n",
       "      <td>-0.164698</td>\n",
       "      <td>760800.0</td>\n",
       "      <td>1218200.0</td>\n",
       "      <td>764600.0</td>\n",
       "      <td>-0.350636</td>\n",
       "      <td>2.002905</td>\n",
       "      <td>-0.780742</td>\n",
       "      <td>15761700.0</td>\n",
       "      <td>...</td>\n",
       "      <td>0.829184</td>\n",
       "      <td>4173500.0</td>\n",
       "      <td>6438000.0</td>\n",
       "      <td>5736700.0</td>\n",
       "      <td>0.174676</td>\n",
       "      <td>0.288173</td>\n",
       "      <td>0.400120</td>\n",
       "      <td>4.255780e+09</td>\n",
       "      <td>4.389590e+09</td>\n",
       "      <td>5.270680e+09</td>\n",
       "    </tr>\n",
       "    <tr>\n",
       "      <th>13/1/2010</th>\n",
       "      <td>-0.327645</td>\n",
       "      <td>0.689881</td>\n",
       "      <td>0.029955</td>\n",
       "      <td>634800.0</td>\n",
       "      <td>760800.0</td>\n",
       "      <td>1218200.0</td>\n",
       "      <td>-3.553813</td>\n",
       "      <td>-0.350636</td>\n",
       "      <td>2.002905</td>\n",
       "      <td>18656400.0</td>\n",
       "      <td>...</td>\n",
       "      <td>-0.032884</td>\n",
       "      <td>5473400.0</td>\n",
       "      <td>4173500.0</td>\n",
       "      <td>6438000.0</td>\n",
       "      <td>-0.938117</td>\n",
       "      <td>0.174676</td>\n",
       "      <td>0.288173</td>\n",
       "      <td>4.716160e+09</td>\n",
       "      <td>4.255780e+09</td>\n",
       "      <td>4.389590e+09</td>\n",
       "    </tr>\n",
       "    <tr>\n",
       "      <th>14/1/2010</th>\n",
       "      <td>1.639196</td>\n",
       "      <td>-0.327645</td>\n",
       "      <td>0.689881</td>\n",
       "      <td>1028800.0</td>\n",
       "      <td>634800.0</td>\n",
       "      <td>760800.0</td>\n",
       "      <td>1.276894</td>\n",
       "      <td>-3.553813</td>\n",
       "      <td>-0.350636</td>\n",
       "      <td>16446800.0</td>\n",
       "      <td>...</td>\n",
       "      <td>-0.197455</td>\n",
       "      <td>4615800.0</td>\n",
       "      <td>5473400.0</td>\n",
       "      <td>4173500.0</td>\n",
       "      <td>0.832593</td>\n",
       "      <td>-0.938117</td>\n",
       "      <td>0.174676</td>\n",
       "      <td>4.170360e+09</td>\n",
       "      <td>4.716160e+09</td>\n",
       "      <td>4.255780e+09</td>\n",
       "    </tr>\n",
       "    <tr>\n",
       "      <th>...</th>\n",
       "      <td>...</td>\n",
       "      <td>...</td>\n",
       "      <td>...</td>\n",
       "      <td>...</td>\n",
       "      <td>...</td>\n",
       "      <td>...</td>\n",
       "      <td>...</td>\n",
       "      <td>...</td>\n",
       "      <td>...</td>\n",
       "      <td>...</td>\n",
       "      <td>...</td>\n",
       "      <td>...</td>\n",
       "      <td>...</td>\n",
       "      <td>...</td>\n",
       "      <td>...</td>\n",
       "      <td>...</td>\n",
       "      <td>...</td>\n",
       "      <td>...</td>\n",
       "      <td>...</td>\n",
       "      <td>...</td>\n",
       "      <td>...</td>\n",
       "    </tr>\n",
       "    <tr>\n",
       "      <th>24/6/2019</th>\n",
       "      <td>0.170556</td>\n",
       "      <td>0.000000</td>\n",
       "      <td>1.033946</td>\n",
       "      <td>53800.0</td>\n",
       "      <td>11200.0</td>\n",
       "      <td>19800.0</td>\n",
       "      <td>-0.473712</td>\n",
       "      <td>1.155693</td>\n",
       "      <td>0.235446</td>\n",
       "      <td>5239200.0</td>\n",
       "      <td>...</td>\n",
       "      <td>0.184189</td>\n",
       "      <td>5221200.0</td>\n",
       "      <td>4188600.0</td>\n",
       "      <td>3065300.0</td>\n",
       "      <td>-0.125922</td>\n",
       "      <td>0.947219</td>\n",
       "      <td>0.298516</td>\n",
       "      <td>5.000120e+09</td>\n",
       "      <td>3.905940e+09</td>\n",
       "      <td>3.287890e+09</td>\n",
       "    </tr>\n",
       "    <tr>\n",
       "      <th>25/6/2019</th>\n",
       "      <td>-0.885402</td>\n",
       "      <td>0.170556</td>\n",
       "      <td>0.000000</td>\n",
       "      <td>43700.0</td>\n",
       "      <td>53800.0</td>\n",
       "      <td>11200.0</td>\n",
       "      <td>0.186649</td>\n",
       "      <td>-0.473712</td>\n",
       "      <td>1.155693</td>\n",
       "      <td>6124400.0</td>\n",
       "      <td>...</td>\n",
       "      <td>0.693636</td>\n",
       "      <td>2890200.0</td>\n",
       "      <td>5221200.0</td>\n",
       "      <td>4188600.0</td>\n",
       "      <td>-0.173189</td>\n",
       "      <td>-0.125922</td>\n",
       "      <td>0.947219</td>\n",
       "      <td>3.136250e+09</td>\n",
       "      <td>5.000120e+09</td>\n",
       "      <td>3.905940e+09</td>\n",
       "    </tr>\n",
       "    <tr>\n",
       "      <th>26/6/2019</th>\n",
       "      <td>0.051540</td>\n",
       "      <td>-0.885402</td>\n",
       "      <td>0.170556</td>\n",
       "      <td>41000.0</td>\n",
       "      <td>43700.0</td>\n",
       "      <td>53800.0</td>\n",
       "      <td>-1.732652</td>\n",
       "      <td>0.186649</td>\n",
       "      <td>-0.473712</td>\n",
       "      <td>6157200.0</td>\n",
       "      <td>...</td>\n",
       "      <td>-0.463044</td>\n",
       "      <td>3197100.0</td>\n",
       "      <td>2890200.0</td>\n",
       "      <td>5221200.0</td>\n",
       "      <td>-0.949640</td>\n",
       "      <td>-0.173189</td>\n",
       "      <td>-0.125922</td>\n",
       "      <td>3.578050e+09</td>\n",
       "      <td>3.136250e+09</td>\n",
       "      <td>5.000120e+09</td>\n",
       "    </tr>\n",
       "    <tr>\n",
       "      <th>27/6/2019</th>\n",
       "      <td>-0.532281</td>\n",
       "      <td>0.051540</td>\n",
       "      <td>-0.885402</td>\n",
       "      <td>76600.0</td>\n",
       "      <td>41000.0</td>\n",
       "      <td>43700.0</td>\n",
       "      <td>2.957631</td>\n",
       "      <td>-1.732652</td>\n",
       "      <td>0.186649</td>\n",
       "      <td>7319800.0</td>\n",
       "      <td>...</td>\n",
       "      <td>-0.535482</td>\n",
       "      <td>2438100.0</td>\n",
       "      <td>3197100.0</td>\n",
       "      <td>2890200.0</td>\n",
       "      <td>-0.123393</td>\n",
       "      <td>-0.949640</td>\n",
       "      <td>-0.173189</td>\n",
       "      <td>3.478130e+09</td>\n",
       "      <td>3.578050e+09</td>\n",
       "      <td>3.136250e+09</td>\n",
       "    </tr>\n",
       "    <tr>\n",
       "      <th>28/6/2019</th>\n",
       "      <td>0.621435</td>\n",
       "      <td>-0.532281</td>\n",
       "      <td>0.051540</td>\n",
       "      <td>65800.0</td>\n",
       "      <td>76600.0</td>\n",
       "      <td>41000.0</td>\n",
       "      <td>1.344257</td>\n",
       "      <td>2.957631</td>\n",
       "      <td>-1.732652</td>\n",
       "      <td>5222500.0</td>\n",
       "      <td>...</td>\n",
       "      <td>-0.958946</td>\n",
       "      <td>1954500.0</td>\n",
       "      <td>2438100.0</td>\n",
       "      <td>3197100.0</td>\n",
       "      <td>0.382318</td>\n",
       "      <td>-0.123393</td>\n",
       "      <td>-0.949640</td>\n",
       "      <td>3.122920e+09</td>\n",
       "      <td>3.478130e+09</td>\n",
       "      <td>3.578050e+09</td>\n",
       "    </tr>\n",
       "  </tbody>\n",
       "</table>\n",
       "<p>2384 rows × 54 columns</p>\n",
       "</div>"
      ],
      "text/plain": [
       "           Adj Close_Pharm_L1  Adj Close_Pharm_L2  Adj Close_Pharm_L3  \\\n",
       "Date                                                                    \n",
       "8/1/2010            -0.164698            0.496613           -0.939242   \n",
       "11/1/2010            0.029955           -0.164698            0.496613   \n",
       "12/1/2010            0.689881            0.029955           -0.164698   \n",
       "13/1/2010           -0.327645            0.689881            0.029955   \n",
       "14/1/2010            1.639196           -0.327645            0.689881   \n",
       "...                       ...                 ...                 ...   \n",
       "24/6/2019            0.170556            0.000000            1.033946   \n",
       "25/6/2019           -0.885402            0.170556            0.000000   \n",
       "26/6/2019            0.051540           -0.885402            0.170556   \n",
       "27/6/2019           -0.532281            0.051540           -0.885402   \n",
       "28/6/2019            0.621435           -0.532281            0.051540   \n",
       "\n",
       "           Volume_Pharm_L1  Volume_Pharm_L2  Volume_Pharm_L3  \\\n",
       "Date                                                           \n",
       "8/1/2010          764600.0        1492400.0        1933200.0   \n",
       "11/1/2010        1218200.0         764600.0        1492400.0   \n",
       "12/1/2010         760800.0        1218200.0         764600.0   \n",
       "13/1/2010         634800.0         760800.0        1218200.0   \n",
       "14/1/2010        1028800.0         634800.0         760800.0   \n",
       "...                    ...              ...              ...   \n",
       "24/6/2019          53800.0          11200.0          19800.0   \n",
       "25/6/2019          43700.0          53800.0          11200.0   \n",
       "26/6/2019          41000.0          43700.0          53800.0   \n",
       "27/6/2019          76600.0          41000.0          43700.0   \n",
       "28/6/2019          65800.0          76600.0          41000.0   \n",
       "\n",
       "           Adj Close_Semicon_L1  Adj Close_Semicon_L2  Adj Close_Semicon_L3  \\\n",
       "Date                                                                          \n",
       "8/1/2010              -0.780742             -0.247798             -0.563153   \n",
       "11/1/2010              2.002905             -0.780742             -0.247798   \n",
       "12/1/2010             -0.350636              2.002905             -0.780742   \n",
       "13/1/2010             -3.553813             -0.350636              2.002905   \n",
       "14/1/2010              1.276894             -3.553813             -0.350636   \n",
       "...                         ...                   ...                   ...   \n",
       "24/6/2019             -0.473712              1.155693              0.235446   \n",
       "25/6/2019              0.186649             -0.473712              1.155693   \n",
       "26/6/2019             -1.732652              0.186649             -0.473712   \n",
       "27/6/2019              2.957631             -1.732652              0.186649   \n",
       "28/6/2019              1.344257              2.957631             -1.732652   \n",
       "\n",
       "           Volume_Semicon_L1  ...  Adj Close_Consumer_L3  Volume_Consumer_L1  \\\n",
       "Date                          ...                                              \n",
       "8/1/2010          14338900.0  ...               0.366668           5736700.0   \n",
       "11/1/2010         20879500.0  ...               0.132848           6438000.0   \n",
       "12/1/2010         15761700.0  ...               0.829184           4173500.0   \n",
       "13/1/2010         18656400.0  ...              -0.032884           5473400.0   \n",
       "14/1/2010         16446800.0  ...              -0.197455           4615800.0   \n",
       "...                      ...  ...                    ...                 ...   \n",
       "24/6/2019          5239200.0  ...               0.184189           5221200.0   \n",
       "25/6/2019          6124400.0  ...               0.693636           2890200.0   \n",
       "26/6/2019          6157200.0  ...              -0.463044           3197100.0   \n",
       "27/6/2019          7319800.0  ...              -0.535482           2438100.0   \n",
       "28/6/2019          5222500.0  ...              -0.958946           1954500.0   \n",
       "\n",
       "           Volume_Consumer_L2  Volume_Consumer_L3  Adj Close_SNP500_L1  \\\n",
       "Date                                                                     \n",
       "8/1/2010            4246900.0           6162200.0             0.400120   \n",
       "11/1/2010           5736700.0           4246900.0             0.288173   \n",
       "12/1/2010           6438000.0           5736700.0             0.174676   \n",
       "13/1/2010           4173500.0           6438000.0            -0.938117   \n",
       "14/1/2010           5473400.0           4173500.0             0.832593   \n",
       "...                       ...                 ...                  ...   \n",
       "24/6/2019           4188600.0           3065300.0            -0.125922   \n",
       "25/6/2019           5221200.0           4188600.0            -0.173189   \n",
       "26/6/2019           2890200.0           5221200.0            -0.949640   \n",
       "27/6/2019           3197100.0           2890200.0            -0.123393   \n",
       "28/6/2019           2438100.0           3197100.0             0.382318   \n",
       "\n",
       "           Adj Close_SNP500_L2  Adj Close_SNP500_L3  Volume_SNP500_L1  \\\n",
       "Date                                                                    \n",
       "8/1/2010              0.054552             0.311568      5.270680e+09   \n",
       "11/1/2010             0.400120             0.054552      4.389590e+09   \n",
       "12/1/2010             0.288173             0.400120      4.255780e+09   \n",
       "13/1/2010             0.174676             0.288173      4.716160e+09   \n",
       "14/1/2010            -0.938117             0.174676      4.170360e+09   \n",
       "...                        ...                  ...               ...   \n",
       "24/6/2019             0.947219             0.298516      5.000120e+09   \n",
       "25/6/2019            -0.125922             0.947219      3.136250e+09   \n",
       "26/6/2019            -0.173189            -0.125922      3.578050e+09   \n",
       "27/6/2019            -0.949640            -0.173189      3.478130e+09   \n",
       "28/6/2019            -0.123393            -0.949640      3.122920e+09   \n",
       "\n",
       "           Volume_SNP500_L2  Volume_SNP500_L3  \n",
       "Date                                           \n",
       "8/1/2010       4.972660e+09      2.491020e+09  \n",
       "11/1/2010      5.270680e+09      4.972660e+09  \n",
       "12/1/2010      4.389590e+09      5.270680e+09  \n",
       "13/1/2010      4.255780e+09      4.389590e+09  \n",
       "14/1/2010      4.716160e+09      4.255780e+09  \n",
       "...                     ...               ...  \n",
       "24/6/2019      3.905940e+09      3.287890e+09  \n",
       "25/6/2019      5.000120e+09      3.905940e+09  \n",
       "26/6/2019      3.136250e+09      5.000120e+09  \n",
       "27/6/2019      3.578050e+09      3.136250e+09  \n",
       "28/6/2019      3.478130e+09      3.578050e+09  \n",
       "\n",
       "[2384 rows x 54 columns]"
      ]
     },
     "execution_count": 6,
     "metadata": {},
     "output_type": "execute_result"
    }
   ],
   "source": [
    "data_prep.get_lagged_df(df, col2lag=list(df.columns), n=3)"
   ]
  },
  {
   "cell_type": "markdown",
   "metadata": {},
   "source": [
    "Columns are laballed as such:  VARIABLE_SECTOR"
   ]
  },
  {
   "cell_type": "code",
   "execution_count": 7,
   "metadata": {},
   "outputs": [],
   "source": [
    "SNP_daily_ret = df['Adj Close_SNP500']\n",
    "SNP_daily_ret = SNP_daily_ret.dropna()"
   ]
  },
  {
   "cell_type": "code",
   "execution_count": 50,
   "metadata": {},
   "outputs": [
    {
     "data": {
      "text/html": [
       "<div>\n",
       "<style scoped>\n",
       "    .dataframe tbody tr th:only-of-type {\n",
       "        vertical-align: middle;\n",
       "    }\n",
       "\n",
       "    .dataframe tbody tr th {\n",
       "        vertical-align: top;\n",
       "    }\n",
       "\n",
       "    .dataframe thead th {\n",
       "        text-align: right;\n",
       "    }\n",
       "</style>\n",
       "<table border=\"1\" class=\"dataframe\">\n",
       "  <thead>\n",
       "    <tr style=\"text-align: right;\">\n",
       "      <th></th>\n",
       "      <th>Adj Close_SNP500</th>\n",
       "      <th>Volume_SNP500</th>\n",
       "    </tr>\n",
       "    <tr>\n",
       "      <th>Date</th>\n",
       "      <th></th>\n",
       "      <th></th>\n",
       "    </tr>\n",
       "  </thead>\n",
       "  <tbody>\n",
       "    <tr>\n",
       "      <th>1/7/2019</th>\n",
       "      <td>0.767230</td>\n",
       "      <td>3513270000</td>\n",
       "    </tr>\n",
       "    <tr>\n",
       "      <th>2/7/2019</th>\n",
       "      <td>0.292813</td>\n",
       "      <td>3206840000</td>\n",
       "    </tr>\n",
       "    <tr>\n",
       "      <th>3/7/2019</th>\n",
       "      <td>0.767238</td>\n",
       "      <td>1963720000</td>\n",
       "    </tr>\n",
       "    <tr>\n",
       "      <th>5/7/2019</th>\n",
       "      <td>-0.180590</td>\n",
       "      <td>2434210000</td>\n",
       "    </tr>\n",
       "    <tr>\n",
       "      <th>8/7/2019</th>\n",
       "      <td>-0.483544</td>\n",
       "      <td>2904550000</td>\n",
       "    </tr>\n",
       "    <tr>\n",
       "      <th>...</th>\n",
       "      <td>...</td>\n",
       "      <td>...</td>\n",
       "    </tr>\n",
       "    <tr>\n",
       "      <th>24/9/2019</th>\n",
       "      <td>-0.841637</td>\n",
       "      <td>3868160000</td>\n",
       "    </tr>\n",
       "    <tr>\n",
       "      <th>25/9/2019</th>\n",
       "      <td>0.615857</td>\n",
       "      <td>3318870000</td>\n",
       "    </tr>\n",
       "    <tr>\n",
       "      <th>26/9/2019</th>\n",
       "      <td>-0.242892</td>\n",
       "      <td>3077240000</td>\n",
       "    </tr>\n",
       "    <tr>\n",
       "      <th>27/9/2019</th>\n",
       "      <td>-0.531635</td>\n",
       "      <td>3243650000</td>\n",
       "    </tr>\n",
       "    <tr>\n",
       "      <th>30/9/2019</th>\n",
       "      <td>0.504761</td>\n",
       "      <td>3247610000</td>\n",
       "    </tr>\n",
       "  </tbody>\n",
       "</table>\n",
       "<p>64 rows × 2 columns</p>\n",
       "</div>"
      ],
      "text/plain": [
       "           Adj Close_SNP500  Volume_SNP500\n",
       "Date                                      \n",
       "1/7/2019           0.767230     3513270000\n",
       "2/7/2019           0.292813     3206840000\n",
       "3/7/2019           0.767238     1963720000\n",
       "5/7/2019          -0.180590     2434210000\n",
       "8/7/2019          -0.483544     2904550000\n",
       "...                     ...            ...\n",
       "24/9/2019         -0.841637     3868160000\n",
       "25/9/2019          0.615857     3318870000\n",
       "26/9/2019         -0.242892     3077240000\n",
       "27/9/2019         -0.531635     3243650000\n",
       "30/9/2019          0.504761     3247610000\n",
       "\n",
       "[64 rows x 2 columns]"
      ]
     },
     "execution_count": 50,
     "metadata": {},
     "output_type": "execute_result"
    }
   ],
   "source": [
    "psuedo_OOB = full_df.iloc[idx_psuedo_OOB-1:idx_OOB+1][:-1]\n",
    "psuedo_OOB = build_and_model_VAR(psuedo_OOB,[]).dropna()\n",
    "psuedo_OOB.to_csv(\"./data/psuedo_OOB.csv\")"
   ]
  },
  {
   "cell_type": "code",
   "execution_count": 56,
   "metadata": {},
   "outputs": [
    {
     "data": {
      "text/html": [
       "<div>\n",
       "<style scoped>\n",
       "    .dataframe tbody tr th:only-of-type {\n",
       "        vertical-align: middle;\n",
       "    }\n",
       "\n",
       "    .dataframe tbody tr th {\n",
       "        vertical-align: top;\n",
       "    }\n",
       "\n",
       "    .dataframe thead th {\n",
       "        text-align: right;\n",
       "    }\n",
       "</style>\n",
       "<table border=\"1\" class=\"dataframe\">\n",
       "  <thead>\n",
       "    <tr style=\"text-align: right;\">\n",
       "      <th></th>\n",
       "      <th>Adj Close_SNP500</th>\n",
       "      <th>Volume_SNP500</th>\n",
       "    </tr>\n",
       "    <tr>\n",
       "      <th>Date</th>\n",
       "      <th></th>\n",
       "      <th></th>\n",
       "    </tr>\n",
       "  </thead>\n",
       "  <tbody>\n",
       "    <tr>\n",
       "      <th>1/10/2019</th>\n",
       "      <td>-1.225837</td>\n",
       "      <td>3558040000</td>\n",
       "    </tr>\n",
       "    <tr>\n",
       "      <th>2/10/2019</th>\n",
       "      <td>-1.790320</td>\n",
       "      <td>3912520000</td>\n",
       "    </tr>\n",
       "    <tr>\n",
       "      <th>3/10/2019</th>\n",
       "      <td>0.797191</td>\n",
       "      <td>3503640000</td>\n",
       "    </tr>\n",
       "    <tr>\n",
       "      <th>4/10/2019</th>\n",
       "      <td>1.421690</td>\n",
       "      <td>2990830000</td>\n",
       "    </tr>\n",
       "    <tr>\n",
       "      <th>7/10/2019</th>\n",
       "      <td>-0.447829</td>\n",
       "      <td>2940140000</td>\n",
       "    </tr>\n",
       "    <tr>\n",
       "      <th>...</th>\n",
       "      <td>...</td>\n",
       "      <td>...</td>\n",
       "    </tr>\n",
       "    <tr>\n",
       "      <th>16/3/2020</th>\n",
       "      <td>-11.984055</td>\n",
       "      <td>7781540000</td>\n",
       "    </tr>\n",
       "    <tr>\n",
       "      <th>17/3/2020</th>\n",
       "      <td>5.995485</td>\n",
       "      <td>8358500000</td>\n",
       "    </tr>\n",
       "    <tr>\n",
       "      <th>18/3/2020</th>\n",
       "      <td>-5.183076</td>\n",
       "      <td>8755780000</td>\n",
       "    </tr>\n",
       "    <tr>\n",
       "      <th>19/3/2020</th>\n",
       "      <td>0.470781</td>\n",
       "      <td>7946710000</td>\n",
       "    </tr>\n",
       "    <tr>\n",
       "      <th>20/3/2020</th>\n",
       "      <td>-4.335951</td>\n",
       "      <td>9044690000</td>\n",
       "    </tr>\n",
       "  </tbody>\n",
       "</table>\n",
       "<p>119 rows × 2 columns</p>\n",
       "</div>"
      ],
      "text/plain": [
       "           Adj Close_SNP500  Volume_SNP500\n",
       "Date                                      \n",
       "1/10/2019         -1.225837     3558040000\n",
       "2/10/2019         -1.790320     3912520000\n",
       "3/10/2019          0.797191     3503640000\n",
       "4/10/2019          1.421690     2990830000\n",
       "7/10/2019         -0.447829     2940140000\n",
       "...                     ...            ...\n",
       "16/3/2020        -11.984055     7781540000\n",
       "17/3/2020          5.995485     8358500000\n",
       "18/3/2020         -5.183076     8755780000\n",
       "19/3/2020          0.470781     7946710000\n",
       "20/3/2020         -4.335951     9044690000\n",
       "\n",
       "[119 rows x 2 columns]"
      ]
     },
     "execution_count": 56,
     "metadata": {},
     "output_type": "execute_result"
    }
   ],
   "source": [
    "OOB = full_df.iloc[idx_OOB-1:][:]\n",
    "OOB = build_and_model_VAR(OOB,[]).dropna()\n",
    "OOB.to_csv(\"./data/OOB.csv\")"
   ]
  },
  {
   "cell_type": "code",
   "execution_count": 9,
   "metadata": {
    "scrolled": true
   },
   "outputs": [
    {
     "name": "stderr",
     "output_type": "stream",
     "text": [
      "c:\\users\\ivanl\\appdata\\local\\programs\\python\\python37\\lib\\site-packages\\statsmodels\\tsa\\base\\tsa_model.py:218: ValueWarning: A date index has been provided, but it has no associated frequency information and so will be ignored when e.g. forecasting.\n",
      "  ' ignored when e.g. forecasting.', ValueWarning)\n",
      "c:\\users\\ivanl\\appdata\\local\\programs\\python\\python37\\lib\\site-packages\\statsmodels\\tsa\\base\\tsa_model.py:222: ValueWarning: A date index has been provided, but it is not monotonic and so will be ignored when e.g. forecasting.\n",
      "  ' forecasting.', ValueWarning)\n"
     ]
    },
    {
     "data": {
      "text/html": [
       "<table class=\"simpletable\">\n",
       "<caption>AutoReg Model Results</caption>\n",
       "<tr>\n",
       "  <th>Dep. Variable:</th> <td>Adj Close_SNP500</td> <th>  No. Observations:  </th>   <td>2387</td>   \n",
       "</tr>\n",
       "<tr>\n",
       "  <th>Model:</th>            <td>AutoReg(1)</td>    <th>  Log Likelihood     </th> <td>-3232.046</td>\n",
       "</tr>\n",
       "<tr>\n",
       "  <th>Method:</th>         <td>Conditional MLE</td> <th>  S.D. of innovations</th>   <td>0.938</td>  \n",
       "</tr>\n",
       "<tr>\n",
       "  <th>Date:</th>          <td>Sun, 12 Apr 2020</td> <th>  AIC                </th>  <td>-0.127</td>  \n",
       "</tr>\n",
       "<tr>\n",
       "  <th>Time:</th>              <td>22:00:45</td>     <th>  BIC                </th>  <td>-0.122</td>  \n",
       "</tr>\n",
       "<tr>\n",
       "  <th>Sample:</th>                <td>1</td>        <th>  HQIC               </th>  <td>-0.125</td>  \n",
       "</tr>\n",
       "<tr>\n",
       "  <th></th>                     <td>2387</td>       <th>                     </th>     <td> </td>    \n",
       "</tr>\n",
       "</table>\n",
       "<table class=\"simpletable\">\n",
       "<tr>\n",
       "           <td></td>              <th>coef</th>     <th>std err</th>      <th>z</th>      <th>P>|z|</th>  <th>[0.025</th>    <th>0.975]</th>  \n",
       "</tr>\n",
       "<tr>\n",
       "  <th>Adj Close_SNP500.L1</th> <td>   -0.0432</td> <td>    0.020</td> <td>   -2.113</td> <td> 0.035</td> <td>   -0.083</td> <td>   -0.003</td>\n",
       "</tr>\n",
       "</table>\n",
       "<table class=\"simpletable\">\n",
       "<caption>Roots</caption>\n",
       "<tr>\n",
       "    <td></td>   <th>            Real</th>  <th>         Imaginary</th> <th>         Modulus</th>  <th>        Frequency</th>\n",
       "</tr>\n",
       "<tr>\n",
       "  <th>AR.1</th> <td>         -23.1391</td> <td>          +0.0000j</td> <td>          23.1391</td> <td>           0.5000</td>\n",
       "</tr>\n",
       "</table>"
      ],
      "text/plain": [
       "<class 'statsmodels.iolib.summary.Summary'>\n",
       "\"\"\"\n",
       "                            AutoReg Model Results                             \n",
       "==============================================================================\n",
       "Dep. Variable:       Adj Close_SNP500   No. Observations:                 2387\n",
       "Model:                     AutoReg(1)   Log Likelihood               -3232.046\n",
       "Method:               Conditional MLE   S.D. of innovations              0.938\n",
       "Date:                Sun, 12 Apr 2020   AIC                             -0.127\n",
       "Time:                        22:00:45   BIC                             -0.122\n",
       "Sample:                             1   HQIC                            -0.125\n",
       "                                 2387                                         \n",
       "=======================================================================================\n",
       "                          coef    std err          z      P>|z|      [0.025      0.975]\n",
       "---------------------------------------------------------------------------------------\n",
       "Adj Close_SNP500.L1    -0.0432      0.020     -2.113      0.035      -0.083      -0.003\n",
       "                                    Roots                                    \n",
       "=============================================================================\n",
       "                  Real          Imaginary           Modulus         Frequency\n",
       "-----------------------------------------------------------------------------\n",
       "AR.1          -23.1391           +0.0000j           23.1391            0.5000\n",
       "-----------------------------------------------------------------------------\n",
       "\"\"\""
      ]
     },
     "execution_count": 9,
     "metadata": {},
     "output_type": "execute_result"
    }
   ],
   "source": [
    "res = AutoReg(SNP_daily_ret, 1,trend='n').fit()\n",
    "res.summary()"
   ]
  },
  {
   "cell_type": "code",
   "execution_count": 10,
   "metadata": {
    "scrolled": true
   },
   "outputs": [
    {
     "name": "stderr",
     "output_type": "stream",
     "text": [
      "c:\\users\\ivanl\\appdata\\local\\programs\\python\\python37\\lib\\site-packages\\statsmodels\\tsa\\base\\tsa_model.py:583: ValueWarning: No supported index is available. Prediction results will be given with an integer index beginning at `start`.\n",
      "  ValueWarning)\n"
     ]
    },
    {
     "data": {
      "text/plain": [
       "0.872978355479044"
      ]
     },
     "execution_count": 10,
     "metadata": {},
     "output_type": "execute_result"
    }
   ],
   "source": [
    "mse(res.predict(start=0, end=idx_OOB)[len(df)+1:], psuedo_OOB['Adj Close_SNP500'])"
   ]
  },
  {
   "cell_type": "code",
   "execution_count": 11,
   "metadata": {},
   "outputs": [
    {
     "data": {
      "image/png": "[encoded data removed]",
      "text/plain": [
       "<Figure size 432x288 with 1 Axes>"
      ]
     },
     "metadata": {
      "needs_background": "light"
     },
     "output_type": "display_data"
    },
    {
     "data": {
      "image/png": "[encoded data removed]",
      "text/plain": [
       "<Figure size 432x288 with 1 Axes>"
      ]
     },
     "metadata": {
      "needs_background": "light"
     },
     "output_type": "display_data"
    }
   ],
   "source": [
    "plot_acf(SNP_daily_ret, lags=30)\n",
    "plt.show()\n",
    "plot_pacf(SNP_daily_ret, lags=30)\n",
    "plt.show()"
   ]
  },
  {
   "cell_type": "markdown",
   "metadata": {},
   "source": [
    "Looking at both ACF and PACF, it seems that **AR(1)** fits the model well and there is no need for any MA components.\n",
    "\n",
    "However, we want to see if ARMA models can reduce mse.\n",
    "\n",
    "Hence, we look at **MA(1)** and **ARMA(1,1)** models. "
   ]
  },
  {
   "cell_type": "code",
   "execution_count": 12,
   "metadata": {
    "scrolled": true
   },
   "outputs": [
    {
     "name": "stderr",
     "output_type": "stream",
     "text": [
      "c:\\users\\ivanl\\appdata\\local\\programs\\python\\python37\\lib\\site-packages\\statsmodels\\tsa\\base\\tsa_model.py:218: ValueWarning: A date index has been provided, but it has no associated frequency information and so will be ignored when e.g. forecasting.\n",
      "  ' ignored when e.g. forecasting.', ValueWarning)\n",
      "c:\\users\\ivanl\\appdata\\local\\programs\\python\\python37\\lib\\site-packages\\statsmodels\\tsa\\base\\tsa_model.py:222: ValueWarning: A date index has been provided, but it is not monotonic and so will be ignored when e.g. forecasting.\n",
      "  ' forecasting.', ValueWarning)\n"
     ]
    },
    {
     "name": "stdout",
     "output_type": "stream",
     "text": [
      "                              ARMA Model Results                              \n",
      "==============================================================================\n",
      "Dep. Variable:       Adj Close_SNP500   No. Observations:                 2387\n",
      "Model:                     ARMA(0, 1)   Log Likelihood               -3232.999\n",
      "Method:                       css-mle   S.D. of innovations              0.938\n",
      "Date:                Sun, 12 Apr 2020   AIC                           6469.998\n",
      "Time:                        22:00:46   BIC                           6481.554\n",
      "Sample:                             0   HQIC                          6474.203\n",
      "                                                                              \n",
      "==========================================================================================\n",
      "                             coef    std err          z      P>|z|      [0.025      0.975]\n",
      "------------------------------------------------------------------------------------------\n",
      "ma.L1.Adj Close_SNP500    -0.0424      0.020     -2.091      0.037      -0.082      -0.003\n",
      "                                    Roots                                    \n",
      "=============================================================================\n",
      "                  Real          Imaginary           Modulus         Frequency\n",
      "-----------------------------------------------------------------------------\n",
      "MA.1           23.5596           +0.0000j           23.5596            0.0000\n",
      "-----------------------------------------------------------------------------\n",
      "\n",
      "\n"
     ]
    },
    {
     "name": "stderr",
     "output_type": "stream",
     "text": [
      "c:\\users\\ivanl\\appdata\\local\\programs\\python\\python37\\lib\\site-packages\\statsmodels\\tsa\\base\\tsa_model.py:218: ValueWarning: A date index has been provided, but it has no associated frequency information and so will be ignored when e.g. forecasting.\n",
      "  ' ignored when e.g. forecasting.', ValueWarning)\n",
      "c:\\users\\ivanl\\appdata\\local\\programs\\python\\python37\\lib\\site-packages\\statsmodels\\tsa\\base\\tsa_model.py:222: ValueWarning: A date index has been provided, but it is not monotonic and so will be ignored when e.g. forecasting.\n",
      "  ' forecasting.', ValueWarning)\n"
     ]
    },
    {
     "name": "stdout",
     "output_type": "stream",
     "text": [
      "                              ARMA Model Results                              \n",
      "==============================================================================\n",
      "Dep. Variable:       Adj Close_SNP500   No. Observations:                 2387\n",
      "Model:                     ARMA(1, 1)   Log Likelihood               -3231.187\n",
      "Method:                       css-mle   S.D. of innovations              0.937\n",
      "Date:                Sun, 12 Apr 2020   AIC                           6468.373\n",
      "Time:                        22:00:47   BIC                           6485.706\n",
      "Sample:                             0   HQIC                          6474.681\n",
      "                                                                              \n",
      "==========================================================================================\n",
      "                             coef    std err          z      P>|z|      [0.025      0.975]\n",
      "------------------------------------------------------------------------------------------\n",
      "ar.L1.Adj Close_SNP500    -0.7838      0.126     -6.240      0.000      -1.030      -0.538\n",
      "ma.L1.Adj Close_SNP500     0.7479      0.134      5.576      0.000       0.485       1.011\n",
      "                                    Roots                                    \n",
      "=============================================================================\n",
      "                  Real          Imaginary           Modulus         Frequency\n",
      "-----------------------------------------------------------------------------\n",
      "AR.1           -1.2758           +0.0000j            1.2758            0.5000\n",
      "MA.1           -1.3371           +0.0000j            1.3371            0.5000\n",
      "-----------------------------------------------------------------------------\n",
      "\n",
      "\n"
     ]
    }
   ],
   "source": [
    "ma1 = ARMA(SNP_daily_ret, order=[0,1])\n",
    "ma1_fit = ma1.fit(disp=0, trend='nc')\n",
    "print (ma1_fit.summary())\n",
    "print('\\n')\n",
    "\n",
    "arma11 = ARMA(SNP_daily_ret, order=[1,1])\n",
    "arma11_fit = arma11.fit(disp=0, trend='nc')\n",
    "print (arma11_fit.summary())\n",
    "print('\\n')"
   ]
  },
  {
   "cell_type": "markdown",
   "metadata": {},
   "source": [
    "Both models give the same AIC and BIC. We'll probably have to look at the mse to get a better understanding about how well the data is fitted to the dataset."
   ]
  },
  {
   "cell_type": "code",
   "execution_count": 13,
   "metadata": {
    "scrolled": true
   },
   "outputs": [
    {
     "name": "stdout",
     "output_type": "stream",
     "text": [
      "ARMA(1,1) mse:  0.8739645390560572\n",
      "MA(1) mse:  0.8736059253849089\n"
     ]
    }
   ],
   "source": [
    "arma11_mse = mse(arma11_fit.forecast(len(psuedo_OOB))[0], psuedo_OOB['Adj Close_SNP500'])\n",
    "ma1_mse = mse(ma1_fit.forecast(len(psuedo_OOB))[0], psuedo_OOB['Adj Close_SNP500'])\n",
    "\n",
    "print(\"ARMA(1,1) mse: \", arma11_mse)\n",
    "print(\"MA(1) mse: \", ma1_mse)"
   ]
  },
  {
   "cell_type": "markdown",
   "metadata": {},
   "source": [
    "Seems like MA(1)'s psuedo_OOB's mse is better than ARMA(1,1). However, because the predictive strength are almost similar, we keep both models for comparision "
   ]
  },
  {
   "cell_type": "markdown",
   "metadata": {},
   "source": [
    "So far, our benchmarked models are:\n",
    "- AR(1)\n",
    "- MA(1)\n",
    "- ARMA(1,1)\n",
    "\n",
    "Where AR(1) is best performing in terms of mse of psuedo OOB values"
   ]
  },
  {
   "cell_type": "markdown",
   "metadata": {},
   "source": [
    "Moving on, we add more variables, to build ADL models that would hopefully beat our benchmark models\n",
    "\n",
    "We'll start from one industry, build ARMA for models with lags $\\in (1,5)$ and then look at their BIC values \n",
    "\n",
    "**Note:** we chose lags from 1 to 5 because 5 represents 1 trading week and we want to quickly be able to spot changes\n",
    "\n",
    "We then choose the lagged_model with lowest BIC (BIC tend to give parsimonous model hence it would better fit our needs to prevent too many variables in our models to prevent overfitting) and iteratively add more industries up to the full model\n",
    "\n",
    "Afterwords, we rid insignificant variables based on their t-stat. We do this iteratively with the final model till all the variables are significant. \n",
    "\n",
    "We note that this method may not be the best method since we didn't cover the full subset to see the lowest AIC/BIC but that is too computationally expensive.\n",
    "\n",
    "By sampling 50 subsets of **n** variables, it will cover a signiicant subset and such iterative addition of variables is generally accepted in statistics."
   ]
  },
  {
   "cell_type": "code",
   "execution_count": 14,
   "metadata": {},
   "outputs": [],
   "source": [
    "## Adding more variables\n",
    "from statsmodels.tsa.api import VAR\n",
    "from statsmodels.regression.linear_model import OLS\n",
    "\n",
    "# lagged_df_exog(industries=[\"Pharm\",\"Utilities\"], col2lag=list(pharm_utils.columns))\n",
    "def lagged_df_exog(industries:list, target=\"Adj Close_SNP500\", method=\"ARMA\", order=[2,0], remove_vars=[]):\n",
    "#     temp_df = build_and_model_VAR(df, industries)\n",
    "    y = df[target]\n",
    "    y = y.iloc[order[0]:]\n",
    "    temp_df = df.copy().drop(target, axis=1)\n",
    "    X_lagged = data_prep.get_lagged_df(temp_df,col2lag=list(temp_df.columns), n=order[0])  ## lags every single var\n",
    "    \n",
    "    if len(remove_vars) != 0:\n",
    "        for colname in remove_vars:\n",
    "            X_lagged = X_lagged.drop(colname, axis=1)\n",
    "    \n",
    "    if method == \"ARMA\":\n",
    "        model = ARMA(y, order=order, exog=X_lagged)\n",
    "    elif method == \"OLS\":\n",
    "        model = OLS(y, X_lagged)\n",
    "    else:\n",
    "        raise Exception(\"method has to be 'ARMA' or 'OLS'.\")\n",
    "        \n",
    "    results = model.fit(trend='nc')\n",
    "    return results\n",
    "\n",
    "full_industries = [\"Pharm\", \"Semicon\", \"Industrial\", \"Energy\", \"Financial\", \"Tech\", \"Utilities\", \"Consumer\"]\n",
    "def best_lagged_model(industries:list, max_p_lag:int, max_q_lag=0, method=\"ARMA\", start_ic=0, ic_method=\"BIC\", print_summ=False):\n",
    "    info = []\n",
    "    ic = start_ic\n",
    "    for p in range(1, max_p_lag+1):\n",
    "        for q in range(max_q_lag+1):\n",
    "            # q can be 0 but p has to be min 1\n",
    "            try:\n",
    "                temp_res = lagged_df_exog(industries=industries, order=[p,q])\n",
    "                if print_summ:\n",
    "                    print(temp_res.summary())\n",
    "            except Exception:\n",
    "                print(Exception)\n",
    "                continue\n",
    "            \n",
    "            ## maybe can append ARMAResults into some global list.\n",
    "            t = {\n",
    "                    \"order\": [p,q],\n",
    "                    \"params\": dict(temp_res.params),\n",
    "                    \"aic\": temp_res.aic,\n",
    "                    \"bic\": temp_res.bic,\n",
    "                }\n",
    "            info.append(t)\n",
    "            if ic_method == \"BIC\":\n",
    "                temp_ic = temp_res.bic\n",
    "            elif ic_method == \"AIC\":\n",
    "                temp_ic = temp_res.aic\n",
    "            else:\n",
    "                raise Exception(\"ic_method argument has to be 'BIC' or 'AIC'.\")\n",
    "            if ic == 0:  ## first iteration only\n",
    "                ic = temp_ic\n",
    "                res = temp_res\n",
    "            elif temp_ic < ic:\n",
    "                ic = temp_ic\n",
    "                res = temp_res\n",
    "    ## res will have the lowest ic. \n",
    "    ## info will be a list of dictionary\n",
    "    return res, info"
   ]
  },
  {
   "cell_type": "markdown",
   "metadata": {},
   "source": [
    "We look at the full model first and find the best lag for the full model."
   ]
  },
  {
   "cell_type": "code",
   "execution_count": 15,
   "metadata": {
    "scrolled": true
   },
   "outputs": [
    {
     "name": "stderr",
     "output_type": "stream",
     "text": [
      "c:\\users\\ivanl\\appdata\\local\\programs\\python\\python37\\lib\\site-packages\\statsmodels\\tsa\\base\\tsa_model.py:218: ValueWarning: A date index has been provided, but it has no associated frequency information and so will be ignored when e.g. forecasting.\n",
      "  ' ignored when e.g. forecasting.', ValueWarning)\n",
      "c:\\users\\ivanl\\appdata\\local\\programs\\python\\python37\\lib\\site-packages\\statsmodels\\tsa\\base\\tsa_model.py:222: ValueWarning: A date index has been provided, but it is not monotonic and so will be ignored when e.g. forecasting.\n",
      "  ' forecasting.', ValueWarning)\n",
      "c:\\users\\ivanl\\appdata\\local\\programs\\python\\python37\\lib\\site-packages\\statsmodels\\base\\model.py:548: HessianInversionWarning: Inverting hessian failed, no bse or cov_params available\n",
      "  'available', HessianInversionWarning)\n",
      "c:\\users\\ivanl\\appdata\\local\\programs\\python\\python37\\lib\\site-packages\\statsmodels\\base\\model.py:568: ConvergenceWarning: Maximum Likelihood optimization failed to converge. Check mle_retvals\n",
      "  \"Check mle_retvals\", ConvergenceWarning)\n"
     ]
    },
    {
     "name": "stdout",
     "output_type": "stream",
     "text": [
      "                              ARMA Model Results                              \n",
      "==============================================================================\n",
      "Dep. Variable:       Adj Close_SNP500   No. Observations:                 2386\n",
      "Model:                     ARMA(1, 0)   Log Likelihood               -3214.569\n",
      "Method:                       css-mle   S.D. of innovations              0.931\n",
      "Date:                Sun, 12 Apr 2020   AIC                           6467.138\n",
      "Time:                        22:00:50   BIC                           6576.908\n",
      "Sample:                             0   HQIC                          6507.084\n",
      "                                                                              \n",
      "===========================================================================================\n",
      "                              coef    std err          z      P>|z|      [0.025      0.975]\n",
      "-------------------------------------------------------------------------------------------\n",
      "Adj Close_Pharm_L1          0.0114      0.032      0.359      0.719      -0.051       0.074\n",
      "Volume_Pharm_L1          8.644e-09   3.96e-08      0.218      0.827    -6.9e-08    8.63e-08\n",
      "Adj Close_Semicon_L1        0.0649      0.026      2.514      0.012       0.014       0.116\n",
      "Volume_Semicon_L1       -8.621e-09        nan        nan        nan         nan         nan\n",
      "Adj Close_Industrial_L1     0.0281      0.055      0.511      0.609      -0.080       0.136\n",
      "Volume_Industrial_L1     3.494e-07        nan        nan        nan         nan         nan\n",
      "Adj Close_Energy_L1         0.0160      0.031      0.517      0.605      -0.045       0.077\n",
      "Volume_Energy_L1        -4.977e-09    1.2e-08     -0.415      0.678   -2.85e-08    1.85e-08\n",
      "Adj Close_Financial_L1     -0.0576      0.026     -2.172      0.030      -0.109      -0.006\n",
      "Volume_Financial_L1       1.48e-09   6.47e-09      0.229      0.819   -1.12e-08    1.42e-08\n",
      "Adj Close_Tech_L1          -0.1230      0.056     -2.189      0.029      -0.233      -0.013\n",
      "Volume_Tech_L1           1.276e-10   3.87e-08      0.003      0.997   -7.57e-08    7.59e-08\n",
      "Adj Close_Utilities_L1     -0.0385      0.028     -1.388      0.165      -0.093       0.016\n",
      "Volume_Utilities_L1     -2.917e-09   3.44e-08     -0.085      0.932   -7.02e-08    6.44e-08\n",
      "Adj Close_Consumer_L1       0.0399      0.062      0.648      0.517      -0.081       0.161\n",
      "Volume_Consumer_L1      -9.761e-10        nan        nan        nan         nan         nan\n",
      "Volume_SNP500_L1         1.569e-11    1.4e-08      0.001      0.999   -2.74e-08    2.74e-08\n",
      "ar.L1.Adj Close_SNP500     -0.0057      0.176     -0.033      0.974      -0.351       0.340\n",
      "                                    Roots                                    \n",
      "=============================================================================\n",
      "                  Real          Imaginary           Modulus         Frequency\n",
      "-----------------------------------------------------------------------------\n",
      "AR.1         -174.1456           +0.0000j          174.1456            0.5000\n",
      "-----------------------------------------------------------------------------\n"
     ]
    },
    {
     "name": "stderr",
     "output_type": "stream",
     "text": [
      "c:\\users\\ivanl\\appdata\\local\\programs\\python\\python37\\lib\\site-packages\\statsmodels\\tsa\\base\\tsa_model.py:218: ValueWarning: A date index has been provided, but it has no associated frequency information and so will be ignored when e.g. forecasting.\n",
      "  ' ignored when e.g. forecasting.', ValueWarning)\n",
      "c:\\users\\ivanl\\appdata\\local\\programs\\python\\python37\\lib\\site-packages\\statsmodels\\tsa\\base\\tsa_model.py:222: ValueWarning: A date index has been provided, but it is not monotonic and so will be ignored when e.g. forecasting.\n",
      "  ' forecasting.', ValueWarning)\n"
     ]
    },
    {
     "ename": "KeyboardInterrupt",
     "evalue": "",
     "output_type": "error",
     "traceback": [
      "\u001b[1;31m---------------------------------------------------------------------------\u001b[0m",
      "\u001b[1;31mKeyboardInterrupt\u001b[0m                         Traceback (most recent call last)",
      "\u001b[1;32m<ipython-input-15-b2d288a84f03>\u001b[0m in \u001b[0;36m<module>\u001b[1;34m\u001b[0m\n\u001b[1;32m----> 1\u001b[1;33m \u001b[0mres_full\u001b[0m\u001b[1;33m,\u001b[0m \u001b[0minfo\u001b[0m \u001b[1;33m=\u001b[0m \u001b[0mbest_lagged_model\u001b[0m\u001b[1;33m(\u001b[0m\u001b[0mfull_industries\u001b[0m\u001b[1;33m,\u001b[0m \u001b[1;36m5\u001b[0m\u001b[1;33m,\u001b[0m\u001b[1;36m3\u001b[0m\u001b[1;33m,\u001b[0m\u001b[0mprint_summ\u001b[0m\u001b[1;33m=\u001b[0m\u001b[1;32mTrue\u001b[0m\u001b[1;33m)\u001b[0m\u001b[1;33m\u001b[0m\u001b[1;33m\u001b[0m\u001b[0m\n\u001b[0m",
      "\u001b[1;32m<ipython-input-14-2e9f4082f893>\u001b[0m in \u001b[0;36mbest_lagged_model\u001b[1;34m(industries, max_p_lag, max_q_lag, method, start_ic, ic_method, print_summ)\u001b[0m\n\u001b[0;32m     33\u001b[0m             \u001b[1;31m# q can be 0 but p has to be min 1\u001b[0m\u001b[1;33m\u001b[0m\u001b[1;33m\u001b[0m\u001b[1;33m\u001b[0m\u001b[0m\n\u001b[0;32m     34\u001b[0m             \u001b[1;32mtry\u001b[0m\u001b[1;33m:\u001b[0m\u001b[1;33m\u001b[0m\u001b[1;33m\u001b[0m\u001b[0m\n\u001b[1;32m---> 35\u001b[1;33m                 \u001b[0mtemp_res\u001b[0m \u001b[1;33m=\u001b[0m \u001b[0mlagged_df_exog\u001b[0m\u001b[1;33m(\u001b[0m\u001b[0mindustries\u001b[0m\u001b[1;33m=\u001b[0m\u001b[0mindustries\u001b[0m\u001b[1;33m,\u001b[0m \u001b[0morder\u001b[0m\u001b[1;33m=\u001b[0m\u001b[1;33m[\u001b[0m\u001b[0mp\u001b[0m\u001b[1;33m,\u001b[0m\u001b[0mq\u001b[0m\u001b[1;33m]\u001b[0m\u001b[1;33m)\u001b[0m\u001b[1;33m\u001b[0m\u001b[1;33m\u001b[0m\u001b[0m\n\u001b[0m\u001b[0;32m     36\u001b[0m                 \u001b[1;32mif\u001b[0m \u001b[0mprint_summ\u001b[0m\u001b[1;33m:\u001b[0m\u001b[1;33m\u001b[0m\u001b[1;33m\u001b[0m\u001b[0m\n\u001b[0;32m     37\u001b[0m                     \u001b[0mprint\u001b[0m\u001b[1;33m(\u001b[0m\u001b[0mtemp_res\u001b[0m\u001b[1;33m.\u001b[0m\u001b[0msummary\u001b[0m\u001b[1;33m(\u001b[0m\u001b[1;33m)\u001b[0m\u001b[1;33m)\u001b[0m\u001b[1;33m\u001b[0m\u001b[1;33m\u001b[0m\u001b[0m\n",
      "\u001b[1;32m<ipython-input-14-2e9f4082f893>\u001b[0m in \u001b[0;36mlagged_df_exog\u001b[1;34m(industries, target, method, order, remove_vars)\u001b[0m\n\u001b[0;32m     22\u001b[0m         \u001b[1;32mraise\u001b[0m \u001b[0mException\u001b[0m\u001b[1;33m(\u001b[0m\u001b[1;34m\"method has to be 'ARMA' or 'OLS'.\"\u001b[0m\u001b[1;33m)\u001b[0m\u001b[1;33m\u001b[0m\u001b[1;33m\u001b[0m\u001b[0m\n\u001b[0;32m     23\u001b[0m \u001b[1;33m\u001b[0m\u001b[0m\n\u001b[1;32m---> 24\u001b[1;33m     \u001b[0mresults\u001b[0m \u001b[1;33m=\u001b[0m \u001b[0mmodel\u001b[0m\u001b[1;33m.\u001b[0m\u001b[0mfit\u001b[0m\u001b[1;33m(\u001b[0m\u001b[0mtrend\u001b[0m\u001b[1;33m=\u001b[0m\u001b[1;34m'nc'\u001b[0m\u001b[1;33m)\u001b[0m\u001b[1;33m\u001b[0m\u001b[1;33m\u001b[0m\u001b[0m\n\u001b[0m\u001b[0;32m     25\u001b[0m     \u001b[1;32mreturn\u001b[0m \u001b[0mresults\u001b[0m\u001b[1;33m\u001b[0m\u001b[1;33m\u001b[0m\u001b[0m\n\u001b[0;32m     26\u001b[0m \u001b[1;33m\u001b[0m\u001b[0m\n",
      "\u001b[1;32mc:\\users\\ivanl\\appdata\\local\\programs\\python\\python37\\lib\\site-packages\\statsmodels\\tsa\\arima_model.py\u001b[0m in \u001b[0;36mfit\u001b[1;34m(self, start_params, trend, method, transparams, solver, maxiter, full_output, disp, callback, start_ar_lags, **kwargs)\u001b[0m\n\u001b[0;32m    997\u001b[0m                                        \u001b[0mmaxiter\u001b[0m\u001b[1;33m=\u001b[0m\u001b[0mmaxiter\u001b[0m\u001b[1;33m,\u001b[0m\u001b[1;33m\u001b[0m\u001b[1;33m\u001b[0m\u001b[0m\n\u001b[0;32m    998\u001b[0m                                        \u001b[0mfull_output\u001b[0m\u001b[1;33m=\u001b[0m\u001b[0mfull_output\u001b[0m\u001b[1;33m,\u001b[0m \u001b[0mdisp\u001b[0m\u001b[1;33m=\u001b[0m\u001b[0mdisp\u001b[0m\u001b[1;33m,\u001b[0m\u001b[1;33m\u001b[0m\u001b[1;33m\u001b[0m\u001b[0m\n\u001b[1;32m--> 999\u001b[1;33m                                        callback=callback, **kwargs)\n\u001b[0m\u001b[0;32m   1000\u001b[0m         \u001b[0mparams\u001b[0m \u001b[1;33m=\u001b[0m \u001b[0mmlefit\u001b[0m\u001b[1;33m.\u001b[0m\u001b[0mparams\u001b[0m\u001b[1;33m\u001b[0m\u001b[1;33m\u001b[0m\u001b[0m\n\u001b[0;32m   1001\u001b[0m \u001b[1;33m\u001b[0m\u001b[0m\n",
      "\u001b[1;32mc:\\users\\ivanl\\appdata\\local\\programs\\python\\python37\\lib\\site-packages\\statsmodels\\base\\model.py\u001b[0m in \u001b[0;36mfit\u001b[1;34m(self, start_params, method, maxiter, full_output, disp, fargs, callback, retall, skip_hessian, **kwargs)\u001b[0m\n\u001b[0;32m    524\u001b[0m                                                        \u001b[0mcallback\u001b[0m\u001b[1;33m=\u001b[0m\u001b[0mcallback\u001b[0m\u001b[1;33m,\u001b[0m\u001b[1;33m\u001b[0m\u001b[1;33m\u001b[0m\u001b[0m\n\u001b[0;32m    525\u001b[0m                                                        \u001b[0mretall\u001b[0m\u001b[1;33m=\u001b[0m\u001b[0mretall\u001b[0m\u001b[1;33m,\u001b[0m\u001b[1;33m\u001b[0m\u001b[1;33m\u001b[0m\u001b[0m\n\u001b[1;32m--> 526\u001b[1;33m                                                        full_output=full_output)\n\u001b[0m\u001b[0;32m    527\u001b[0m \u001b[1;33m\u001b[0m\u001b[0m\n\u001b[0;32m    528\u001b[0m         \u001b[1;31m# NOTE: this is for fit_regularized and should be generalized\u001b[0m\u001b[1;33m\u001b[0m\u001b[1;33m\u001b[0m\u001b[1;33m\u001b[0m\u001b[0m\n",
      "\u001b[1;32mc:\\users\\ivanl\\appdata\\local\\programs\\python\\python37\\lib\\site-packages\\statsmodels\\base\\optimizer.py\u001b[0m in \u001b[0;36m_fit\u001b[1;34m(self, objective, gradient, start_params, fargs, kwargs, hessian, method, maxiter, full_output, disp, callback, retall)\u001b[0m\n\u001b[0;32m    216\u001b[0m                             \u001b[0mdisp\u001b[0m\u001b[1;33m=\u001b[0m\u001b[0mdisp\u001b[0m\u001b[1;33m,\u001b[0m \u001b[0mmaxiter\u001b[0m\u001b[1;33m=\u001b[0m\u001b[0mmaxiter\u001b[0m\u001b[1;33m,\u001b[0m \u001b[0mcallback\u001b[0m\u001b[1;33m=\u001b[0m\u001b[0mcallback\u001b[0m\u001b[1;33m,\u001b[0m\u001b[1;33m\u001b[0m\u001b[1;33m\u001b[0m\u001b[0m\n\u001b[0;32m    217\u001b[0m                             \u001b[0mretall\u001b[0m\u001b[1;33m=\u001b[0m\u001b[0mretall\u001b[0m\u001b[1;33m,\u001b[0m \u001b[0mfull_output\u001b[0m\u001b[1;33m=\u001b[0m\u001b[0mfull_output\u001b[0m\u001b[1;33m,\u001b[0m\u001b[1;33m\u001b[0m\u001b[1;33m\u001b[0m\u001b[0m\n\u001b[1;32m--> 218\u001b[1;33m                             hess=hessian)\n\u001b[0m\u001b[0;32m    219\u001b[0m \u001b[1;33m\u001b[0m\u001b[0m\n\u001b[0;32m    220\u001b[0m         optim_settings = {'optimizer': method, 'start_params': start_params,\n",
      "\u001b[1;32mc:\\users\\ivanl\\appdata\\local\\programs\\python\\python37\\lib\\site-packages\\statsmodels\\base\\optimizer.py\u001b[0m in \u001b[0;36m_fit_lbfgs\u001b[1;34m(f, score, start_params, fargs, kwargs, disp, maxiter, callback, retall, full_output, hess)\u001b[0m\n\u001b[0;32m    438\u001b[0m                                      \u001b[0mcallback\u001b[0m\u001b[1;33m=\u001b[0m\u001b[0mcallback\u001b[0m\u001b[1;33m,\u001b[0m \u001b[0margs\u001b[0m\u001b[1;33m=\u001b[0m\u001b[0mfargs\u001b[0m\u001b[1;33m,\u001b[0m\u001b[1;33m\u001b[0m\u001b[1;33m\u001b[0m\u001b[0m\n\u001b[0;32m    439\u001b[0m                                      \u001b[0mbounds\u001b[0m\u001b[1;33m=\u001b[0m\u001b[0mbounds\u001b[0m\u001b[1;33m,\u001b[0m \u001b[0mdisp\u001b[0m\u001b[1;33m=\u001b[0m\u001b[0mdisp\u001b[0m\u001b[1;33m,\u001b[0m\u001b[1;33m\u001b[0m\u001b[1;33m\u001b[0m\u001b[0m\n\u001b[1;32m--> 440\u001b[1;33m                                      **extra_kwargs)\n\u001b[0m\u001b[0;32m    441\u001b[0m \u001b[1;33m\u001b[0m\u001b[0m\n\u001b[0;32m    442\u001b[0m     \u001b[1;32mif\u001b[0m \u001b[0mfull_output\u001b[0m\u001b[1;33m:\u001b[0m\u001b[1;33m\u001b[0m\u001b[1;33m\u001b[0m\u001b[0m\n",
      "\u001b[1;32m~\\AppData\\Roaming\\Python\\Python37\\site-packages\\scipy\\optimize\\lbfgsb.py\u001b[0m in \u001b[0;36mfmin_l_bfgs_b\u001b[1;34m(func, x0, fprime, args, approx_grad, bounds, m, factr, pgtol, epsilon, iprint, maxfun, maxiter, disp, callback, maxls)\u001b[0m\n\u001b[0;32m    197\u001b[0m \u001b[1;33m\u001b[0m\u001b[0m\n\u001b[0;32m    198\u001b[0m     res = _minimize_lbfgsb(fun, x0, args=args, jac=jac, bounds=bounds,\n\u001b[1;32m--> 199\u001b[1;33m                            **opts)\n\u001b[0m\u001b[0;32m    200\u001b[0m     d = {'grad': res['jac'],\n\u001b[0;32m    201\u001b[0m          \u001b[1;34m'task'\u001b[0m\u001b[1;33m:\u001b[0m \u001b[0mres\u001b[0m\u001b[1;33m[\u001b[0m\u001b[1;34m'message'\u001b[0m\u001b[1;33m]\u001b[0m\u001b[1;33m,\u001b[0m\u001b[1;33m\u001b[0m\u001b[1;33m\u001b[0m\u001b[0m\n",
      "\u001b[1;32m~\\AppData\\Roaming\\Python\\Python37\\site-packages\\scipy\\optimize\\lbfgsb.py\u001b[0m in \u001b[0;36m_minimize_lbfgsb\u001b[1;34m(fun, x0, args, jac, bounds, disp, maxcor, ftol, gtol, eps, maxfun, maxiter, iprint, callback, maxls, **unknown_options)\u001b[0m\n\u001b[0;32m    343\u001b[0m             \u001b[1;31m# until the completion of the current minimization iteration.\u001b[0m\u001b[1;33m\u001b[0m\u001b[1;33m\u001b[0m\u001b[1;33m\u001b[0m\u001b[0m\n\u001b[0;32m    344\u001b[0m             \u001b[1;31m# Overwrite f and g:\u001b[0m\u001b[1;33m\u001b[0m\u001b[1;33m\u001b[0m\u001b[1;33m\u001b[0m\u001b[0m\n\u001b[1;32m--> 345\u001b[1;33m             \u001b[0mf\u001b[0m\u001b[1;33m,\u001b[0m \u001b[0mg\u001b[0m \u001b[1;33m=\u001b[0m \u001b[0mfunc_and_grad\u001b[0m\u001b[1;33m(\u001b[0m\u001b[0mx\u001b[0m\u001b[1;33m)\u001b[0m\u001b[1;33m\u001b[0m\u001b[1;33m\u001b[0m\u001b[0m\n\u001b[0m\u001b[0;32m    346\u001b[0m         \u001b[1;32melif\u001b[0m \u001b[0mtask_str\u001b[0m\u001b[1;33m.\u001b[0m\u001b[0mstartswith\u001b[0m\u001b[1;33m(\u001b[0m\u001b[1;34mb'NEW_X'\u001b[0m\u001b[1;33m)\u001b[0m\u001b[1;33m:\u001b[0m\u001b[1;33m\u001b[0m\u001b[1;33m\u001b[0m\u001b[0m\n\u001b[0;32m    347\u001b[0m             \u001b[1;31m# new iteration\u001b[0m\u001b[1;33m\u001b[0m\u001b[1;33m\u001b[0m\u001b[1;33m\u001b[0m\u001b[0m\n",
      "\u001b[1;32m~\\AppData\\Roaming\\Python\\Python37\\site-packages\\scipy\\optimize\\lbfgsb.py\u001b[0m in \u001b[0;36mfunc_and_grad\u001b[1;34m(x)\u001b[0m\n\u001b[0;32m    289\u001b[0m         \u001b[1;32mdef\u001b[0m \u001b[0mfunc_and_grad\u001b[0m\u001b[1;33m(\u001b[0m\u001b[0mx\u001b[0m\u001b[1;33m)\u001b[0m\u001b[1;33m:\u001b[0m\u001b[1;33m\u001b[0m\u001b[1;33m\u001b[0m\u001b[0m\n\u001b[0;32m    290\u001b[0m             \u001b[0mf\u001b[0m \u001b[1;33m=\u001b[0m \u001b[0mfun\u001b[0m\u001b[1;33m(\u001b[0m\u001b[0mx\u001b[0m\u001b[1;33m,\u001b[0m \u001b[1;33m*\u001b[0m\u001b[0margs\u001b[0m\u001b[1;33m)\u001b[0m\u001b[1;33m\u001b[0m\u001b[1;33m\u001b[0m\u001b[0m\n\u001b[1;32m--> 291\u001b[1;33m             \u001b[0mg\u001b[0m \u001b[1;33m=\u001b[0m \u001b[0m_approx_fprime_helper\u001b[0m\u001b[1;33m(\u001b[0m\u001b[0mx\u001b[0m\u001b[1;33m,\u001b[0m \u001b[0mfun\u001b[0m\u001b[1;33m,\u001b[0m \u001b[0mepsilon\u001b[0m\u001b[1;33m,\u001b[0m \u001b[0margs\u001b[0m\u001b[1;33m=\u001b[0m\u001b[0margs\u001b[0m\u001b[1;33m,\u001b[0m \u001b[0mf0\u001b[0m\u001b[1;33m=\u001b[0m\u001b[0mf\u001b[0m\u001b[1;33m)\u001b[0m\u001b[1;33m\u001b[0m\u001b[1;33m\u001b[0m\u001b[0m\n\u001b[0m\u001b[0;32m    292\u001b[0m             \u001b[1;32mreturn\u001b[0m \u001b[0mf\u001b[0m\u001b[1;33m,\u001b[0m \u001b[0mg\u001b[0m\u001b[1;33m\u001b[0m\u001b[1;33m\u001b[0m\u001b[0m\n\u001b[0;32m    293\u001b[0m     \u001b[1;32melse\u001b[0m\u001b[1;33m:\u001b[0m\u001b[1;33m\u001b[0m\u001b[1;33m\u001b[0m\u001b[0m\n",
      "\u001b[1;32m~\\AppData\\Roaming\\Python\\Python37\\site-packages\\scipy\\optimize\\optimize.py\u001b[0m in \u001b[0;36m_approx_fprime_helper\u001b[1;34m(xk, f, epsilon, args, f0)\u001b[0m\n\u001b[0;32m    695\u001b[0m         \u001b[0mei\u001b[0m\u001b[1;33m[\u001b[0m\u001b[0mk\u001b[0m\u001b[1;33m]\u001b[0m \u001b[1;33m=\u001b[0m \u001b[1;36m1.0\u001b[0m\u001b[1;33m\u001b[0m\u001b[1;33m\u001b[0m\u001b[0m\n\u001b[0;32m    696\u001b[0m         \u001b[0md\u001b[0m \u001b[1;33m=\u001b[0m \u001b[0mepsilon\u001b[0m \u001b[1;33m*\u001b[0m \u001b[0mei\u001b[0m\u001b[1;33m\u001b[0m\u001b[1;33m\u001b[0m\u001b[0m\n\u001b[1;32m--> 697\u001b[1;33m         \u001b[0mdf\u001b[0m \u001b[1;33m=\u001b[0m \u001b[1;33m(\u001b[0m\u001b[0mf\u001b[0m\u001b[1;33m(\u001b[0m\u001b[1;33m*\u001b[0m\u001b[1;33m(\u001b[0m\u001b[1;33m(\u001b[0m\u001b[0mxk\u001b[0m \u001b[1;33m+\u001b[0m \u001b[0md\u001b[0m\u001b[1;33m,\u001b[0m\u001b[1;33m)\u001b[0m \u001b[1;33m+\u001b[0m \u001b[0margs\u001b[0m\u001b[1;33m)\u001b[0m\u001b[1;33m)\u001b[0m \u001b[1;33m-\u001b[0m \u001b[0mf0\u001b[0m\u001b[1;33m)\u001b[0m \u001b[1;33m/\u001b[0m \u001b[0md\u001b[0m\u001b[1;33m[\u001b[0m\u001b[0mk\u001b[0m\u001b[1;33m]\u001b[0m\u001b[1;33m\u001b[0m\u001b[1;33m\u001b[0m\u001b[0m\n\u001b[0m\u001b[0;32m    698\u001b[0m         \u001b[1;32mif\u001b[0m \u001b[1;32mnot\u001b[0m \u001b[0mnp\u001b[0m\u001b[1;33m.\u001b[0m\u001b[0misscalar\u001b[0m\u001b[1;33m(\u001b[0m\u001b[0mdf\u001b[0m\u001b[1;33m)\u001b[0m\u001b[1;33m:\u001b[0m\u001b[1;33m\u001b[0m\u001b[1;33m\u001b[0m\u001b[0m\n\u001b[0;32m    699\u001b[0m             \u001b[1;32mtry\u001b[0m\u001b[1;33m:\u001b[0m\u001b[1;33m\u001b[0m\u001b[1;33m\u001b[0m\u001b[0m\n",
      "\u001b[1;32m~\\AppData\\Roaming\\Python\\Python37\\site-packages\\scipy\\optimize\\optimize.py\u001b[0m in \u001b[0;36mfunction_wrapper\u001b[1;34m(*wrapper_args)\u001b[0m\n\u001b[0;32m    325\u001b[0m     \u001b[1;32mdef\u001b[0m \u001b[0mfunction_wrapper\u001b[0m\u001b[1;33m(\u001b[0m\u001b[1;33m*\u001b[0m\u001b[0mwrapper_args\u001b[0m\u001b[1;33m)\u001b[0m\u001b[1;33m:\u001b[0m\u001b[1;33m\u001b[0m\u001b[1;33m\u001b[0m\u001b[0m\n\u001b[0;32m    326\u001b[0m         \u001b[0mncalls\u001b[0m\u001b[1;33m[\u001b[0m\u001b[1;36m0\u001b[0m\u001b[1;33m]\u001b[0m \u001b[1;33m+=\u001b[0m \u001b[1;36m1\u001b[0m\u001b[1;33m\u001b[0m\u001b[1;33m\u001b[0m\u001b[0m\n\u001b[1;32m--> 327\u001b[1;33m         \u001b[1;32mreturn\u001b[0m \u001b[0mfunction\u001b[0m\u001b[1;33m(\u001b[0m\u001b[1;33m*\u001b[0m\u001b[1;33m(\u001b[0m\u001b[0mwrapper_args\u001b[0m \u001b[1;33m+\u001b[0m \u001b[0margs\u001b[0m\u001b[1;33m)\u001b[0m\u001b[1;33m)\u001b[0m\u001b[1;33m\u001b[0m\u001b[1;33m\u001b[0m\u001b[0m\n\u001b[0m\u001b[0;32m    328\u001b[0m \u001b[1;33m\u001b[0m\u001b[0m\n\u001b[0;32m    329\u001b[0m     \u001b[1;32mreturn\u001b[0m \u001b[0mncalls\u001b[0m\u001b[1;33m,\u001b[0m \u001b[0mfunction_wrapper\u001b[0m\u001b[1;33m\u001b[0m\u001b[1;33m\u001b[0m\u001b[0m\n",
      "\u001b[1;32mc:\\users\\ivanl\\appdata\\local\\programs\\python\\python37\\lib\\site-packages\\statsmodels\\base\\model.py\u001b[0m in \u001b[0;36mf\u001b[1;34m(params, *args)\u001b[0m\n\u001b[0;32m    498\u001b[0m \u001b[1;33m\u001b[0m\u001b[0m\n\u001b[0;32m    499\u001b[0m         \u001b[1;32mdef\u001b[0m \u001b[0mf\u001b[0m\u001b[1;33m(\u001b[0m\u001b[0mparams\u001b[0m\u001b[1;33m,\u001b[0m \u001b[1;33m*\u001b[0m\u001b[0margs\u001b[0m\u001b[1;33m)\u001b[0m\u001b[1;33m:\u001b[0m\u001b[1;33m\u001b[0m\u001b[1;33m\u001b[0m\u001b[0m\n\u001b[1;32m--> 500\u001b[1;33m             \u001b[1;32mreturn\u001b[0m \u001b[1;33m-\u001b[0m\u001b[0mself\u001b[0m\u001b[1;33m.\u001b[0m\u001b[0mloglike\u001b[0m\u001b[1;33m(\u001b[0m\u001b[0mparams\u001b[0m\u001b[1;33m,\u001b[0m \u001b[1;33m*\u001b[0m\u001b[0margs\u001b[0m\u001b[1;33m)\u001b[0m \u001b[1;33m/\u001b[0m \u001b[0mnobs\u001b[0m\u001b[1;33m\u001b[0m\u001b[1;33m\u001b[0m\u001b[0m\n\u001b[0m\u001b[0;32m    501\u001b[0m \u001b[1;33m\u001b[0m\u001b[0m\n\u001b[0;32m    502\u001b[0m         \u001b[1;32mif\u001b[0m \u001b[0mmethod\u001b[0m \u001b[1;33m==\u001b[0m \u001b[1;34m'newton'\u001b[0m\u001b[1;33m:\u001b[0m\u001b[1;33m\u001b[0m\u001b[1;33m\u001b[0m\u001b[0m\n",
      "\u001b[1;32mc:\\users\\ivanl\\appdata\\local\\programs\\python\\python37\\lib\\site-packages\\statsmodels\\tsa\\arima_model.py\u001b[0m in \u001b[0;36mloglike\u001b[1;34m(self, params, set_sigma2)\u001b[0m\n\u001b[0;32m    808\u001b[0m         \u001b[0mmethod\u001b[0m \u001b[1;33m=\u001b[0m \u001b[0mself\u001b[0m\u001b[1;33m.\u001b[0m\u001b[0mmethod\u001b[0m\u001b[1;33m\u001b[0m\u001b[1;33m\u001b[0m\u001b[0m\n\u001b[0;32m    809\u001b[0m         \u001b[1;32mif\u001b[0m \u001b[0mmethod\u001b[0m \u001b[1;32min\u001b[0m \u001b[1;33m[\u001b[0m\u001b[1;34m'mle'\u001b[0m\u001b[1;33m,\u001b[0m \u001b[1;34m'css-mle'\u001b[0m\u001b[1;33m]\u001b[0m\u001b[1;33m:\u001b[0m\u001b[1;33m\u001b[0m\u001b[1;33m\u001b[0m\u001b[0m\n\u001b[1;32m--> 810\u001b[1;33m             \u001b[1;32mreturn\u001b[0m \u001b[0mself\u001b[0m\u001b[1;33m.\u001b[0m\u001b[0mloglike_kalman\u001b[0m\u001b[1;33m(\u001b[0m\u001b[0mparams\u001b[0m\u001b[1;33m,\u001b[0m \u001b[0mset_sigma2\u001b[0m\u001b[1;33m)\u001b[0m\u001b[1;33m\u001b[0m\u001b[1;33m\u001b[0m\u001b[0m\n\u001b[0m\u001b[0;32m    811\u001b[0m         \u001b[1;32melif\u001b[0m \u001b[0mmethod\u001b[0m \u001b[1;33m==\u001b[0m \u001b[1;34m'css'\u001b[0m\u001b[1;33m:\u001b[0m\u001b[1;33m\u001b[0m\u001b[1;33m\u001b[0m\u001b[0m\n\u001b[0;32m    812\u001b[0m             \u001b[1;32mreturn\u001b[0m \u001b[0mself\u001b[0m\u001b[1;33m.\u001b[0m\u001b[0mloglike_css\u001b[0m\u001b[1;33m(\u001b[0m\u001b[0mparams\u001b[0m\u001b[1;33m,\u001b[0m \u001b[0mset_sigma2\u001b[0m\u001b[1;33m)\u001b[0m\u001b[1;33m\u001b[0m\u001b[1;33m\u001b[0m\u001b[0m\n",
      "\u001b[1;32mc:\\users\\ivanl\\appdata\\local\\programs\\python\\python37\\lib\\site-packages\\statsmodels\\tsa\\arima_model.py\u001b[0m in \u001b[0;36mloglike_kalman\u001b[1;34m(self, params, set_sigma2)\u001b[0m\n\u001b[0;32m    818\u001b[0m         \u001b[0mCompute\u001b[0m \u001b[0mexact\u001b[0m \u001b[0mloglikelihood\u001b[0m \u001b[1;32mfor\u001b[0m \u001b[0mARMA\u001b[0m\u001b[1;33m(\u001b[0m\u001b[0mp\u001b[0m\u001b[1;33m,\u001b[0m\u001b[0mq\u001b[0m\u001b[1;33m)\u001b[0m \u001b[0mmodel\u001b[0m \u001b[0mby\u001b[0m \u001b[0mthe\u001b[0m \u001b[0mKalman\u001b[0m \u001b[0mFilter\u001b[0m\u001b[1;33m.\u001b[0m\u001b[1;33m\u001b[0m\u001b[1;33m\u001b[0m\u001b[0m\n\u001b[0;32m    819\u001b[0m         \"\"\"\n\u001b[1;32m--> 820\u001b[1;33m         \u001b[1;32mreturn\u001b[0m \u001b[0mKalmanFilter\u001b[0m\u001b[1;33m.\u001b[0m\u001b[0mloglike\u001b[0m\u001b[1;33m(\u001b[0m\u001b[0mparams\u001b[0m\u001b[1;33m,\u001b[0m \u001b[0mself\u001b[0m\u001b[1;33m,\u001b[0m \u001b[0mset_sigma2\u001b[0m\u001b[1;33m)\u001b[0m\u001b[1;33m\u001b[0m\u001b[1;33m\u001b[0m\u001b[0m\n\u001b[0m\u001b[0;32m    821\u001b[0m \u001b[1;33m\u001b[0m\u001b[0m\n\u001b[0;32m    822\u001b[0m     \u001b[1;32mdef\u001b[0m \u001b[0mloglike_css\u001b[0m\u001b[1;33m(\u001b[0m\u001b[0mself\u001b[0m\u001b[1;33m,\u001b[0m \u001b[0mparams\u001b[0m\u001b[1;33m,\u001b[0m \u001b[0mset_sigma2\u001b[0m\u001b[1;33m=\u001b[0m\u001b[1;32mTrue\u001b[0m\u001b[1;33m)\u001b[0m\u001b[1;33m:\u001b[0m\u001b[1;33m\u001b[0m\u001b[1;33m\u001b[0m\u001b[0m\n",
      "\u001b[1;32mc:\\users\\ivanl\\appdata\\local\\programs\\python\\python37\\lib\\site-packages\\statsmodels\\tsa\\kalmanf\\kalmanfilter.py\u001b[0m in \u001b[0;36mloglike\u001b[1;34m(cls, params, arma_model, set_sigma2)\u001b[0m\n\u001b[0;32m    214\u001b[0m         \u001b[1;31m# TODO: this will not work for time-varying parameters\u001b[0m\u001b[1;33m\u001b[0m\u001b[1;33m\u001b[0m\u001b[1;33m\u001b[0m\u001b[0m\n\u001b[0;32m    215\u001b[0m         (y, k, nobs, k_ar, k_ma, k_lags, newparams, Z_mat, m, R_mat, T_mat,\n\u001b[1;32m--> 216\u001b[1;33m          paramsdtype) = cls._init_kalman_state(params, arma_model)\n\u001b[0m\u001b[0;32m    217\u001b[0m         \u001b[1;32mif\u001b[0m \u001b[0mnp\u001b[0m\u001b[1;33m.\u001b[0m\u001b[0missubdtype\u001b[0m\u001b[1;33m(\u001b[0m\u001b[0mparamsdtype\u001b[0m\u001b[1;33m,\u001b[0m \u001b[0mnp\u001b[0m\u001b[1;33m.\u001b[0m\u001b[0mfloat64\u001b[0m\u001b[1;33m)\u001b[0m\u001b[1;33m:\u001b[0m\u001b[1;33m\u001b[0m\u001b[1;33m\u001b[0m\u001b[0m\n\u001b[0;32m    218\u001b[0m             loglike, sigma2 = kalman_loglike.kalman_loglike_double(\n",
      "\u001b[1;32mc:\\users\\ivanl\\appdata\\local\\programs\\python\\python37\\lib\\site-packages\\statsmodels\\tsa\\kalmanf\\kalmanfilter.py\u001b[0m in \u001b[0;36m_init_kalman_state\u001b[1;34m(cls, params, arma_model)\u001b[0m\n\u001b[0;32m    163\u001b[0m         \"\"\"\n\u001b[0;32m    164\u001b[0m         \u001b[0mparamsdtype\u001b[0m \u001b[1;33m=\u001b[0m \u001b[0mparams\u001b[0m\u001b[1;33m.\u001b[0m\u001b[0mdtype\u001b[0m\u001b[1;33m\u001b[0m\u001b[1;33m\u001b[0m\u001b[0m\n\u001b[1;32m--> 165\u001b[1;33m         \u001b[0my\u001b[0m \u001b[1;33m=\u001b[0m \u001b[0marma_model\u001b[0m\u001b[1;33m.\u001b[0m\u001b[0mendog\u001b[0m\u001b[1;33m.\u001b[0m\u001b[0mcopy\u001b[0m\u001b[1;33m(\u001b[0m\u001b[1;33m)\u001b[0m\u001b[1;33m.\u001b[0m\u001b[0mastype\u001b[0m\u001b[1;33m(\u001b[0m\u001b[0mparamsdtype\u001b[0m\u001b[1;33m)\u001b[0m\u001b[1;33m\u001b[0m\u001b[1;33m\u001b[0m\u001b[0m\n\u001b[0m\u001b[0;32m    166\u001b[0m         \u001b[0mk\u001b[0m \u001b[1;33m=\u001b[0m \u001b[0marma_model\u001b[0m\u001b[1;33m.\u001b[0m\u001b[0mk_exog\u001b[0m \u001b[1;33m+\u001b[0m \u001b[0marma_model\u001b[0m\u001b[1;33m.\u001b[0m\u001b[0mk_trend\u001b[0m\u001b[1;33m\u001b[0m\u001b[1;33m\u001b[0m\u001b[0m\n\u001b[0;32m    167\u001b[0m         \u001b[0mnobs\u001b[0m \u001b[1;33m=\u001b[0m \u001b[0marma_model\u001b[0m\u001b[1;33m.\u001b[0m\u001b[0mnobs\u001b[0m\u001b[1;33m\u001b[0m\u001b[1;33m\u001b[0m\u001b[0m\n",
      "\u001b[1;31mKeyboardInterrupt\u001b[0m: "
     ]
    }
   ],
   "source": [
    "res_full, info = best_lagged_model(full_industries, 5,3,print_summ=True)"
   ]
  },
  {
   "cell_type": "code",
   "execution_count": null,
   "metadata": {
    "scrolled": true
   },
   "outputs": [],
   "source": [
    "import json\n",
    "with open('./arma_adl_full.json', 'w') as fout:\n",
    "    json.dump(info , fout)\n",
    "    \n",
    "## To load it:\n",
    "with open('./arma_adl_full.json', 'r') as fin:\n",
    "    info = json.load(fin)  ## a list of fict\n",
    "\n",
    "print(info)\n",
    "## Note: Order of lowest AIC can be derived from info."
   ]
  },
  {
   "cell_type": "code",
   "execution_count": null,
   "metadata": {
    "scrolled": true
   },
   "outputs": [],
   "source": [
    "print(res_full.summary())"
   ]
  },
  {
   "cell_type": "markdown",
   "metadata": {},
   "source": [
    "Seems like **ARMA(1,0)** has the lowest BIC while **ARMA(2,0)** and **ARMA(2,1)** has the lowest AIC. We should include both models to consider\n",
    "\n",
    "The full model has some variables where p-values are not significant. We remove some of those that have the highest p-values (> 0.5). And recompute the ARMA model after removing those variables."
   ]
  },
  {
   "cell_type": "code",
   "execution_count": 16,
   "metadata": {},
   "outputs": [
    {
     "name": "stderr",
     "output_type": "stream",
     "text": [
      "c:\\users\\ivanl\\appdata\\local\\programs\\python\\python37\\lib\\site-packages\\statsmodels\\tsa\\base\\tsa_model.py:218: ValueWarning: A date index has been provided, but it has no associated frequency information and so will be ignored when e.g. forecasting.\n",
      "  ' ignored when e.g. forecasting.', ValueWarning)\n",
      "c:\\users\\ivanl\\appdata\\local\\programs\\python\\python37\\lib\\site-packages\\statsmodels\\tsa\\base\\tsa_model.py:222: ValueWarning: A date index has been provided, but it is not monotonic and so will be ignored when e.g. forecasting.\n",
      "  ' forecasting.', ValueWarning)\n",
      "c:\\users\\ivanl\\appdata\\local\\programs\\python\\python37\\lib\\site-packages\\statsmodels\\base\\model.py:548: HessianInversionWarning: Inverting hessian failed, no bse or cov_params available\n",
      "  'available', HessianInversionWarning)\n",
      "c:\\users\\ivanl\\appdata\\local\\programs\\python\\python37\\lib\\site-packages\\statsmodels\\base\\model.py:568: ConvergenceWarning: Maximum Likelihood optimization failed to converge. Check mle_retvals\n",
      "  \"Check mle_retvals\", ConvergenceWarning)\n"
     ]
    },
    {
     "name": "stdout",
     "output_type": "stream",
     "text": [
      "                              ARMA Model Results                              \n",
      "==============================================================================\n",
      "Dep. Variable:       Adj Close_SNP500   No. Observations:                 2385\n",
      "Model:                     ARMA(2, 0)   Log Likelihood               -3186.484\n",
      "Method:                       css-mle   S.D. of innovations              0.921\n",
      "Date:                Sun, 12 Apr 2020   AIC                           6446.968\n",
      "Time:                        22:01:04   BIC                           6660.715\n",
      "Sample:                             0   HQIC                          6524.754\n",
      "                                                                              \n",
      "===========================================================================================\n",
      "                              coef    std err          z      P>|z|      [0.025      0.975]\n",
      "-------------------------------------------------------------------------------------------\n",
      "Adj Close_Pharm_L1          0.0209      0.027      0.776      0.438      -0.032       0.074\n",
      "Adj Close_Pharm_L2         -0.0612      0.032     -1.939      0.053      -0.123       0.001\n",
      "Volume_Pharm_L1          3.278e-08   5.49e-08      0.598      0.550   -7.47e-08     1.4e-07\n",
      "Volume_Pharm_L2         -4.001e-08   5.38e-08     -0.744      0.457   -1.45e-07    6.54e-08\n",
      "Adj Close_Semicon_L1        0.0638      0.027      2.391      0.017       0.012       0.116\n",
      "Adj Close_Semicon_L2        0.0125      0.026      0.483      0.629      -0.038       0.063\n",
      "Volume_Semicon_L1        1.574e-10        nan        nan        nan         nan         nan\n",
      "Volume_Semicon_L2       -1.051e-08        nan        nan        nan         nan         nan\n",
      "Adj Close_Industrial_L1     0.0100      0.045      0.222      0.824      -0.078       0.098\n",
      "Adj Close_Industrial_L2    -0.0086      0.047     -0.184      0.854      -0.100       0.083\n",
      "Volume_Industrial_L1     2.871e-07   1.19e-07      2.405      0.016    5.31e-08    5.21e-07\n",
      "Volume_Industrial_L2     5.396e-08   1.19e-07      0.452      0.651    -1.8e-07    2.88e-07\n",
      "Adj Close_Energy_L1         0.0175      0.022      0.785      0.432      -0.026       0.061\n",
      "Adj Close_Energy_L2         0.0241      0.025      0.951      0.342      -0.026       0.074\n",
      "Volume_Energy_L1        -1.815e-08        nan        nan        nan         nan         nan\n",
      "Volume_Energy_L2         1.817e-08        nan        nan        nan         nan         nan\n",
      "Adj Close_Financial_L1     -0.0562      0.022     -2.600      0.009      -0.099      -0.014\n",
      "Adj Close_Financial_L2      0.0201      0.022      0.901      0.367      -0.024       0.064\n",
      "Volume_Financial_L1      2.102e-09        nan        nan        nan         nan         nan\n",
      "Volume_Financial_L2     -1.006e-10        nan        nan        nan         nan         nan\n",
      "Adj Close_Tech_L1          -0.1201      0.050     -2.406      0.016      -0.218      -0.022\n",
      "Adj Close_Tech_L2          -0.0841      0.049     -1.701      0.089      -0.181       0.013\n",
      "Volume_Tech_L1          -1.716e-09        nan        nan        nan         nan         nan\n",
      "Volume_Tech_L2           -1.14e-09        nan        nan        nan         nan         nan\n",
      "Adj Close_Utilities_L1     -0.0402      0.024     -1.644      0.100      -0.088       0.008\n",
      "Adj Close_Utilities_L2     -0.0029      0.025     -0.115      0.908      -0.052       0.046\n",
      "Volume_Utilities_L1     -1.146e-08        nan        nan        nan         nan         nan\n",
      "Volume_Utilities_L2      1.219e-08        nan        nan        nan         nan         nan\n",
      "Adj Close_Consumer_L1       0.0377      0.043      0.871      0.384      -0.047       0.123\n",
      "Adj Close_Consumer_L2       0.0802      0.047      1.715      0.086      -0.011       0.172\n",
      "Volume_Consumer_L1      -2.231e-10   2.52e-08     -0.009      0.993   -4.97e-08    4.92e-08\n",
      "Volume_Consumer_L2       -2.49e-09   2.75e-08     -0.090      0.928   -5.65e-08    5.15e-08\n",
      "Volume_SNP500_L1        -2.781e-11        nan        nan        nan         nan         nan\n",
      "Volume_SNP500_L2         1.715e-11        nan        nan        nan         nan         nan\n",
      "ar.L1.Adj Close_SNP500     -0.0059        nan        nan        nan         nan         nan\n",
      "ar.L2.Adj Close_SNP500     -0.0080      0.095     -0.084      0.933      -0.194       0.178\n",
      "                                    Roots                                    \n",
      "=============================================================================\n",
      "                  Real          Imaginary           Modulus         Frequency\n",
      "-----------------------------------------------------------------------------\n",
      "AR.1           -0.3687          -11.1930j           11.1991           -0.2552\n",
      "AR.2           -0.3687          +11.1930j           11.1991            0.2552\n",
      "-----------------------------------------------------------------------------\n"
     ]
    },
    {
     "name": "stderr",
     "output_type": "stream",
     "text": [
      "c:\\users\\ivanl\\appdata\\local\\programs\\python\\python37\\lib\\site-packages\\statsmodels\\tsa\\base\\tsa_model.py:218: ValueWarning: A date index has been provided, but it has no associated frequency information and so will be ignored when e.g. forecasting.\n",
      "  ' ignored when e.g. forecasting.', ValueWarning)\n",
      "c:\\users\\ivanl\\appdata\\local\\programs\\python\\python37\\lib\\site-packages\\statsmodels\\tsa\\base\\tsa_model.py:222: ValueWarning: A date index has been provided, but it is not monotonic and so will be ignored when e.g. forecasting.\n",
      "  ' forecasting.', ValueWarning)\n",
      "c:\\users\\ivanl\\appdata\\local\\programs\\python\\python37\\lib\\site-packages\\statsmodels\\base\\model.py:548: HessianInversionWarning: Inverting hessian failed, no bse or cov_params available\n",
      "  'available', HessianInversionWarning)\n",
      "c:\\users\\ivanl\\appdata\\local\\programs\\python\\python37\\lib\\site-packages\\statsmodels\\base\\model.py:568: ConvergenceWarning: Maximum Likelihood optimization failed to converge. Check mle_retvals\n",
      "  \"Check mle_retvals\", ConvergenceWarning)\n"
     ]
    },
    {
     "name": "stdout",
     "output_type": "stream",
     "text": [
      "                              ARMA Model Results                              \n",
      "==============================================================================\n",
      "Dep. Variable:       Adj Close_SNP500   No. Observations:                 2385\n",
      "Model:                     ARMA(2, 1)   Log Likelihood               -3186.483\n",
      "Method:                       css-mle   S.D. of innovations              0.921\n",
      "Date:                Sun, 12 Apr 2020   AIC                           6448.965\n",
      "Time:                        22:01:17   BIC                           6668.490\n",
      "Sample:                             0   HQIC                          6528.854\n",
      "                                                                              \n",
      "===========================================================================================\n",
      "                              coef    std err          z      P>|z|      [0.025      0.975]\n",
      "-------------------------------------------------------------------------------------------\n",
      "Adj Close_Pharm_L1          0.0209      0.025      0.829      0.407      -0.029       0.070\n",
      "Adj Close_Pharm_L2         -0.0612      0.029     -2.076      0.038      -0.119      -0.003\n",
      "Volume_Pharm_L1          3.278e-08    5.2e-08      0.630      0.528   -6.91e-08    1.35e-07\n",
      "Volume_Pharm_L2         -4.001e-08   5.25e-08     -0.762      0.446   -1.43e-07    6.28e-08\n",
      "Adj Close_Semicon_L1        0.0638      0.023      2.745      0.006       0.018       0.109\n",
      "Adj Close_Semicon_L2        0.0125      0.026      0.486      0.627      -0.038       0.063\n",
      "Volume_Semicon_L1        1.574e-10        nan        nan        nan         nan         nan\n",
      "Volume_Semicon_L2       -1.051e-08        nan        nan        nan         nan         nan\n",
      "Adj Close_Industrial_L1     0.0100      0.045      0.222      0.824      -0.078       0.098\n",
      "Adj Close_Industrial_L2    -0.0086      0.045     -0.192      0.848      -0.096       0.079\n",
      "Volume_Industrial_L1     2.871e-07   1.19e-07      2.408      0.016    5.34e-08    5.21e-07\n",
      "Volume_Industrial_L2     5.396e-08   1.19e-07      0.453      0.651    -1.8e-07    2.88e-07\n",
      "Adj Close_Energy_L1         0.0175      0.022      0.798      0.425      -0.025       0.061\n",
      "Adj Close_Energy_L2         0.0241      0.022      1.104      0.270      -0.019       0.067\n",
      "Volume_Energy_L1        -1.815e-08        nan        nan        nan         nan         nan\n",
      "Volume_Energy_L2         1.817e-08        nan        nan        nan         nan         nan\n",
      "Adj Close_Financial_L1     -0.0562      0.022     -2.602      0.009      -0.099      -0.014\n",
      "Adj Close_Financial_L2      0.0201      0.022      0.926      0.355      -0.022       0.063\n",
      "Volume_Financial_L1      2.102e-09        nan        nan        nan         nan         nan\n",
      "Volume_Financial_L2     -1.006e-10        nan        nan        nan         nan         nan\n",
      "Adj Close_Tech_L1          -0.1201      0.047     -2.575      0.010      -0.212      -0.029\n",
      "Adj Close_Tech_L2          -0.0841      0.044     -1.891      0.059      -0.171       0.003\n",
      "Volume_Tech_L1          -1.716e-09        nan        nan        nan         nan         nan\n",
      "Volume_Tech_L2           -1.14e-09        nan        nan        nan         nan         nan\n",
      "Adj Close_Utilities_L1     -0.0402      0.024     -1.661      0.097      -0.088       0.007\n",
      "Adj Close_Utilities_L2     -0.0029      0.025     -0.117      0.907      -0.051       0.046\n",
      "Volume_Utilities_L1     -1.146e-08        nan        nan        nan         nan         nan\n",
      "Volume_Utilities_L2      1.219e-08        nan        nan        nan         nan         nan\n",
      "Adj Close_Consumer_L1       0.0377      0.042      0.888      0.374      -0.046       0.121\n",
      "Adj Close_Consumer_L2       0.0802      0.044      1.824      0.068      -0.006       0.166\n",
      "Volume_Consumer_L1      -2.231e-10        nan        nan        nan         nan         nan\n",
      "Volume_Consumer_L2       -2.49e-09        nan        nan        nan         nan         nan\n",
      "Volume_SNP500_L1        -2.781e-11        nan        nan        nan         nan         nan\n",
      "Volume_SNP500_L2         1.715e-11        nan        nan        nan         nan         nan\n",
      "ar.L1.Adj Close_SNP500     -0.0029        nan        nan        nan         nan         nan\n",
      "ar.L2.Adj Close_SNP500     -0.0080      0.018     -0.435      0.663      -0.044       0.028\n",
      "ma.L1.Adj Close_SNP500     -0.0029        nan        nan        nan         nan         nan\n",
      "                                    Roots                                    \n",
      "=============================================================================\n",
      "                  Real          Imaginary           Modulus         Frequency\n",
      "-----------------------------------------------------------------------------\n",
      "AR.1           -0.1845          -11.2052j           11.2067           -0.2526\n",
      "AR.2           -0.1845          +11.2052j           11.2067            0.2526\n",
      "MA.1          340.2915           +0.0000j          340.2915            0.0000\n",
      "-----------------------------------------------------------------------------\n"
     ]
    }
   ],
   "source": [
    "print(lagged_df_exog(full_industries, order=[2, 0]).summary())\n",
    "print(lagged_df_exog(full_industries, order=[2, 1]).summary())"
   ]
  },
  {
   "cell_type": "code",
   "execution_count": 17,
   "metadata": {
    "scrolled": true
   },
   "outputs": [
    {
     "name": "stderr",
     "output_type": "stream",
     "text": [
      "c:\\users\\ivanl\\appdata\\local\\programs\\python\\python37\\lib\\site-packages\\statsmodels\\tsa\\base\\tsa_model.py:218: ValueWarning: A date index has been provided, but it has no associated frequency information and so will be ignored when e.g. forecasting.\n",
      "  ' ignored when e.g. forecasting.', ValueWarning)\n",
      "c:\\users\\ivanl\\appdata\\local\\programs\\python\\python37\\lib\\site-packages\\statsmodels\\tsa\\base\\tsa_model.py:222: ValueWarning: A date index has been provided, but it is not monotonic and so will be ignored when e.g. forecasting.\n",
      "  ' forecasting.', ValueWarning)\n",
      "c:\\users\\ivanl\\appdata\\local\\programs\\python\\python37\\lib\\site-packages\\statsmodels\\base\\model.py:548: HessianInversionWarning: Inverting hessian failed, no bse or cov_params available\n",
      "  'available', HessianInversionWarning)\n",
      "c:\\users\\ivanl\\appdata\\local\\programs\\python\\python37\\lib\\site-packages\\statsmodels\\base\\model.py:568: ConvergenceWarning: Maximum Likelihood optimization failed to converge. Check mle_retvals\n",
      "  \"Check mle_retvals\", ConvergenceWarning)\n",
      "c:\\users\\ivanl\\appdata\\local\\programs\\python\\python37\\lib\\site-packages\\statsmodels\\tsa\\base\\tsa_model.py:218: ValueWarning: A date index has been provided, but it has no associated frequency information and so will be ignored when e.g. forecasting.\n",
      "  ' ignored when e.g. forecasting.', ValueWarning)\n",
      "c:\\users\\ivanl\\appdata\\local\\programs\\python\\python37\\lib\\site-packages\\statsmodels\\tsa\\base\\tsa_model.py:222: ValueWarning: A date index has been provided, but it is not monotonic and so will be ignored when e.g. forecasting.\n",
      "  ' forecasting.', ValueWarning)\n",
      "c:\\users\\ivanl\\appdata\\local\\programs\\python\\python37\\lib\\site-packages\\statsmodels\\base\\model.py:548: HessianInversionWarning: Inverting hessian failed, no bse or cov_params available\n",
      "  'available', HessianInversionWarning)\n",
      "c:\\users\\ivanl\\appdata\\local\\programs\\python\\python37\\lib\\site-packages\\statsmodels\\base\\model.py:568: ConvergenceWarning: Maximum Likelihood optimization failed to converge. Check mle_retvals\n",
      "  \"Check mle_retvals\", ConvergenceWarning)\n",
      "c:\\users\\ivanl\\appdata\\local\\programs\\python\\python37\\lib\\site-packages\\statsmodels\\tsa\\base\\tsa_model.py:218: ValueWarning: A date index has been provided, but it has no associated frequency information and so will be ignored when e.g. forecasting.\n",
      "  ' ignored when e.g. forecasting.', ValueWarning)\n",
      "c:\\users\\ivanl\\appdata\\local\\programs\\python\\python37\\lib\\site-packages\\statsmodels\\tsa\\base\\tsa_model.py:222: ValueWarning: A date index has been provided, but it is not monotonic and so will be ignored when e.g. forecasting.\n",
      "  ' forecasting.', ValueWarning)\n",
      "c:\\users\\ivanl\\appdata\\local\\programs\\python\\python37\\lib\\site-packages\\statsmodels\\base\\model.py:548: HessianInversionWarning: Inverting hessian failed, no bse or cov_params available\n",
      "  'available', HessianInversionWarning)\n",
      "c:\\users\\ivanl\\appdata\\local\\programs\\python\\python37\\lib\\site-packages\\statsmodels\\base\\model.py:568: ConvergenceWarning: Maximum Likelihood optimization failed to converge. Check mle_retvals\n",
      "  \"Check mle_retvals\", ConvergenceWarning)\n"
     ]
    }
   ],
   "source": [
    "res_full21 = lagged_df_exog(full_industries, order=[2, 1], remove_vars=[\"Adj Close_Pharm_L1\", \"Volume_Pharm_L1\", \"Volume_Pharm_L2\", \"Adj Close_Semicon_L2\", \"Adj Close_Industrial_L1\", \"Adj Close_Industrial_L2\", \"Volume_Industrial_L2\", \"Adj Close_Energy_L1\", \"Adj Close_Financial_L2\", \"Adj Close_Utilities_L2\", \"Adj Close_Consumer_L2\"])\n",
    "res_full20 = lagged_df_exog(full_industries, order=[2, 0], remove_vars=[\"Adj Close_Pharm_L1\", \"Volume_Pharm_L1\", \"Adj Close_Semicon_L2\", \"Volume_Semicon_L2\", \"Adj Close_Industrial_L1\", \"Adj Close_Industrial_L2\", \"Adj Close_Energy_L1\", \"Adj Close_Utilities_L2\", \"Volume_Consumer_L1\", \"Volume_Consumer_L2\"])\n",
    "\n",
    "res_full10 = lagged_df_exog(full_industries, order=[1, 0], remove_vars=[\"Adj Close_Pharm_L1\", \"Volume_Pharm_L1\", \"Adj Close_Industrial_L1\", \"Volume_Energy_L1\", \"Volume_Financial_L1\", \"Volume_Tech_L1\", \"Volume_Utilities_L1\", \"Volume_SNP500_L1\"])"
   ]
  },
  {
   "cell_type": "code",
   "execution_count": 18,
   "metadata": {
    "scrolled": false
   },
   "outputs": [
    {
     "name": "stdout",
     "output_type": "stream",
     "text": [
      "                              ARMA Model Results                              \n",
      "==============================================================================\n",
      "Dep. Variable:       Adj Close_SNP500   No. Observations:                 2385\n",
      "Model:                     ARMA(2, 1)   Log Likelihood               -3190.987\n",
      "Method:                       css-mle   S.D. of innovations              0.923\n",
      "Date:                Sun, 12 Apr 2020   AIC                           6435.973\n",
      "Time:                        22:01:34   BIC                           6591.951\n",
      "Sample:                             0   HQIC                          6492.736\n",
      "                                                                              \n",
      "==========================================================================================\n",
      "                             coef    std err          z      P>|z|      [0.025      0.975]\n",
      "------------------------------------------------------------------------------------------\n",
      "Adj Close_Pharm_L2        -0.0424      0.028     -1.508      0.131      -0.097       0.013\n",
      "Adj Close_Semicon_L1       0.0664      0.020      3.240      0.001       0.026       0.107\n",
      "Volume_Semicon_L1      -1.053e-09        nan        nan        nan         nan         nan\n",
      "Volume_Semicon_L2      -9.461e-09        nan        nan        nan         nan         nan\n",
      "Volume_Industrial_L1    2.956e-07        nan        nan        nan         nan         nan\n",
      "Adj Close_Energy_L2        0.0386      0.019      2.043      0.041       0.002       0.076\n",
      "Volume_Energy_L1       -1.812e-08        nan        nan        nan         nan         nan\n",
      "Volume_Energy_L2        1.832e-08        nan        nan        nan         nan         nan\n",
      "Adj Close_Financial_L1    -0.0495      0.019     -2.601      0.009      -0.087      -0.012\n",
      "Volume_Financial_L1      1.97e-09        nan        nan        nan         nan         nan\n",
      "Volume_Financial_L2     8.294e-12        nan        nan        nan         nan         nan\n",
      "Adj Close_Tech_L1         -0.1098      0.045     -2.441      0.015      -0.198      -0.022\n",
      "Adj Close_Tech_L2         -0.0165      0.027     -0.618      0.537      -0.069       0.036\n",
      "Volume_Tech_L1         -1.436e-09        nan        nan        nan         nan         nan\n",
      "Volume_Tech_L2         -1.266e-09        nan        nan        nan         nan         nan\n",
      "Adj Close_Utilities_L1    -0.0373      0.023     -1.617      0.106      -0.082       0.008\n",
      "Volume_Utilities_L1    -1.116e-08        nan        nan        nan         nan         nan\n",
      "Volume_Utilities_L2      1.22e-08        nan        nan        nan         nan         nan\n",
      "Adj Close_Consumer_L1      0.0549      0.034      1.605      0.108      -0.012       0.122\n",
      "Volume_Consumer_L1     -5.071e-10        nan        nan        nan         nan         nan\n",
      "Volume_Consumer_L2      -3.49e-09        nan        nan        nan         nan         nan\n",
      "Volume_SNP500_L1        -2.38e-11        nan        nan        nan         nan         nan\n",
      "Volume_SNP500_L2        1.474e-11        nan        nan        nan         nan         nan\n",
      "ar.L1.Adj Close_SNP500    -0.0011        nan        nan        nan         nan         nan\n",
      "ar.L2.Adj Close_SNP500     0.0003      0.008      0.033      0.973      -0.016       0.017\n",
      "ma.L1.Adj Close_SNP500    -0.0011        nan        nan        nan         nan         nan\n",
      "                                    Roots                                    \n",
      "=============================================================================\n",
      "                  Real          Imaginary           Modulus         Frequency\n",
      "-----------------------------------------------------------------------------\n",
      "AR.1          -58.0035           +0.0000j           58.0035            0.5000\n",
      "AR.2           62.0595           +0.0000j           62.0595            0.0000\n",
      "MA.1          887.4954           +0.0000j          887.4954            0.0000\n",
      "-----------------------------------------------------------------------------\n",
      "                              ARMA Model Results                              \n",
      "==============================================================================\n",
      "Dep. Variable:       Adj Close_SNP500   No. Observations:                 2385\n",
      "Model:                     ARMA(2, 0)   Log Likelihood               -3188.602\n",
      "Method:                       css-mle   S.D. of innovations              0.922\n",
      "Date:                Sun, 12 Apr 2020   AIC                           6431.203\n",
      "Time:                        22:01:36   BIC                           6587.181\n",
      "Sample:                             0   HQIC                          6487.966\n",
      "                                                                              \n",
      "==========================================================================================\n",
      "                             coef    std err          z      P>|z|      [0.025      0.975]\n",
      "------------------------------------------------------------------------------------------\n",
      "Adj Close_Pharm_L2        -0.0616      0.032     -1.924      0.054      -0.124       0.001\n",
      "Volume_Pharm_L2        -4.258e-08   3.72e-08     -1.145      0.252   -1.15e-07    3.03e-08\n",
      "Adj Close_Semicon_L1       0.0653      0.025      2.579      0.010       0.016       0.115\n",
      "Volume_Semicon_L1       -6.51e-09        nan        nan        nan         nan         nan\n",
      "Volume_Industrial_L1    2.827e-07   1.21e-07      2.344      0.019    4.63e-08    5.19e-07\n",
      "Volume_Industrial_L2    5.898e-08   1.21e-07      0.489      0.625   -1.77e-07    2.95e-07\n",
      "Adj Close_Energy_L2        0.0231      0.027      0.844      0.399      -0.031       0.077\n",
      "Volume_Energy_L1       -1.817e-08        nan        nan        nan         nan         nan\n",
      "Volume_Energy_L2        1.789e-08        nan        nan        nan         nan         nan\n",
      "Adj Close_Financial_L1    -0.0473      0.021     -2.235      0.025      -0.089      -0.006\n",
      "Adj Close_Financial_L2     0.0185      0.022      0.859      0.390      -0.024       0.061\n",
      "Volume_Financial_L1     2.197e-09        nan        nan        nan         nan         nan\n",
      "Volume_Financial_L2    -2.066e-10        nan        nan        nan         nan         nan\n",
      "Adj Close_Tech_L1         -0.1142      0.046     -2.460      0.014      -0.205      -0.023\n",
      "Adj Close_Tech_L2         -0.0704      0.044     -1.602      0.109      -0.157       0.016\n",
      "Volume_Tech_L1         -1.971e-09        nan        nan        nan         nan         nan\n",
      "Volume_Tech_L2         -2.767e-09        nan        nan        nan         nan         nan\n",
      "Adj Close_Utilities_L1    -0.0348      0.027     -1.281      0.200      -0.088       0.018\n",
      "Volume_Utilities_L1    -1.089e-08        nan        nan        nan         nan         nan\n",
      "Volume_Utilities_L2     1.175e-08        nan        nan        nan         nan         nan\n",
      "Adj Close_Consumer_L1      0.0565      0.056      1.015      0.310      -0.053       0.166\n",
      "Adj Close_Consumer_L2      0.0762      0.051      1.505      0.132      -0.023       0.176\n",
      "Volume_SNP500_L1       -2.032e-11        nan        nan        nan         nan         nan\n",
      "Volume_SNP500_L2        8.141e-12        nan        nan        nan         nan         nan\n",
      "ar.L1.Adj Close_SNP500    -0.0021      0.087     -0.024      0.981      -0.172       0.168\n",
      "ar.L2.Adj Close_SNP500    -0.0085      0.106     -0.080      0.936      -0.216       0.199\n",
      "                                    Roots                                    \n",
      "=============================================================================\n",
      "                  Real          Imaginary           Modulus         Frequency\n",
      "-----------------------------------------------------------------------------\n",
      "AR.1           -0.1218          -10.8694j           10.8701           -0.2518\n",
      "AR.2           -0.1218          +10.8694j           10.8701            0.2518\n",
      "-----------------------------------------------------------------------------\n",
      "                              ARMA Model Results                              \n",
      "==============================================================================\n",
      "Dep. Variable:       Adj Close_SNP500   No. Observations:                 2386\n",
      "Model:                     ARMA(1, 0)   Log Likelihood               -3220.221\n",
      "Method:                       css-mle   S.D. of innovations              0.933\n",
      "Date:                Sun, 12 Apr 2020   AIC                           6462.442\n",
      "Time:                        22:01:38   BIC                           6525.993\n",
      "Sample:                             0   HQIC                          6485.569\n",
      "                                                                              \n",
      "==========================================================================================\n",
      "                             coef    std err          z      P>|z|      [0.025      0.975]\n",
      "------------------------------------------------------------------------------------------\n",
      "Adj Close_Semicon_L1       0.0676      0.026      2.628      0.009       0.017       0.118\n",
      "Volume_Semicon_L1      -2.802e-09        nan        nan        nan         nan         nan\n",
      "Volume_Industrial_L1    3.017e-07   1.47e-09    205.862      0.000    2.99e-07    3.05e-07\n",
      "Adj Close_Energy_L1        0.0222      0.038      0.577      0.564      -0.053       0.098\n",
      "Adj Close_Financial_L1    -0.0492      0.032     -1.545      0.122      -0.112       0.013\n",
      "Adj Close_Tech_L1         -0.1176      0.063     -1.874      0.061      -0.241       0.005\n",
      "Adj Close_Utilities_L1    -0.0369      0.030     -1.235      0.217      -0.095       0.022\n",
      "Adj Close_Consumer_L1      0.0530      0.078      0.682      0.495      -0.099       0.205\n",
      "Volume_Consumer_L1      2.674e-09   1.47e-08      0.182      0.855   -2.61e-08    3.14e-08\n",
      "ar.L1.Adj Close_SNP500    -0.0058      0.198     -0.029      0.977      -0.395       0.383\n",
      "                                    Roots                                    \n",
      "=============================================================================\n",
      "                  Real          Imaginary           Modulus         Frequency\n",
      "-----------------------------------------------------------------------------\n",
      "AR.1         -173.9077           +0.0000j          173.9077            0.5000\n",
      "-----------------------------------------------------------------------------\n"
     ]
    }
   ],
   "source": [
    "print(res_full21.summary())\n",
    "print(res_full20.summary())\n",
    "print(res_full10.summary())"
   ]
  },
  {
   "cell_type": "code",
   "execution_count": 19,
   "metadata": {
    "scrolled": true
   },
   "outputs": [],
   "source": [
    "## get their respective MSE.\n",
    "res_fn10 = eval_utils.forecast_ARMA_ADL(full_df, model=res_full10, start_idx=idx_psuedo_OOB, end_idx=idx_OOB)\n",
    "res_function20 = eval_utils.forecast_ARMA_ADL(full_df, model=res_full20, start_idx=idx_psuedo_OOB, end_idx=idx_OOB) \n",
    "res_function21 = eval_utils.forecast_ARMA_ADL(full_df, model=res_full21, start_idx=idx_psuedo_OOB, end_idx=idx_OOB) "
   ]
  },
  {
   "cell_type": "code",
   "execution_count": 26,
   "metadata": {},
   "outputs": [
    {
     "name": "stdout",
     "output_type": "stream",
     "text": [
      "ARMA(1,0) mse: 6.553895923319937\n",
      "ARMA(2,1) mse:  0.8490003665091255\n",
      "ARMA(2,0) mse:  13.691456089653407\n"
     ]
    }
   ],
   "source": [
    "arma10_mse = mse(res_fn10['forecast'], psuedo_OOB['Adj Close_SNP500'][:-1])\n",
    "arma20_mse = mse(res_function20['forecast'], psuedo_OOB['Adj Close_SNP500'][:-1])\n",
    "arma21_mse = mse(res_function21['forecast'], psuedo_OOB['Adj Close_SNP500'][:-1])\n",
    "\n",
    "print(\"ARMA(1,0) mse:\" ,arma10_mse )\n",
    "print(\"ARMA(2,1) mse: \", arma21_mse)\n",
    "print(\"ARMA(2,0) mse: \", arma20_mse)"
   ]
  },
  {
   "cell_type": "markdown",
   "metadata": {},
   "source": [
    "Surprising **ARMA(2,1)** performs best, better than **ARMA(1,1)**, **MA(1)** and **AR(1)**"
   ]
  },
  {
   "cell_type": "markdown",
   "metadata": {},
   "source": [
    "**Evaluation:**\n",
    "\n",
    "Looking at the AIC's and BIC's of all of the models being compared to determine the best ARMA+exogeneous variables, it seems like adding MA components generally increases AIC and BIC, hence ARMA(1,0)+exogeneous variables is the best model in the subset of models (in terms of lowest BIC). \n",
    "\n",
    "There might be some correlation between the endogeneous variables and exogeneous variables, and not much random error. Hence, adding random errors actually lowers the effectiveness of the model in predicting daily percentage change in SNP500.\n",
    "\n",
    "Let's take variable `res_full22` and `res_full10` as the final model for ARMA with exogeneous variables. This models behaves similar to an ADL model, since there are no lags. involved."
   ]
  },
  {
   "cell_type": "code",
   "execution_count": 28,
   "metadata": {},
   "outputs": [],
   "source": [
    "%matplotlib inline"
   ]
  },
  {
   "cell_type": "markdown",
   "metadata": {
    "scrolled": true
   },
   "source": [
    "iterative 1 step forecast"
   ]
  },
  {
   "cell_type": "code",
   "execution_count": 47,
   "metadata": {},
   "outputs": [],
   "source": [
    "def iterative_1step(model, full_df, steps):\n",
    "    res = []\n",
    "    p = model.k_ar \n",
    "    q = model.k_ma\n",
    "    \n",
    "    # build psuedo_OOB\n",
    "    lagged_fulldf = build_and_model_VAR(full_df, full_industries)\n",
    "    lagged_fulldf = data_prep.get_lagged_df(full_df,col2lag=list(full_df.columns), n=p)\n",
    "    temp_psuedo_OOB = lagged_fulldf[list(model.params.keys()[:-(p+q)])].iloc[idx_psuedo_OOB-p+1:idx_OOB-p+1]\n",
    "    \n",
    "    for i in range(steps):\n",
    "        temp = temp_psuedo_OOB[steps:steps+1]\n",
    "        t = model.predict(start=2387+i, end = 2387+i+1, exog=temp)\n",
    "        res.append(t)\n",
    "        \n",
    "    return res"
   ]
  },
  {
   "cell_type": "code",
   "execution_count": 48,
   "metadata": {},
   "outputs": [
    {
     "name": "stderr",
     "output_type": "stream",
     "text": [
      "c:\\users\\ivanl\\appdata\\local\\programs\\python\\python37\\lib\\site-packages\\statsmodels\\tsa\\base\\tsa_model.py:583: ValueWarning: No supported index is available. Prediction results will be given with an integer index beginning at `start`.\n",
      "  ValueWarning)\n"
     ]
    },
    {
     "ename": "IndexError",
     "evalue": "index 1 is out of bounds for axis 0 with size 1",
     "output_type": "error",
     "traceback": [
      "\u001b[1;31m---------------------------------------------------------------------------\u001b[0m",
      "\u001b[1;31mIndexError\u001b[0m                                Traceback (most recent call last)",
      "\u001b[1;32m<ipython-input-48-91dcbd8907a0>\u001b[0m in \u001b[0;36m<module>\u001b[1;34m\u001b[0m\n\u001b[1;32m----> 1\u001b[1;33m \u001b[0miterative_1step\u001b[0m\u001b[1;33m(\u001b[0m\u001b[0mres_full20\u001b[0m\u001b[1;33m,\u001b[0m \u001b[0mfull_df\u001b[0m\u001b[1;33m,\u001b[0m \u001b[1;36m5\u001b[0m\u001b[1;33m)\u001b[0m\u001b[1;33m\u001b[0m\u001b[1;33m\u001b[0m\u001b[0m\n\u001b[0m",
      "\u001b[1;32m<ipython-input-47-befbfd09434f>\u001b[0m in \u001b[0;36miterative_1step\u001b[1;34m(model, full_df, steps)\u001b[0m\n\u001b[0;32m     11\u001b[0m     \u001b[1;32mfor\u001b[0m \u001b[0mi\u001b[0m \u001b[1;32min\u001b[0m \u001b[0mrange\u001b[0m\u001b[1;33m(\u001b[0m\u001b[0msteps\u001b[0m\u001b[1;33m)\u001b[0m\u001b[1;33m:\u001b[0m\u001b[1;33m\u001b[0m\u001b[1;33m\u001b[0m\u001b[0m\n\u001b[0;32m     12\u001b[0m         \u001b[0mtemp\u001b[0m \u001b[1;33m=\u001b[0m \u001b[0mtemp_psuedo_OOB\u001b[0m\u001b[1;33m[\u001b[0m\u001b[0msteps\u001b[0m\u001b[1;33m:\u001b[0m\u001b[0msteps\u001b[0m\u001b[1;33m+\u001b[0m\u001b[1;36m1\u001b[0m\u001b[1;33m]\u001b[0m\u001b[1;33m\u001b[0m\u001b[1;33m\u001b[0m\u001b[0m\n\u001b[1;32m---> 13\u001b[1;33m         \u001b[0mt\u001b[0m \u001b[1;33m=\u001b[0m \u001b[0mmodel\u001b[0m\u001b[1;33m.\u001b[0m\u001b[0mpredict\u001b[0m\u001b[1;33m(\u001b[0m\u001b[0mstart\u001b[0m\u001b[1;33m=\u001b[0m\u001b[1;36m2387\u001b[0m\u001b[1;33m+\u001b[0m\u001b[0mi\u001b[0m\u001b[1;33m,\u001b[0m \u001b[0mend\u001b[0m \u001b[1;33m=\u001b[0m \u001b[1;36m2387\u001b[0m\u001b[1;33m+\u001b[0m\u001b[0mi\u001b[0m\u001b[1;33m+\u001b[0m\u001b[1;36m1\u001b[0m\u001b[1;33m,\u001b[0m \u001b[0mexog\u001b[0m\u001b[1;33m=\u001b[0m\u001b[0mtemp\u001b[0m\u001b[1;33m)\u001b[0m\u001b[1;33m\u001b[0m\u001b[1;33m\u001b[0m\u001b[0m\n\u001b[0m\u001b[0;32m     14\u001b[0m         \u001b[0mres\u001b[0m\u001b[1;33m.\u001b[0m\u001b[0mappend\u001b[0m\u001b[1;33m(\u001b[0m\u001b[0mt\u001b[0m\u001b[1;33m)\u001b[0m\u001b[1;33m\u001b[0m\u001b[1;33m\u001b[0m\u001b[0m\n\u001b[0;32m     15\u001b[0m \u001b[1;33m\u001b[0m\u001b[0m\n",
      "\u001b[1;32mc:\\users\\ivanl\\appdata\\local\\programs\\python\\python37\\lib\\site-packages\\statsmodels\\base\\wrapper.py\u001b[0m in \u001b[0;36mwrapper\u001b[1;34m(self, *args, **kwargs)\u001b[0m\n\u001b[0;32m    113\u001b[0m             \u001b[0mobj\u001b[0m \u001b[1;33m=\u001b[0m \u001b[0mdata\u001b[0m\u001b[1;33m.\u001b[0m\u001b[0mwrap_output\u001b[0m\u001b[1;33m(\u001b[0m\u001b[0mfunc\u001b[0m\u001b[1;33m(\u001b[0m\u001b[0mresults\u001b[0m\u001b[1;33m,\u001b[0m \u001b[1;33m*\u001b[0m\u001b[0margs\u001b[0m\u001b[1;33m,\u001b[0m \u001b[1;33m**\u001b[0m\u001b[0mkwargs\u001b[0m\u001b[1;33m)\u001b[0m\u001b[1;33m,\u001b[0m \u001b[0mhow\u001b[0m\u001b[1;33m[\u001b[0m\u001b[1;36m0\u001b[0m\u001b[1;33m]\u001b[0m\u001b[1;33m,\u001b[0m \u001b[0mhow\u001b[0m\u001b[1;33m[\u001b[0m\u001b[1;36m1\u001b[0m\u001b[1;33m:\u001b[0m\u001b[1;33m]\u001b[0m\u001b[1;33m)\u001b[0m\u001b[1;33m\u001b[0m\u001b[1;33m\u001b[0m\u001b[0m\n\u001b[0;32m    114\u001b[0m         \u001b[1;32melif\u001b[0m \u001b[0mhow\u001b[0m\u001b[1;33m:\u001b[0m\u001b[1;33m\u001b[0m\u001b[1;33m\u001b[0m\u001b[0m\n\u001b[1;32m--> 115\u001b[1;33m             \u001b[0mobj\u001b[0m \u001b[1;33m=\u001b[0m \u001b[0mdata\u001b[0m\u001b[1;33m.\u001b[0m\u001b[0mwrap_output\u001b[0m\u001b[1;33m(\u001b[0m\u001b[0mfunc\u001b[0m\u001b[1;33m(\u001b[0m\u001b[0mresults\u001b[0m\u001b[1;33m,\u001b[0m \u001b[1;33m*\u001b[0m\u001b[0margs\u001b[0m\u001b[1;33m,\u001b[0m \u001b[1;33m**\u001b[0m\u001b[0mkwargs\u001b[0m\u001b[1;33m)\u001b[0m\u001b[1;33m,\u001b[0m \u001b[0mhow\u001b[0m\u001b[1;33m)\u001b[0m\u001b[1;33m\u001b[0m\u001b[1;33m\u001b[0m\u001b[0m\n\u001b[0m\u001b[0;32m    116\u001b[0m         \u001b[1;32mreturn\u001b[0m \u001b[0mobj\u001b[0m\u001b[1;33m\u001b[0m\u001b[1;33m\u001b[0m\u001b[0m\n\u001b[0;32m    117\u001b[0m \u001b[1;33m\u001b[0m\u001b[0m\n",
      "\u001b[1;32mc:\\users\\ivanl\\appdata\\local\\programs\\python\\python37\\lib\\site-packages\\statsmodels\\tsa\\arima_model.py\u001b[0m in \u001b[0;36mpredict\u001b[1;34m(self, start, end, exog, dynamic, **kwargs)\u001b[0m\n\u001b[0;32m   1532\u001b[0m                 **kwargs):\n\u001b[0;32m   1533\u001b[0m         return self.model.predict(self.params, start, end, exog, dynamic,\n\u001b[1;32m-> 1534\u001b[1;33m                                   **kwargs)\n\u001b[0m\u001b[0;32m   1535\u001b[0m \u001b[1;33m\u001b[0m\u001b[0m\n\u001b[0;32m   1536\u001b[0m     \u001b[1;32mdef\u001b[0m \u001b[0m_forecast_error\u001b[0m\u001b[1;33m(\u001b[0m\u001b[0mself\u001b[0m\u001b[1;33m,\u001b[0m \u001b[0msteps\u001b[0m\u001b[1;33m)\u001b[0m\u001b[1;33m:\u001b[0m\u001b[1;33m\u001b[0m\u001b[1;33m\u001b[0m\u001b[0m\n",
      "\u001b[1;32mc:\\users\\ivanl\\appdata\\local\\programs\\python\\python37\\lib\\site-packages\\statsmodels\\tsa\\arima_model.py\u001b[0m in \u001b[0;36mpredict\u001b[1;34m(self, params, start, end, exog, dynamic, **kwargs)\u001b[0m\n\u001b[0;32m    779\u001b[0m                                                          \u001b[0mself\u001b[0m\u001b[1;33m.\u001b[0m\u001b[0mk_exog\u001b[0m\u001b[1;33m,\u001b[0m \u001b[0mendog\u001b[0m\u001b[1;33m,\u001b[0m\u001b[1;33m\u001b[0m\u001b[1;33m\u001b[0m\u001b[0m\n\u001b[0;32m    780\u001b[0m                                                          \u001b[0mexog\u001b[0m\u001b[1;33m,\u001b[0m\u001b[1;33m\u001b[0m\u001b[1;33m\u001b[0m\u001b[0m\n\u001b[1;32m--> 781\u001b[1;33m                                                          method=method)\n\u001b[0m\u001b[0;32m    782\u001b[0m             if (exog is not None and\n\u001b[0;32m    783\u001b[0m                     (exog.shape[0] - k_ar) != forecastvalues.shape[0]):\n",
      "\u001b[1;32mc:\\users\\ivanl\\appdata\\local\\programs\\python\\python37\\lib\\site-packages\\statsmodels\\tsa\\arima_model.py\u001b[0m in \u001b[0;36m_arma_predict_out_of_sample\u001b[1;34m(params, steps, errors, p, q, k_trend, k_exog, endog, exog, start, method)\u001b[0m\n\u001b[0;32m    367\u001b[0m \u001b[1;33m\u001b[0m\u001b[0m\n\u001b[0;32m    368\u001b[0m     \u001b[1;32mfor\u001b[0m \u001b[0mi\u001b[0m \u001b[1;32min\u001b[0m \u001b[0mrange\u001b[0m\u001b[1;33m(\u001b[0m\u001b[0mi\u001b[0m \u001b[1;33m+\u001b[0m \u001b[1;36m1\u001b[0m\u001b[1;33m,\u001b[0m \u001b[0msteps\u001b[0m \u001b[1;33m-\u001b[0m \u001b[1;36m1\u001b[0m\u001b[1;33m)\u001b[0m\u001b[1;33m:\u001b[0m\u001b[1;33m\u001b[0m\u001b[1;33m\u001b[0m\u001b[0m\n\u001b[1;32m--> 369\u001b[1;33m         \u001b[0mfcast\u001b[0m \u001b[1;33m=\u001b[0m \u001b[0mmu\u001b[0m\u001b[1;33m[\u001b[0m\u001b[0mi\u001b[0m\u001b[1;33m]\u001b[0m \u001b[1;33m+\u001b[0m \u001b[0mnp\u001b[0m\u001b[1;33m.\u001b[0m\u001b[0mdot\u001b[0m\u001b[1;33m(\u001b[0m\u001b[0marparams\u001b[0m\u001b[1;33m,\u001b[0m \u001b[0mendog\u001b[0m\u001b[1;33m[\u001b[0m\u001b[0mi\u001b[0m\u001b[1;33m:\u001b[0m\u001b[0mi\u001b[0m \u001b[1;33m+\u001b[0m \u001b[0mp\u001b[0m\u001b[1;33m]\u001b[0m\u001b[1;33m)\u001b[0m\u001b[1;33m\u001b[0m\u001b[1;33m\u001b[0m\u001b[0m\n\u001b[0m\u001b[0;32m    370\u001b[0m         \u001b[0mforecast\u001b[0m\u001b[1;33m[\u001b[0m\u001b[0mi\u001b[0m\u001b[1;33m]\u001b[0m \u001b[1;33m=\u001b[0m \u001b[0mfcast\u001b[0m\u001b[1;33m\u001b[0m\u001b[1;33m\u001b[0m\u001b[0m\n\u001b[0;32m    371\u001b[0m         \u001b[0mendog\u001b[0m\u001b[1;33m[\u001b[0m\u001b[0mi\u001b[0m \u001b[1;33m+\u001b[0m \u001b[0mp\u001b[0m\u001b[1;33m]\u001b[0m \u001b[1;33m=\u001b[0m \u001b[0mfcast\u001b[0m\u001b[1;33m\u001b[0m\u001b[1;33m\u001b[0m\u001b[0m\n",
      "\u001b[1;31mIndexError\u001b[0m: index 1 is out of bounds for axis 0 with size 1"
     ]
    }
   ],
   "source": [
    "iterative_1step(res_full20, full_df, 5)"
   ]
  },
  {
   "cell_type": "markdown",
   "metadata": {},
   "source": [
    "n-steps forecasting"
   ]
  },
  {
   "cell_type": "code",
   "execution_count": 29,
   "metadata": {},
   "outputs": [
    {
     "data": {
      "image/png": "[encoded data removed]",
      "text/plain": [
       "<Figure size 864x504 with 1 Axes>"
      ]
     },
     "metadata": {
      "needs_background": "light"
     },
     "output_type": "display_data"
    },
    {
     "data": {
      "image/png": "[encoded data removed]",
      "text/plain": [
       "<Figure size 864x504 with 1 Axes>"
      ]
     },
     "metadata": {
      "needs_background": "light"
     },
     "output_type": "display_data"
    },
    {
     "data": {
      "image/png": "[encoded data removed]",
      "text/plain": [
       "<Figure size 864x504 with 1 Axes>"
      ]
     },
     "metadata": {
      "needs_background": "light"
     },
     "output_type": "display_data"
    }
   ],
   "source": [
    "eval_utils.predicted_views(psuedo_OOB['Adj Close_SNP500'][:-1], res_fn10['forecast'])\n",
    "eval_utils.predicted_views(psuedo_OOB['Adj Close_SNP500'][:-1], res_function20['forecast'])\n",
    "eval_utils.predicted_views(psuedo_OOB['Adj Close_SNP500'][:-1], res_function21['forecast'])"
   ]
  },
  {
   "cell_type": "code",
   "execution_count": null,
   "metadata": {
    "scrolled": true
   },
   "outputs": [],
   "source": [
    "plt.plot(y_val.iloc[idx_psuedo_OOB-1:idx_OOB+1])\n",
    "plt.plot(y_pred)\n",
    "plt.show()"
   ]
  },
  {
   "cell_type": "code",
   "execution_count": null,
   "metadata": {},
   "outputs": [],
   "source": [
    "y_val = data_prep.get_perc_return_df(full_df[\"Adj Close_SNP500\"])\n",
    "y_pred = res_function2['forecast']\n",
    "# eval_utils.predicted_views(y_val.iloc[idx_psuedo_OOB-1:idx_OOB+1], y_pred)\n",
    "\n",
    "plt.plot(y_val.iloc[idx_psuedo_OOB-1:idx_OOB+1])\n",
    "plt.plot(y_pred)\n",
    "plt.show()"
   ]
  },
  {
   "cell_type": "markdown",
   "metadata": {},
   "source": [
    "### Extras"
   ]
  },
  {
   "cell_type": "code",
   "execution_count": null,
   "metadata": {
    "scrolled": true
   },
   "outputs": [],
   "source": [
    "pharm_utils = build_and_model_VAR(df, [\"Pharm\",\"Utilities\"])\n",
    "data_prep.get_lagged_df(pharm_utils,col2lag=list(pharm_utils.columns), n=3)"
   ]
  },
  {
   "cell_type": "code",
   "execution_count": null,
   "metadata": {
    "scrolled": true
   },
   "outputs": [],
   "source": [
    "print(res.aic)\n",
    "print(res.bic)\n",
    "print(res.fittedvalues[-10:])\n",
    "\n",
    "\"\"\"\n",
    "If the model is an ARMAX and out-of-sample forecasting is requested, exog must be given. \n",
    "exog must be aligned so that exog[0] is used to produce the first out-of-sample forecast.\n",
    "\"\"\"\n",
    "# print(res.predict(start=2568, end=2570))\n",
    "\n",
    "res.summary()"
   ]
  },
  {
   "cell_type": "code",
   "execution_count": null,
   "metadata": {
    "scrolled": true
   },
   "outputs": [],
   "source": [
    "df.columns"
   ]
  },
  {
   "cell_type": "code",
   "execution_count": null,
   "metadata": {},
   "outputs": [],
   "source": []
  },
  {
   "cell_type": "code",
   "execution_count": null,
   "metadata": {},
   "outputs": [],
   "source": []
  }
 ],
 "metadata": {
  "kernelspec": {
   "display_name": "Python 3",
   "language": "python",
   "name": "python3"
  },
  "language_info": {
   "codemirror_mode": {
    "name": "ipython",
    "version": 3
   },
   "file_extension": ".py",
   "mimetype": "text/x-python",
   "name": "python",
   "nbconvert_exporter": "python",
   "pygments_lexer": "ipython3",
   "version": "3.7.6"
  }
 },
 "nbformat": 4,
 "nbformat_minor": 4
}
