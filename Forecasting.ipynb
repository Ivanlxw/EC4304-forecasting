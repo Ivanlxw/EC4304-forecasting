{
 "cells": [
  {
   "cell_type": "markdown",
   "metadata": {},
   "source": [
    "Run the following line if you don't have any of the libraries"
   ]
  },
  {
   "cell_type": "code",
   "execution_count": 1,
   "metadata": {
    "scrolled": false
   },
   "outputs": [],
   "source": [
    "# %%bash\n",
    "# pip install statsmodels pandas numpy"
   ]
  },
  {
   "cell_type": "code",
   "execution_count": 2,
   "metadata": {},
   "outputs": [],
   "source": [
    "import warnings\n",
    "warnings.filterwarnings('ignore')\n",
    "\n",
    "import numpy as np\n",
    "import pandas as pd\n",
    "import matplotlib.pyplot as plt\n",
    "import statsmodels\n",
    "from statsmodels.tsa.ar_model import AutoReg, ar_select_order\n",
    "from statsmodels.graphics.tsaplots import plot_acf, plot_pacf\n",
    "from statsmodels.tsa.arima_model import ARMA\n",
    "\n",
    "import data_prep"
   ]
  },
  {
   "cell_type": "code",
   "execution_count": 3,
   "metadata": {
    "scrolled": true
   },
   "outputs": [
    {
     "data": {
      "text/html": [
       "<div>\n",
       "<style scoped>\n",
       "    .dataframe tbody tr th:only-of-type {\n",
       "        vertical-align: middle;\n",
       "    }\n",
       "\n",
       "    .dataframe tbody tr th {\n",
       "        vertical-align: top;\n",
       "    }\n",
       "\n",
       "    .dataframe thead th {\n",
       "        text-align: right;\n",
       "    }\n",
       "</style>\n",
       "<table border=\"1\" class=\"dataframe\">\n",
       "  <thead>\n",
       "    <tr style=\"text-align: right;\">\n",
       "      <th></th>\n",
       "      <th>Open</th>\n",
       "      <th>High</th>\n",
       "      <th>Low</th>\n",
       "      <th>Close</th>\n",
       "      <th>Adj Close</th>\n",
       "      <th>Volume</th>\n",
       "      <th>Adj Close_1</th>\n",
       "      <th>Adj Close_2</th>\n",
       "      <th>Adj Close_3</th>\n",
       "    </tr>\n",
       "    <tr>\n",
       "      <th>Date</th>\n",
       "      <th></th>\n",
       "      <th></th>\n",
       "      <th></th>\n",
       "      <th></th>\n",
       "      <th></th>\n",
       "      <th></th>\n",
       "      <th></th>\n",
       "      <th></th>\n",
       "      <th></th>\n",
       "    </tr>\n",
       "  </thead>\n",
       "  <tbody>\n",
       "    <tr>\n",
       "      <th>2010-01-07</th>\n",
       "      <td>59.740002</td>\n",
       "      <td>60.009998</td>\n",
       "      <td>59.299999</td>\n",
       "      <td>59.910000</td>\n",
       "      <td>45.627445</td>\n",
       "      <td>17449500</td>\n",
       "      <td>45.695988</td>\n",
       "      <td>45.155247</td>\n",
       "      <td>44.789688</td>\n",
       "    </tr>\n",
       "    <tr>\n",
       "      <th>2010-01-08</th>\n",
       "      <td>59.700001</td>\n",
       "      <td>60.349998</td>\n",
       "      <td>59.490002</td>\n",
       "      <td>60.299999</td>\n",
       "      <td>45.924469</td>\n",
       "      <td>13344300</td>\n",
       "      <td>45.627445</td>\n",
       "      <td>45.695988</td>\n",
       "      <td>45.155247</td>\n",
       "    </tr>\n",
       "    <tr>\n",
       "      <th>2010-01-11</th>\n",
       "      <td>60.689999</td>\n",
       "      <td>60.869999</td>\n",
       "      <td>59.730000</td>\n",
       "      <td>60.220001</td>\n",
       "      <td>45.863533</td>\n",
       "      <td>19459900</td>\n",
       "      <td>45.924469</td>\n",
       "      <td>45.627445</td>\n",
       "      <td>45.695988</td>\n",
       "    </tr>\n",
       "    <tr>\n",
       "      <th>2010-01-12</th>\n",
       "      <td>59.299999</td>\n",
       "      <td>59.709999</td>\n",
       "      <td>59.040001</td>\n",
       "      <td>59.349998</td>\n",
       "      <td>45.200943</td>\n",
       "      <td>21510600</td>\n",
       "      <td>45.863533</td>\n",
       "      <td>45.924469</td>\n",
       "      <td>45.627445</td>\n",
       "    </tr>\n",
       "    <tr>\n",
       "      <th>2010-01-13</th>\n",
       "      <td>59.320000</td>\n",
       "      <td>59.799999</td>\n",
       "      <td>58.520000</td>\n",
       "      <td>59.570000</td>\n",
       "      <td>45.368496</td>\n",
       "      <td>22137500</td>\n",
       "      <td>45.200943</td>\n",
       "      <td>45.863533</td>\n",
       "      <td>45.924469</td>\n",
       "    </tr>\n",
       "    <tr>\n",
       "      <th>...</th>\n",
       "      <td>...</td>\n",
       "      <td>...</td>\n",
       "      <td>...</td>\n",
       "      <td>...</td>\n",
       "      <td>...</td>\n",
       "      <td>...</td>\n",
       "      <td>...</td>\n",
       "      <td>...</td>\n",
       "      <td>...</td>\n",
       "    </tr>\n",
       "    <tr>\n",
       "      <th>2020-03-16</th>\n",
       "      <td>27.950001</td>\n",
       "      <td>31.120001</td>\n",
       "      <td>27.670000</td>\n",
       "      <td>27.809999</td>\n",
       "      <td>27.809999</td>\n",
       "      <td>40233600</td>\n",
       "      <td>32.189999</td>\n",
       "      <td>29.469999</td>\n",
       "      <td>33.669998</td>\n",
       "    </tr>\n",
       "    <tr>\n",
       "      <th>2020-03-17</th>\n",
       "      <td>28.080000</td>\n",
       "      <td>29.180000</td>\n",
       "      <td>26.950001</td>\n",
       "      <td>28.000000</td>\n",
       "      <td>28.000000</td>\n",
       "      <td>45443600</td>\n",
       "      <td>27.809999</td>\n",
       "      <td>32.189999</td>\n",
       "      <td>29.469999</td>\n",
       "    </tr>\n",
       "    <tr>\n",
       "      <th>2020-03-18</th>\n",
       "      <td>26.040001</td>\n",
       "      <td>26.580000</td>\n",
       "      <td>22.879999</td>\n",
       "      <td>23.980000</td>\n",
       "      <td>23.980000</td>\n",
       "      <td>52135800</td>\n",
       "      <td>28.000000</td>\n",
       "      <td>27.809999</td>\n",
       "      <td>32.189999</td>\n",
       "    </tr>\n",
       "    <tr>\n",
       "      <th>2020-03-19</th>\n",
       "      <td>24.330000</td>\n",
       "      <td>25.709999</td>\n",
       "      <td>22.980000</td>\n",
       "      <td>25.610001</td>\n",
       "      <td>25.610001</td>\n",
       "      <td>52226500</td>\n",
       "      <td>23.980000</td>\n",
       "      <td>28.000000</td>\n",
       "      <td>27.809999</td>\n",
       "    </tr>\n",
       "    <tr>\n",
       "      <th>2020-03-20</th>\n",
       "      <td>26.260000</td>\n",
       "      <td>26.840000</td>\n",
       "      <td>24.760000</td>\n",
       "      <td>25.860001</td>\n",
       "      <td>25.860001</td>\n",
       "      <td>58313200</td>\n",
       "      <td>25.610001</td>\n",
       "      <td>23.980000</td>\n",
       "      <td>28.000000</td>\n",
       "    </tr>\n",
       "  </tbody>\n",
       "</table>\n",
       "<p>2568 rows × 9 columns</p>\n",
       "</div>"
      ],
      "text/plain": [
       "                 Open       High        Low      Close  Adj Close    Volume  \\\n",
       "Date                                                                          \n",
       "2010-01-07  59.740002  60.009998  59.299999  59.910000  45.627445  17449500   \n",
       "2010-01-08  59.700001  60.349998  59.490002  60.299999  45.924469  13344300   \n",
       "2010-01-11  60.689999  60.869999  59.730000  60.220001  45.863533  19459900   \n",
       "2010-01-12  59.299999  59.709999  59.040001  59.349998  45.200943  21510600   \n",
       "2010-01-13  59.320000  59.799999  58.520000  59.570000  45.368496  22137500   \n",
       "...               ...        ...        ...        ...        ...       ...   \n",
       "2020-03-16  27.950001  31.120001  27.670000  27.809999  27.809999  40233600   \n",
       "2020-03-17  28.080000  29.180000  26.950001  28.000000  28.000000  45443600   \n",
       "2020-03-18  26.040001  26.580000  22.879999  23.980000  23.980000  52135800   \n",
       "2020-03-19  24.330000  25.709999  22.980000  25.610001  25.610001  52226500   \n",
       "2020-03-20  26.260000  26.840000  24.760000  25.860001  25.860001  58313200   \n",
       "\n",
       "            Adj Close_1  Adj Close_2  Adj Close_3  \n",
       "Date                                               \n",
       "2010-01-07    45.695988    45.155247    44.789688  \n",
       "2010-01-08    45.627445    45.695988    45.155247  \n",
       "2010-01-11    45.924469    45.627445    45.695988  \n",
       "2010-01-12    45.863533    45.924469    45.627445  \n",
       "2010-01-13    45.200943    45.863533    45.924469  \n",
       "...                 ...          ...          ...  \n",
       "2020-03-16    32.189999    29.469999    33.669998  \n",
       "2020-03-17    27.809999    32.189999    29.469999  \n",
       "2020-03-18    28.000000    27.809999    32.189999  \n",
       "2020-03-19    23.980000    28.000000    27.809999  \n",
       "2020-03-20    25.610001    23.980000    28.000000  \n",
       "\n",
       "[2568 rows x 9 columns]"
      ]
     },
     "execution_count": 3,
     "metadata": {},
     "output_type": "execute_result"
    }
   ],
   "source": [
    "data_prep.get_lagged(\"./data/XLE_energy_etf.csv\", n=3)"
   ]
  },
  {
   "cell_type": "code",
   "execution_count": 4,
   "metadata": {},
   "outputs": [
    {
     "data": {
      "text/html": [
       "<div>\n",
       "<style scoped>\n",
       "    .dataframe tbody tr th:only-of-type {\n",
       "        vertical-align: middle;\n",
       "    }\n",
       "\n",
       "    .dataframe tbody tr th {\n",
       "        vertical-align: top;\n",
       "    }\n",
       "\n",
       "    .dataframe thead th {\n",
       "        text-align: right;\n",
       "    }\n",
       "</style>\n",
       "<table border=\"1\" class=\"dataframe\">\n",
       "  <thead>\n",
       "    <tr style=\"text-align: right;\">\n",
       "      <th></th>\n",
       "      <th>Open</th>\n",
       "      <th>High</th>\n",
       "      <th>Low</th>\n",
       "      <th>Close</th>\n",
       "      <th>Adj Close</th>\n",
       "      <th>Volume</th>\n",
       "    </tr>\n",
       "    <tr>\n",
       "      <th>Date</th>\n",
       "      <th></th>\n",
       "      <th></th>\n",
       "      <th></th>\n",
       "      <th></th>\n",
       "      <th></th>\n",
       "      <th></th>\n",
       "    </tr>\n",
       "  </thead>\n",
       "  <tbody>\n",
       "    <tr>\n",
       "      <th>2010-01-04</th>\n",
       "      <td>1116.560059</td>\n",
       "      <td>1133.869995</td>\n",
       "      <td>1116.560059</td>\n",
       "      <td>1132.989990</td>\n",
       "      <td>1132.989990</td>\n",
       "      <td>3991400000</td>\n",
       "    </tr>\n",
       "    <tr>\n",
       "      <th>2010-01-05</th>\n",
       "      <td>1132.660034</td>\n",
       "      <td>1136.630005</td>\n",
       "      <td>1129.660034</td>\n",
       "      <td>1136.520020</td>\n",
       "      <td>1136.520020</td>\n",
       "      <td>2491020000</td>\n",
       "    </tr>\n",
       "    <tr>\n",
       "      <th>2010-01-06</th>\n",
       "      <td>1135.709961</td>\n",
       "      <td>1139.189941</td>\n",
       "      <td>1133.949951</td>\n",
       "      <td>1137.140015</td>\n",
       "      <td>1137.140015</td>\n",
       "      <td>4972660000</td>\n",
       "    </tr>\n",
       "    <tr>\n",
       "      <th>2010-01-07</th>\n",
       "      <td>1136.270020</td>\n",
       "      <td>1142.459961</td>\n",
       "      <td>1131.319946</td>\n",
       "      <td>1141.689941</td>\n",
       "      <td>1141.689941</td>\n",
       "      <td>5270680000</td>\n",
       "    </tr>\n",
       "    <tr>\n",
       "      <th>2010-01-08</th>\n",
       "      <td>1140.520020</td>\n",
       "      <td>1145.390015</td>\n",
       "      <td>1136.219971</td>\n",
       "      <td>1144.979980</td>\n",
       "      <td>1144.979980</td>\n",
       "      <td>4389590000</td>\n",
       "    </tr>\n",
       "  </tbody>\n",
       "</table>\n",
       "</div>"
      ],
      "text/plain": [
       "                   Open         High          Low        Close    Adj Close  \\\n",
       "Date                                                                          \n",
       "2010-01-04  1116.560059  1133.869995  1116.560059  1132.989990  1132.989990   \n",
       "2010-01-05  1132.660034  1136.630005  1129.660034  1136.520020  1136.520020   \n",
       "2010-01-06  1135.709961  1139.189941  1133.949951  1137.140015  1137.140015   \n",
       "2010-01-07  1136.270020  1142.459961  1131.319946  1141.689941  1141.689941   \n",
       "2010-01-08  1140.520020  1145.390015  1136.219971  1144.979980  1144.979980   \n",
       "\n",
       "                Volume  \n",
       "Date                    \n",
       "2010-01-04  3991400000  \n",
       "2010-01-05  2491020000  \n",
       "2010-01-06  4972660000  \n",
       "2010-01-07  5270680000  \n",
       "2010-01-08  4389590000  "
      ]
     },
     "execution_count": 4,
     "metadata": {},
     "output_type": "execute_result"
    }
   ],
   "source": [
    "pd.read_csv(\"./data/SnP_500.csv\", index_col=\"Date\").head()"
   ]
  },
  {
   "cell_type": "code",
   "execution_count": 5,
   "metadata": {
    "scrolled": true
   },
   "outputs": [
    {
     "data": {
      "text/plain": [
       "<matplotlib.axes._subplots.AxesSubplot at 0x1804e82b488>"
      ]
     },
     "execution_count": 5,
     "metadata": {},
     "output_type": "execute_result"
    },
    {
     "data": {
      "image/png": "[encoded data removed]",
      "text/plain": [
       "<Figure size 432x288 with 1 Axes>"
      ]
     },
     "metadata": {
      "needs_background": "light"
     },
     "output_type": "display_data"
    }
   ],
   "source": [
    "df_perc_returns = data_prep.get_perc_return(\"./data/SnP_500.csv\", column_name=\"Open\")\n",
    "df_perc_returns.plot()"
   ]
  },
  {
   "cell_type": "markdown",
   "metadata": {},
   "source": [
    "The way returns are distributed shows a stationary process with no correlation with time \n",
    "This also leads us to try out GARCH models since we proabably can model these spikes in volatility.\n",
    "\n",
    "Following which, we'll look at the full dataset, a concatnation of all the variables together with S&P500"
   ]
  },
  {
   "cell_type": "code",
   "execution_count": 74,
   "metadata": {},
   "outputs": [],
   "source": [
    "df, idx_psuedo_OOB, idx_OOB = data_prep.split_data(\"./data/output.csv\")\n",
    "full_df = pd.read_csv(\"./data/output.csv\")\n",
    "\n",
    "full_df = full_df.set_index(\"Date\")"
   ]
  },
  {
   "cell_type": "markdown",
   "metadata": {},
   "source": [
    "Columns are laballed as such:  VARIABLE_SECTOR"
   ]
  },
  {
   "cell_type": "code",
   "execution_count": 9,
   "metadata": {},
   "outputs": [],
   "source": [
    "SNP_daily_ret = (df['Adj Close_SNP500']/df['Adj Close_SNP500'].shift(1)) - 1\n",
    "SNP_daily_ret = SNP_daily_ret.dropna()"
   ]
  },
  {
   "cell_type": "code",
   "execution_count": 10,
   "metadata": {
    "scrolled": true
   },
   "outputs": [
    {
     "name": "stderr",
     "output_type": "stream",
     "text": [
      "c:\\users\\ivanl\\appdata\\local\\programs\\python\\python37\\lib\\site-packages\\statsmodels\\tsa\\base\\tsa_model.py:218: ValueWarning: A date index has been provided, but it has no associated frequency information and so will be ignored when e.g. forecasting.\n",
      "  ' ignored when e.g. forecasting.', ValueWarning)\n",
      "c:\\users\\ivanl\\appdata\\local\\programs\\python\\python37\\lib\\site-packages\\statsmodels\\tsa\\base\\tsa_model.py:222: ValueWarning: A date index has been provided, but it is not monotonic and so will be ignored when e.g. forecasting.\n",
      "  ' forecasting.', ValueWarning)\n"
     ]
    },
    {
     "data": {
      "text/html": [
       "<table class=\"simpletable\">\n",
       "<caption>AutoReg Model Results</caption>\n",
       "<tr>\n",
       "  <th>Dep. Variable:</th> <td>Adj Close_SNP500</td> <th>  No. Observations:  </th>   <td>2387</td>  \n",
       "</tr>\n",
       "<tr>\n",
       "  <th>Model:</th>            <td>AutoReg(1)</td>    <th>  Log Likelihood     </th> <td>7758.794</td>\n",
       "</tr>\n",
       "<tr>\n",
       "  <th>Method:</th>         <td>Conditional MLE</td> <th>  S.D. of innovations</th>   <td>0.009</td> \n",
       "</tr>\n",
       "<tr>\n",
       "  <th>Date:</th>          <td>Fri, 10 Apr 2020</td> <th>  AIC                </th>  <td>-9.339</td> \n",
       "</tr>\n",
       "<tr>\n",
       "  <th>Time:</th>              <td>16:30:55</td>     <th>  BIC                </th>  <td>-9.332</td> \n",
       "</tr>\n",
       "<tr>\n",
       "  <th>Sample:</th>                <td>1</td>        <th>  HQIC               </th>  <td>-9.336</td> \n",
       "</tr>\n",
       "<tr>\n",
       "  <th></th>                     <td>2387</td>       <th>                     </th>     <td> </td>   \n",
       "</tr>\n",
       "</table>\n",
       "<table class=\"simpletable\">\n",
       "<tr>\n",
       "           <td></td>              <th>coef</th>     <th>std err</th>      <th>z</th>      <th>P>|z|</th>  <th>[0.025</th>    <th>0.975]</th>  \n",
       "</tr>\n",
       "<tr>\n",
       "  <th>intercept</th>           <td>    0.0005</td> <td>    0.000</td> <td>    2.411</td> <td> 0.016</td> <td> 8.66e-05</td> <td>    0.001</td>\n",
       "</tr>\n",
       "<tr>\n",
       "  <th>Adj Close_SNP500.L1</th> <td>   -0.0455</td> <td>    0.020</td> <td>   -2.227</td> <td> 0.026</td> <td>   -0.086</td> <td>   -0.005</td>\n",
       "</tr>\n",
       "</table>\n",
       "<table class=\"simpletable\">\n",
       "<caption>Roots</caption>\n",
       "<tr>\n",
       "    <td></td>   <th>            Real</th>  <th>         Imaginary</th> <th>         Modulus</th>  <th>        Frequency</th>\n",
       "</tr>\n",
       "<tr>\n",
       "  <th>AR.1</th> <td>         -21.9599</td> <td>          +0.0000j</td> <td>          21.9599</td> <td>           0.5000</td>\n",
       "</tr>\n",
       "</table>"
      ],
      "text/plain": [
       "<class 'statsmodels.iolib.summary.Summary'>\n",
       "\"\"\"\n",
       "                            AutoReg Model Results                             \n",
       "==============================================================================\n",
       "Dep. Variable:       Adj Close_SNP500   No. Observations:                 2387\n",
       "Model:                     AutoReg(1)   Log Likelihood                7758.794\n",
       "Method:               Conditional MLE   S.D. of innovations              0.009\n",
       "Date:                Fri, 10 Apr 2020   AIC                             -9.339\n",
       "Time:                        16:30:55   BIC                             -9.332\n",
       "Sample:                             1   HQIC                            -9.336\n",
       "                                 2387                                         \n",
       "=======================================================================================\n",
       "                          coef    std err          z      P>|z|      [0.025      0.975]\n",
       "---------------------------------------------------------------------------------------\n",
       "intercept               0.0005      0.000      2.411      0.016    8.66e-05       0.001\n",
       "Adj Close_SNP500.L1    -0.0455      0.020     -2.227      0.026      -0.086      -0.005\n",
       "                                    Roots                                    \n",
       "=============================================================================\n",
       "                  Real          Imaginary           Modulus         Frequency\n",
       "-----------------------------------------------------------------------------\n",
       "AR.1          -21.9599           +0.0000j           21.9599            0.5000\n",
       "-----------------------------------------------------------------------------\n",
       "\"\"\""
      ]
     },
     "execution_count": 10,
     "metadata": {},
     "output_type": "execute_result"
    }
   ],
   "source": [
    "mod = AutoReg(SNP_daily_ret, 1)\n",
    "res = mod.fit()\n",
    "res.summary()"
   ]
  },
  {
   "cell_type": "code",
   "execution_count": 11,
   "metadata": {},
   "outputs": [
    {
     "data": {
      "image/png": "[encoded data removed]",
      "text/plain": [
       "<Figure size 432x288 with 1 Axes>"
      ]
     },
     "metadata": {
      "needs_background": "light"
     },
     "output_type": "display_data"
    },
    {
     "data": {
      "image/png": "[encoded data removed]",
      "text/plain": [
       "<Figure size 432x288 with 1 Axes>"
      ]
     },
     "metadata": {
      "needs_background": "light"
     },
     "output_type": "display_data"
    }
   ],
   "source": [
    "plot_acf(SNP_daily_ret, lags=30)\n",
    "plt.show()\n",
    "plot_pacf(SNP_daily_ret, lags=30)\n",
    "plt.show()"
   ]
  },
  {
   "cell_type": "markdown",
   "metadata": {},
   "source": [
    "The ACF shows that after lags of t=2, autocorrelation stays near 0 which means a **MA(2)** model\n",
    "\n",
    "The PACF shows that after lags of t=2, autocorrelation stays near 0 which means an **AR(2)** model"
   ]
  },
  {
   "cell_type": "code",
   "execution_count": 12,
   "metadata": {
    "scrolled": true
   },
   "outputs": [
    {
     "name": "stderr",
     "output_type": "stream",
     "text": [
      "c:\\users\\ivanl\\appdata\\local\\programs\\python\\python37\\lib\\site-packages\\statsmodels\\tsa\\base\\tsa_model.py:218: ValueWarning: A date index has been provided, but it has no associated frequency information and so will be ignored when e.g. forecasting.\n",
      "  ' ignored when e.g. forecasting.', ValueWarning)\n",
      "c:\\users\\ivanl\\appdata\\local\\programs\\python\\python37\\lib\\site-packages\\statsmodels\\tsa\\base\\tsa_model.py:222: ValueWarning: A date index has been provided, but it is not monotonic and so will be ignored when e.g. forecasting.\n",
      "  ' forecasting.', ValueWarning)\n"
     ]
    },
    {
     "data": {
      "text/html": [
       "<table class=\"simpletable\">\n",
       "<caption>AutoReg Model Results</caption>\n",
       "<tr>\n",
       "  <th>Dep. Variable:</th> <td>Adj Close_SNP500</td> <th>  No. Observations:  </th>   <td>2387</td>  \n",
       "</tr>\n",
       "<tr>\n",
       "  <th>Model:</th>            <td>AutoReg(2)</td>    <th>  Log Likelihood     </th> <td>7755.117</td>\n",
       "</tr>\n",
       "<tr>\n",
       "  <th>Method:</th>         <td>Conditional MLE</td> <th>  S.D. of innovations</th>   <td>0.009</td> \n",
       "</tr>\n",
       "<tr>\n",
       "  <th>Date:</th>          <td>Fri, 10 Apr 2020</td> <th>  AIC                </th>  <td>-9.338</td> \n",
       "</tr>\n",
       "<tr>\n",
       "  <th>Time:</th>              <td>16:30:56</td>     <th>  BIC                </th>  <td>-9.328</td> \n",
       "</tr>\n",
       "<tr>\n",
       "  <th>Sample:</th>                <td>2</td>        <th>  HQIC               </th>  <td>-9.334</td> \n",
       "</tr>\n",
       "<tr>\n",
       "  <th></th>                     <td>2387</td>       <th>                     </th>     <td> </td>   \n",
       "</tr>\n",
       "</table>\n",
       "<table class=\"simpletable\">\n",
       "<tr>\n",
       "           <td></td>              <th>coef</th>     <th>std err</th>      <th>z</th>      <th>P>|z|</th>  <th>[0.025</th>    <th>0.975]</th>  \n",
       "</tr>\n",
       "<tr>\n",
       "  <th>intercept</th>           <td>    0.0005</td> <td>    0.000</td> <td>    2.388</td> <td> 0.017</td> <td> 8.23e-05</td> <td>    0.001</td>\n",
       "</tr>\n",
       "<tr>\n",
       "  <th>Adj Close_SNP500.L1</th> <td>   -0.0452</td> <td>    0.020</td> <td>   -2.206</td> <td> 0.027</td> <td>   -0.085</td> <td>   -0.005</td>\n",
       "</tr>\n",
       "<tr>\n",
       "  <th>Adj Close_SNP500.L2</th> <td>    0.0079</td> <td>    0.020</td> <td>    0.387</td> <td> 0.699</td> <td>   -0.032</td> <td>    0.048</td>\n",
       "</tr>\n",
       "</table>\n",
       "<table class=\"simpletable\">\n",
       "<caption>Roots</caption>\n",
       "<tr>\n",
       "    <td></td>   <th>            Real</th>  <th>         Imaginary</th> <th>         Modulus</th>  <th>        Frequency</th>\n",
       "</tr>\n",
       "<tr>\n",
       "  <th>AR.1</th> <td>          -8.7414</td> <td>          +0.0000j</td> <td>           8.7414</td> <td>           0.5000</td>\n",
       "</tr>\n",
       "<tr>\n",
       "  <th>AR.2</th> <td>          14.4468</td> <td>          +0.0000j</td> <td>          14.4468</td> <td>           0.0000</td>\n",
       "</tr>\n",
       "</table>"
      ],
      "text/plain": [
       "<class 'statsmodels.iolib.summary.Summary'>\n",
       "\"\"\"\n",
       "                            AutoReg Model Results                             \n",
       "==============================================================================\n",
       "Dep. Variable:       Adj Close_SNP500   No. Observations:                 2387\n",
       "Model:                     AutoReg(2)   Log Likelihood                7755.117\n",
       "Method:               Conditional MLE   S.D. of innovations              0.009\n",
       "Date:                Fri, 10 Apr 2020   AIC                             -9.338\n",
       "Time:                        16:30:56   BIC                             -9.328\n",
       "Sample:                             2   HQIC                            -9.334\n",
       "                                 2387                                         \n",
       "=======================================================================================\n",
       "                          coef    std err          z      P>|z|      [0.025      0.975]\n",
       "---------------------------------------------------------------------------------------\n",
       "intercept               0.0005      0.000      2.388      0.017    8.23e-05       0.001\n",
       "Adj Close_SNP500.L1    -0.0452      0.020     -2.206      0.027      -0.085      -0.005\n",
       "Adj Close_SNP500.L2     0.0079      0.020      0.387      0.699      -0.032       0.048\n",
       "                                    Roots                                    \n",
       "=============================================================================\n",
       "                  Real          Imaginary           Modulus         Frequency\n",
       "-----------------------------------------------------------------------------\n",
       "AR.1           -8.7414           +0.0000j            8.7414            0.5000\n",
       "AR.2           14.4468           +0.0000j           14.4468            0.0000\n",
       "-----------------------------------------------------------------------------\n",
       "\"\"\""
      ]
     },
     "execution_count": 12,
     "metadata": {},
     "output_type": "execute_result"
    }
   ],
   "source": [
    "mod = AutoReg(SNP_daily_ret, 2)\n",
    "res = mod.fit()\n",
    "res.summary()"
   ]
  },
  {
   "cell_type": "code",
   "execution_count": 13,
   "metadata": {
    "scrolled": true
   },
   "outputs": [
    {
     "name": "stderr",
     "output_type": "stream",
     "text": [
      "c:\\users\\ivanl\\appdata\\local\\programs\\python\\python37\\lib\\site-packages\\statsmodels\\tsa\\base\\tsa_model.py:218: ValueWarning: A date index has been provided, but it has no associated frequency information and so will be ignored when e.g. forecasting.\n",
      "  ' ignored when e.g. forecasting.', ValueWarning)\n",
      "c:\\users\\ivanl\\appdata\\local\\programs\\python\\python37\\lib\\site-packages\\statsmodels\\tsa\\base\\tsa_model.py:222: ValueWarning: A date index has been provided, but it is not monotonic and so will be ignored when e.g. forecasting.\n",
      "  ' forecasting.', ValueWarning)\n"
     ]
    },
    {
     "name": "stdout",
     "output_type": "stream",
     "text": [
      "                              ARMA Model Results                              \n",
      "==============================================================================\n",
      "Dep. Variable:       Adj Close_SNP500   No. Observations:                 2387\n",
      "Model:                     ARMA(2, 0)   Log Likelihood                7762.579\n",
      "Method:                       css-mle   S.D. of innovations              0.009\n",
      "Date:                Fri, 10 Apr 2020   AIC                         -15517.157\n",
      "Time:                        16:30:56   BIC                         -15494.046\n",
      "Sample:                             0   HQIC                        -15508.747\n",
      "                                                                              \n",
      "==========================================================================================\n",
      "                             coef    std err          z      P>|z|      [0.025      0.975]\n",
      "------------------------------------------------------------------------------------------\n",
      "const                      0.0004      0.000      2.402      0.016    8.16e-05       0.001\n",
      "ar.L1.Adj Close_SNP500    -0.0452      0.020     -2.207      0.027      -0.085      -0.005\n",
      "ar.L2.Adj Close_SNP500     0.0079      0.020      0.387      0.699      -0.032       0.048\n",
      "                                    Roots                                    \n",
      "=============================================================================\n",
      "                  Real          Imaginary           Modulus         Frequency\n",
      "-----------------------------------------------------------------------------\n",
      "AR.1           -8.7451           +0.0000j            8.7451            0.5000\n",
      "AR.2           14.4526           +0.0000j           14.4526            0.0000\n",
      "-----------------------------------------------------------------------------\n",
      "\n",
      "\n"
     ]
    },
    {
     "name": "stderr",
     "output_type": "stream",
     "text": [
      "c:\\users\\ivanl\\appdata\\local\\programs\\python\\python37\\lib\\site-packages\\statsmodels\\tsa\\base\\tsa_model.py:218: ValueWarning: A date index has been provided, but it has no associated frequency information and so will be ignored when e.g. forecasting.\n",
      "  ' ignored when e.g. forecasting.', ValueWarning)\n",
      "c:\\users\\ivanl\\appdata\\local\\programs\\python\\python37\\lib\\site-packages\\statsmodels\\tsa\\base\\tsa_model.py:222: ValueWarning: A date index has been provided, but it is not monotonic and so will be ignored when e.g. forecasting.\n",
      "  ' forecasting.', ValueWarning)\n"
     ]
    },
    {
     "name": "stdout",
     "output_type": "stream",
     "text": [
      "                              ARMA Model Results                              \n",
      "==============================================================================\n",
      "Dep. Variable:       Adj Close_SNP500   No. Observations:                 2387\n",
      "Model:                     ARMA(0, 2)   Log Likelihood                7762.520\n",
      "Method:                       css-mle   S.D. of innovations              0.009\n",
      "Date:                Fri, 10 Apr 2020   AIC                         -15517.041\n",
      "Time:                        16:30:57   BIC                         -15493.929\n",
      "Sample:                             0   HQIC                        -15508.630\n",
      "                                                                              \n",
      "==========================================================================================\n",
      "                             coef    std err          z      P>|z|      [0.025      0.975]\n",
      "------------------------------------------------------------------------------------------\n",
      "const                      0.0004      0.000      2.407      0.016    8.24e-05       0.001\n",
      "ma.L1.Adj Close_SNP500    -0.0447      0.020     -2.183      0.029      -0.085      -0.005\n",
      "ma.L2.Adj Close_SNP500     0.0067      0.021      0.322      0.748      -0.034       0.048\n",
      "                                    Roots                                    \n",
      "=============================================================================\n",
      "                  Real          Imaginary           Modulus         Frequency\n",
      "-----------------------------------------------------------------------------\n",
      "MA.1            3.3290          -11.7365j           12.1995           -0.2060\n",
      "MA.2            3.3290          +11.7365j           12.1995            0.2060\n",
      "-----------------------------------------------------------------------------\n",
      "\n",
      "\n"
     ]
    },
    {
     "name": "stderr",
     "output_type": "stream",
     "text": [
      "c:\\users\\ivanl\\appdata\\local\\programs\\python\\python37\\lib\\site-packages\\statsmodels\\tsa\\base\\tsa_model.py:218: ValueWarning: A date index has been provided, but it has no associated frequency information and so will be ignored when e.g. forecasting.\n",
      "  ' ignored when e.g. forecasting.', ValueWarning)\n",
      "c:\\users\\ivanl\\appdata\\local\\programs\\python\\python37\\lib\\site-packages\\statsmodels\\tsa\\base\\tsa_model.py:222: ValueWarning: A date index has been provided, but it is not monotonic and so will be ignored when e.g. forecasting.\n",
      "  ' forecasting.', ValueWarning)\n"
     ]
    },
    {
     "name": "stdout",
     "output_type": "stream",
     "text": [
      "                              ARMA Model Results                              \n",
      "==============================================================================\n",
      "Dep. Variable:       Adj Close_SNP500   No. Observations:                 2387\n",
      "Model:                     ARMA(1, 1)   Log Likelihood                7764.148\n",
      "Method:                       css-mle   S.D. of innovations              0.009\n",
      "Date:                Fri, 10 Apr 2020   AIC                         -15520.297\n",
      "Time:                        16:30:59   BIC                         -15497.186\n",
      "Sample:                             0   HQIC                        -15511.887\n",
      "                                                                              \n",
      "==========================================================================================\n",
      "                             coef    std err          z      P>|z|      [0.025      0.975]\n",
      "------------------------------------------------------------------------------------------\n",
      "const                      0.0004      0.000      2.366      0.018    7.61e-05       0.001\n",
      "ar.L1.Adj Close_SNP500    -0.7796      0.128     -6.103      0.000      -1.030      -0.529\n",
      "ma.L1.Adj Close_SNP500     0.7428      0.136      5.446      0.000       0.475       1.010\n",
      "                                    Roots                                    \n",
      "=============================================================================\n",
      "                  Real          Imaginary           Modulus         Frequency\n",
      "-----------------------------------------------------------------------------\n",
      "AR.1           -1.2827           +0.0000j            1.2827            0.5000\n",
      "MA.1           -1.3463           +0.0000j            1.3463            0.5000\n",
      "-----------------------------------------------------------------------------\n",
      "\n",
      "\n"
     ]
    }
   ],
   "source": [
    "ar2 = ARMA(SNP_daily_ret, order=[2,0])\n",
    "ar2_fit = ar2.fit(disp=0)\n",
    "print (ar2_fit.summary())\n",
    "print('\\n')\n",
    "\n",
    "ma2 = ARMA(SNP_daily_ret, order=[0,2])\n",
    "ma2_fit = ma2.fit(disp=0)\n",
    "print (ma2_fit.summary())\n",
    "print('\\n')\n",
    "\n",
    "arma11 = ARMA(SNP_daily_ret, order=[1,1])\n",
    "arma11_fit = arma11.fit(disp=0)\n",
    "print (arma11_fit.summary())\n",
    "print('\\n')\n"
   ]
  },
  {
   "cell_type": "markdown",
   "metadata": {},
   "source": [
    "AIC values for all the models are extremely similar and hence we look to BIC to decide the best model()\n",
    "\n",
    "It seems like AR(2) does the best out of all the models.\n",
    "\n",
    "However, as shown later, adding MA(q) to AR(2) to eliminate autocorrelations yields higher AIC than ARMA(1,1)."
   ]
  },
  {
   "cell_type": "code",
   "execution_count": 14,
   "metadata": {},
   "outputs": [
    {
     "data": {
      "text/plain": [
       "'\\narma22_fit.aic\\narma22_fit.bic\\narma22_fit.fittedvalues  ## return fitted values of the model\\narma22_fit.predict(start=2568, end=2570)\\n'"
      ]
     },
     "execution_count": 14,
     "metadata": {},
     "output_type": "execute_result"
    }
   ],
   "source": [
    "## some usful attributes that might be used in future\n",
    "\"\"\"\n",
    "arma22_fit.aic\n",
    "arma22_fit.bic\n",
    "arma22_fit.fittedvalues  ## return fitted values of the model\n",
    "arma22_fit.predict(start=2568, end=2570)\n",
    "\"\"\""
   ]
  },
  {
   "cell_type": "code",
   "execution_count": 15,
   "metadata": {
    "scrolled": true
   },
   "outputs": [
    {
     "data": {
      "image/png": "[encoded data removed]",
      "text/plain": [
       "<Figure size 432x288 with 1 Axes>"
      ]
     },
     "execution_count": 15,
     "metadata": {},
     "output_type": "execute_result"
    },
    {
     "data": {
      "image/png": "[encoded data removed]",
      "text/plain": [
       "<Figure size 432x288 with 1 Axes>"
      ]
     },
     "metadata": {
      "needs_background": "light"
     },
     "output_type": "display_data"
    }
   ],
   "source": [
    "plot_acf(ar2_fit.fittedvalues)"
   ]
  },
  {
   "cell_type": "markdown",
   "metadata": {},
   "source": [
    "2 lags are present in AR(2) model so we try to fit ARMA(2,2) to rid of the autocorrelations."
   ]
  },
  {
   "cell_type": "code",
   "execution_count": 16,
   "metadata": {},
   "outputs": [
    {
     "name": "stderr",
     "output_type": "stream",
     "text": [
      "c:\\users\\ivanl\\appdata\\local\\programs\\python\\python37\\lib\\site-packages\\statsmodels\\tsa\\base\\tsa_model.py:218: ValueWarning: A date index has been provided, but it has no associated frequency information and so will be ignored when e.g. forecasting.\n",
      "  ' ignored when e.g. forecasting.', ValueWarning)\n",
      "c:\\users\\ivanl\\appdata\\local\\programs\\python\\python37\\lib\\site-packages\\statsmodels\\tsa\\base\\tsa_model.py:222: ValueWarning: A date index has been provided, but it is not monotonic and so will be ignored when e.g. forecasting.\n",
      "  ' forecasting.', ValueWarning)\n"
     ]
    },
    {
     "name": "stdout",
     "output_type": "stream",
     "text": [
      "                              ARMA Model Results                              \n",
      "==============================================================================\n",
      "Dep. Variable:       Adj Close_SNP500   No. Observations:                 2387\n",
      "Model:                     ARMA(2, 2)   Log Likelihood                7770.862\n",
      "Method:                       css-mle   S.D. of innovations              0.009\n",
      "Date:                Fri, 10 Apr 2020   AIC                         -15529.724\n",
      "Time:                        16:31:04   BIC                         -15495.057\n",
      "Sample:                             0   HQIC                        -15517.108\n",
      "                                                                              \n",
      "==========================================================================================\n",
      "                             coef    std err          z      P>|z|      [0.025      0.975]\n",
      "------------------------------------------------------------------------------------------\n",
      "const                      0.0004   7.64e-05      5.864      0.000       0.000       0.001\n",
      "ar.L1.Adj Close_SNP500     0.1676      0.121      1.384      0.167      -0.070       0.405\n",
      "ar.L2.Adj Close_SNP500     0.7765      0.115      6.761      0.000       0.551       1.002\n",
      "ma.L1.Adj Close_SNP500    -0.2185      0.128     -1.707      0.088      -0.469       0.032\n",
      "ma.L2.Adj Close_SNP500    -0.7596      0.125     -6.077      0.000      -1.005      -0.515\n",
      "                                    Roots                                    \n",
      "=============================================================================\n",
      "                  Real          Imaginary           Modulus         Frequency\n",
      "-----------------------------------------------------------------------------\n",
      "AR.1            1.0321           +0.0000j            1.0321            0.0000\n",
      "AR.2           -1.2479           +0.0000j            1.2479            0.5000\n",
      "MA.1            1.0125           +0.0000j            1.0125            0.0000\n",
      "MA.2           -1.3002           +0.0000j            1.3002            0.5000\n",
      "-----------------------------------------------------------------------------\n",
      "\n",
      "\n"
     ]
    }
   ],
   "source": [
    "arma22 = ARMA(SNP_daily_ret, order=[2,2])\n",
    "arma22_fit = arma22.fit(disp=0)\n",
    "print (arma22_fit.summary())\n",
    "print('\\n')"
   ]
  },
  {
   "cell_type": "markdown",
   "metadata": {},
   "source": [
    "AIC at -15529.724 is marginally lower than AR(2).\n",
    "\n",
    "So far, our benchmarked models are:\n",
    "- AR(2)\n",
    "- ARMA(1,1)\n",
    "- ARMA(2,2)"
   ]
  },
  {
   "cell_type": "markdown",
   "metadata": {},
   "source": [
    "Moving on, we add more variables, to build ADL models that would hopefully beat our benchmark models\n",
    "\n",
    "We'll start from one industry, build ARMA for models with lags $\\in (1,5)$ and then look at their BIC values \n",
    "\n",
    "**Note:** we chose lags from 1 to 5 because 5 represents 1 trading week and we want to quickly be able to spot changes\n",
    "\n",
    "We then choose the lagged_model with lowest BIC (BIC tend to give parsimonous model hence it would better fit our needs to prevent too many variables in our models to prevent overfitting) and iteratively add more industries up to the full model\n",
    "\n",
    "Afterwords, we rid insignificant variables based on their t-stat. We do this iteratively with the final model till all the variables are significant. \n",
    "\n",
    "We note that this method may not be the best method since we didn't cover the full subset to see the lowest AIC/BIC but that is too computationally expensive.\n",
    "\n",
    "By sampling 50 subsets of **n** variables, it will cover a signiicant subset and such iterative addition of variables is generally accepted in statistics."
   ]
  },
  {
   "cell_type": "code",
   "execution_count": 17,
   "metadata": {},
   "outputs": [],
   "source": [
    "## Adding more variables\n",
    "from statsmodels.tsa.api import VAR\n",
    "from statsmodels.regression.linear_model import OLS\n",
    "\n",
    "\n",
    "def build_and_model_VAR(main_df:pd.DataFrame, var2add:list ):\n",
    "    \"\"\"\n",
    "    Arguments:\n",
    "    main_df - output.csv which has ALL the variables\n",
    "    var2add - the industry, eg. Pharm. The value MUST be inside the colname \n",
    "    \"\"\"\n",
    "    temp_df = pd.DataFrame()\n",
    "    for var in var2add:\n",
    "        for col in main_df.columns:\n",
    "            if \"Open_\"+var in col or \"Volume_\" + var in col:\n",
    "                try:\n",
    "                    temp_df.columns\n",
    "                except:\n",
    "                    temp_df = main_df[col]\n",
    "                else:\n",
    "                    temp_df = pd.concat([temp_df, main_df[col]], axis=1)\n",
    "                    \n",
    "    temp_df['Open_SNP500'] = main_df['Open_SNP500']\n",
    "    temp_df['Volume_SNP500'] = main_df['Volume_SNP500']\n",
    "    \n",
    "    temp_df.index = main_df.index\n",
    "        \n",
    "    return temp_df\n",
    "\n",
    "# lagged_df_exog(industries=[\"Pharm\",\"Utilities\"], col2lag=list(pharm_utils.columns))\n",
    "def lagged_df_exog(industries:list, target=\"Open_SNP500\", method=\"ARMA\", order=[2,0], remove_vars=[]):\n",
    "    temp_df = build_and_model_VAR(df, industries)\n",
    "    y = temp_df[target][order[0]:]\n",
    "    temp_df = temp_df.drop(target, axis=1)\n",
    "    og = temp_df.columns \n",
    "    temp_df = data_prep.get_lagged_df(temp_df,col2lag=list(temp_df.columns), n=order[0])  ## lags every single var\n",
    "    \n",
    "    X_lagged = temp_df.drop(og, axis=1)\n",
    "    if len(remove_vars) != 0:\n",
    "        for colname in remove_vars:\n",
    "            X_lagged = X_lagged.drop(colname, axis=1)\n",
    "    \n",
    "    if method == \"ARMA\":\n",
    "        model = ARMA(y, order=order, exog=X_lagged)\n",
    "    elif method == \"OLS\":\n",
    "        model = OLS(y, X_lagged)\n",
    "    else:\n",
    "        raise Exception(\"method has to be 'ARMA' or 'OLS'.\")\n",
    "        \n",
    "    results = model.fit()\n",
    "    return results\n",
    "\n",
    "full_industries = [\"Pharm\", \"Semicon\", \"Industrial\", \"Energy\", \"Financial\", \"Tech\", \"Utilities\", \"Consumer\"]\n",
    "def best_lagged_model(industries:list, max_p_lag:int, max_q_lag=0, method=\"ARMA\", start_ic=0, ic_method=\"BIC\", print_summ=False):\n",
    "    info = []\n",
    "    ic = start_ic\n",
    "    for p in range(1, max_p_lag+1):\n",
    "        for q in range(max_q_lag+1):\n",
    "            # q can be 0 but p has to be min 1\n",
    "            try:\n",
    "                temp_res = lagged_df_exog(industries=industries, order=[p,q])\n",
    "                if print_summ:\n",
    "                    print(temp_res.summary())\n",
    "            except Exception:\n",
    "                print(Exception)\n",
    "                continue\n",
    "            \n",
    "            ## maybe can append ARMAResults into some global list.\n",
    "            t = {\n",
    "                    \"order\": [p,q],\n",
    "                    \"params\": dict(temp_res.params),\n",
    "                    \"aic\": temp_res.aic,\n",
    "                    \"bic\": temp_res.bic,\n",
    "                }\n",
    "            info.append(t)\n",
    "            if ic_method == \"BIC\":\n",
    "                temp_ic = temp_res.bic\n",
    "            elif ic_method == \"AIC\":\n",
    "                temp_ic = temp_res.aic\n",
    "            else:\n",
    "                raise Exception(\"ic_method argument has to be 'BIC' or 'AIC'.\")\n",
    "            if ic == 0:  ## first iteration only\n",
    "                ic = temp_ic\n",
    "                res = temp_res\n",
    "            elif temp_ic < ic:\n",
    "                ic = temp_ic\n",
    "                res = temp_res\n",
    "    ## res will have the lowest ic. \n",
    "    ## info will be a list of dictionary\n",
    "    return res, info"
   ]
  },
  {
   "cell_type": "markdown",
   "metadata": {},
   "source": [
    "We look at the full model first and find the best lag for the full model."
   ]
  },
  {
   "cell_type": "code",
   "execution_count": 18,
   "metadata": {
    "scrolled": false
   },
   "outputs": [
    {
     "data": {
      "text/plain": [
       "['Pharm',\n",
       " 'Semicon',\n",
       " 'Industrial',\n",
       " 'Energy',\n",
       " 'Financial',\n",
       " 'Tech',\n",
       " 'Utilities',\n",
       " 'Consumer']"
      ]
     },
     "execution_count": 18,
     "metadata": {},
     "output_type": "execute_result"
    }
   ],
   "source": [
    "df.columns\n",
    "full_industries"
   ]
  },
  {
   "cell_type": "code",
   "execution_count": 19,
   "metadata": {
    "scrolled": true
   },
   "outputs": [
    {
     "name": "stderr",
     "output_type": "stream",
     "text": [
      "c:\\users\\ivanl\\appdata\\local\\programs\\python\\python37\\lib\\site-packages\\statsmodels\\tsa\\base\\tsa_model.py:218: ValueWarning: A date index has been provided, but it has no associated frequency information and so will be ignored when e.g. forecasting.\n",
      "  ' ignored when e.g. forecasting.', ValueWarning)\n",
      "c:\\users\\ivanl\\appdata\\local\\programs\\python\\python37\\lib\\site-packages\\statsmodels\\tsa\\base\\tsa_model.py:222: ValueWarning: A date index has been provided, but it is not monotonic and so will be ignored when e.g. forecasting.\n",
      "  ' forecasting.', ValueWarning)\n",
      "c:\\users\\ivanl\\appdata\\local\\programs\\python\\python37\\lib\\site-packages\\statsmodels\\base\\model.py:548: HessianInversionWarning: Inverting hessian failed, no bse or cov_params available\n",
      "  'available', HessianInversionWarning)\n",
      "c:\\users\\ivanl\\appdata\\local\\programs\\python\\python37\\lib\\site-packages\\statsmodels\\base\\model.py:568: ConvergenceWarning: Maximum Likelihood optimization failed to converge. Check mle_retvals\n",
      "  \"Check mle_retvals\", ConvergenceWarning)\n"
     ]
    },
    {
     "name": "stdout",
     "output_type": "stream",
     "text": [
      "                              ARMA Model Results                              \n",
      "==============================================================================\n",
      "Dep. Variable:            Open_SNP500   No. Observations:                 2387\n",
      "Model:                     ARMA(1, 0)   Log Likelihood              -17675.548\n",
      "Method:                       css-mle   S.D. of innovations            397.813\n",
      "Date:                Fri, 10 Apr 2020   AIC                          35391.096\n",
      "Time:                        16:31:08   BIC                          35506.652\n",
      "Sample:                             0   HQIC                         35433.147\n",
      "                                                                              \n",
      "========================================================================================\n",
      "                           coef    std err          z      P>|z|      [0.025      0.975]\n",
      "----------------------------------------------------------------------------------------\n",
      "const                 1887.4073    120.378     15.679      0.000    1651.472    2123.343\n",
      "Open_Pharm_L1           12.5277      1.875      6.680      0.000       8.852      16.203\n",
      "Volume_Pharm_L1         -0.0001   2.33e-05     -4.342      0.000      -0.000   -5.55e-05\n",
      "Open_Semicon_L1         32.6724      3.862      8.460      0.000      25.103      40.242\n",
      "Volume_Semicon_L1    -2.804e-05   2.49e-06    -11.260      0.000   -3.29e-05   -2.32e-05\n",
      "Open_Industrial_L1      32.2123      4.052      7.950      0.000      24.271      40.154\n",
      "Volume_Industrial_L1    -0.0002   6.81e-05     -2.697      0.007      -0.000   -5.02e-05\n",
      "Open_Energy_L1         -12.1619      1.473     -8.259      0.000     -15.048      -9.276\n",
      "Volume_Energy_L1      1.199e-06    1.4e-06      0.857      0.391   -1.54e-06    3.94e-06\n",
      "Open_Financial_L1      -13.4432     12.298     -1.093      0.274     -37.547      10.660\n",
      "Volume_Financial_L1   1.026e-06        nan        nan        nan         nan         nan\n",
      "Open_Tech_L1          -119.1847      7.902    -15.083      0.000    -134.673    -103.697\n",
      "Volume_Tech_L1          3.7e-06   2.05e-06      1.803      0.071   -3.22e-07    7.72e-06\n",
      "Open_Utilities_L1        2.2823      3.101      0.736      0.462      -3.796       8.360\n",
      "Volume_Utilities_L1    3.44e-07   1.86e-06      0.184      0.854   -3.31e-06       4e-06\n",
      "Open_Consumer_L1         6.1555      4.251      1.448      0.148      -2.176      14.487\n",
      "Volume_Consumer_L1    8.023e-08    3.3e-06      0.024      0.981   -6.39e-06    6.55e-06\n",
      "Volume_SNP500_L1      7.179e-09   1.43e-08      0.503      0.615   -2.08e-08    3.52e-08\n",
      "ar.L1.Open_SNP500       -0.0535      0.027     -1.948      0.051      -0.107       0.000\n",
      "                                    Roots                                    \n",
      "=============================================================================\n",
      "                  Real          Imaginary           Modulus         Frequency\n",
      "-----------------------------------------------------------------------------\n",
      "AR.1          -18.7073           +0.0000j           18.7073            0.5000\n",
      "-----------------------------------------------------------------------------\n"
     ]
    },
    {
     "name": "stderr",
     "output_type": "stream",
     "text": [
      "c:\\users\\ivanl\\appdata\\local\\programs\\python\\python37\\lib\\site-packages\\statsmodels\\tsa\\base\\tsa_model.py:218: ValueWarning: A date index has been provided, but it has no associated frequency information and so will be ignored when e.g. forecasting.\n",
      "  ' ignored when e.g. forecasting.', ValueWarning)\n",
      "c:\\users\\ivanl\\appdata\\local\\programs\\python\\python37\\lib\\site-packages\\statsmodels\\tsa\\base\\tsa_model.py:222: ValueWarning: A date index has been provided, but it is not monotonic and so will be ignored when e.g. forecasting.\n",
      "  ' forecasting.', ValueWarning)\n",
      "c:\\users\\ivanl\\appdata\\local\\programs\\python\\python37\\lib\\site-packages\\statsmodels\\base\\model.py:548: HessianInversionWarning: Inverting hessian failed, no bse or cov_params available\n",
      "  'available', HessianInversionWarning)\n",
      "c:\\users\\ivanl\\appdata\\local\\programs\\python\\python37\\lib\\site-packages\\statsmodels\\base\\model.py:568: ConvergenceWarning: Maximum Likelihood optimization failed to converge. Check mle_retvals\n",
      "  \"Check mle_retvals\", ConvergenceWarning)\n"
     ]
    },
    {
     "name": "stdout",
     "output_type": "stream",
     "text": [
      "                              ARMA Model Results                              \n",
      "==============================================================================\n",
      "Dep. Variable:            Open_SNP500   No. Observations:                 2387\n",
      "Model:                     ARMA(1, 1)   Log Likelihood              -17671.305\n",
      "Method:                       css-mle   S.D. of innovations        1817922.460\n",
      "Date:                Fri, 10 Apr 2020   AIC                          35384.609\n",
      "Time:                        16:31:14   BIC                          35505.943\n",
      "Sample:                             0   HQIC                         35428.763\n",
      "                                                                              \n",
      "========================================================================================\n",
      "                           coef    std err          z      P>|z|      [0.025      0.975]\n",
      "----------------------------------------------------------------------------------------\n",
      "const                 1887.4073    119.446     15.801      0.000    1653.298    2121.517\n",
      "Open_Pharm_L1           12.5277      1.890      6.630      0.000       8.824      16.231\n",
      "Volume_Pharm_L1         -0.0001   2.33e-05     -4.340      0.000      -0.000   -5.55e-05\n",
      "Open_Semicon_L1         32.6724      3.824      8.544      0.000      25.177      40.167\n",
      "Volume_Semicon_L1    -2.804e-05   2.46e-06    -11.418      0.000   -3.28e-05   -2.32e-05\n",
      "Open_Industrial_L1      32.2123      4.081      7.894      0.000      24.214      40.210\n",
      "Volume_Industrial_L1    -0.0002   6.77e-05     -2.711      0.007      -0.000   -5.09e-05\n",
      "Open_Energy_L1         -12.1619      1.452     -8.377      0.000     -15.007      -9.316\n",
      "Volume_Energy_L1      1.199e-06   1.39e-06      0.865      0.387   -1.52e-06    3.92e-06\n",
      "Open_Financial_L1      -13.4432     12.243     -1.098      0.272     -37.440      10.553\n",
      "Volume_Financial_L1   1.026e-06        nan        nan        nan         nan         nan\n",
      "Open_Tech_L1          -119.1847      7.858    -15.167      0.000    -134.586    -103.783\n",
      "Volume_Tech_L1          3.7e-06   2.04e-06      1.811      0.070   -3.05e-07    7.71e-06\n",
      "Open_Utilities_L1        2.2823      3.202      0.713      0.476      -3.993       8.557\n",
      "Volume_Utilities_L1    3.44e-07   1.86e-06      0.185      0.853    -3.3e-06    3.99e-06\n",
      "Open_Consumer_L1         6.1555      4.239      1.452      0.146      -2.153      14.464\n",
      "Volume_Consumer_L1    8.023e-08   3.31e-06      0.024      0.981   -6.41e-06    6.57e-06\n",
      "Volume_SNP500_L1       7.19e-09   1.43e-08      0.504      0.614   -2.07e-08    3.51e-08\n",
      "ar.L1.Open_SNP500        0.2918        nan        nan        nan         nan         nan\n",
      "ma.L1.Open_SNP500       -0.3584        nan        nan        nan         nan         nan\n",
      "                                    Roots                                    \n",
      "=============================================================================\n",
      "                  Real          Imaginary           Modulus         Frequency\n",
      "-----------------------------------------------------------------------------\n",
      "AR.1            3.4270           +0.0000j            3.4270            0.0000\n",
      "MA.1            2.7903           +0.0000j            2.7903            0.0000\n",
      "-----------------------------------------------------------------------------\n"
     ]
    },
    {
     "name": "stderr",
     "output_type": "stream",
     "text": [
      "c:\\users\\ivanl\\appdata\\local\\programs\\python\\python37\\lib\\site-packages\\statsmodels\\tsa\\base\\tsa_model.py:218: ValueWarning: A date index has been provided, but it has no associated frequency information and so will be ignored when e.g. forecasting.\n",
      "  ' ignored when e.g. forecasting.', ValueWarning)\n",
      "c:\\users\\ivanl\\appdata\\local\\programs\\python\\python37\\lib\\site-packages\\statsmodels\\tsa\\base\\tsa_model.py:222: ValueWarning: A date index has been provided, but it is not monotonic and so will be ignored when e.g. forecasting.\n",
      "  ' forecasting.', ValueWarning)\n",
      "c:\\users\\ivanl\\appdata\\local\\programs\\python\\python37\\lib\\site-packages\\statsmodels\\base\\model.py:548: HessianInversionWarning: Inverting hessian failed, no bse or cov_params available\n",
      "  'available', HessianInversionWarning)\n",
      "c:\\users\\ivanl\\appdata\\local\\programs\\python\\python37\\lib\\site-packages\\statsmodels\\base\\model.py:568: ConvergenceWarning: Maximum Likelihood optimization failed to converge. Check mle_retvals\n",
      "  \"Check mle_retvals\", ConvergenceWarning)\n"
     ]
    },
    {
     "name": "stdout",
     "output_type": "stream",
     "text": [
      "                              ARMA Model Results                              \n",
      "==============================================================================\n",
      "Dep. Variable:            Open_SNP500   No. Observations:                 2387\n",
      "Model:                     ARMA(1, 2)   Log Likelihood              -17666.480\n",
      "Method:                       css-mle   S.D. of innovations            396.303\n",
      "Date:                Fri, 10 Apr 2020   AIC                          35376.960\n",
      "Time:                        16:31:19   BIC                          35504.071\n",
      "Sample:                             0   HQIC                         35423.216\n",
      "                                                                              \n",
      "========================================================================================\n",
      "                           coef    std err          z      P>|z|      [0.025      0.975]\n",
      "----------------------------------------------------------------------------------------\n",
      "const                 1887.4073    124.556     15.153      0.000    1643.283    2131.532\n",
      "Open_Pharm_L1           12.5277      1.902      6.586      0.000       8.799      16.256\n",
      "Volume_Pharm_L1         -0.0001   2.33e-05     -4.346      0.000      -0.000   -5.56e-05\n",
      "Open_Semicon_L1         32.6724      3.894      8.390      0.000      25.040      40.305\n",
      "Volume_Semicon_L1    -2.804e-05   2.54e-06    -11.049      0.000    -3.3e-05   -2.31e-05\n",
      "Open_Industrial_L1      32.2123      4.117      7.825      0.000      24.144      40.281\n",
      "Volume_Industrial_L1    -0.0002   6.74e-05     -2.723      0.006      -0.000   -5.14e-05\n",
      "Open_Energy_L1         -12.1619      1.536     -7.916      0.000     -15.173      -9.151\n",
      "Volume_Energy_L1      1.199e-06   1.43e-06      0.837      0.403   -1.61e-06    4.01e-06\n",
      "Open_Financial_L1      -13.4432     12.421     -1.082      0.279     -37.788      10.902\n",
      "Volume_Financial_L1   1.026e-06        nan        nan        nan         nan         nan\n",
      "Open_Tech_L1          -119.1847      8.037    -14.830      0.000    -134.937    -103.433\n",
      "Volume_Tech_L1          3.7e-06   2.04e-06      1.810      0.070   -3.06e-07    7.71e-06\n",
      "Open_Utilities_L1        2.2823      3.357      0.680      0.497      -4.298       8.862\n",
      "Volume_Utilities_L1    3.44e-07   1.87e-06      0.184      0.854   -3.33e-06    4.01e-06\n",
      "Open_Consumer_L1         6.1555      4.326      1.423      0.155      -2.323      14.633\n",
      "Volume_Consumer_L1    8.024e-08   3.33e-06      0.024      0.981   -6.45e-06    6.61e-06\n",
      "Volume_SNP500_L1      7.793e-09   1.42e-08      0.548      0.584   -2.01e-08    3.57e-08\n",
      "ar.L1.Open_SNP500        0.2076        nan        nan        nan         nan         nan\n",
      "ma.L1.Open_SNP500       -0.2742        nan        nan        nan         nan         nan\n",
      "ma.L2.Open_SNP500       -0.0511      0.026     -1.970      0.049      -0.102      -0.000\n",
      "                                    Roots                                    \n",
      "=============================================================================\n",
      "                  Real          Imaginary           Modulus         Frequency\n",
      "-----------------------------------------------------------------------------\n",
      "AR.1            4.8160           +0.0000j            4.8160            0.0000\n",
      "MA.1            2.4913           +0.0000j            2.4913            0.0000\n",
      "MA.2           -7.8611           +0.0000j            7.8611            0.5000\n",
      "-----------------------------------------------------------------------------\n"
     ]
    },
    {
     "name": "stderr",
     "output_type": "stream",
     "text": [
      "c:\\users\\ivanl\\appdata\\local\\programs\\python\\python37\\lib\\site-packages\\statsmodels\\tsa\\base\\tsa_model.py:218: ValueWarning: A date index has been provided, but it has no associated frequency information and so will be ignored when e.g. forecasting.\n",
      "  ' ignored when e.g. forecasting.', ValueWarning)\n",
      "c:\\users\\ivanl\\appdata\\local\\programs\\python\\python37\\lib\\site-packages\\statsmodels\\tsa\\base\\tsa_model.py:222: ValueWarning: A date index has been provided, but it is not monotonic and so will be ignored when e.g. forecasting.\n",
      "  ' forecasting.', ValueWarning)\n",
      "c:\\users\\ivanl\\appdata\\local\\programs\\python\\python37\\lib\\site-packages\\statsmodels\\base\\model.py:548: HessianInversionWarning: Inverting hessian failed, no bse or cov_params available\n",
      "  'available', HessianInversionWarning)\n",
      "c:\\users\\ivanl\\appdata\\local\\programs\\python\\python37\\lib\\site-packages\\statsmodels\\base\\model.py:568: ConvergenceWarning: Maximum Likelihood optimization failed to converge. Check mle_retvals\n",
      "  \"Check mle_retvals\", ConvergenceWarning)\n"
     ]
    },
    {
     "ename": "KeyboardInterrupt",
     "evalue": "",
     "output_type": "error",
     "traceback": [
      "\u001b[1;31m---------------------------------------------------------------------------\u001b[0m",
      "\u001b[1;31mKeyboardInterrupt\u001b[0m                         Traceback (most recent call last)",
      "\u001b[1;32m<ipython-input-19-34294fc2f184>\u001b[0m in \u001b[0;36m<module>\u001b[1;34m\u001b[0m\n\u001b[1;32m----> 1\u001b[1;33m \u001b[0mres_full\u001b[0m\u001b[1;33m,\u001b[0m \u001b[0minfo\u001b[0m \u001b[1;33m=\u001b[0m \u001b[0mbest_lagged_model\u001b[0m\u001b[1;33m(\u001b[0m\u001b[0mfull_industries\u001b[0m\u001b[1;33m,\u001b[0m \u001b[0mmax_p_lag\u001b[0m\u001b[1;33m=\u001b[0m\u001b[1;36m5\u001b[0m\u001b[1;33m,\u001b[0m \u001b[0mmax_q_lag\u001b[0m\u001b[1;33m=\u001b[0m\u001b[1;36m3\u001b[0m\u001b[1;33m,\u001b[0m \u001b[0mprint_summ\u001b[0m\u001b[1;33m=\u001b[0m\u001b[1;32mTrue\u001b[0m\u001b[1;33m)\u001b[0m\u001b[1;33m\u001b[0m\u001b[1;33m\u001b[0m\u001b[0m\n\u001b[0m",
      "\u001b[1;32m<ipython-input-17-f058749f6543>\u001b[0m in \u001b[0;36mbest_lagged_model\u001b[1;34m(industries, max_p_lag, max_q_lag, method, start_ic, ic_method, print_summ)\u001b[0m\n\u001b[0;32m     61\u001b[0m                 \u001b[0mtemp_res\u001b[0m \u001b[1;33m=\u001b[0m \u001b[0mlagged_df_exog\u001b[0m\u001b[1;33m(\u001b[0m\u001b[0mindustries\u001b[0m\u001b[1;33m=\u001b[0m\u001b[0mindustries\u001b[0m\u001b[1;33m,\u001b[0m \u001b[0morder\u001b[0m\u001b[1;33m=\u001b[0m\u001b[1;33m[\u001b[0m\u001b[0mp\u001b[0m\u001b[1;33m,\u001b[0m\u001b[0mq\u001b[0m\u001b[1;33m]\u001b[0m\u001b[1;33m)\u001b[0m\u001b[1;33m\u001b[0m\u001b[1;33m\u001b[0m\u001b[0m\n\u001b[0;32m     62\u001b[0m                 \u001b[1;32mif\u001b[0m \u001b[0mprint_summ\u001b[0m\u001b[1;33m:\u001b[0m\u001b[1;33m\u001b[0m\u001b[1;33m\u001b[0m\u001b[0m\n\u001b[1;32m---> 63\u001b[1;33m                     \u001b[0mprint\u001b[0m\u001b[1;33m(\u001b[0m\u001b[0mtemp_res\u001b[0m\u001b[1;33m.\u001b[0m\u001b[0msummary\u001b[0m\u001b[1;33m(\u001b[0m\u001b[1;33m)\u001b[0m\u001b[1;33m)\u001b[0m\u001b[1;33m\u001b[0m\u001b[1;33m\u001b[0m\u001b[0m\n\u001b[0m\u001b[0;32m     64\u001b[0m             \u001b[1;32mexcept\u001b[0m \u001b[0mException\u001b[0m\u001b[1;33m:\u001b[0m\u001b[1;33m\u001b[0m\u001b[1;33m\u001b[0m\u001b[0m\n\u001b[0;32m     65\u001b[0m                 \u001b[0mprint\u001b[0m\u001b[1;33m(\u001b[0m\u001b[0mException\u001b[0m\u001b[1;33m)\u001b[0m\u001b[1;33m\u001b[0m\u001b[1;33m\u001b[0m\u001b[0m\n",
      "\u001b[1;32mc:\\users\\ivanl\\appdata\\local\\programs\\python\\python37\\lib\\site-packages\\statsmodels\\tsa\\arima_model.py\u001b[0m in \u001b[0;36msummary\u001b[1;34m(self, alpha)\u001b[0m\n\u001b[0;32m   1669\u001b[0m         smry.add_table_2cols(self, gleft=top_left, gright=top_right,\n\u001b[0;32m   1670\u001b[0m                              title=title)\n\u001b[1;32m-> 1671\u001b[1;33m         \u001b[0msmry\u001b[0m\u001b[1;33m.\u001b[0m\u001b[0madd_table_params\u001b[0m\u001b[1;33m(\u001b[0m\u001b[0mself\u001b[0m\u001b[1;33m,\u001b[0m \u001b[0malpha\u001b[0m\u001b[1;33m=\u001b[0m\u001b[0malpha\u001b[0m\u001b[1;33m,\u001b[0m \u001b[0muse_t\u001b[0m\u001b[1;33m=\u001b[0m\u001b[1;32mFalse\u001b[0m\u001b[1;33m)\u001b[0m\u001b[1;33m\u001b[0m\u001b[1;33m\u001b[0m\u001b[0m\n\u001b[0m\u001b[0;32m   1672\u001b[0m \u001b[1;33m\u001b[0m\u001b[0m\n\u001b[0;32m   1673\u001b[0m         \u001b[1;31m# Make the roots table\u001b[0m\u001b[1;33m\u001b[0m\u001b[1;33m\u001b[0m\u001b[1;33m\u001b[0m\u001b[0m\n",
      "\u001b[1;32mc:\\users\\ivanl\\appdata\\local\\programs\\python\\python37\\lib\\site-packages\\statsmodels\\iolib\\summary.py\u001b[0m in \u001b[0;36madd_table_params\u001b[1;34m(self, res, yname, xname, alpha, use_t)\u001b[0m\n\u001b[0;32m    813\u001b[0m         \u001b[1;32mif\u001b[0m \u001b[0mres\u001b[0m\u001b[1;33m.\u001b[0m\u001b[0mparams\u001b[0m\u001b[1;33m.\u001b[0m\u001b[0mndim\u001b[0m \u001b[1;33m==\u001b[0m \u001b[1;36m1\u001b[0m\u001b[1;33m:\u001b[0m\u001b[1;33m\u001b[0m\u001b[1;33m\u001b[0m\u001b[0m\n\u001b[0;32m    814\u001b[0m             table = summary_params(res, yname=yname, xname=xname, alpha=alpha,\n\u001b[1;32m--> 815\u001b[1;33m                                    use_t=use_t)\n\u001b[0m\u001b[0;32m    816\u001b[0m         \u001b[1;32melif\u001b[0m \u001b[0mres\u001b[0m\u001b[1;33m.\u001b[0m\u001b[0mparams\u001b[0m\u001b[1;33m.\u001b[0m\u001b[0mndim\u001b[0m \u001b[1;33m==\u001b[0m \u001b[1;36m2\u001b[0m\u001b[1;33m:\u001b[0m\u001b[1;33m\u001b[0m\u001b[1;33m\u001b[0m\u001b[0m\n\u001b[0;32m    817\u001b[0m             _, table = summary_params_2dflat(res, endog_names=yname,\n",
      "\u001b[1;32mc:\\users\\ivanl\\appdata\\local\\programs\\python\\python37\\lib\\site-packages\\statsmodels\\iolib\\summary.py\u001b[0m in \u001b[0;36msummary_params\u001b[1;34m(results, yname, xname, alpha, use_t, skip_header, title)\u001b[0m\n\u001b[0;32m    417\u001b[0m     \u001b[1;32melse\u001b[0m\u001b[1;33m:\u001b[0m\u001b[1;33m\u001b[0m\u001b[1;33m\u001b[0m\u001b[0m\n\u001b[0;32m    418\u001b[0m         \u001b[0mparams\u001b[0m \u001b[1;33m=\u001b[0m \u001b[0mresults\u001b[0m\u001b[1;33m.\u001b[0m\u001b[0mparams\u001b[0m\u001b[1;33m\u001b[0m\u001b[1;33m\u001b[0m\u001b[0m\n\u001b[1;32m--> 419\u001b[1;33m         \u001b[0mstd_err\u001b[0m \u001b[1;33m=\u001b[0m \u001b[0mresults\u001b[0m\u001b[1;33m.\u001b[0m\u001b[0mbse\u001b[0m\u001b[1;33m\u001b[0m\u001b[1;33m\u001b[0m\u001b[0m\n\u001b[0m\u001b[0;32m    420\u001b[0m         \u001b[0mtvalues\u001b[0m \u001b[1;33m=\u001b[0m \u001b[0mresults\u001b[0m\u001b[1;33m.\u001b[0m\u001b[0mtvalues\u001b[0m  \u001b[1;31m# is this sometimes called zvalues\u001b[0m\u001b[1;33m\u001b[0m\u001b[1;33m\u001b[0m\u001b[0m\n\u001b[0;32m    421\u001b[0m         \u001b[0mpvalues\u001b[0m \u001b[1;33m=\u001b[0m \u001b[0mresults\u001b[0m\u001b[1;33m.\u001b[0m\u001b[0mpvalues\u001b[0m\u001b[1;33m\u001b[0m\u001b[1;33m\u001b[0m\u001b[0m\n",
      "\u001b[1;32mpandas/_libs/properties.pyx\u001b[0m in \u001b[0;36mpandas._libs.properties.CachedProperty.__get__\u001b[1;34m()\u001b[0m\n",
      "\u001b[1;32mc:\\users\\ivanl\\appdata\\local\\programs\\python\\python37\\lib\\site-packages\\statsmodels\\tsa\\arima_model.py\u001b[0m in \u001b[0;36mbse\u001b[1;34m(self)\u001b[0m\n\u001b[0;32m   1485\u001b[0m     \u001b[1;32mdef\u001b[0m \u001b[0mbse\u001b[0m\u001b[1;33m(\u001b[0m\u001b[0mself\u001b[0m\u001b[1;33m)\u001b[0m\u001b[1;33m:\u001b[0m\u001b[1;33m\u001b[0m\u001b[1;33m\u001b[0m\u001b[0m\n\u001b[0;32m   1486\u001b[0m         \u001b[0mparams\u001b[0m \u001b[1;33m=\u001b[0m \u001b[0mself\u001b[0m\u001b[1;33m.\u001b[0m\u001b[0mparams\u001b[0m\u001b[1;33m\u001b[0m\u001b[1;33m\u001b[0m\u001b[0m\n\u001b[1;32m-> 1487\u001b[1;33m         \u001b[0mhess\u001b[0m \u001b[1;33m=\u001b[0m \u001b[0mself\u001b[0m\u001b[1;33m.\u001b[0m\u001b[0mmodel\u001b[0m\u001b[1;33m.\u001b[0m\u001b[0mhessian\u001b[0m\u001b[1;33m(\u001b[0m\u001b[0mparams\u001b[0m\u001b[1;33m)\u001b[0m\u001b[1;33m\u001b[0m\u001b[1;33m\u001b[0m\u001b[0m\n\u001b[0m\u001b[0;32m   1488\u001b[0m         \u001b[1;32mif\u001b[0m \u001b[0mlen\u001b[0m\u001b[1;33m(\u001b[0m\u001b[0mparams\u001b[0m\u001b[1;33m)\u001b[0m \u001b[1;33m==\u001b[0m \u001b[1;36m1\u001b[0m\u001b[1;33m:\u001b[0m  \u001b[1;31m# cannot take an inverse, ensure 1d\u001b[0m\u001b[1;33m\u001b[0m\u001b[1;33m\u001b[0m\u001b[0m\n\u001b[0;32m   1489\u001b[0m             \u001b[1;32mreturn\u001b[0m \u001b[0mnp\u001b[0m\u001b[1;33m.\u001b[0m\u001b[0msqrt\u001b[0m\u001b[1;33m(\u001b[0m\u001b[1;33m-\u001b[0m\u001b[1;36m1.\u001b[0m \u001b[1;33m/\u001b[0m \u001b[0mhess\u001b[0m\u001b[1;33m[\u001b[0m\u001b[1;36m0\u001b[0m\u001b[1;33m]\u001b[0m\u001b[1;33m)\u001b[0m\u001b[1;33m\u001b[0m\u001b[1;33m\u001b[0m\u001b[0m\n",
      "\u001b[1;32mc:\\users\\ivanl\\appdata\\local\\programs\\python\\python37\\lib\\site-packages\\statsmodels\\tsa\\arima_model.py\u001b[0m in \u001b[0;36mhessian\u001b[1;34m(self, params)\u001b[0m\n\u001b[0;32m    606\u001b[0m         \u001b[0mThis\u001b[0m \u001b[1;32mis\u001b[0m \u001b[0ma\u001b[0m \u001b[0mnumerical\u001b[0m \u001b[0mapproximation\u001b[0m\u001b[1;33m.\u001b[0m\u001b[1;33m\u001b[0m\u001b[1;33m\u001b[0m\u001b[0m\n\u001b[0;32m    607\u001b[0m         \"\"\"\n\u001b[1;32m--> 608\u001b[1;33m         \u001b[1;32mreturn\u001b[0m \u001b[0mapprox_hess_cs\u001b[0m\u001b[1;33m(\u001b[0m\u001b[0mparams\u001b[0m\u001b[1;33m,\u001b[0m \u001b[0mself\u001b[0m\u001b[1;33m.\u001b[0m\u001b[0mloglike\u001b[0m\u001b[1;33m,\u001b[0m \u001b[0margs\u001b[0m\u001b[1;33m=\u001b[0m\u001b[1;33m(\u001b[0m\u001b[1;32mFalse\u001b[0m\u001b[1;33m,\u001b[0m\u001b[1;33m)\u001b[0m\u001b[1;33m)\u001b[0m\u001b[1;33m\u001b[0m\u001b[1;33m\u001b[0m\u001b[0m\n\u001b[0m\u001b[0;32m    609\u001b[0m \u001b[1;33m\u001b[0m\u001b[0m\n\u001b[0;32m    610\u001b[0m     \u001b[1;32mdef\u001b[0m \u001b[0m_transparams\u001b[0m\u001b[1;33m(\u001b[0m\u001b[0mself\u001b[0m\u001b[1;33m,\u001b[0m \u001b[0mparams\u001b[0m\u001b[1;33m)\u001b[0m\u001b[1;33m:\u001b[0m\u001b[1;33m\u001b[0m\u001b[1;33m\u001b[0m\u001b[0m\n",
      "\u001b[1;32mc:\\users\\ivanl\\appdata\\local\\programs\\python\\python37\\lib\\site-packages\\statsmodels\\tools\\numdiff.py\u001b[0m in \u001b[0;36mapprox_hess_cs\u001b[1;34m(x, f, epsilon, args, kwargs)\u001b[0m\n\u001b[0;32m    241\u001b[0m             hess[i, j] = (f(*((x + 1j*ee[i, :] + ee[j, :],) + args), **kwargs)\n\u001b[0;32m    242\u001b[0m                           - f(*((x + 1j*ee[i, :] - ee[j, :],)+args),\n\u001b[1;32m--> 243\u001b[1;33m                               **kwargs)).imag/2./hess[i, j]\n\u001b[0m\u001b[0;32m    244\u001b[0m             \u001b[0mhess\u001b[0m\u001b[1;33m[\u001b[0m\u001b[0mj\u001b[0m\u001b[1;33m,\u001b[0m \u001b[0mi\u001b[0m\u001b[1;33m]\u001b[0m \u001b[1;33m=\u001b[0m \u001b[0mhess\u001b[0m\u001b[1;33m[\u001b[0m\u001b[0mi\u001b[0m\u001b[1;33m,\u001b[0m \u001b[0mj\u001b[0m\u001b[1;33m]\u001b[0m\u001b[1;33m\u001b[0m\u001b[1;33m\u001b[0m\u001b[0m\n\u001b[0;32m    245\u001b[0m \u001b[1;33m\u001b[0m\u001b[0m\n",
      "\u001b[1;32mc:\\users\\ivanl\\appdata\\local\\programs\\python\\python37\\lib\\site-packages\\statsmodels\\tsa\\arima_model.py\u001b[0m in \u001b[0;36mloglike\u001b[1;34m(self, params, set_sigma2)\u001b[0m\n\u001b[0;32m    808\u001b[0m         \u001b[0mmethod\u001b[0m \u001b[1;33m=\u001b[0m \u001b[0mself\u001b[0m\u001b[1;33m.\u001b[0m\u001b[0mmethod\u001b[0m\u001b[1;33m\u001b[0m\u001b[1;33m\u001b[0m\u001b[0m\n\u001b[0;32m    809\u001b[0m         \u001b[1;32mif\u001b[0m \u001b[0mmethod\u001b[0m \u001b[1;32min\u001b[0m \u001b[1;33m[\u001b[0m\u001b[1;34m'mle'\u001b[0m\u001b[1;33m,\u001b[0m \u001b[1;34m'css-mle'\u001b[0m\u001b[1;33m]\u001b[0m\u001b[1;33m:\u001b[0m\u001b[1;33m\u001b[0m\u001b[1;33m\u001b[0m\u001b[0m\n\u001b[1;32m--> 810\u001b[1;33m             \u001b[1;32mreturn\u001b[0m \u001b[0mself\u001b[0m\u001b[1;33m.\u001b[0m\u001b[0mloglike_kalman\u001b[0m\u001b[1;33m(\u001b[0m\u001b[0mparams\u001b[0m\u001b[1;33m,\u001b[0m \u001b[0mset_sigma2\u001b[0m\u001b[1;33m)\u001b[0m\u001b[1;33m\u001b[0m\u001b[1;33m\u001b[0m\u001b[0m\n\u001b[0m\u001b[0;32m    811\u001b[0m         \u001b[1;32melif\u001b[0m \u001b[0mmethod\u001b[0m \u001b[1;33m==\u001b[0m \u001b[1;34m'css'\u001b[0m\u001b[1;33m:\u001b[0m\u001b[1;33m\u001b[0m\u001b[1;33m\u001b[0m\u001b[0m\n\u001b[0;32m    812\u001b[0m             \u001b[1;32mreturn\u001b[0m \u001b[0mself\u001b[0m\u001b[1;33m.\u001b[0m\u001b[0mloglike_css\u001b[0m\u001b[1;33m(\u001b[0m\u001b[0mparams\u001b[0m\u001b[1;33m,\u001b[0m \u001b[0mset_sigma2\u001b[0m\u001b[1;33m)\u001b[0m\u001b[1;33m\u001b[0m\u001b[1;33m\u001b[0m\u001b[0m\n",
      "\u001b[1;32mc:\\users\\ivanl\\appdata\\local\\programs\\python\\python37\\lib\\site-packages\\statsmodels\\tsa\\arima_model.py\u001b[0m in \u001b[0;36mloglike_kalman\u001b[1;34m(self, params, set_sigma2)\u001b[0m\n\u001b[0;32m    818\u001b[0m         \u001b[0mCompute\u001b[0m \u001b[0mexact\u001b[0m \u001b[0mloglikelihood\u001b[0m \u001b[1;32mfor\u001b[0m \u001b[0mARMA\u001b[0m\u001b[1;33m(\u001b[0m\u001b[0mp\u001b[0m\u001b[1;33m,\u001b[0m\u001b[0mq\u001b[0m\u001b[1;33m)\u001b[0m \u001b[0mmodel\u001b[0m \u001b[0mby\u001b[0m \u001b[0mthe\u001b[0m \u001b[0mKalman\u001b[0m \u001b[0mFilter\u001b[0m\u001b[1;33m.\u001b[0m\u001b[1;33m\u001b[0m\u001b[1;33m\u001b[0m\u001b[0m\n\u001b[0;32m    819\u001b[0m         \"\"\"\n\u001b[1;32m--> 820\u001b[1;33m         \u001b[1;32mreturn\u001b[0m \u001b[0mKalmanFilter\u001b[0m\u001b[1;33m.\u001b[0m\u001b[0mloglike\u001b[0m\u001b[1;33m(\u001b[0m\u001b[0mparams\u001b[0m\u001b[1;33m,\u001b[0m \u001b[0mself\u001b[0m\u001b[1;33m,\u001b[0m \u001b[0mset_sigma2\u001b[0m\u001b[1;33m)\u001b[0m\u001b[1;33m\u001b[0m\u001b[1;33m\u001b[0m\u001b[0m\n\u001b[0m\u001b[0;32m    821\u001b[0m \u001b[1;33m\u001b[0m\u001b[0m\n\u001b[0;32m    822\u001b[0m     \u001b[1;32mdef\u001b[0m \u001b[0mloglike_css\u001b[0m\u001b[1;33m(\u001b[0m\u001b[0mself\u001b[0m\u001b[1;33m,\u001b[0m \u001b[0mparams\u001b[0m\u001b[1;33m,\u001b[0m \u001b[0mset_sigma2\u001b[0m\u001b[1;33m=\u001b[0m\u001b[1;32mTrue\u001b[0m\u001b[1;33m)\u001b[0m\u001b[1;33m:\u001b[0m\u001b[1;33m\u001b[0m\u001b[1;33m\u001b[0m\u001b[0m\n",
      "\u001b[1;32mc:\\users\\ivanl\\appdata\\local\\programs\\python\\python37\\lib\\site-packages\\statsmodels\\tsa\\kalmanf\\kalmanfilter.py\u001b[0m in \u001b[0;36mloglike\u001b[1;34m(cls, params, arma_model, set_sigma2)\u001b[0m\n\u001b[0;32m    214\u001b[0m         \u001b[1;31m# TODO: this will not work for time-varying parameters\u001b[0m\u001b[1;33m\u001b[0m\u001b[1;33m\u001b[0m\u001b[1;33m\u001b[0m\u001b[0m\n\u001b[0;32m    215\u001b[0m         (y, k, nobs, k_ar, k_ma, k_lags, newparams, Z_mat, m, R_mat, T_mat,\n\u001b[1;32m--> 216\u001b[1;33m          paramsdtype) = cls._init_kalman_state(params, arma_model)\n\u001b[0m\u001b[0;32m    217\u001b[0m         \u001b[1;32mif\u001b[0m \u001b[0mnp\u001b[0m\u001b[1;33m.\u001b[0m\u001b[0missubdtype\u001b[0m\u001b[1;33m(\u001b[0m\u001b[0mparamsdtype\u001b[0m\u001b[1;33m,\u001b[0m \u001b[0mnp\u001b[0m\u001b[1;33m.\u001b[0m\u001b[0mfloat64\u001b[0m\u001b[1;33m)\u001b[0m\u001b[1;33m:\u001b[0m\u001b[1;33m\u001b[0m\u001b[1;33m\u001b[0m\u001b[0m\n\u001b[0;32m    218\u001b[0m             loglike, sigma2 = kalman_loglike.kalman_loglike_double(\n",
      "\u001b[1;32mc:\\users\\ivanl\\appdata\\local\\programs\\python\\python37\\lib\\site-packages\\statsmodels\\tsa\\kalmanf\\kalmanfilter.py\u001b[0m in \u001b[0;36m_init_kalman_state\u001b[1;34m(cls, params, arma_model)\u001b[0m\n\u001b[0;32m    176\u001b[0m \u001b[1;33m\u001b[0m\u001b[0m\n\u001b[0;32m    177\u001b[0m         \u001b[1;32mif\u001b[0m \u001b[0mk\u001b[0m \u001b[1;33m>\u001b[0m \u001b[1;36m0\u001b[0m\u001b[1;33m:\u001b[0m\u001b[1;33m\u001b[0m\u001b[1;33m\u001b[0m\u001b[0m\n\u001b[1;32m--> 178\u001b[1;33m             \u001b[0my\u001b[0m \u001b[1;33m-=\u001b[0m \u001b[0mnp\u001b[0m\u001b[1;33m.\u001b[0m\u001b[0mdot\u001b[0m\u001b[1;33m(\u001b[0m\u001b[0marma_model\u001b[0m\u001b[1;33m.\u001b[0m\u001b[0mexog\u001b[0m\u001b[1;33m,\u001b[0m \u001b[0mnewparams\u001b[0m\u001b[1;33m[\u001b[0m\u001b[1;33m:\u001b[0m\u001b[0mk\u001b[0m\u001b[1;33m]\u001b[0m\u001b[1;33m)\u001b[0m\u001b[1;33m\u001b[0m\u001b[1;33m\u001b[0m\u001b[0m\n\u001b[0m\u001b[0;32m    179\u001b[0m \u001b[1;33m\u001b[0m\u001b[0m\n\u001b[0;32m    180\u001b[0m         \u001b[1;31m# system matrices\u001b[0m\u001b[1;33m\u001b[0m\u001b[1;33m\u001b[0m\u001b[1;33m\u001b[0m\u001b[0m\n",
      "\u001b[1;32m<__array_function__ internals>\u001b[0m in \u001b[0;36mdot\u001b[1;34m(*args, **kwargs)\u001b[0m\n",
      "\u001b[1;31mKeyboardInterrupt\u001b[0m: "
     ]
    }
   ],
   "source": [
    "res_full, info = best_lagged_model(full_industries, max_p_lag=5, max_q_lag=3, print_summ=True)"
   ]
  },
  {
   "cell_type": "code",
   "execution_count": 20,
   "metadata": {
    "scrolled": true
   },
   "outputs": [
    {
     "name": "stdout",
     "output_type": "stream",
     "text": [
      "[{'order': [1, 0], 'params': {'const': 1887.4073252210262, 'Open_Pharm_L1': 12.527741790115211, 'Volume_Pharm_L1': -0.00010118113440781313, 'Open_Semicon_L1': 32.67237926164569, 'Volume_Semicon_L1': -2.8035814344603844e-05, 'Open_Industrial_L1': 32.212343445250475, 'Volume_Industrial_L1': -0.00018360114091302553, 'Open_Energy_L1': -12.161877061733708, 'Volume_Energy_L1': 1.1991067474569911e-06, 'Open_Financial_L1': -13.44321987484409, 'Volume_Financial_L1': 1.0260076677724955e-06, 'Open_Tech_L1': -119.18472939981939, 'Volume_Tech_L1': 3.700232190106061e-06, 'Open_Utilities_L1': 2.282276780327344, 'Volume_Utilities_L1': 3.4403921064398374e-07, 'Open_Consumer_L1': 6.155465071047374, 'Volume_Consumer_L1': 8.023491859846819e-08, 'Volume_SNP500_L1': 7.178725619102518e-09, 'ar.L1.Open_SNP500': -0.05345511433851365}, 'aic': 35391.09632608301, 'bic': 35506.65217860979}, {'order': [1, 1], 'params': {'const': 1887.4073252210262, 'Open_Pharm_L1': 12.527741790115211, 'Volume_Pharm_L1': -0.00010118113440467552, 'Open_Semicon_L1': 32.67237926164569, 'Volume_Semicon_L1': -2.8035814258553902e-05, 'Open_Industrial_L1': 32.212343445250475, 'Volume_Industrial_L1': -0.00018360114091351185, 'Open_Energy_L1': -12.161877061733708, 'Volume_Energy_L1': 1.1991066881422336e-06, 'Open_Financial_L1': -13.44321987484409, 'Volume_Financial_L1': 1.026007689570702e-06, 'Open_Tech_L1': -119.18472939981939, 'Volume_Tech_L1': 3.7002322146076626e-06, 'Open_Utilities_L1': 2.282276780327344, 'Volume_Utilities_L1': 3.440392253083149e-07, 'Open_Consumer_L1': 6.155465071047374, 'Volume_Consumer_L1': 8.023491217850419e-08, 'Volume_SNP500_L1': 7.189567991720444e-09, 'ar.L1.Open_SNP500': 0.29179697515065267, 'ma.L1.Open_SNP500': -0.3583880355982416}, 'aic': 35384.60931406956, 'bic': 35505.94295922267}, {'order': [1, 2], 'params': {'const': 1887.4073252210262, 'Open_Pharm_L1': 12.527741790115211, 'Volume_Pharm_L1': -0.00010118113438539762, 'Open_Semicon_L1': 32.67237926164569, 'Volume_Semicon_L1': -2.803581416370086e-05, 'Open_Industrial_L1': 32.212343445250475, 'Volume_Industrial_L1': -0.00018360114091504215, 'Open_Energy_L1': -12.161877061733708, 'Volume_Energy_L1': 1.199106945869579e-06, 'Open_Financial_L1': -13.44321987484409, 'Volume_Financial_L1': 1.0260103440578846e-06, 'Open_Tech_L1': -119.18472939981939, 'Volume_Tech_L1': 3.7002322395617102e-06, 'Open_Utilities_L1': 2.282276780327344, 'Volume_Utilities_L1': 3.4403895869061665e-07, 'Open_Consumer_L1': 6.155465071047374, 'Volume_Consumer_L1': 8.023502437980326e-08, 'Volume_SNP500_L1': 7.792891649080723e-09, 'ar.L1.Open_SNP500': 0.207641311461256, 'ma.L1.Open_SNP500': -0.274180481201141, 'ma.L2.Open_SNP500': -0.05106013735484212}, 'aic': 35376.959689451025, 'bic': 35504.071127230476}, {'order': [1, 3], 'params': {'const': 1887.4073252210262, 'Open_Pharm_L1': 12.527741790115211, 'Volume_Pharm_L1': -0.00010118113438539762, 'Open_Semicon_L1': 32.67237926164569, 'Volume_Semicon_L1': -2.803581416370086e-05, 'Open_Industrial_L1': 32.212343445250475, 'Volume_Industrial_L1': -0.00018360114091504215, 'Open_Energy_L1': -12.161877061733708, 'Volume_Energy_L1': 1.199106945869579e-06, 'Open_Financial_L1': -13.44321987484409, 'Volume_Financial_L1': 1.0260103440578846e-06, 'Open_Tech_L1': -119.18472939981939, 'Volume_Tech_L1': 3.7002322395617102e-06, 'Open_Utilities_L1': 2.282276780327344, 'Volume_Utilities_L1': 3.4403895869061665e-07, 'Open_Consumer_L1': 6.155465071047374, 'Volume_Consumer_L1': 8.023502437980326e-08, 'Volume_SNP500_L1': 7.792891649080723e-09, 'ar.L1.Open_SNP500': 0.289904990793971, 'ma.L1.Open_SNP500': -0.3566908347530352, 'ma.L2.Open_SNP500': -0.04567654347961628, 'ma.L3.Open_SNP500': 0.04105615440857264}, 'aic': 35385.26416803746, 'bic': 35518.15339844325}, {'order': [2, 0], 'params': {'const': 1478.7456275700006, 'Open_Pharm_L1': 0.16354115215827242, 'Open_Pharm_L2': 10.858666680926708, 'Volume_Pharm_L1': -5.6990698239568596e-05, 'Volume_Pharm_L2': -7.711660177218632e-06, 'Open_Semicon_L1': 30.269202737617373, 'Open_Semicon_L2': 12.256536232242658, 'Volume_Semicon_L1': -1.6176642361678608e-05, 'Volume_Semicon_L2': 2.9517179746916166e-06, 'Open_Industrial_L1': 25.13708577786913, 'Open_Industrial_L2': -1.6735025720247498, 'Volume_Industrial_L1': -0.00010768262207719897, 'Volume_Industrial_L2': -0.00011091968581164306, 'Open_Energy_L1': -11.052280939596674, 'Open_Energy_L2': 13.269961232054127, 'Volume_Energy_L1': 8.540652605161892e-07, 'Volume_Energy_L2': 1.9454238701308484e-06, 'Open_Financial_L1': 1.3302712382958624, 'Open_Financial_L2': -52.16329610493136, 'Volume_Financial_L1': 5.217946187184016e-07, 'Volume_Financial_L2': 4.508099884747246e-07, 'Open_Tech_L1': -93.32412127801, 'Open_Tech_L2': -32.13274604612107, 'Volume_Tech_L1': 7.56762866211995e-08, 'Volume_Tech_L2': -2.830401835529276e-06, 'Open_Utilities_L1': -4.072747862150052, 'Open_Utilities_L2': 20.365549287920828, 'Volume_Utilities_L1': 2.1691731931023563e-06, 'Volume_Utilities_L2': 2.863737155463645e-07, 'Open_Consumer_L1': 3.0569012257889394, 'Open_Consumer_L2': 4.788162961637043, 'Volume_Consumer_L1': 3.2506991348954607e-07, 'Volume_Consumer_L2': 2.1414605157785916e-06, 'Volume_SNP500_L1': 1.6732223507820434e-08, 'Volume_SNP500_L2': -3.201664213913343e-08, 'ar.L1.Open_SNP500': -0.023263508725676004, 'ar.L2.Open_SNP500': 0.06226883892544605}, 'aic': 35060.813962335254, 'bic': 35280.35415923625}, {'order': [2, 1], 'params': {'const': 1478.7456275700006, 'Open_Pharm_L1': 0.16354115215827242, 'Open_Pharm_L2': 10.858666680926708, 'Volume_Pharm_L1': -5.699069824317167e-05, 'Volume_Pharm_L2': -7.711660173506264e-06, 'Open_Semicon_L1': 30.269202737617373, 'Open_Semicon_L2': 12.256536232242658, 'Volume_Semicon_L1': -1.6176642410444653e-05, 'Volume_Semicon_L2': 2.9517179937429538e-06, 'Open_Industrial_L1': 25.13708577786913, 'Open_Industrial_L2': -1.6735025720247498, 'Volume_Industrial_L1': -0.00010768262207686511, 'Volume_Industrial_L2': -0.00011091968581177917, 'Open_Energy_L1': -11.052280939596674, 'Open_Energy_L2': 13.269961232054127, 'Volume_Energy_L1': 8.540652502173578e-07, 'Volume_Energy_L2': 1.9454238945906684e-06, 'Open_Financial_L1': 1.3302712382958624, 'Open_Financial_L2': -52.16329610493136, 'Volume_Financial_L1': 5.217942884330503e-07, 'Volume_Financial_L2': 4.5081019952340837e-07, 'Open_Tech_L1': -93.32412127801, 'Open_Tech_L2': -32.13274604612107, 'Volume_Tech_L1': 7.567627501045943e-08, 'Volume_Tech_L2': -2.8304018516275465e-06, 'Open_Utilities_L1': -4.072747862150052, 'Open_Utilities_L2': 20.365549287920828, 'Volume_Utilities_L1': 2.169173216033035e-06, 'Volume_Utilities_L2': 2.863736615937261e-07, 'Open_Consumer_L1': 3.0569012257889394, 'Open_Consumer_L2': 4.788162961637043, 'Volume_Consumer_L1': 3.2506990465919657e-07, 'Volume_Consumer_L2': 2.1414605310387893e-06, 'Volume_SNP500_L1': 1.665159217484338e-08, 'Volume_SNP500_L2': -3.208824802369368e-08, 'ar.L1.Open_SNP500': 0.16126975652628167, 'ar.L2.Open_SNP500': 0.06690813043324376, 'ma.L1.Open_SNP500': -0.18771802491061892}, 'aic': 35064.38041060598, 'bic': 35289.69798110964}, {'order': [2, 2], 'params': {'const': 1478.7456275700006, 'Open_Pharm_L1': 0.163541152158273, 'Open_Pharm_L2': 10.858666680926708, 'Volume_Pharm_L1': -5.699069651284089e-05, 'Volume_Pharm_L2': -7.711653498434718e-06, 'Open_Semicon_L1': 30.269202737617373, 'Open_Semicon_L2': 12.256536232242658, 'Volume_Semicon_L1': -1.617659289471268e-05, 'Volume_Semicon_L2': 2.9518299835101814e-06, 'Open_Industrial_L1': 25.13708577786913, 'Open_Industrial_L2': -1.6735025720247498, 'Volume_Industrial_L1': -0.00010768261998862233, 'Volume_Industrial_L2': -0.0001109196847399161, 'Open_Energy_L1': -11.052280939596674, 'Open_Energy_L2': 13.269961232054127, 'Volume_Energy_L1': 8.542844922098298e-07, 'Volume_Energy_L2': 1.9456956458032672e-06, 'Open_Financial_L1': 1.3302712382958624, 'Open_Financial_L2': -52.16329610493136, 'Volume_Financial_L1': 5.226804877080844e-07, 'Volume_Financial_L2': 4.523060372698367e-07, 'Open_Tech_L1': -93.32412127801, 'Open_Tech_L2': -32.13274604612107, 'Volume_Tech_L1': 7.583352982171963e-08, 'Volume_Tech_L2': -2.8302208627801166e-06, 'Open_Utilities_L1': -4.072747862150052, 'Open_Utilities_L2': 20.365549287920828, 'Volume_Utilities_L1': 2.1693485739064557e-06, 'Volume_Utilities_L2': 2.8649932522688907e-07, 'Open_Consumer_L1': 3.0569012257889394, 'Open_Consumer_L2': 4.788162961637043, 'Volume_Consumer_L1': 3.251641957837937e-07, 'Volume_Consumer_L2': 2.141570744593502e-06, 'Volume_SNP500_L1': 1.106541493698148e-08, 'Volume_SNP500_L2': -2.9237932825409396e-08, 'ar.L1.Open_SNP500': 0.39851860941251516, 'ar.L2.Open_SNP500': -0.7890392505349668, 'ma.L1.Open_SNP500': -0.42797442760867904, 'ma.L2.Open_SNP500': 0.8805927159004616}, 'aic': 35058.9119010846, 'bic': 35290.00684519091}, {'order': [3, 0], 'params': {'const': 1641.675950065346, 'Open_Pharm_L1': -2.6518764040094793, 'Open_Pharm_L2': 4.449992426382537, 'Open_Pharm_L3': -17.2810010015675, 'Volume_Pharm_L1': -5.2410410553614584e-05, 'Volume_Pharm_L2': 5.622566944494373e-06, 'Volume_Pharm_L3': -3.246212587997885e-05, 'Open_Semicon_L1': 28.129505121403678, 'Open_Semicon_L2': 10.545196429805355, 'Open_Semicon_L3': -23.203075299184654, 'Volume_Semicon_L1': -1.4851712359659695e-05, 'Volume_Semicon_L2': 4.4174927201177565e-06, 'Volume_Semicon_L3': -6.292182922713956e-07, 'Open_Industrial_L1': 25.00898175944747, 'Open_Industrial_L2': 2.1144935330288224, 'Open_Industrial_L3': 11.936585600219566, 'Volume_Industrial_L1': -7.984734432760806e-05, 'Volume_Industrial_L2': -6.941374718515019e-05, 'Volume_Industrial_L3': -2.508532278604959e-05, 'Open_Energy_L1': -12.214709919579885, 'Open_Energy_L2': 9.1375338706335, 'Open_Energy_L3': 8.16593151595189, 'Volume_Energy_L1': -1.1236534412835707e-06, 'Volume_Energy_L2': 1.4030855199263026e-06, 'Volume_Energy_L3': -4.498301179900787e-06, 'Open_Financial_L1': 5.201643656283388, 'Open_Financial_L2': -62.61939206398495, 'Open_Financial_L3': -13.35302301587728, 'Volume_Financial_L1': 4.829983884097777e-07, 'Volume_Financial_L2': 2.464878452917053e-07, 'Volume_Financial_L3': -2.3639527007809753e-08, 'Open_Tech_L1': -82.06833017926232, 'Open_Tech_L2': -26.806289355264155, 'Open_Tech_L3': 28.976275750832226, 'Volume_Tech_L1': 1.431528010962199e-06, 'Volume_Tech_L2': -3.0243231545742997e-06, 'Volume_Tech_L3': 2.6716994292774322e-06, 'Open_Utilities_L1': -7.097492429718782, 'Open_Utilities_L2': 19.41217697107814, 'Open_Utilities_L3': 2.2954230649383214, 'Volume_Utilities_L1': 2.413442780957105e-06, 'Volume_Utilities_L2': 1.1029759118392856e-06, 'Volume_Utilities_L3': 8.405658194567019e-07, 'Open_Consumer_L1': -1.1425526684914449, 'Open_Consumer_L2': 4.892832679609216, 'Open_Consumer_L3': -3.4801770550768127, 'Volume_Consumer_L1': -3.0562680507562323e-07, 'Volume_Consumer_L2': 3.1505389649259138e-06, 'Volume_Consumer_L3': 1.0265698647653847e-06, 'Volume_SNP500_L1': 1.073631086731047e-08, 'Volume_SNP500_L2': -2.7577765005113133e-08, 'Volume_SNP500_L3': 2.4509540456744694e-08, 'ar.L1.Open_SNP500': -0.059648097348696395, 'ar.L2.Open_SNP500': -0.0009270976645165876, 'ar.L3.Open_SNP500': 0.03531082028075085}, 'aic': 34857.57171525698, 'bic': 35181.08116184304}, {'order': [3, 1], 'params': {'const': 1641.675950065346, 'Open_Pharm_L1': -2.6518764040094793, 'Open_Pharm_L2': 4.449992426382537, 'Open_Pharm_L3': -17.2810010015675, 'Volume_Pharm_L1': -5.2410410553614584e-05, 'Volume_Pharm_L2': 5.622566944494373e-06, 'Volume_Pharm_L3': -3.246212587997885e-05, 'Open_Semicon_L1': 28.129505121403678, 'Open_Semicon_L2': 10.545196429805355, 'Open_Semicon_L3': -23.203075299184654, 'Volume_Semicon_L1': -1.4851712359659695e-05, 'Volume_Semicon_L2': 4.4174927201177565e-06, 'Volume_Semicon_L3': -6.292182922713956e-07, 'Open_Industrial_L1': 25.00898175944747, 'Open_Industrial_L2': 2.1144935330288224, 'Open_Industrial_L3': 11.936585600219566, 'Volume_Industrial_L1': -7.984734432760806e-05, 'Volume_Industrial_L2': -6.941374718515019e-05, 'Volume_Industrial_L3': -2.508532278604959e-05, 'Open_Energy_L1': -12.214709919579885, 'Open_Energy_L2': 9.1375338706335, 'Open_Energy_L3': 8.16593151595189, 'Volume_Energy_L1': -1.1236534412835707e-06, 'Volume_Energy_L2': 1.4030855199263026e-06, 'Volume_Energy_L3': -4.498301179900787e-06, 'Open_Financial_L1': 5.201643656283388, 'Open_Financial_L2': -62.61939206398495, 'Open_Financial_L3': -13.35302301587728, 'Volume_Financial_L1': 4.829983884097777e-07, 'Volume_Financial_L2': 2.464878452917053e-07, 'Volume_Financial_L3': -2.3639527007809753e-08, 'Open_Tech_L1': -82.06833017926232, 'Open_Tech_L2': -26.806289355264155, 'Open_Tech_L3': 28.976275750832226, 'Volume_Tech_L1': 1.431528010962199e-06, 'Volume_Tech_L2': -3.0243231545742997e-06, 'Volume_Tech_L3': 2.6716994292774322e-06, 'Open_Utilities_L1': -7.097492429718782, 'Open_Utilities_L2': 19.41217697107814, 'Open_Utilities_L3': 2.2954230649383214, 'Volume_Utilities_L1': 2.413442780957105e-06, 'Volume_Utilities_L2': 1.1029759118392856e-06, 'Volume_Utilities_L3': 8.405658194567019e-07, 'Open_Consumer_L1': -1.1425526684914449, 'Open_Consumer_L2': 4.892832679609216, 'Open_Consumer_L3': -3.4801770550768127, 'Volume_Consumer_L1': -3.0562680507562323e-07, 'Volume_Consumer_L2': 3.1505389649259138e-06, 'Volume_Consumer_L3': 1.0265698647653847e-06, 'Volume_SNP500_L1': 1.073631086731047e-08, 'Volume_SNP500_L2': -2.7577765005113133e-08, 'Volume_SNP500_L3': 2.4509540456744694e-08, 'ar.L1.Open_SNP500': -0.029615164642214357, 'ar.L2.Open_SNP500': 0.0009240571469728682, 'ar.L3.Open_SNP500': 0.03527370561620949, 'ma.L1.Open_SNP500': -0.02956012863623631}, 'aic': 34859.98469125105, 'bic': 35189.27109224043}, {'order': [3, 2], 'params': {'const': 1641.675950065346, 'Open_Pharm_L1': -2.6518764040094793, 'Open_Pharm_L2': 4.449992426382537, 'Open_Pharm_L3': -17.2810010015675, 'Volume_Pharm_L1': -5.2410410553614584e-05, 'Volume_Pharm_L2': 5.622566944494373e-06, 'Volume_Pharm_L3': -3.246212587997885e-05, 'Open_Semicon_L1': 28.129505121403678, 'Open_Semicon_L2': 10.545196429805355, 'Open_Semicon_L3': -23.203075299184654, 'Volume_Semicon_L1': -1.4851712359659695e-05, 'Volume_Semicon_L2': 4.4174927201177565e-06, 'Volume_Semicon_L3': -6.292182922713956e-07, 'Open_Industrial_L1': 25.00898175944747, 'Open_Industrial_L2': 2.1144935330288224, 'Open_Industrial_L3': 11.936585600219566, 'Volume_Industrial_L1': -7.984734432760806e-05, 'Volume_Industrial_L2': -6.941374718515019e-05, 'Volume_Industrial_L3': -2.508532278604959e-05, 'Open_Energy_L1': -12.214709919579885, 'Open_Energy_L2': 9.1375338706335, 'Open_Energy_L3': 8.16593151595189, 'Volume_Energy_L1': -1.1236534412835707e-06, 'Volume_Energy_L2': 1.4030855199263026e-06, 'Volume_Energy_L3': -4.498301179900787e-06, 'Open_Financial_L1': 5.201643656283388, 'Open_Financial_L2': -62.61939206398495, 'Open_Financial_L3': -13.35302301587728, 'Volume_Financial_L1': 4.829983884097777e-07, 'Volume_Financial_L2': 2.464878452917053e-07, 'Volume_Financial_L3': -2.3639527007809753e-08, 'Open_Tech_L1': -82.06833017926232, 'Open_Tech_L2': -26.806289355264155, 'Open_Tech_L3': 28.976275750832226, 'Volume_Tech_L1': 1.431528010962199e-06, 'Volume_Tech_L2': -3.0243231545742997e-06, 'Volume_Tech_L3': 2.6716994292774322e-06, 'Open_Utilities_L1': -7.097492429718782, 'Open_Utilities_L2': 19.41217697107814, 'Open_Utilities_L3': 2.2954230649383214, 'Volume_Utilities_L1': 2.413442780957105e-06, 'Volume_Utilities_L2': 1.1029759118392856e-06, 'Volume_Utilities_L3': 8.405658194567019e-07, 'Open_Consumer_L1': -1.1425526684914449, 'Open_Consumer_L2': 4.892832679609216, 'Open_Consumer_L3': -3.4801770550768127, 'Volume_Consumer_L1': -3.0562680507562323e-07, 'Volume_Consumer_L2': 3.1505389649259138e-06, 'Volume_Consumer_L3': 1.0265698647653847e-06, 'Volume_SNP500_L1': 1.073631086731047e-08, 'Volume_SNP500_L2': -2.7577765005113133e-08, 'Volume_SNP500_L3': 2.4509540456744694e-08, 'ar.L1.Open_SNP500': -0.029570243815166743, 'ar.L2.Open_SNP500': -0.0005843884803465697, 'ar.L3.Open_SNP500': 0.03518370461511072, 'ma.L1.Open_SNP500': -0.02960504946328405, 'ma.L2.Open_SNP500': 0.0015111210710558845}, 'aic': 34861.972343681926, 'bic': 35197.03569907463}, {'order': [4, 0], 'params': {'const': 2016.8821623411907, 'Open_Pharm_L1': -2.3627108113101833, 'Open_Pharm_L2': 4.024583336242518, 'Open_Pharm_L3': -11.71477856842159, 'Open_Pharm_L4': -14.877237586355989, 'Volume_Pharm_L1': -6.732836213539595e-05, 'Volume_Pharm_L2': 7.382990891764486e-06, 'Volume_Pharm_L3': -1.1265541827522012e-05, 'Volume_Pharm_L4': -8.441367341110647e-05, 'Open_Semicon_L1': 23.326513190236163, 'Open_Semicon_L2': 14.410694097577315, 'Open_Semicon_L3': -20.878807733854284, 'Open_Semicon_L4': -7.440642740959579, 'Volume_Semicon_L1': -1.3437330425735395e-05, 'Volume_Semicon_L2': 3.427646669005551e-06, 'Volume_Semicon_L3': 1.494337967966044e-06, 'Volume_Semicon_L4': -1.329650857892632e-05, 'Open_Industrial_L1': 20.783355970896036, 'Open_Industrial_L2': 0.5892942387273301, 'Open_Industrial_L3': 17.75026151335787, 'Open_Industrial_L4': -7.56330868462641, 'Volume_Industrial_L1': -7.54811065241354e-05, 'Volume_Industrial_L2': -8.519915449764238e-05, 'Volume_Industrial_L3': 1.0026552330399138e-05, 'Volume_Industrial_L4': -0.00021681547062325112, 'Open_Energy_L1': -9.175255241500071, 'Open_Energy_L2': 5.803408847089722, 'Open_Energy_L3': 4.024362976566925, 'Open_Energy_L4': 3.9744581244286046, 'Volume_Energy_L1': -1.3524407226016976e-06, 'Volume_Energy_L2': -6.306303552482779e-07, 'Volume_Energy_L3': -3.7125097437130157e-06, 'Volume_Energy_L4': -2.7831440546338716e-06, 'Open_Financial_L1': 3.60770622917083, 'Open_Financial_L2': -53.64176248891992, 'Open_Financial_L3': -42.93461111198034, 'Open_Financial_L4': -3.265090469227161, 'Volume_Financial_L1': 3.7133403331067876e-07, 'Volume_Financial_L2': 4.919496350884913e-07, 'Volume_Financial_L3': -2.4024688642203796e-08, 'Volume_Financial_L4': 4.6253146383855914e-07, 'Open_Tech_L1': -65.37776082560568, 'Open_Tech_L2': -29.11577758041647, 'Open_Tech_L3': 27.817468914697777, 'Open_Tech_L4': 29.639524463540447, 'Volume_Tech_L1': 1.8290816552316813e-06, 'Volume_Tech_L2': -1.569767946291881e-06, 'Volume_Tech_L3': 2.4653595955176856e-06, 'Volume_Tech_L4': 4.0796448248184285e-06, 'Open_Utilities_L1': -7.7272097254733225, 'Open_Utilities_L2': 20.15220153650802, 'Open_Utilities_L3': 3.879068234591017, 'Open_Utilities_L4': 15.011560820885677, 'Volume_Utilities_L1': 2.8136631887036524e-06, 'Volume_Utilities_L2': 7.052491019674689e-07, 'Volume_Utilities_L3': 1.1501765740238736e-06, 'Volume_Utilities_L4': 3.99628379461422e-06, 'Open_Consumer_L1': -3.535679252714015, 'Open_Consumer_L2': 3.2002601905908428, 'Open_Consumer_L3': -6.426331191752258, 'Open_Consumer_L4': -5.633437456080639, 'Volume_Consumer_L1': 1.1943879905970623e-06, 'Volume_Consumer_L2': 2.291923415493858e-06, 'Volume_Consumer_L3': -5.0183179386993e-07, 'Volume_Consumer_L4': -4.249653458079299e-06, 'Volume_SNP500_L1': 5.842004101512811e-10, 'Volume_SNP500_L2': -3.783037480774689e-08, 'Volume_SNP500_L3': 2.1538291579127445e-08, 'Volume_SNP500_L4': 4.682870522213703e-08, 'ar.L1.Open_SNP500': 0.006858714314111572, 'ar.L2.Open_SNP500': -0.02431929567987984, 'ar.L3.Open_SNP500': -0.03170998013119199, 'ar.L4.Open_SNP500': -0.016707176548245044}, 'aic': 34540.0332372108, 'bic': 34967.49682929651}, {'order': [4, 1], 'params': {'const': 2016.8821623411907, 'Open_Pharm_L1': -2.3627108113101833, 'Open_Pharm_L2': 4.024583336242518, 'Open_Pharm_L3': -11.71477856842159, 'Open_Pharm_L4': -14.877237586355989, 'Volume_Pharm_L1': -6.732836213539595e-05, 'Volume_Pharm_L2': 7.382990891764486e-06, 'Volume_Pharm_L3': -1.1265541827522012e-05, 'Volume_Pharm_L4': -8.441367341110647e-05, 'Open_Semicon_L1': 23.326513190236163, 'Open_Semicon_L2': 14.410694097577315, 'Open_Semicon_L3': -20.878807733854284, 'Open_Semicon_L4': -7.440642740959579, 'Volume_Semicon_L1': -1.3437330425735395e-05, 'Volume_Semicon_L2': 3.427646669005551e-06, 'Volume_Semicon_L3': 1.494337967966044e-06, 'Volume_Semicon_L4': -1.329650857892632e-05, 'Open_Industrial_L1': 20.783355970896036, 'Open_Industrial_L2': 0.5892942387273301, 'Open_Industrial_L3': 17.75026151335787, 'Open_Industrial_L4': -7.56330868462641, 'Volume_Industrial_L1': -7.54811065241354e-05, 'Volume_Industrial_L2': -8.519915449764238e-05, 'Volume_Industrial_L3': 1.0026552330399138e-05, 'Volume_Industrial_L4': -0.00021681547062325112, 'Open_Energy_L1': -9.175255241500071, 'Open_Energy_L2': 5.803408847089722, 'Open_Energy_L3': 4.024362976566925, 'Open_Energy_L4': 3.9744581244286046, 'Volume_Energy_L1': -1.3524407226016976e-06, 'Volume_Energy_L2': -6.306303552482779e-07, 'Volume_Energy_L3': -3.7125097437130157e-06, 'Volume_Energy_L4': -2.7831440546338716e-06, 'Open_Financial_L1': 3.60770622917083, 'Open_Financial_L2': -53.64176248891992, 'Open_Financial_L3': -42.93461111198034, 'Open_Financial_L4': -3.265090469227161, 'Volume_Financial_L1': 3.7133403331067876e-07, 'Volume_Financial_L2': 4.919496350884913e-07, 'Volume_Financial_L3': -2.4024688642203796e-08, 'Volume_Financial_L4': 4.6253146383855914e-07, 'Open_Tech_L1': -65.37776082560568, 'Open_Tech_L2': -29.11577758041647, 'Open_Tech_L3': 27.817468914697777, 'Open_Tech_L4': 29.639524463540447, 'Volume_Tech_L1': 1.8290816552316813e-06, 'Volume_Tech_L2': -1.569767946291881e-06, 'Volume_Tech_L3': 2.4653595955176856e-06, 'Volume_Tech_L4': 4.0796448248184285e-06, 'Open_Utilities_L1': -7.7272097254733225, 'Open_Utilities_L2': 20.15220153650802, 'Open_Utilities_L3': 3.879068234591017, 'Open_Utilities_L4': 15.011560820885677, 'Volume_Utilities_L1': 2.8136631887036524e-06, 'Volume_Utilities_L2': 7.052491019674689e-07, 'Volume_Utilities_L3': 1.1501765740238736e-06, 'Volume_Utilities_L4': 3.99628379461422e-06, 'Open_Consumer_L1': -3.535679252714015, 'Open_Consumer_L2': 3.2002601905908428, 'Open_Consumer_L3': -6.426331191752258, 'Open_Consumer_L4': -5.633437456080639, 'Volume_Consumer_L1': 1.1943879905970623e-06, 'Volume_Consumer_L2': 2.291923415493858e-06, 'Volume_Consumer_L3': -5.0183179386993e-07, 'Volume_Consumer_L4': -4.249653458079299e-06, 'Volume_SNP500_L1': 5.842004101512811e-10, 'Volume_SNP500_L2': -3.783037480774689e-08, 'Volume_SNP500_L3': 2.1538291579127445e-08, 'Volume_SNP500_L4': 4.682870522213703e-08, 'ar.L1.Open_SNP500': 0.0039776516526049115, 'ar.L2.Open_SNP500': -0.024748387735602114, 'ar.L3.Open_SNP500': -0.03167800579559752, 'ar.L4.Open_SNP500': -0.016660933464306964, 'ma.L1.Open_SNP500': 0.003977651652604899}, 'aic': 34542.04029922608, 'bic': 34975.280426339974}, {'order': [4, 2], 'params': {'const': 2016.8821623411907, 'Open_Pharm_L1': -2.3627108113101833, 'Open_Pharm_L2': 4.024583336242518, 'Open_Pharm_L3': -11.71477856842159, 'Open_Pharm_L4': -14.877237586355989, 'Volume_Pharm_L1': -6.732836213539595e-05, 'Volume_Pharm_L2': 7.382990891764486e-06, 'Volume_Pharm_L3': -1.1265541827522012e-05, 'Volume_Pharm_L4': -8.441367341110647e-05, 'Open_Semicon_L1': 23.326513190236163, 'Open_Semicon_L2': 14.410694097577315, 'Open_Semicon_L3': -20.878807733854284, 'Open_Semicon_L4': -7.440642740959579, 'Volume_Semicon_L1': -1.3437330425735395e-05, 'Volume_Semicon_L2': 3.427646669005551e-06, 'Volume_Semicon_L3': 1.494337967966044e-06, 'Volume_Semicon_L4': -1.329650857892632e-05, 'Open_Industrial_L1': 20.783355970896036, 'Open_Industrial_L2': 0.5892942387273301, 'Open_Industrial_L3': 17.75026151335787, 'Open_Industrial_L4': -7.56330868462641, 'Volume_Industrial_L1': -7.54811065241354e-05, 'Volume_Industrial_L2': -8.519915449764238e-05, 'Volume_Industrial_L3': 1.0026552330399138e-05, 'Volume_Industrial_L4': -0.00021681547062325112, 'Open_Energy_L1': -9.175255241500071, 'Open_Energy_L2': 5.803408847089722, 'Open_Energy_L3': 4.024362976566925, 'Open_Energy_L4': 3.9744581244286046, 'Volume_Energy_L1': -1.3524407226016976e-06, 'Volume_Energy_L2': -6.306303552482779e-07, 'Volume_Energy_L3': -3.7125097437130157e-06, 'Volume_Energy_L4': -2.7831440546338716e-06, 'Open_Financial_L1': 3.60770622917083, 'Open_Financial_L2': -53.64176248891992, 'Open_Financial_L3': -42.93461111198034, 'Open_Financial_L4': -3.265090469227161, 'Volume_Financial_L1': 3.7133403331067876e-07, 'Volume_Financial_L2': 4.919496350884913e-07, 'Volume_Financial_L3': -2.4024688642203796e-08, 'Volume_Financial_L4': 4.6253146383855914e-07, 'Open_Tech_L1': -65.37776082560568, 'Open_Tech_L2': -29.11577758041647, 'Open_Tech_L3': 27.817468914697777, 'Open_Tech_L4': 29.639524463540447, 'Volume_Tech_L1': 1.8290816552316813e-06, 'Volume_Tech_L2': -1.569767946291881e-06, 'Volume_Tech_L3': 2.4653595955176856e-06, 'Volume_Tech_L4': 4.0796448248184285e-06, 'Open_Utilities_L1': -7.7272097254733225, 'Open_Utilities_L2': 20.15220153650802, 'Open_Utilities_L3': 3.879068234591017, 'Open_Utilities_L4': 15.011560820885677, 'Volume_Utilities_L1': 2.8136631887036524e-06, 'Volume_Utilities_L2': 7.052491019674689e-07, 'Volume_Utilities_L3': 1.1501765740238736e-06, 'Volume_Utilities_L4': 3.99628379461422e-06, 'Open_Consumer_L1': -3.535679252714015, 'Open_Consumer_L2': 3.2002601905908428, 'Open_Consumer_L3': -6.426331191752258, 'Open_Consumer_L4': -5.633437456080639, 'Volume_Consumer_L1': 1.1943879905970623e-06, 'Volume_Consumer_L2': 2.291923415493858e-06, 'Volume_Consumer_L3': -5.0183179386993e-07, 'Volume_Consumer_L4': -4.249653458079299e-06, 'Volume_SNP500_L1': 5.842004101512811e-10, 'Volume_SNP500_L2': -3.783037480774689e-08, 'Volume_SNP500_L3': 2.1538291579127445e-08, 'Volume_SNP500_L4': 4.682870522213703e-08, 'ar.L1.Open_SNP500': 0.003977651652604904, 'ar.L2.Open_SNP500': -0.012374193867801062, 'ar.L3.Open_SNP500': -0.031678005795597514, 'ar.L4.Open_SNP500': -0.016660933464306967, 'ma.L1.Open_SNP500': 0.003977651652604896, 'ma.L2.Open_SNP500': -0.012374193867800979}, 'aic': 34544.073947709556, 'bic': 34983.090609851635}, {'order': [4, 3], 'params': {'const': 2016.8821623411907, 'Open_Pharm_L1': -2.3627108113101833, 'Open_Pharm_L2': 4.024583336242518, 'Open_Pharm_L3': -11.71477856842159, 'Open_Pharm_L4': -14.877237586355989, 'Volume_Pharm_L1': -6.732836213539595e-05, 'Volume_Pharm_L2': 7.382990891764486e-06, 'Volume_Pharm_L3': -1.1265541827522012e-05, 'Volume_Pharm_L4': -8.441367341110647e-05, 'Open_Semicon_L1': 23.326513190236163, 'Open_Semicon_L2': 14.410694097577315, 'Open_Semicon_L3': -20.878807733854284, 'Open_Semicon_L4': -7.440642740959579, 'Volume_Semicon_L1': -1.3437330425735395e-05, 'Volume_Semicon_L2': 3.427646669005551e-06, 'Volume_Semicon_L3': 1.494337967966044e-06, 'Volume_Semicon_L4': -1.329650857892632e-05, 'Open_Industrial_L1': 20.783355970896036, 'Open_Industrial_L2': 0.5892942387273301, 'Open_Industrial_L3': 17.75026151335787, 'Open_Industrial_L4': -7.56330868462641, 'Volume_Industrial_L1': -7.54811065241354e-05, 'Volume_Industrial_L2': -8.519915449764238e-05, 'Volume_Industrial_L3': 1.0026552330399138e-05, 'Volume_Industrial_L4': -0.00021681547062325112, 'Open_Energy_L1': -9.175255241500071, 'Open_Energy_L2': 5.803408847089722, 'Open_Energy_L3': 4.024362976566925, 'Open_Energy_L4': 3.9744581244286046, 'Volume_Energy_L1': -1.3524407226016976e-06, 'Volume_Energy_L2': -6.306303552482779e-07, 'Volume_Energy_L3': -3.7125097437130157e-06, 'Volume_Energy_L4': -2.7831440546338716e-06, 'Open_Financial_L1': 3.60770622917083, 'Open_Financial_L2': -53.64176248891992, 'Open_Financial_L3': -42.93461111198034, 'Open_Financial_L4': -3.265090469227161, 'Volume_Financial_L1': 3.7133403331067876e-07, 'Volume_Financial_L2': 4.919496350884913e-07, 'Volume_Financial_L3': -2.4024688642203796e-08, 'Volume_Financial_L4': 4.6253146383855914e-07, 'Open_Tech_L1': -65.37776082560568, 'Open_Tech_L2': -29.11577758041647, 'Open_Tech_L3': 27.817468914697777, 'Open_Tech_L4': 29.639524463540447, 'Volume_Tech_L1': 1.8290816552316813e-06, 'Volume_Tech_L2': -1.569767946291881e-06, 'Volume_Tech_L3': 2.4653595955176856e-06, 'Volume_Tech_L4': 4.0796448248184285e-06, 'Open_Utilities_L1': -7.7272097254733225, 'Open_Utilities_L2': 20.15220153650802, 'Open_Utilities_L3': 3.879068234591017, 'Open_Utilities_L4': 15.011560820885677, 'Volume_Utilities_L1': 2.8136631887036524e-06, 'Volume_Utilities_L2': 7.052491019674689e-07, 'Volume_Utilities_L3': 1.1501765740238736e-06, 'Volume_Utilities_L4': 3.99628379461422e-06, 'Open_Consumer_L1': -3.535679252714015, 'Open_Consumer_L2': 3.2002601905908428, 'Open_Consumer_L3': -6.426331191752258, 'Open_Consumer_L4': -5.633437456080639, 'Volume_Consumer_L1': 1.1943879905970623e-06, 'Volume_Consumer_L2': 2.291923415493858e-06, 'Volume_Consumer_L3': -5.0183179386993e-07, 'Volume_Consumer_L4': -4.249653458079299e-06, 'Volume_SNP500_L1': 5.842004101512811e-10, 'Volume_SNP500_L2': -3.783037480774689e-08, 'Volume_SNP500_L3': 2.1538291579127445e-08, 'Volume_SNP500_L4': 4.682870522213703e-08, 'ar.L1.Open_SNP500': 0.003977651652604896, 'ar.L2.Open_SNP500': -0.012374193867801036, 'ar.L3.Open_SNP500': -0.01583900289779876, 'ar.L4.Open_SNP500': -0.016660933464306974, 'ma.L1.Open_SNP500': 0.003977651652604938, 'ma.L2.Open_SNP500': -0.012374193867801064, 'ma.L3.Open_SNP500': -0.015839002897798816}, 'aic': 34546.217525995606, 'bic': 34991.01072316587}, {'order': [5, 0], 'params': {'const': 1052.2348566409084, 'Open_Pharm_L1': -0.7062798075480453, 'Open_Pharm_L2': 5.278635491645489, 'Open_Pharm_L3': -11.580138506878361, 'Open_Pharm_L4': -19.669790478172217, 'Open_Pharm_L5': -0.1734727359568664, 'Volume_Pharm_L1': -6.605209207458518e-05, 'Volume_Pharm_L2': 4.83535053011074e-06, 'Volume_Pharm_L3': -7.361065378260036e-06, 'Volume_Pharm_L4': -6.99652927486237e-05, 'Volume_Pharm_L5': 2.3148311962195323e-05, 'Open_Semicon_L1': 25.429570716732048, 'Open_Semicon_L2': 14.785406057278543, 'Open_Semicon_L3': -22.26652569805818, 'Open_Semicon_L4': -9.946202710806551, 'Open_Semicon_L5': -12.29500236556502, 'Volume_Semicon_L1': -1.2985624247321893e-05, 'Volume_Semicon_L2': 4.810761425607735e-06, 'Volume_Semicon_L3': 2.7459001789234563e-06, 'Volume_Semicon_L4': -1.1076785996121946e-05, 'Volume_Semicon_L5': -6.92325928405322e-06, 'Open_Industrial_L1': 20.904778551343682, 'Open_Industrial_L2': 2.476743990432747, 'Open_Industrial_L3': 21.426446122452226, 'Open_Industrial_L4': -10.753191782223865, 'Open_Industrial_L5': -7.96443150217963, 'Volume_Industrial_L1': -6.004722066183469e-05, 'Volume_Industrial_L2': -7.83897905828608e-05, 'Volume_Industrial_L3': 1.2561593696496059e-05, 'Volume_Industrial_L4': -0.00019911053707342746, 'Volume_Industrial_L5': 8.985978714201035e-05, 'Open_Energy_L1': -9.071414447197801, 'Open_Energy_L2': 5.452641781290176, 'Open_Energy_L3': 3.12436724300222, 'Open_Energy_L4': 3.6426522901347975, 'Open_Energy_L5': 4.001110198832198, 'Volume_Energy_L1': -2.463675727473752e-06, 'Volume_Energy_L2': -1.0881194817059503e-06, 'Volume_Energy_L3': -3.383676776988845e-06, 'Volume_Energy_L4': -2.948696944058297e-06, 'Volume_Energy_L5': -3.2193632624797484e-06, 'Open_Financial_L1': 11.43436295037647, 'Open_Financial_L2': -57.81915374245481, 'Open_Financial_L3': -49.28412080248252, 'Open_Financial_L4': 4.855043499278331, 'Open_Financial_L5': 73.02709793704335, 'Volume_Financial_L1': 4.6676910081204954e-07, 'Volume_Financial_L2': 5.762342373780208e-07, 'Volume_Financial_L3': 1.8719575235044342e-08, 'Volume_Financial_L4': 3.4647294943941164e-07, 'Volume_Financial_L5': -1.5421343902302867e-07, 'Open_Tech_L1': -70.36427137671048, 'Open_Tech_L2': -30.134356262237, 'Open_Tech_L3': 29.13483028450907, 'Open_Tech_L4': 39.7467409247914, 'Open_Tech_L5': 2.463215635825862, 'Volume_Tech_L1': 1.969224763510925e-06, 'Volume_Tech_L2': -1.9388555223309963e-06, 'Volume_Tech_L3': 2.451613709782938e-06, 'Volume_Tech_L4': 2.6015783133729975e-06, 'Volume_Tech_L5': -5.144832518916296e-07, 'Open_Utilities_L1': -2.8246206623736745, 'Open_Utilities_L2': 22.357114548408642, 'Open_Utilities_L3': 0.5455316246163443, 'Open_Utilities_L4': 18.542622084499033, 'Open_Utilities_L5': 21.336458533367015, 'Volume_Utilities_L1': 2.6230781556698137e-06, 'Volume_Utilities_L2': 1.1299017931566196e-06, 'Volume_Utilities_L3': 6.663372734100885e-07, 'Volume_Utilities_L4': 3.901754761517924e-06, 'Volume_Utilities_L5': 5.350850154647618e-07, 'Open_Consumer_L1': -6.234273792303909, 'Open_Consumer_L2': 0.694977563320883, 'Open_Consumer_L3': -7.669457095912884, 'Open_Consumer_L4': -7.398006252115158, 'Open_Consumer_L5': -4.211302124478689, 'Volume_Consumer_L1': 6.060065548863479e-07, 'Volume_Consumer_L2': 1.7493296412852553e-06, 'Volume_Consumer_L3': -7.838477510260856e-07, 'Volume_Consumer_L4': -3.22093457885546e-06, 'Volume_Consumer_L5': 4.869086808488429e-06, 'Volume_SNP500_L1': 2.488551235784864e-09, 'Volume_SNP500_L2': -3.8563489794698646e-08, 'Volume_SNP500_L3': 2.7470994233736088e-08, 'Volume_SNP500_L4': 4.6697623354492296e-08, 'Volume_SNP500_L5': 1.7271481306706895e-08, 'ar.L1.Open_SNP500': 0.0002565061852572946, 'ar.L2.Open_SNP500': 0.007783150219298626, 'ar.L3.Open_SNP500': -0.0008817584778785567, 'ar.L4.Open_SNP500': 0.009731827217425692, 'ar.L5.Open_SNP500': 0.01978789834372184}, 'aic': 34442.821508734865, 'bic': 34974.22413262795}, {'order': [5, 1], 'params': {'const': 1052.2348566409084, 'Open_Pharm_L1': -0.7062798075480453, 'Open_Pharm_L2': 5.278635491645489, 'Open_Pharm_L3': -11.580138506878361, 'Open_Pharm_L4': -19.669790478172217, 'Open_Pharm_L5': -0.1734727359568664, 'Volume_Pharm_L1': -6.605209207458518e-05, 'Volume_Pharm_L2': 4.83535053011074e-06, 'Volume_Pharm_L3': -7.361065378260036e-06, 'Volume_Pharm_L4': -6.99652927486237e-05, 'Volume_Pharm_L5': 2.3148311962195323e-05, 'Open_Semicon_L1': 25.429570716732048, 'Open_Semicon_L2': 14.785406057278543, 'Open_Semicon_L3': -22.26652569805818, 'Open_Semicon_L4': -9.946202710806551, 'Open_Semicon_L5': -12.29500236556502, 'Volume_Semicon_L1': -1.2985624247321893e-05, 'Volume_Semicon_L2': 4.810761425607735e-06, 'Volume_Semicon_L3': 2.7459001789234563e-06, 'Volume_Semicon_L4': -1.1076785996121946e-05, 'Volume_Semicon_L5': -6.92325928405322e-06, 'Open_Industrial_L1': 20.904778551343682, 'Open_Industrial_L2': 2.476743990432747, 'Open_Industrial_L3': 21.426446122452226, 'Open_Industrial_L4': -10.753191782223865, 'Open_Industrial_L5': -7.96443150217963, 'Volume_Industrial_L1': -6.004722066183469e-05, 'Volume_Industrial_L2': -7.83897905828608e-05, 'Volume_Industrial_L3': 1.2561593696496059e-05, 'Volume_Industrial_L4': -0.00019911053707342746, 'Volume_Industrial_L5': 8.985978714201035e-05, 'Open_Energy_L1': -9.071414447197801, 'Open_Energy_L2': 5.452641781290176, 'Open_Energy_L3': 3.12436724300222, 'Open_Energy_L4': 3.6426522901347975, 'Open_Energy_L5': 4.001110198832198, 'Volume_Energy_L1': -2.463675727473752e-06, 'Volume_Energy_L2': -1.0881194817059503e-06, 'Volume_Energy_L3': -3.383676776988845e-06, 'Volume_Energy_L4': -2.948696944058297e-06, 'Volume_Energy_L5': -3.2193632624797484e-06, 'Open_Financial_L1': 11.43436295037647, 'Open_Financial_L2': -57.81915374245481, 'Open_Financial_L3': -49.28412080248252, 'Open_Financial_L4': 4.855043499278331, 'Open_Financial_L5': 73.02709793704335, 'Volume_Financial_L1': 4.6676910081204954e-07, 'Volume_Financial_L2': 5.762342373780208e-07, 'Volume_Financial_L3': 1.8719575235044342e-08, 'Volume_Financial_L4': 3.4647294943941164e-07, 'Volume_Financial_L5': -1.5421343902302867e-07, 'Open_Tech_L1': -70.36427137671048, 'Open_Tech_L2': -30.134356262237, 'Open_Tech_L3': 29.13483028450907, 'Open_Tech_L4': 39.7467409247914, 'Open_Tech_L5': 2.463215635825862, 'Volume_Tech_L1': 1.969224763510925e-06, 'Volume_Tech_L2': -1.9388555223309963e-06, 'Volume_Tech_L3': 2.451613709782938e-06, 'Volume_Tech_L4': 2.6015783133729975e-06, 'Volume_Tech_L5': -5.144832518916296e-07, 'Open_Utilities_L1': -2.8246206623736745, 'Open_Utilities_L2': 22.357114548408642, 'Open_Utilities_L3': 0.5455316246163443, 'Open_Utilities_L4': 18.542622084499033, 'Open_Utilities_L5': 21.336458533367015, 'Volume_Utilities_L1': 2.6230781556698137e-06, 'Volume_Utilities_L2': 1.1299017931566196e-06, 'Volume_Utilities_L3': 6.663372734100885e-07, 'Volume_Utilities_L4': 3.901754761517924e-06, 'Volume_Utilities_L5': 5.350850154647618e-07, 'Open_Consumer_L1': -6.234273792303909, 'Open_Consumer_L2': 0.694977563320883, 'Open_Consumer_L3': -7.669457095912884, 'Open_Consumer_L4': -7.398006252115158, 'Open_Consumer_L5': -4.211302124478689, 'Volume_Consumer_L1': 6.060065548863479e-07, 'Volume_Consumer_L2': 1.7493296412852553e-06, 'Volume_Consumer_L3': -7.838477510260856e-07, 'Volume_Consumer_L4': -3.22093457885546e-06, 'Volume_Consumer_L5': 4.869086808488429e-06, 'Volume_SNP500_L1': 2.488551235784864e-09, 'Volume_SNP500_L2': -3.8563489794698646e-08, 'Volume_SNP500_L3': 2.7470994233736088e-08, 'Volume_SNP500_L4': 4.6697623354492296e-08, 'Volume_SNP500_L5': 1.7271481306706895e-08, 'ar.L1.Open_SNP500': 0.00036027297024286784, 'ar.L2.Open_SNP500': 0.007333740525521832, 'ar.L3.Open_SNP500': -0.0005835938960772355, 'ar.L4.Open_SNP500': 0.010025972726916335, 'ar.L5.Open_SNP500': 0.01975346833871106, 'ma.L1.Open_SNP500': 0.0003602729702427483}, 'aic': 34444.82492190601, 'bic': 34982.00366127619}, {'order': [5, 2], 'params': {'const': 1052.2348566409084, 'Open_Pharm_L1': -0.7062798075480453, 'Open_Pharm_L2': 5.278635491645489, 'Open_Pharm_L3': -11.580138506878361, 'Open_Pharm_L4': -19.669790478172217, 'Open_Pharm_L5': -0.1734727359568664, 'Volume_Pharm_L1': -6.605209207458518e-05, 'Volume_Pharm_L2': 4.83535053011074e-06, 'Volume_Pharm_L3': -7.361065378260036e-06, 'Volume_Pharm_L4': -6.99652927486237e-05, 'Volume_Pharm_L5': 2.3148311962195323e-05, 'Open_Semicon_L1': 25.429570716732048, 'Open_Semicon_L2': 14.785406057278543, 'Open_Semicon_L3': -22.26652569805818, 'Open_Semicon_L4': -9.946202710806551, 'Open_Semicon_L5': -12.29500236556502, 'Volume_Semicon_L1': -1.2985624247321893e-05, 'Volume_Semicon_L2': 4.810761425607735e-06, 'Volume_Semicon_L3': 2.7459001789234563e-06, 'Volume_Semicon_L4': -1.1076785996121946e-05, 'Volume_Semicon_L5': -6.92325928405322e-06, 'Open_Industrial_L1': 20.904778551343682, 'Open_Industrial_L2': 2.476743990432747, 'Open_Industrial_L3': 21.426446122452226, 'Open_Industrial_L4': -10.753191782223865, 'Open_Industrial_L5': -7.96443150217963, 'Volume_Industrial_L1': -6.004722066183469e-05, 'Volume_Industrial_L2': -7.83897905828608e-05, 'Volume_Industrial_L3': 1.2561593696496059e-05, 'Volume_Industrial_L4': -0.00019911053707342746, 'Volume_Industrial_L5': 8.985978714201035e-05, 'Open_Energy_L1': -9.071414447197801, 'Open_Energy_L2': 5.452641781290176, 'Open_Energy_L3': 3.12436724300222, 'Open_Energy_L4': 3.6426522901347975, 'Open_Energy_L5': 4.001110198832198, 'Volume_Energy_L1': -2.463675727473752e-06, 'Volume_Energy_L2': -1.0881194817059503e-06, 'Volume_Energy_L3': -3.383676776988845e-06, 'Volume_Energy_L4': -2.948696944058297e-06, 'Volume_Energy_L5': -3.2193632624797484e-06, 'Open_Financial_L1': 11.43436295037647, 'Open_Financial_L2': -57.81915374245481, 'Open_Financial_L3': -49.28412080248252, 'Open_Financial_L4': 4.855043499278331, 'Open_Financial_L5': 73.02709793704335, 'Volume_Financial_L1': 4.6676910081204954e-07, 'Volume_Financial_L2': 5.762342373780208e-07, 'Volume_Financial_L3': 1.8719575235044342e-08, 'Volume_Financial_L4': 3.4647294943941164e-07, 'Volume_Financial_L5': -1.5421343902302867e-07, 'Open_Tech_L1': -70.36427137671048, 'Open_Tech_L2': -30.134356262237, 'Open_Tech_L3': 29.13483028450907, 'Open_Tech_L4': 39.7467409247914, 'Open_Tech_L5': 2.463215635825862, 'Volume_Tech_L1': 1.969224763510925e-06, 'Volume_Tech_L2': -1.9388555223309963e-06, 'Volume_Tech_L3': 2.451613709782938e-06, 'Volume_Tech_L4': 2.6015783133729975e-06, 'Volume_Tech_L5': -5.144832518916296e-07, 'Open_Utilities_L1': -2.8246206623736745, 'Open_Utilities_L2': 22.357114548408642, 'Open_Utilities_L3': 0.5455316246163443, 'Open_Utilities_L4': 18.542622084499033, 'Open_Utilities_L5': 21.336458533367015, 'Volume_Utilities_L1': 2.6230781556698137e-06, 'Volume_Utilities_L2': 1.1299017931566196e-06, 'Volume_Utilities_L3': 6.663372734100885e-07, 'Volume_Utilities_L4': 3.901754761517924e-06, 'Volume_Utilities_L5': 5.350850154647618e-07, 'Open_Consumer_L1': -6.234273792303909, 'Open_Consumer_L2': 0.694977563320883, 'Open_Consumer_L3': -7.669457095912884, 'Open_Consumer_L4': -7.398006252115158, 'Open_Consumer_L5': -4.211302124478689, 'Volume_Consumer_L1': 6.060065548863479e-07, 'Volume_Consumer_L2': 1.7493296412852553e-06, 'Volume_Consumer_L3': -7.838477510260856e-07, 'Volume_Consumer_L4': -3.22093457885546e-06, 'Volume_Consumer_L5': 4.869086808488429e-06, 'Volume_SNP500_L1': 2.488551235784864e-09, 'Volume_SNP500_L2': -3.8563489794698646e-08, 'Volume_SNP500_L3': 2.7470994233736088e-08, 'Volume_SNP500_L4': 4.6697623354492296e-08, 'Volume_SNP500_L5': 1.7271481306706895e-08, 'ar.L1.Open_SNP500': 0.00036027297024286605, 'ar.L2.Open_SNP500': 0.0036668702627609003, 'ar.L3.Open_SNP500': -0.0005835938960772533, 'ar.L4.Open_SNP500': 0.010025972726916342, 'ar.L5.Open_SNP500': 0.019753468338711073, 'ma.L1.Open_SNP500': 0.0003602729702428856, 'ma.L2.Open_SNP500': 0.003666870262760926}, 'aic': 34446.844988620694, 'bic': 34989.799843467976}, {'order': [5, 3], 'params': {'const': 1052.2348566409084, 'Open_Pharm_L1': -0.7062798075480453, 'Open_Pharm_L2': 5.278635491645489, 'Open_Pharm_L3': -11.580138506878361, 'Open_Pharm_L4': -19.669790478172217, 'Open_Pharm_L5': -0.1734727359568664, 'Volume_Pharm_L1': -6.605209207458518e-05, 'Volume_Pharm_L2': 4.83535053011074e-06, 'Volume_Pharm_L3': -7.361065378260036e-06, 'Volume_Pharm_L4': -6.99652927486237e-05, 'Volume_Pharm_L5': 2.3148311962195323e-05, 'Open_Semicon_L1': 25.429570716732048, 'Open_Semicon_L2': 14.785406057278543, 'Open_Semicon_L3': -22.26652569805818, 'Open_Semicon_L4': -9.946202710806551, 'Open_Semicon_L5': -12.29500236556502, 'Volume_Semicon_L1': -1.2985624247321893e-05, 'Volume_Semicon_L2': 4.810761425607735e-06, 'Volume_Semicon_L3': 2.7459001789234563e-06, 'Volume_Semicon_L4': -1.1076785996121946e-05, 'Volume_Semicon_L5': -6.92325928405322e-06, 'Open_Industrial_L1': 20.904778551343682, 'Open_Industrial_L2': 2.476743990432747, 'Open_Industrial_L3': 21.426446122452226, 'Open_Industrial_L4': -10.753191782223865, 'Open_Industrial_L5': -7.96443150217963, 'Volume_Industrial_L1': -6.004722066183469e-05, 'Volume_Industrial_L2': -7.83897905828608e-05, 'Volume_Industrial_L3': 1.2561593696496059e-05, 'Volume_Industrial_L4': -0.00019911053707342746, 'Volume_Industrial_L5': 8.985978714201035e-05, 'Open_Energy_L1': -9.071414447197801, 'Open_Energy_L2': 5.452641781290176, 'Open_Energy_L3': 3.12436724300222, 'Open_Energy_L4': 3.6426522901347975, 'Open_Energy_L5': 4.001110198832198, 'Volume_Energy_L1': -2.463675727473752e-06, 'Volume_Energy_L2': -1.0881194817059503e-06, 'Volume_Energy_L3': -3.383676776988845e-06, 'Volume_Energy_L4': -2.948696944058297e-06, 'Volume_Energy_L5': -3.2193632624797484e-06, 'Open_Financial_L1': 11.43436295037647, 'Open_Financial_L2': -57.81915374245481, 'Open_Financial_L3': -49.28412080248252, 'Open_Financial_L4': 4.855043499278331, 'Open_Financial_L5': 73.02709793704335, 'Volume_Financial_L1': 4.6676910081204954e-07, 'Volume_Financial_L2': 5.762342373780208e-07, 'Volume_Financial_L3': 1.8719575235044342e-08, 'Volume_Financial_L4': 3.4647294943941164e-07, 'Volume_Financial_L5': -1.5421343902302867e-07, 'Open_Tech_L1': -70.36427137671048, 'Open_Tech_L2': -30.134356262237, 'Open_Tech_L3': 29.13483028450907, 'Open_Tech_L4': 39.7467409247914, 'Open_Tech_L5': 2.463215635825862, 'Volume_Tech_L1': 1.969224763510925e-06, 'Volume_Tech_L2': -1.9388555223309963e-06, 'Volume_Tech_L3': 2.451613709782938e-06, 'Volume_Tech_L4': 2.6015783133729975e-06, 'Volume_Tech_L5': -5.144832518916296e-07, 'Open_Utilities_L1': -2.8246206623736745, 'Open_Utilities_L2': 22.357114548408642, 'Open_Utilities_L3': 0.5455316246163443, 'Open_Utilities_L4': 18.542622084499033, 'Open_Utilities_L5': 21.336458533367015, 'Volume_Utilities_L1': 2.6230781556698137e-06, 'Volume_Utilities_L2': 1.1299017931566196e-06, 'Volume_Utilities_L3': 6.663372734100885e-07, 'Volume_Utilities_L4': 3.901754761517924e-06, 'Volume_Utilities_L5': 5.350850154647618e-07, 'Open_Consumer_L1': -6.234273792303909, 'Open_Consumer_L2': 0.694977563320883, 'Open_Consumer_L3': -7.669457095912884, 'Open_Consumer_L4': -7.398006252115158, 'Open_Consumer_L5': -4.211302124478689, 'Volume_Consumer_L1': 6.060065548863479e-07, 'Volume_Consumer_L2': 1.7493296412852553e-06, 'Volume_Consumer_L3': -7.838477510260856e-07, 'Volume_Consumer_L4': -3.22093457885546e-06, 'Volume_Consumer_L5': 4.869086808488429e-06, 'Volume_SNP500_L1': 2.488551235784864e-09, 'Volume_SNP500_L2': -3.8563489794698646e-08, 'Volume_SNP500_L3': 2.7470994233736088e-08, 'Volume_SNP500_L4': 4.6697623354492296e-08, 'Volume_SNP500_L5': 1.7271481306706895e-08, 'ar.L1.Open_SNP500': 0.0003602729702428607, 'ar.L2.Open_SNP500': 0.003666870262760893, 'ar.L3.Open_SNP500': -0.000291796948038626, 'ar.L4.Open_SNP500': 0.010025972726916358, 'ar.L5.Open_SNP500': 0.0197534683387111, 'ma.L1.Open_SNP500': 0.0003602729702428515, 'ma.L2.Open_SNP500': 0.0036668702627609146, 'ma.L3.Open_SNP500': -0.00029179694803864047}, 'aic': 34448.845216910115, 'bic': 34997.576187234496}]\n"
     ]
    }
   ],
   "source": [
    "import json\n",
    "# with open('./arma_adl_full.json', 'w') as fout:\n",
    "#     json.dump(info , fout)\n",
    "    \n",
    "## To load it:\n",
    "with open('./arma_adl_full.json', 'r') as fin:\n",
    "    info = json.load(fin)  ## a list of fict\n",
    "\n",
    "print(info)"
   ]
  },
  {
   "cell_type": "code",
   "execution_count": null,
   "metadata": {
    "scrolled": true
   },
   "outputs": [],
   "source": [
    "print(res_full.summary())"
   ]
  },
  {
   "cell_type": "markdown",
   "metadata": {},
   "source": [
    "Seems like **ARMA(4,0)** fits the full model the best.\n",
    "\n",
    "The full model has some variables where p-values are not significant. We remove some of those that have the highest p-values (> 0.5). And recompute the ARMA model after removing those variables."
   ]
  },
  {
   "cell_type": "code",
   "execution_count": 21,
   "metadata": {
    "scrolled": true
   },
   "outputs": [
    {
     "name": "stderr",
     "output_type": "stream",
     "text": [
      "c:\\users\\ivanl\\appdata\\local\\programs\\python\\python37\\lib\\site-packages\\statsmodels\\tsa\\base\\tsa_model.py:218: ValueWarning: A date index has been provided, but it has no associated frequency information and so will be ignored when e.g. forecasting.\n",
      "  ' ignored when e.g. forecasting.', ValueWarning)\n",
      "c:\\users\\ivanl\\appdata\\local\\programs\\python\\python37\\lib\\site-packages\\statsmodels\\tsa\\base\\tsa_model.py:222: ValueWarning: A date index has been provided, but it is not monotonic and so will be ignored when e.g. forecasting.\n",
      "  ' forecasting.', ValueWarning)\n",
      "c:\\users\\ivanl\\appdata\\local\\programs\\python\\python37\\lib\\site-packages\\statsmodels\\base\\model.py:548: HessianInversionWarning: Inverting hessian failed, no bse or cov_params available\n",
      "  'available', HessianInversionWarning)\n",
      "c:\\users\\ivanl\\appdata\\local\\programs\\python\\python37\\lib\\site-packages\\statsmodels\\base\\model.py:568: ConvergenceWarning: Maximum Likelihood optimization failed to converge. Check mle_retvals\n",
      "  \"Check mle_retvals\", ConvergenceWarning)\n"
     ]
    },
    {
     "name": "stdout",
     "output_type": "stream",
     "text": [
      "                              ARMA Model Results                              \n",
      "==============================================================================\n",
      "Dep. Variable:            Open_SNP500   No. Observations:                 2384\n",
      "Model:                     ARMA(4, 0)   Log Likelihood              -17197.382\n",
      "Method:                       css-mle   S.D. of innovations            328.562\n",
      "Date:                Fri, 10 Apr 2020   AIC                          34524.764\n",
      "Time:                        16:32:00   BIC                          34900.238\n",
      "Sample:                             0   HQIC                         34661.408\n",
      "                                                                              \n",
      "========================================================================================\n",
      "                           coef    std err          z      P>|z|      [0.025      0.975]\n",
      "----------------------------------------------------------------------------------------\n",
      "const                 2045.7850    248.734      8.225      0.000    1558.276    2533.294\n",
      "Open_Pharm_L2            4.2995      2.088      2.059      0.039       0.207       8.392\n",
      "Open_Pharm_L3          -11.5238      1.984     -5.808      0.000     -15.413      -7.635\n",
      "Open_Pharm_L4          -14.9207      1.119    -13.336      0.000     -17.114     -12.728\n",
      "Volume_Pharm_L1      -6.652e-05   2.04e-05     -3.268      0.001      -0.000   -2.66e-05\n",
      "Volume_Pharm_L3       -7.93e-06   1.98e-05     -0.401      0.689   -4.67e-05    3.09e-05\n",
      "Volume_Pharm_L4      -8.511e-05   2.05e-05     -4.158      0.000      -0.000    -4.5e-05\n",
      "Open_Semicon_L1         24.4886      2.629      9.314      0.000      19.336      29.642\n",
      "Open_Semicon_L2         14.8717      2.227      6.678      0.000      10.507      19.236\n",
      "Open_Semicon_L3        -20.8699      3.770     -5.536      0.000     -28.258     -13.482\n",
      "Open_Semicon_L4         -7.4041      3.646     -2.031      0.042     -14.551      -0.257\n",
      "Volume_Semicon_L1    -1.377e-05   2.17e-06     -6.353      0.000    -1.8e-05   -9.52e-06\n",
      "Volume_Semicon_L2     3.131e-06   2.16e-06      1.448      0.148   -1.11e-06    7.37e-06\n",
      "Volume_Semicon_L4    -1.364e-05   2.28e-06     -5.991      0.000   -1.81e-05   -9.18e-06\n",
      "Open_Industrial_L1      20.0676        nan        nan        nan         nan         nan\n",
      "Open_Industrial_L3      17.8883        nan        nan        nan         nan         nan\n",
      "Open_Industrial_L4      -7.6945        nan        nan        nan         nan         nan\n",
      "Volume_Industrial_L1 -7.434e-05   5.79e-05     -1.283      0.199      -0.000    3.92e-05\n",
      "Volume_Industrial_L2 -9.061e-05   5.65e-05     -1.605      0.109      -0.000    2.01e-05\n",
      "Volume_Industrial_L4    -0.0002   5.75e-05     -3.771      0.000      -0.000      -0.000\n",
      "Open_Energy_L1          -9.3448      1.596     -5.854      0.000     -12.474      -6.216\n",
      "Open_Energy_L2           5.5297        nan        nan        nan         nan         nan\n",
      "Open_Energy_L3           3.8410      1.517      2.532      0.011       0.867       6.815\n",
      "Open_Energy_L4           4.0118      1.618      2.479      0.013       0.840       7.184\n",
      "Volume_Energy_L1     -1.645e-06        nan        nan        nan         nan         nan\n",
      "Volume_Energy_L2     -7.228e-07        nan        nan        nan         nan         nan\n",
      "Volume_Energy_L3     -3.668e-06        nan        nan        nan         nan         nan\n",
      "Volume_Energy_L4     -2.788e-06        nan        nan        nan         nan         nan\n",
      "Open_Financial_L1        3.1832        nan        nan        nan         nan         nan\n",
      "Open_Financial_L2      -52.6112        nan        nan        nan         nan         nan\n",
      "Open_Financial_L3      -42.9202        nan        nan        nan         nan         nan\n",
      "Open_Financial_L4       -3.0597        nan        nan        nan         nan         nan\n",
      "Volume_Financial_L1   4.401e-07        nan        nan        nan         nan         nan\n",
      "Volume_Financial_L2   4.687e-07   2.29e-07      2.049      0.040    2.04e-08    9.17e-07\n",
      "Volume_Financial_L3  -1.326e-08   2.37e-07     -0.056      0.955   -4.78e-07    4.51e-07\n",
      "Volume_Financial_L4   4.501e-07   2.28e-07      1.970      0.049    2.33e-09    8.98e-07\n",
      "Open_Tech_L1           -65.1778      7.604     -8.571      0.000     -80.082     -50.274\n",
      "Open_Tech_L2           -29.4944      7.739     -3.811      0.000     -44.663     -14.325\n",
      "Open_Tech_L3            27.9997      8.280      3.382      0.001      11.772      44.228\n",
      "Open_Tech_L4            29.7262      8.262      3.598      0.000      13.533      45.919\n",
      "Volume_Tech_L1        1.881e-06   1.88e-06      1.000      0.317    -1.8e-06    5.57e-06\n",
      "Volume_Tech_L3        2.931e-06   1.17e-06      2.502      0.012    6.35e-07    5.23e-06\n",
      "Volume_Tech_L4        4.144e-06   1.63e-06      2.542      0.011    9.49e-07    7.34e-06\n",
      "Open_Utilities_L1       -7.9872        nan        nan        nan         nan         nan\n",
      "Open_Utilities_L2       19.9369      3.544      5.626      0.000      12.991      26.883\n",
      "Open_Utilities_L3        3.4414      0.905      3.802      0.000       1.667       5.216\n",
      "Open_Utilities_L4       14.8315      1.141     12.997      0.000      12.595      17.068\n",
      "Volume_Utilities_L1   2.811e-06   1.43e-06      1.960      0.050   -1.34e-10    5.62e-06\n",
      "Volume_Utilities_L4   4.029e-06   1.43e-06      2.824      0.005    1.23e-06    6.83e-06\n",
      "Open_Consumer_L1        -4.6592      4.273     -1.090      0.276     -13.034       3.716\n",
      "Open_Consumer_L2         3.2647      3.633      0.899      0.369      -3.856      10.386\n",
      "Open_Consumer_L3        -6.4336      4.361     -1.475      0.140     -14.982       2.115\n",
      "Open_Consumer_L4        -5.4662      4.128     -1.324      0.185     -13.558       2.625\n",
      "Volume_Consumer_L1    1.066e-06    2.5e-06      0.427      0.670   -3.83e-06    5.97e-06\n",
      "Volume_Consumer_L2    1.425e-06   8.18e-07      1.743      0.081   -1.77e-07    3.03e-06\n",
      "Volume_Consumer_L4   -4.322e-06    1.2e-06     -3.604      0.000   -6.67e-06   -1.97e-06\n",
      "Volume_SNP500_L1      3.808e-10        nan        nan        nan         nan         nan\n",
      "Volume_SNP500_L2     -3.717e-08        nan        nan        nan         nan         nan\n",
      "Volume_SNP500_L3      2.492e-08        nan        nan        nan         nan         nan\n",
      "Volume_SNP500_L4      4.661e-08        nan        nan        nan         nan         nan\n",
      "ar.L1.Open_SNP500        0.0057      0.027      0.213      0.832      -0.047       0.058\n",
      "ar.L2.Open_SNP500       -0.0251      0.022     -1.123      0.261      -0.069       0.019\n",
      "ar.L3.Open_SNP500       -0.0337      0.017     -1.931      0.054      -0.068       0.001\n",
      "ar.L4.Open_SNP500       -0.0192      0.016     -1.183      0.237      -0.051       0.013\n",
      "                                    Roots                                    \n",
      "=============================================================================\n",
      "                  Real          Imaginary           Modulus         Frequency\n",
      "-----------------------------------------------------------------------------\n",
      "AR.1            1.4536           -1.8846j            2.3800           -0.1454\n",
      "AR.2            1.4536           +1.8846j            2.3800            0.1454\n",
      "AR.3           -2.3280           -1.9377j            3.0289           -0.3895\n",
      "AR.4           -2.3280           +1.9377j            3.0289            0.3895\n",
      "-----------------------------------------------------------------------------\n"
     ]
    }
   ],
   "source": [
    "to_remove = [\"Volume_Pharm_L2\", \"Volume_Semicon_L3\", \"Volume_Industrial_L3\", \"Volume_Tech_L2\", \"Volume_Utilities_L2\", \"Volume_Utilities_L3\", \"Volume_Consumer_L3\", \"Open_Industrial_L2\", \"Open_Pharm_L1\"]\n",
    "res_full2 = lagged_df_exog(full_industries, order=[4,0], remove_vars=to_remove)\n",
    "print(res_full2.summary())"
   ]
  },
  {
   "cell_type": "markdown",
   "metadata": {},
   "source": [
    "**Evaluation:**\n",
    "\n",
    "Looking at the AIC's and BIC's of all of the models being compared to determine the best ARMA+exogeneous variables, it seems like adding MA components increases AIC and BIC, hence ARMA(4,0)+exogeneous variables is the best model in the subset of models. There might be some correlation between the endogeneous variables and exogeneous variables, and not much random error. Hence, adding random errors actually lowers the effectiveness of the model in predicting daily percentage change in SNP500.\n",
    "\n",
    "Let's take variable `res_full2` as the final model for ARMA with exogeneous variables. This models behaves similar to an ADL model, since there are no lags. involved."
   ]
  },
  {
   "cell_type": "code",
   "execution_count": 76,
   "metadata": {
    "scrolled": true
   },
   "outputs": [],
   "source": [
    "## lag the variables in psuedo_OOB\n",
    "lagged_fulldf = build_and_model_VAR(full_df, full_industries)\n",
    "lagged_fulldf = lagged_fulldf.drop(\"Open_SNP500\", axis=1)\n",
    "lagged_fulldf = data_prep.get_lagged_df(full_df,col2lag=list(full_df.columns), n=4)\n",
    "psuedo_OOB = lagged_fulldf[list(res_full2.params.keys()[1:-4])]"
   ]
  },
  {
   "cell_type": "code",
   "execution_count": 92,
   "metadata": {},
   "outputs": [
    {
     "data": {
      "text/plain": [
       "4"
      ]
     },
     "execution_count": 92,
     "metadata": {},
     "output_type": "execute_result"
    }
   ],
   "source": [
    "res_full2.k_ar"
   ]
  },
  {
   "cell_type": "code",
   "execution_count": 99,
   "metadata": {
    "scrolled": true
   },
   "outputs": [
    {
     "name": "stdout",
     "output_type": "stream",
     "text": [
      "2388\n",
      "2515\n",
      "[array([1612.29576514, 1487.36898557, 1815.38061957, 1698.22249401,\n",
      "       1509.19688439]), array([328.56245949, 328.56782425, 328.67084622, 328.85995441,\n",
      "       328.91920303]), array([[ 968.32517786, 2256.26635242],\n",
      "       [ 843.38788356, 2131.35008758],\n",
      "       [1171.19759822, 2459.56364092],\n",
      "       [1053.6688274 , 2342.77616062],\n",
      "       [ 864.52709262, 2153.86667616]])]\n"
     ]
    },
    {
     "data": {
      "text/plain": [
       "{'forecast': [1612.295765141546,\n",
       "  1487.3689855737637,\n",
       "  1815.3806195698853,\n",
       "  1698.222494011235,\n",
       "  1509.196884391794],\n",
       " 'sd': [328.56245949217015,\n",
       "  328.567824250597,\n",
       "  328.67084621725013,\n",
       "  328.8599544128435,\n",
       "  328.91920303409614],\n",
       " 'conf interval': [[968.3251778649922, 2256.2663524181],\n",
       "  [843.3878835639073, 2131.35008758362],\n",
       "  [1171.1975982157724, 2459.5636409239983],\n",
       "  [1053.6688274045778, 2342.7761606178924],\n",
       "  [864.5270926213478, 2153.86667616224]]}"
      ]
     },
     "execution_count": 99,
     "metadata": {},
     "output_type": "execute_result"
    }
   ],
   "source": [
    "var_to_drop = to_remove + [\"Open_SNP500\"]\n",
    "print(idx_psuedo_OOB)\n",
    "print(idx_OOB)\n",
    "steps = idx_OOB-idx_psuedo_OOB\n",
    "\n",
    "exog_data = psuedo_OOB.iloc[:5].reset_index(drop=True)\n",
    "res2 = list(res_full2.forecast(steps=5, exog=exog_data))\n",
    "print(res2)\n",
    "nice_result = {\n",
    "    \"forecast\": res2[0].tolist(),\n",
    "    \"sd\": res2[1].tolist(),\n",
    "    \"conf interval\": res2[2].tolist(),\n",
    "}\n",
    "nice_result"
   ]
  },
  {
   "cell_type": "code",
   "execution_count": 107,
   "metadata": {},
   "outputs": [
    {
     "ename": "NameError",
     "evalue": "name 'build_and_model_VAR' is not defined",
     "output_type": "error",
     "traceback": [
      "\u001b[1;31m---------------------------------------------------------------------------\u001b[0m",
      "\u001b[1;31mNameError\u001b[0m                                 Traceback (most recent call last)",
      "\u001b[1;32m<ipython-input-107-f2f8edb8e2b0>\u001b[0m in \u001b[0;36m<module>\u001b[1;34m\u001b[0m\n\u001b[0;32m      1\u001b[0m \u001b[1;32mimport\u001b[0m \u001b[0meval_utils\u001b[0m\u001b[1;33m\u001b[0m\u001b[1;33m\u001b[0m\u001b[0m\n\u001b[1;32m----> 2\u001b[1;33m \u001b[0meval_utils\u001b[0m\u001b[1;33m.\u001b[0m\u001b[0mforecast_ARMA_ADL\u001b[0m\u001b[1;33m(\u001b[0m\u001b[0mfull_df\u001b[0m\u001b[1;33m,\u001b[0m \u001b[0mres_full2\u001b[0m\u001b[1;33m,\u001b[0m \u001b[0msteps\u001b[0m\u001b[1;33m=\u001b[0m\u001b[1;36m5\u001b[0m\u001b[1;33m)\u001b[0m\u001b[1;33m\u001b[0m\u001b[1;33m\u001b[0m\u001b[0m\n\u001b[0m",
      "\u001b[1;32m~\\Desktop\\Ivan\\uni\\y3s2\\EC4304\\Project\\EC4304-forecasting\\eval_utils.py\u001b[0m in \u001b[0;36mforecast_ARMA_ADL\u001b[1;34m(full_df, model, steps)\u001b[0m\n\u001b[0;32m      5\u001b[0m \u001b[1;33m\u001b[0m\u001b[0m\n\u001b[0;32m      6\u001b[0m \u001b[1;32mdef\u001b[0m \u001b[0mbuild_and_model_VAR\u001b[0m\u001b[1;33m(\u001b[0m\u001b[0mmain_df\u001b[0m\u001b[1;33m:\u001b[0m\u001b[0mpd\u001b[0m\u001b[1;33m.\u001b[0m\u001b[0mDataFrame\u001b[0m\u001b[1;33m,\u001b[0m \u001b[0mvar2add\u001b[0m\u001b[1;33m:\u001b[0m\u001b[0mlist\u001b[0m \u001b[1;33m)\u001b[0m\u001b[1;33m:\u001b[0m\u001b[1;33m\u001b[0m\u001b[1;33m\u001b[0m\u001b[0m\n\u001b[1;32m----> 7\u001b[1;33m     \u001b[0mtemp_df\u001b[0m \u001b[1;33m=\u001b[0m \u001b[0mpd\u001b[0m\u001b[1;33m.\u001b[0m\u001b[0mDataFrame\u001b[0m\u001b[1;33m(\u001b[0m\u001b[1;33m)\u001b[0m\u001b[1;33m\u001b[0m\u001b[1;33m\u001b[0m\u001b[0m\n\u001b[0m\u001b[0;32m      8\u001b[0m     \u001b[1;32mfor\u001b[0m \u001b[0mvar\u001b[0m \u001b[1;32min\u001b[0m \u001b[0mvar2add\u001b[0m\u001b[1;33m:\u001b[0m\u001b[1;33m\u001b[0m\u001b[1;33m\u001b[0m\u001b[0m\n\u001b[0;32m      9\u001b[0m         \u001b[1;32mfor\u001b[0m \u001b[0mcol\u001b[0m \u001b[1;32min\u001b[0m \u001b[0mmain_df\u001b[0m\u001b[1;33m.\u001b[0m\u001b[0mcolumns\u001b[0m\u001b[1;33m:\u001b[0m\u001b[1;33m\u001b[0m\u001b[1;33m\u001b[0m\u001b[0m\n",
      "\u001b[1;31mNameError\u001b[0m: name 'build_and_model_VAR' is not defined"
     ]
    }
   ],
   "source": [
    "import eval_utils\n",
    "eval_utils.forecast_ARMA_ADL(full_df, res_full2, steps=5)"
   ]
  },
  {
   "cell_type": "code",
   "execution_count": 108,
   "metadata": {},
   "outputs": [
    {
     "data": {
      "text/html": [
       "<div>\n",
       "<style scoped>\n",
       "    .dataframe tbody tr th:only-of-type {\n",
       "        vertical-align: middle;\n",
       "    }\n",
       "\n",
       "    .dataframe tbody tr th {\n",
       "        vertical-align: top;\n",
       "    }\n",
       "\n",
       "    .dataframe thead th {\n",
       "        text-align: right;\n",
       "    }\n",
       "</style>\n",
       "<table border=\"1\" class=\"dataframe\">\n",
       "  <thead>\n",
       "    <tr style=\"text-align: right;\">\n",
       "      <th></th>\n",
       "      <th>Open_Pharm_L2</th>\n",
       "      <th>Open_Pharm_L3</th>\n",
       "      <th>Open_Pharm_L4</th>\n",
       "      <th>Volume_Pharm_L1</th>\n",
       "      <th>Volume_Pharm_L3</th>\n",
       "      <th>Volume_Pharm_L4</th>\n",
       "      <th>Open_Semicon_L1</th>\n",
       "      <th>Open_Semicon_L2</th>\n",
       "      <th>Open_Semicon_L3</th>\n",
       "      <th>Open_Semicon_L4</th>\n",
       "      <th>...</th>\n",
       "      <th>Open_Consumer_L2</th>\n",
       "      <th>Open_Consumer_L3</th>\n",
       "      <th>Open_Consumer_L4</th>\n",
       "      <th>Volume_Consumer_L1</th>\n",
       "      <th>Volume_Consumer_L2</th>\n",
       "      <th>Volume_Consumer_L4</th>\n",
       "      <th>Volume_SNP500_L1</th>\n",
       "      <th>Volume_SNP500_L2</th>\n",
       "      <th>Volume_SNP500_L3</th>\n",
       "      <th>Volume_SNP500_L4</th>\n",
       "    </tr>\n",
       "    <tr>\n",
       "      <th>Date</th>\n",
       "      <th></th>\n",
       "      <th></th>\n",
       "      <th></th>\n",
       "      <th></th>\n",
       "      <th></th>\n",
       "      <th></th>\n",
       "      <th></th>\n",
       "      <th></th>\n",
       "      <th></th>\n",
       "      <th></th>\n",
       "      <th></th>\n",
       "      <th></th>\n",
       "      <th></th>\n",
       "      <th></th>\n",
       "      <th></th>\n",
       "      <th></th>\n",
       "      <th></th>\n",
       "      <th></th>\n",
       "      <th></th>\n",
       "      <th></th>\n",
       "      <th></th>\n",
       "    </tr>\n",
       "  </thead>\n",
       "  <tbody>\n",
       "    <tr>\n",
       "      <th>16/3/2020</th>\n",
       "      <td>52.599998</td>\n",
       "      <td>57.330002</td>\n",
       "      <td>58.790001</td>\n",
       "      <td>418900.0</td>\n",
       "      <td>18000.0</td>\n",
       "      <td>34300.0</td>\n",
       "      <td>115.320000</td>\n",
       "      <td>112.940002</td>\n",
       "      <td>124.129997</td>\n",
       "      <td>125.529999</td>\n",
       "      <td>...</td>\n",
       "      <td>99.070000</td>\n",
       "      <td>110.269997</td>\n",
       "      <td>111.209999</td>\n",
       "      <td>8036900.0</td>\n",
       "      <td>9980800.0</td>\n",
       "      <td>10969600.0</td>\n",
       "      <td>8.258670e+09</td>\n",
       "      <td>8.829380e+09</td>\n",
       "      <td>7.374110e+09</td>\n",
       "      <td>7.635960e+09</td>\n",
       "    </tr>\n",
       "    <tr>\n",
       "      <th>17/3/2020</th>\n",
       "      <td>54.560001</td>\n",
       "      <td>52.599998</td>\n",
       "      <td>57.330002</td>\n",
       "      <td>67300.0</td>\n",
       "      <td>49000.0</td>\n",
       "      <td>18000.0</td>\n",
       "      <td>105.199997</td>\n",
       "      <td>115.320000</td>\n",
       "      <td>112.940002</td>\n",
       "      <td>124.129997</td>\n",
       "      <td>...</td>\n",
       "      <td>101.599998</td>\n",
       "      <td>99.070000</td>\n",
       "      <td>110.269997</td>\n",
       "      <td>8408900.0</td>\n",
       "      <td>8036900.0</td>\n",
       "      <td>7627300.0</td>\n",
       "      <td>7.781540e+09</td>\n",
       "      <td>8.258670e+09</td>\n",
       "      <td>8.829380e+09</td>\n",
       "      <td>7.374110e+09</td>\n",
       "    </tr>\n",
       "    <tr>\n",
       "      <th>18/3/2020</th>\n",
       "      <td>50.270000</td>\n",
       "      <td>54.560001</td>\n",
       "      <td>52.599998</td>\n",
       "      <td>219600.0</td>\n",
       "      <td>418900.0</td>\n",
       "      <td>49000.0</td>\n",
       "      <td>103.769997</td>\n",
       "      <td>105.199997</td>\n",
       "      <td>115.320000</td>\n",
       "      <td>112.940002</td>\n",
       "      <td>...</td>\n",
       "      <td>91.050003</td>\n",
       "      <td>101.599998</td>\n",
       "      <td>99.070000</td>\n",
       "      <td>13567000.0</td>\n",
       "      <td>8408900.0</td>\n",
       "      <td>9980800.0</td>\n",
       "      <td>8.358500e+09</td>\n",
       "      <td>7.781540e+09</td>\n",
       "      <td>8.258670e+09</td>\n",
       "      <td>8.829380e+09</td>\n",
       "    </tr>\n",
       "    <tr>\n",
       "      <th>19/3/2020</th>\n",
       "      <td>51.189999</td>\n",
       "      <td>50.270000</td>\n",
       "      <td>54.560001</td>\n",
       "      <td>73000.0</td>\n",
       "      <td>67300.0</td>\n",
       "      <td>418900.0</td>\n",
       "      <td>102.000000</td>\n",
       "      <td>103.769997</td>\n",
       "      <td>105.199997</td>\n",
       "      <td>115.320000</td>\n",
       "      <td>...</td>\n",
       "      <td>91.339996</td>\n",
       "      <td>91.050003</td>\n",
       "      <td>101.599998</td>\n",
       "      <td>13828800.0</td>\n",
       "      <td>13567000.0</td>\n",
       "      <td>8036900.0</td>\n",
       "      <td>8.755780e+09</td>\n",
       "      <td>8.358500e+09</td>\n",
       "      <td>7.781540e+09</td>\n",
       "      <td>8.258670e+09</td>\n",
       "    </tr>\n",
       "    <tr>\n",
       "      <th>20/3/2020</th>\n",
       "      <td>50.610001</td>\n",
       "      <td>51.189999</td>\n",
       "      <td>50.270000</td>\n",
       "      <td>35600.0</td>\n",
       "      <td>219600.0</td>\n",
       "      <td>67300.0</td>\n",
       "      <td>100.290001</td>\n",
       "      <td>102.000000</td>\n",
       "      <td>103.769997</td>\n",
       "      <td>105.199997</td>\n",
       "      <td>...</td>\n",
       "      <td>86.820000</td>\n",
       "      <td>91.339996</td>\n",
       "      <td>91.050003</td>\n",
       "      <td>7442100.0</td>\n",
       "      <td>13828800.0</td>\n",
       "      <td>8408900.0</td>\n",
       "      <td>7.946710e+09</td>\n",
       "      <td>8.755780e+09</td>\n",
       "      <td>8.358500e+09</td>\n",
       "      <td>7.781540e+09</td>\n",
       "    </tr>\n",
       "  </tbody>\n",
       "</table>\n",
       "<p>5 rows × 59 columns</p>\n",
       "</div>"
      ],
      "text/plain": [
       "           Open_Pharm_L2  Open_Pharm_L3  Open_Pharm_L4  Volume_Pharm_L1  \\\n",
       "Date                                                                      \n",
       "16/3/2020      52.599998      57.330002      58.790001         418900.0   \n",
       "17/3/2020      54.560001      52.599998      57.330002          67300.0   \n",
       "18/3/2020      50.270000      54.560001      52.599998         219600.0   \n",
       "19/3/2020      51.189999      50.270000      54.560001          73000.0   \n",
       "20/3/2020      50.610001      51.189999      50.270000          35600.0   \n",
       "\n",
       "           Volume_Pharm_L3  Volume_Pharm_L4  Open_Semicon_L1  Open_Semicon_L2  \\\n",
       "Date                                                                            \n",
       "16/3/2020          18000.0          34300.0       115.320000       112.940002   \n",
       "17/3/2020          49000.0          18000.0       105.199997       115.320000   \n",
       "18/3/2020         418900.0          49000.0       103.769997       105.199997   \n",
       "19/3/2020          67300.0         418900.0       102.000000       103.769997   \n",
       "20/3/2020         219600.0          67300.0       100.290001       102.000000   \n",
       "\n",
       "           Open_Semicon_L3  Open_Semicon_L4  ...  Open_Consumer_L2  \\\n",
       "Date                                         ...                     \n",
       "16/3/2020       124.129997       125.529999  ...         99.070000   \n",
       "17/3/2020       112.940002       124.129997  ...        101.599998   \n",
       "18/3/2020       115.320000       112.940002  ...         91.050003   \n",
       "19/3/2020       105.199997       115.320000  ...         91.339996   \n",
       "20/3/2020       103.769997       105.199997  ...         86.820000   \n",
       "\n",
       "           Open_Consumer_L3  Open_Consumer_L4  Volume_Consumer_L1  \\\n",
       "Date                                                                \n",
       "16/3/2020        110.269997        111.209999           8036900.0   \n",
       "17/3/2020         99.070000        110.269997           8408900.0   \n",
       "18/3/2020        101.599998         99.070000          13567000.0   \n",
       "19/3/2020         91.050003        101.599998          13828800.0   \n",
       "20/3/2020         91.339996         91.050003           7442100.0   \n",
       "\n",
       "           Volume_Consumer_L2  Volume_Consumer_L4  Volume_SNP500_L1  \\\n",
       "Date                                                                  \n",
       "16/3/2020           9980800.0          10969600.0      8.258670e+09   \n",
       "17/3/2020           8036900.0           7627300.0      7.781540e+09   \n",
       "18/3/2020           8408900.0           9980800.0      8.358500e+09   \n",
       "19/3/2020          13567000.0           8036900.0      8.755780e+09   \n",
       "20/3/2020          13828800.0           8408900.0      7.946710e+09   \n",
       "\n",
       "           Volume_SNP500_L2  Volume_SNP500_L3  Volume_SNP500_L4  \n",
       "Date                                                             \n",
       "16/3/2020      8.829380e+09      7.374110e+09      7.635960e+09  \n",
       "17/3/2020      8.258670e+09      8.829380e+09      7.374110e+09  \n",
       "18/3/2020      7.781540e+09      8.258670e+09      8.829380e+09  \n",
       "19/3/2020      8.358500e+09      7.781540e+09      8.258670e+09  \n",
       "20/3/2020      8.755780e+09      8.358500e+09      7.781540e+09  \n",
       "\n",
       "[5 rows x 59 columns]"
      ]
     },
     "execution_count": 108,
     "metadata": {},
     "output_type": "execute_result"
    }
   ],
   "source": []
  },
  {
   "cell_type": "markdown",
   "metadata": {},
   "source": [
    "### Extras"
   ]
  },
  {
   "cell_type": "code",
   "execution_count": null,
   "metadata": {
    "scrolled": true
   },
   "outputs": [],
   "source": [
    "pharm_utils = build_and_model_VAR(df, [\"Pharm\",\"Utilities\"])\n",
    "data_prep.get_lagged_df(pharm_utils,col2lag=list(pharm_utils.columns), n=3)"
   ]
  },
  {
   "cell_type": "code",
   "execution_count": null,
   "metadata": {
    "scrolled": true
   },
   "outputs": [],
   "source": [
    "print(res.aic)\n",
    "print(res.bic)\n",
    "print(res.fittedvalues[-10:])\n",
    "\n",
    "\"\"\"\n",
    "If the model is an ARMAX and out-of-sample forecasting is requested, exog must be given. \n",
    "exog must be aligned so that exog[0] is used to produce the first out-of-sample forecast.\n",
    "\"\"\"\n",
    "# print(res.predict(start=2568, end=2570))\n",
    "\n",
    "res.summary()"
   ]
  },
  {
   "cell_type": "code",
   "execution_count": null,
   "metadata": {},
   "outputs": [],
   "source": [
    "## forecasting\n",
    "lag_order = results.k_ar\n",
    "lag_order\n",
    "# results.forecast(data.values[-lag_order:], 5)\n",
    "# results.plot_forecast(10)\n",
    "\n",
    "# We can do 2 tests as well, Granger casuality and Normality\n",
    "results.test_causality('Open_SNP500', ['Open_Utilities', 'Open_Pharm'], kind='f')\n",
    "# results.test_normality()"
   ]
  },
  {
   "cell_type": "code",
   "execution_count": null,
   "metadata": {
    "scrolled": true
   },
   "outputs": [],
   "source": [
    "df.columns"
   ]
  },
  {
   "cell_type": "code",
   "execution_count": null,
   "metadata": {},
   "outputs": [],
   "source": []
  },
  {
   "cell_type": "code",
   "execution_count": null,
   "metadata": {},
   "outputs": [],
   "source": []
  }
 ],
 "metadata": {
  "kernelspec": {
   "display_name": "Python 3",
   "language": "python",
   "name": "python3"
  },
  "language_info": {
   "codemirror_mode": {
    "name": "ipython",
    "version": 3
   },
   "file_extension": ".py",
   "mimetype": "text/x-python",
   "name": "python",
   "nbconvert_exporter": "python",
   "pygments_lexer": "ipython3",
   "version": "3.7.6"
  }
 },
 "nbformat": 4,
 "nbformat_minor": 4
}
