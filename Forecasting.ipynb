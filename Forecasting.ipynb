{
 "cells": [
  {
   "cell_type": "markdown",
   "metadata": {},
   "source": [
    "Run the following line if you don't have any of the libraries"
   ]
  },
  {
   "cell_type": "code",
   "execution_count": 1,
   "metadata": {
    "scrolled": false
   },
   "outputs": [],
   "source": [
    "# %%bash\n",
    "# pip install statsmodels pandas numpy"
   ]
  },
  {
   "cell_type": "code",
   "execution_count": 2,
   "metadata": {},
   "outputs": [],
   "source": [
    "import warnings\n",
    "warnings.filterwarnings('ignore')\n",
    "\n",
    "import numpy as np\n",
    "import pandas as pd\n",
    "import matplotlib.pyplot as plt\n",
    "import statsmodels\n",
    "from statsmodels.tsa.ar_model import AutoReg, ar_select_order\n",
    "from statsmodels.graphics.tsaplots import plot_acf, plot_pacf\n",
    "from statsmodels.tsa.arima_model import ARMA\n",
    "\n",
    "import data_prep"
   ]
  },
  {
   "cell_type": "code",
   "execution_count": 3,
   "metadata": {
    "scrolled": true
   },
   "outputs": [
    {
     "data": {
      "text/html": [
       "<div>\n",
       "<style scoped>\n",
       "    .dataframe tbody tr th:only-of-type {\n",
       "        vertical-align: middle;\n",
       "    }\n",
       "\n",
       "    .dataframe tbody tr th {\n",
       "        vertical-align: top;\n",
       "    }\n",
       "\n",
       "    .dataframe thead th {\n",
       "        text-align: right;\n",
       "    }\n",
       "</style>\n",
       "<table border=\"1\" class=\"dataframe\">\n",
       "  <thead>\n",
       "    <tr style=\"text-align: right;\">\n",
       "      <th></th>\n",
       "      <th>Open</th>\n",
       "      <th>High</th>\n",
       "      <th>Low</th>\n",
       "      <th>Close</th>\n",
       "      <th>Adj Close</th>\n",
       "      <th>Volume</th>\n",
       "      <th>Adj Close_1</th>\n",
       "      <th>Adj Close_2</th>\n",
       "      <th>Adj Close_3</th>\n",
       "    </tr>\n",
       "    <tr>\n",
       "      <th>Date</th>\n",
       "      <th></th>\n",
       "      <th></th>\n",
       "      <th></th>\n",
       "      <th></th>\n",
       "      <th></th>\n",
       "      <th></th>\n",
       "      <th></th>\n",
       "      <th></th>\n",
       "      <th></th>\n",
       "    </tr>\n",
       "  </thead>\n",
       "  <tbody>\n",
       "    <tr>\n",
       "      <th>2010-01-07</th>\n",
       "      <td>59.740002</td>\n",
       "      <td>60.009998</td>\n",
       "      <td>59.299999</td>\n",
       "      <td>59.910000</td>\n",
       "      <td>45.627445</td>\n",
       "      <td>17449500</td>\n",
       "      <td>45.695988</td>\n",
       "      <td>45.155247</td>\n",
       "      <td>44.789688</td>\n",
       "    </tr>\n",
       "    <tr>\n",
       "      <th>2010-01-08</th>\n",
       "      <td>59.700001</td>\n",
       "      <td>60.349998</td>\n",
       "      <td>59.490002</td>\n",
       "      <td>60.299999</td>\n",
       "      <td>45.924469</td>\n",
       "      <td>13344300</td>\n",
       "      <td>45.627445</td>\n",
       "      <td>45.695988</td>\n",
       "      <td>45.155247</td>\n",
       "    </tr>\n",
       "    <tr>\n",
       "      <th>2010-01-11</th>\n",
       "      <td>60.689999</td>\n",
       "      <td>60.869999</td>\n",
       "      <td>59.730000</td>\n",
       "      <td>60.220001</td>\n",
       "      <td>45.863533</td>\n",
       "      <td>19459900</td>\n",
       "      <td>45.924469</td>\n",
       "      <td>45.627445</td>\n",
       "      <td>45.695988</td>\n",
       "    </tr>\n",
       "    <tr>\n",
       "      <th>2010-01-12</th>\n",
       "      <td>59.299999</td>\n",
       "      <td>59.709999</td>\n",
       "      <td>59.040001</td>\n",
       "      <td>59.349998</td>\n",
       "      <td>45.200943</td>\n",
       "      <td>21510600</td>\n",
       "      <td>45.863533</td>\n",
       "      <td>45.924469</td>\n",
       "      <td>45.627445</td>\n",
       "    </tr>\n",
       "    <tr>\n",
       "      <th>2010-01-13</th>\n",
       "      <td>59.320000</td>\n",
       "      <td>59.799999</td>\n",
       "      <td>58.520000</td>\n",
       "      <td>59.570000</td>\n",
       "      <td>45.368496</td>\n",
       "      <td>22137500</td>\n",
       "      <td>45.200943</td>\n",
       "      <td>45.863533</td>\n",
       "      <td>45.924469</td>\n",
       "    </tr>\n",
       "    <tr>\n",
       "      <th>...</th>\n",
       "      <td>...</td>\n",
       "      <td>...</td>\n",
       "      <td>...</td>\n",
       "      <td>...</td>\n",
       "      <td>...</td>\n",
       "      <td>...</td>\n",
       "      <td>...</td>\n",
       "      <td>...</td>\n",
       "      <td>...</td>\n",
       "    </tr>\n",
       "    <tr>\n",
       "      <th>2020-03-16</th>\n",
       "      <td>27.950001</td>\n",
       "      <td>31.120001</td>\n",
       "      <td>27.670000</td>\n",
       "      <td>27.809999</td>\n",
       "      <td>27.809999</td>\n",
       "      <td>40233600</td>\n",
       "      <td>32.189999</td>\n",
       "      <td>29.469999</td>\n",
       "      <td>33.669998</td>\n",
       "    </tr>\n",
       "    <tr>\n",
       "      <th>2020-03-17</th>\n",
       "      <td>28.080000</td>\n",
       "      <td>29.180000</td>\n",
       "      <td>26.950001</td>\n",
       "      <td>28.000000</td>\n",
       "      <td>28.000000</td>\n",
       "      <td>45443600</td>\n",
       "      <td>27.809999</td>\n",
       "      <td>32.189999</td>\n",
       "      <td>29.469999</td>\n",
       "    </tr>\n",
       "    <tr>\n",
       "      <th>2020-03-18</th>\n",
       "      <td>26.040001</td>\n",
       "      <td>26.580000</td>\n",
       "      <td>22.879999</td>\n",
       "      <td>23.980000</td>\n",
       "      <td>23.980000</td>\n",
       "      <td>52135800</td>\n",
       "      <td>28.000000</td>\n",
       "      <td>27.809999</td>\n",
       "      <td>32.189999</td>\n",
       "    </tr>\n",
       "    <tr>\n",
       "      <th>2020-03-19</th>\n",
       "      <td>24.330000</td>\n",
       "      <td>25.709999</td>\n",
       "      <td>22.980000</td>\n",
       "      <td>25.610001</td>\n",
       "      <td>25.610001</td>\n",
       "      <td>52226500</td>\n",
       "      <td>23.980000</td>\n",
       "      <td>28.000000</td>\n",
       "      <td>27.809999</td>\n",
       "    </tr>\n",
       "    <tr>\n",
       "      <th>2020-03-20</th>\n",
       "      <td>26.260000</td>\n",
       "      <td>26.840000</td>\n",
       "      <td>24.760000</td>\n",
       "      <td>25.860001</td>\n",
       "      <td>25.860001</td>\n",
       "      <td>58313200</td>\n",
       "      <td>25.610001</td>\n",
       "      <td>23.980000</td>\n",
       "      <td>28.000000</td>\n",
       "    </tr>\n",
       "  </tbody>\n",
       "</table>\n",
       "<p>2568 rows × 9 columns</p>\n",
       "</div>"
      ],
      "text/plain": [
       "                 Open       High        Low      Close  Adj Close    Volume  \\\n",
       "Date                                                                          \n",
       "2010-01-07  59.740002  60.009998  59.299999  59.910000  45.627445  17449500   \n",
       "2010-01-08  59.700001  60.349998  59.490002  60.299999  45.924469  13344300   \n",
       "2010-01-11  60.689999  60.869999  59.730000  60.220001  45.863533  19459900   \n",
       "2010-01-12  59.299999  59.709999  59.040001  59.349998  45.200943  21510600   \n",
       "2010-01-13  59.320000  59.799999  58.520000  59.570000  45.368496  22137500   \n",
       "...               ...        ...        ...        ...        ...       ...   \n",
       "2020-03-16  27.950001  31.120001  27.670000  27.809999  27.809999  40233600   \n",
       "2020-03-17  28.080000  29.180000  26.950001  28.000000  28.000000  45443600   \n",
       "2020-03-18  26.040001  26.580000  22.879999  23.980000  23.980000  52135800   \n",
       "2020-03-19  24.330000  25.709999  22.980000  25.610001  25.610001  52226500   \n",
       "2020-03-20  26.260000  26.840000  24.760000  25.860001  25.860001  58313200   \n",
       "\n",
       "            Adj Close_1  Adj Close_2  Adj Close_3  \n",
       "Date                                               \n",
       "2010-01-07    45.695988    45.155247    44.789688  \n",
       "2010-01-08    45.627445    45.695988    45.155247  \n",
       "2010-01-11    45.924469    45.627445    45.695988  \n",
       "2010-01-12    45.863533    45.924469    45.627445  \n",
       "2010-01-13    45.200943    45.863533    45.924469  \n",
       "...                 ...          ...          ...  \n",
       "2020-03-16    32.189999    29.469999    33.669998  \n",
       "2020-03-17    27.809999    32.189999    29.469999  \n",
       "2020-03-18    28.000000    27.809999    32.189999  \n",
       "2020-03-19    23.980000    28.000000    27.809999  \n",
       "2020-03-20    25.610001    23.980000    28.000000  \n",
       "\n",
       "[2568 rows x 9 columns]"
      ]
     },
     "execution_count": 3,
     "metadata": {},
     "output_type": "execute_result"
    }
   ],
   "source": [
    "data_prep.get_lagged(\"./data/XLE_energy_etf.csv\", n=3)"
   ]
  },
  {
   "cell_type": "code",
   "execution_count": 4,
   "metadata": {},
   "outputs": [
    {
     "data": {
      "text/html": [
       "<div>\n",
       "<style scoped>\n",
       "    .dataframe tbody tr th:only-of-type {\n",
       "        vertical-align: middle;\n",
       "    }\n",
       "\n",
       "    .dataframe tbody tr th {\n",
       "        vertical-align: top;\n",
       "    }\n",
       "\n",
       "    .dataframe thead th {\n",
       "        text-align: right;\n",
       "    }\n",
       "</style>\n",
       "<table border=\"1\" class=\"dataframe\">\n",
       "  <thead>\n",
       "    <tr style=\"text-align: right;\">\n",
       "      <th></th>\n",
       "      <th>Open</th>\n",
       "      <th>High</th>\n",
       "      <th>Low</th>\n",
       "      <th>Close</th>\n",
       "      <th>Adj Close</th>\n",
       "      <th>Volume</th>\n",
       "    </tr>\n",
       "    <tr>\n",
       "      <th>Date</th>\n",
       "      <th></th>\n",
       "      <th></th>\n",
       "      <th></th>\n",
       "      <th></th>\n",
       "      <th></th>\n",
       "      <th></th>\n",
       "    </tr>\n",
       "  </thead>\n",
       "  <tbody>\n",
       "    <tr>\n",
       "      <th>2010-01-04</th>\n",
       "      <td>1116.560059</td>\n",
       "      <td>1133.869995</td>\n",
       "      <td>1116.560059</td>\n",
       "      <td>1132.989990</td>\n",
       "      <td>1132.989990</td>\n",
       "      <td>3991400000</td>\n",
       "    </tr>\n",
       "    <tr>\n",
       "      <th>2010-01-05</th>\n",
       "      <td>1132.660034</td>\n",
       "      <td>1136.630005</td>\n",
       "      <td>1129.660034</td>\n",
       "      <td>1136.520020</td>\n",
       "      <td>1136.520020</td>\n",
       "      <td>2491020000</td>\n",
       "    </tr>\n",
       "    <tr>\n",
       "      <th>2010-01-06</th>\n",
       "      <td>1135.709961</td>\n",
       "      <td>1139.189941</td>\n",
       "      <td>1133.949951</td>\n",
       "      <td>1137.140015</td>\n",
       "      <td>1137.140015</td>\n",
       "      <td>4972660000</td>\n",
       "    </tr>\n",
       "    <tr>\n",
       "      <th>2010-01-07</th>\n",
       "      <td>1136.270020</td>\n",
       "      <td>1142.459961</td>\n",
       "      <td>1131.319946</td>\n",
       "      <td>1141.689941</td>\n",
       "      <td>1141.689941</td>\n",
       "      <td>5270680000</td>\n",
       "    </tr>\n",
       "    <tr>\n",
       "      <th>2010-01-08</th>\n",
       "      <td>1140.520020</td>\n",
       "      <td>1145.390015</td>\n",
       "      <td>1136.219971</td>\n",
       "      <td>1144.979980</td>\n",
       "      <td>1144.979980</td>\n",
       "      <td>4389590000</td>\n",
       "    </tr>\n",
       "  </tbody>\n",
       "</table>\n",
       "</div>"
      ],
      "text/plain": [
       "                   Open         High          Low        Close    Adj Close  \\\n",
       "Date                                                                          \n",
       "2010-01-04  1116.560059  1133.869995  1116.560059  1132.989990  1132.989990   \n",
       "2010-01-05  1132.660034  1136.630005  1129.660034  1136.520020  1136.520020   \n",
       "2010-01-06  1135.709961  1139.189941  1133.949951  1137.140015  1137.140015   \n",
       "2010-01-07  1136.270020  1142.459961  1131.319946  1141.689941  1141.689941   \n",
       "2010-01-08  1140.520020  1145.390015  1136.219971  1144.979980  1144.979980   \n",
       "\n",
       "                Volume  \n",
       "Date                    \n",
       "2010-01-04  3991400000  \n",
       "2010-01-05  2491020000  \n",
       "2010-01-06  4972660000  \n",
       "2010-01-07  5270680000  \n",
       "2010-01-08  4389590000  "
      ]
     },
     "execution_count": 4,
     "metadata": {},
     "output_type": "execute_result"
    }
   ],
   "source": [
    "pd.read_csv(\"./data/SnP_500.csv\", index_col=\"Date\").head()"
   ]
  },
  {
   "cell_type": "code",
   "execution_count": 5,
   "metadata": {
    "scrolled": true
   },
   "outputs": [
    {
     "data": {
      "text/plain": [
       "<matplotlib.axes._subplots.AxesSubplot at 0x23855769988>"
      ]
     },
     "execution_count": 5,
     "metadata": {},
     "output_type": "execute_result"
    },
    {
     "data": {
      "image/png": "[encoded data removed]",
      "text/plain": [
       "<Figure size 432x288 with 1 Axes>"
      ]
     },
     "metadata": {
      "needs_background": "light"
     },
     "output_type": "display_data"
    }
   ],
   "source": [
    "df_perc_returns = data_prep.get_perc_return(\"./data/SnP_500.csv\", column_name=\"Open\")\n",
    "df_perc_returns.plot()"
   ]
  },
  {
   "cell_type": "markdown",
   "metadata": {},
   "source": [
    "The way returns are distributed shows a stationary process with no correlation with time \n",
    "This also leads us to try out GARCH models since we proabably can model these spikes in volatility.\n",
    "\n",
    "Following which, we'll look at the full dataset, a concatnation of all the variables together with S&P500"
   ]
  },
  {
   "cell_type": "code",
   "execution_count": 6,
   "metadata": {},
   "outputs": [],
   "source": [
    "df, psuedo_OOB, OOB = data_prep.split_data(\"./data/output.csv\")"
   ]
  },
  {
   "cell_type": "markdown",
   "metadata": {},
   "source": [
    "Columns are laballed as such:  VARIABLE_SECTOR"
   ]
  },
  {
   "cell_type": "code",
   "execution_count": 7,
   "metadata": {},
   "outputs": [],
   "source": [
    "SNP_daily_ret = (df['Adj Close_SNP500']/df['Adj Close_SNP500'].shift(1)) - 1\n",
    "SNP_daily_ret = SNP_daily_ret.dropna()"
   ]
  },
  {
   "cell_type": "code",
   "execution_count": 8,
   "metadata": {
    "scrolled": true
   },
   "outputs": [
    {
     "name": "stderr",
     "output_type": "stream",
     "text": [
      "C:\\Users\\JJ\\AppData\\Roaming\\Python\\Python37\\site-packages\\statsmodels\\tsa\\base\\tsa_model.py:218: ValueWarning: A date index has been provided, but it has no associated frequency information and so will be ignored when e.g. forecasting.\n",
      "  ' ignored when e.g. forecasting.', ValueWarning)\n",
      "C:\\Users\\JJ\\AppData\\Roaming\\Python\\Python37\\site-packages\\statsmodels\\tsa\\base\\tsa_model.py:222: ValueWarning: A date index has been provided, but it is not monotonic and so will be ignored when e.g. forecasting.\n",
      "  ' forecasting.', ValueWarning)\n"
     ]
    },
    {
     "data": {
      "text/html": [
       "<table class=\"simpletable\">\n",
       "<caption>AutoReg Model Results</caption>\n",
       "<tr>\n",
       "  <th>Dep. Variable:</th> <td>Adj Close_SNP500</td> <th>  No. Observations:  </th>   <td>2387</td>  \n",
       "</tr>\n",
       "<tr>\n",
       "  <th>Model:</th>            <td>AutoReg(1)</td>    <th>  Log Likelihood     </th> <td>7758.794</td>\n",
       "</tr>\n",
       "<tr>\n",
       "  <th>Method:</th>         <td>Conditional MLE</td> <th>  S.D. of innovations</th>   <td>0.009</td> \n",
       "</tr>\n",
       "<tr>\n",
       "  <th>Date:</th>          <td>Fri, 10 Apr 2020</td> <th>  AIC                </th>  <td>-9.339</td> \n",
       "</tr>\n",
       "<tr>\n",
       "  <th>Time:</th>              <td>00:43:08</td>     <th>  BIC                </th>  <td>-9.332</td> \n",
       "</tr>\n",
       "<tr>\n",
       "  <th>Sample:</th>                <td>1</td>        <th>  HQIC               </th>  <td>-9.336</td> \n",
       "</tr>\n",
       "<tr>\n",
       "  <th></th>                     <td>2387</td>       <th>                     </th>     <td> </td>   \n",
       "</tr>\n",
       "</table>\n",
       "<table class=\"simpletable\">\n",
       "<tr>\n",
       "           <td></td>              <th>coef</th>     <th>std err</th>      <th>z</th>      <th>P>|z|</th>  <th>[0.025</th>    <th>0.975]</th>  \n",
       "</tr>\n",
       "<tr>\n",
       "  <th>intercept</th>           <td>    0.0005</td> <td>    0.000</td> <td>    2.411</td> <td> 0.016</td> <td> 8.66e-05</td> <td>    0.001</td>\n",
       "</tr>\n",
       "<tr>\n",
       "  <th>Adj Close_SNP500.L1</th> <td>   -0.0455</td> <td>    0.020</td> <td>   -2.227</td> <td> 0.026</td> <td>   -0.086</td> <td>   -0.005</td>\n",
       "</tr>\n",
       "</table>\n",
       "<table class=\"simpletable\">\n",
       "<caption>Roots</caption>\n",
       "<tr>\n",
       "    <td></td>   <th>            Real</th>  <th>         Imaginary</th> <th>         Modulus</th>  <th>        Frequency</th>\n",
       "</tr>\n",
       "<tr>\n",
       "  <th>AR.1</th> <td>         -21.9599</td> <td>          +0.0000j</td> <td>          21.9599</td> <td>           0.5000</td>\n",
       "</tr>\n",
       "</table>"
      ],
      "text/plain": [
       "<class 'statsmodels.iolib.summary.Summary'>\n",
       "\"\"\"\n",
       "                            AutoReg Model Results                             \n",
       "==============================================================================\n",
       "Dep. Variable:       Adj Close_SNP500   No. Observations:                 2387\n",
       "Model:                     AutoReg(1)   Log Likelihood                7758.794\n",
       "Method:               Conditional MLE   S.D. of innovations              0.009\n",
       "Date:                Fri, 10 Apr 2020   AIC                             -9.339\n",
       "Time:                        00:43:08   BIC                             -9.332\n",
       "Sample:                             1   HQIC                            -9.336\n",
       "                                 2387                                         \n",
       "=======================================================================================\n",
       "                          coef    std err          z      P>|z|      [0.025      0.975]\n",
       "---------------------------------------------------------------------------------------\n",
       "intercept               0.0005      0.000      2.411      0.016    8.66e-05       0.001\n",
       "Adj Close_SNP500.L1    -0.0455      0.020     -2.227      0.026      -0.086      -0.005\n",
       "                                    Roots                                    \n",
       "=============================================================================\n",
       "                  Real          Imaginary           Modulus         Frequency\n",
       "-----------------------------------------------------------------------------\n",
       "AR.1          -21.9599           +0.0000j           21.9599            0.5000\n",
       "-----------------------------------------------------------------------------\n",
       "\"\"\""
      ]
     },
     "execution_count": 8,
     "metadata": {},
     "output_type": "execute_result"
    }
   ],
   "source": [
    "mod = AutoReg(SNP_daily_ret, 1)\n",
    "res = mod.fit()\n",
    "res.summary()"
   ]
  },
  {
   "cell_type": "code",
   "execution_count": 9,
   "metadata": {},
   "outputs": [
    {
     "data": {
      "image/png": "[encoded data removed]",
      "text/plain": [
       "<Figure size 432x288 with 1 Axes>"
      ]
     },
     "metadata": {
      "needs_background": "light"
     },
     "output_type": "display_data"
    },
    {
     "data": {
      "image/png": "[encoded data removed]",
      "text/plain": [
       "<Figure size 432x288 with 1 Axes>"
      ]
     },
     "metadata": {
      "needs_background": "light"
     },
     "output_type": "display_data"
    }
   ],
   "source": [
    "plot_acf(SNP_daily_ret, lags=30)\n",
    "plt.show()\n",
    "plot_pacf(SNP_daily_ret, lags=30)\n",
    "plt.show()"
   ]
  },
  {
   "cell_type": "markdown",
   "metadata": {},
   "source": [
    "The ACF shows that after lags of t=2, autocorrelation stays near 0 which means a **MA(2)** model\n",
    "\n",
    "The PACF shows that after lags of t=2, autocorrelation stays near 0 which means an **AR(2)** model"
   ]
  },
  {
   "cell_type": "code",
   "execution_count": 10,
   "metadata": {
    "scrolled": true
   },
   "outputs": [
    {
     "name": "stderr",
     "output_type": "stream",
     "text": [
      "C:\\Users\\JJ\\AppData\\Roaming\\Python\\Python37\\site-packages\\statsmodels\\tsa\\base\\tsa_model.py:218: ValueWarning: A date index has been provided, but it has no associated frequency information and so will be ignored when e.g. forecasting.\n",
      "  ' ignored when e.g. forecasting.', ValueWarning)\n",
      "C:\\Users\\JJ\\AppData\\Roaming\\Python\\Python37\\site-packages\\statsmodels\\tsa\\base\\tsa_model.py:222: ValueWarning: A date index has been provided, but it is not monotonic and so will be ignored when e.g. forecasting.\n",
      "  ' forecasting.', ValueWarning)\n"
     ]
    },
    {
     "data": {
      "text/html": [
       "<table class=\"simpletable\">\n",
       "<caption>AutoReg Model Results</caption>\n",
       "<tr>\n",
       "  <th>Dep. Variable:</th> <td>Adj Close_SNP500</td> <th>  No. Observations:  </th>   <td>2387</td>  \n",
       "</tr>\n",
       "<tr>\n",
       "  <th>Model:</th>            <td>AutoReg(2)</td>    <th>  Log Likelihood     </th> <td>7755.117</td>\n",
       "</tr>\n",
       "<tr>\n",
       "  <th>Method:</th>         <td>Conditional MLE</td> <th>  S.D. of innovations</th>   <td>0.009</td> \n",
       "</tr>\n",
       "<tr>\n",
       "  <th>Date:</th>          <td>Fri, 10 Apr 2020</td> <th>  AIC                </th>  <td>-9.338</td> \n",
       "</tr>\n",
       "<tr>\n",
       "  <th>Time:</th>              <td>00:43:08</td>     <th>  BIC                </th>  <td>-9.328</td> \n",
       "</tr>\n",
       "<tr>\n",
       "  <th>Sample:</th>                <td>2</td>        <th>  HQIC               </th>  <td>-9.334</td> \n",
       "</tr>\n",
       "<tr>\n",
       "  <th></th>                     <td>2387</td>       <th>                     </th>     <td> </td>   \n",
       "</tr>\n",
       "</table>\n",
       "<table class=\"simpletable\">\n",
       "<tr>\n",
       "           <td></td>              <th>coef</th>     <th>std err</th>      <th>z</th>      <th>P>|z|</th>  <th>[0.025</th>    <th>0.975]</th>  \n",
       "</tr>\n",
       "<tr>\n",
       "  <th>intercept</th>           <td>    0.0005</td> <td>    0.000</td> <td>    2.388</td> <td> 0.017</td> <td> 8.23e-05</td> <td>    0.001</td>\n",
       "</tr>\n",
       "<tr>\n",
       "  <th>Adj Close_SNP500.L1</th> <td>   -0.0452</td> <td>    0.020</td> <td>   -2.206</td> <td> 0.027</td> <td>   -0.085</td> <td>   -0.005</td>\n",
       "</tr>\n",
       "<tr>\n",
       "  <th>Adj Close_SNP500.L2</th> <td>    0.0079</td> <td>    0.020</td> <td>    0.387</td> <td> 0.699</td> <td>   -0.032</td> <td>    0.048</td>\n",
       "</tr>\n",
       "</table>\n",
       "<table class=\"simpletable\">\n",
       "<caption>Roots</caption>\n",
       "<tr>\n",
       "    <td></td>   <th>            Real</th>  <th>         Imaginary</th> <th>         Modulus</th>  <th>        Frequency</th>\n",
       "</tr>\n",
       "<tr>\n",
       "  <th>AR.1</th> <td>          -8.7414</td> <td>          +0.0000j</td> <td>           8.7414</td> <td>           0.5000</td>\n",
       "</tr>\n",
       "<tr>\n",
       "  <th>AR.2</th> <td>          14.4468</td> <td>          +0.0000j</td> <td>          14.4468</td> <td>           0.0000</td>\n",
       "</tr>\n",
       "</table>"
      ],
      "text/plain": [
       "<class 'statsmodels.iolib.summary.Summary'>\n",
       "\"\"\"\n",
       "                            AutoReg Model Results                             \n",
       "==============================================================================\n",
       "Dep. Variable:       Adj Close_SNP500   No. Observations:                 2387\n",
       "Model:                     AutoReg(2)   Log Likelihood                7755.117\n",
       "Method:               Conditional MLE   S.D. of innovations              0.009\n",
       "Date:                Fri, 10 Apr 2020   AIC                             -9.338\n",
       "Time:                        00:43:08   BIC                             -9.328\n",
       "Sample:                             2   HQIC                            -9.334\n",
       "                                 2387                                         \n",
       "=======================================================================================\n",
       "                          coef    std err          z      P>|z|      [0.025      0.975]\n",
       "---------------------------------------------------------------------------------------\n",
       "intercept               0.0005      0.000      2.388      0.017    8.23e-05       0.001\n",
       "Adj Close_SNP500.L1    -0.0452      0.020     -2.206      0.027      -0.085      -0.005\n",
       "Adj Close_SNP500.L2     0.0079      0.020      0.387      0.699      -0.032       0.048\n",
       "                                    Roots                                    \n",
       "=============================================================================\n",
       "                  Real          Imaginary           Modulus         Frequency\n",
       "-----------------------------------------------------------------------------\n",
       "AR.1           -8.7414           +0.0000j            8.7414            0.5000\n",
       "AR.2           14.4468           +0.0000j           14.4468            0.0000\n",
       "-----------------------------------------------------------------------------\n",
       "\"\"\""
      ]
     },
     "execution_count": 10,
     "metadata": {},
     "output_type": "execute_result"
    }
   ],
   "source": [
    "mod = AutoReg(SNP_daily_ret, 2)\n",
    "res = mod.fit()\n",
    "res.summary()"
   ]
  },
  {
   "cell_type": "code",
   "execution_count": 11,
   "metadata": {
    "scrolled": true
   },
   "outputs": [
    {
     "name": "stderr",
     "output_type": "stream",
     "text": [
      "C:\\Users\\JJ\\AppData\\Roaming\\Python\\Python37\\site-packages\\statsmodels\\tsa\\base\\tsa_model.py:218: ValueWarning: A date index has been provided, but it has no associated frequency information and so will be ignored when e.g. forecasting.\n",
      "  ' ignored when e.g. forecasting.', ValueWarning)\n",
      "C:\\Users\\JJ\\AppData\\Roaming\\Python\\Python37\\site-packages\\statsmodels\\tsa\\base\\tsa_model.py:222: ValueWarning: A date index has been provided, but it is not monotonic and so will be ignored when e.g. forecasting.\n",
      "  ' forecasting.', ValueWarning)\n",
      "C:\\Users\\JJ\\AppData\\Roaming\\Python\\Python37\\site-packages\\statsmodels\\tsa\\base\\tsa_model.py:218: ValueWarning: A date index has been provided, but it has no associated frequency information and so will be ignored when e.g. forecasting.\n",
      "  ' ignored when e.g. forecasting.', ValueWarning)\n"
     ]
    },
    {
     "name": "stdout",
     "output_type": "stream",
     "text": [
      "                              ARMA Model Results                              \n",
      "==============================================================================\n",
      "Dep. Variable:       Adj Close_SNP500   No. Observations:                 2387\n",
      "Model:                     ARMA(2, 0)   Log Likelihood                7762.579\n",
      "Method:                       css-mle   S.D. of innovations              0.009\n",
      "Date:                Fri, 10 Apr 2020   AIC                         -15517.157\n",
      "Time:                        00:43:09   BIC                         -15494.046\n",
      "Sample:                             0   HQIC                        -15508.747\n",
      "                                                                              \n",
      "==========================================================================================\n",
      "                             coef    std err          z      P>|z|      [0.025      0.975]\n",
      "------------------------------------------------------------------------------------------\n",
      "const                      0.0004      0.000      2.402      0.016    8.16e-05       0.001\n",
      "ar.L1.Adj Close_SNP500    -0.0452      0.020     -2.207      0.027      -0.085      -0.005\n",
      "ar.L2.Adj Close_SNP500     0.0079      0.020      0.387      0.699      -0.032       0.048\n",
      "                                    Roots                                    \n",
      "=============================================================================\n",
      "                  Real          Imaginary           Modulus         Frequency\n",
      "-----------------------------------------------------------------------------\n",
      "AR.1           -8.7451           +0.0000j            8.7451            0.5000\n",
      "AR.2           14.4527           +0.0000j           14.4527            0.0000\n",
      "-----------------------------------------------------------------------------\n",
      "\n",
      "\n",
      "                              ARMA Model Results                              \n",
      "==============================================================================\n",
      "Dep. Variable:       Adj Close_SNP500   No. Observations:                 2387\n",
      "Model:                     ARMA(0, 2)   Log Likelihood                7762.520\n",
      "Method:                       css-mle   S.D. of innovations              0.009\n",
      "Date:                Fri, 10 Apr 2020   AIC                         -15517.041\n",
      "Time:                        00:43:09   BIC                         -15493.929\n",
      "Sample:                             0   HQIC                        -15508.630\n",
      "                                                                              \n",
      "==========================================================================================\n",
      "                             coef    std err          z      P>|z|      [0.025      0.975]\n",
      "------------------------------------------------------------------------------------------\n",
      "const                      0.0004      0.000      2.407      0.016    8.24e-05       0.001\n",
      "ma.L1.Adj Close_SNP500    -0.0447      0.020     -2.183      0.029      -0.085      -0.005\n",
      "ma.L2.Adj Close_SNP500     0.0067      0.021      0.322      0.748      -0.034       0.048\n",
      "                                    Roots                                    \n",
      "=============================================================================\n",
      "                  Real          Imaginary           Modulus         Frequency\n",
      "-----------------------------------------------------------------------------\n",
      "MA.1            3.3291          -11.7366j           12.1996           -0.2060\n",
      "MA.2            3.3291          +11.7366j           12.1996            0.2060\n",
      "-----------------------------------------------------------------------------\n",
      "\n",
      "\n"
     ]
    },
    {
     "name": "stderr",
     "output_type": "stream",
     "text": [
      "C:\\Users\\JJ\\AppData\\Roaming\\Python\\Python37\\site-packages\\statsmodels\\tsa\\base\\tsa_model.py:222: ValueWarning: A date index has been provided, but it is not monotonic and so will be ignored when e.g. forecasting.\n",
      "  ' forecasting.', ValueWarning)\n",
      "C:\\Users\\JJ\\AppData\\Roaming\\Python\\Python37\\site-packages\\statsmodels\\tsa\\base\\tsa_model.py:218: ValueWarning: A date index has been provided, but it has no associated frequency information and so will be ignored when e.g. forecasting.\n",
      "  ' ignored when e.g. forecasting.', ValueWarning)\n",
      "C:\\Users\\JJ\\AppData\\Roaming\\Python\\Python37\\site-packages\\statsmodels\\tsa\\base\\tsa_model.py:222: ValueWarning: A date index has been provided, but it is not monotonic and so will be ignored when e.g. forecasting.\n",
      "  ' forecasting.', ValueWarning)\n"
     ]
    },
    {
     "name": "stdout",
     "output_type": "stream",
     "text": [
      "                              ARMA Model Results                              \n",
      "==============================================================================\n",
      "Dep. Variable:       Adj Close_SNP500   No. Observations:                 2387\n",
      "Model:                     ARMA(1, 1)   Log Likelihood                7764.148\n",
      "Method:                       css-mle   S.D. of innovations              0.009\n",
      "Date:                Fri, 10 Apr 2020   AIC                         -15520.297\n",
      "Time:                        00:43:10   BIC                         -15497.186\n",
      "Sample:                             0   HQIC                        -15511.887\n",
      "                                                                              \n",
      "==========================================================================================\n",
      "                             coef    std err          z      P>|z|      [0.025      0.975]\n",
      "------------------------------------------------------------------------------------------\n",
      "const                      0.0004      0.000      2.366      0.018    7.61e-05       0.001\n",
      "ar.L1.Adj Close_SNP500    -0.7796      0.128     -6.104      0.000      -1.030      -0.529\n",
      "ma.L1.Adj Close_SNP500     0.7428      0.136      5.446      0.000       0.475       1.010\n",
      "                                    Roots                                    \n",
      "=============================================================================\n",
      "                  Real          Imaginary           Modulus         Frequency\n",
      "-----------------------------------------------------------------------------\n",
      "AR.1           -1.2827           +0.0000j            1.2827            0.5000\n",
      "MA.1           -1.3463           +0.0000j            1.3463            0.5000\n",
      "-----------------------------------------------------------------------------\n",
      "\n",
      "\n"
     ]
    }
   ],
   "source": [
    "ar2 = ARMA(SNP_daily_ret, order=[2,0])\n",
    "ar2_fit = ar2.fit(disp=0)\n",
    "print (ar2_fit.summary())\n",
    "print('\\n')\n",
    "\n",
    "ma2 = ARMA(SNP_daily_ret, order=[0,2])\n",
    "ma2_fit = ma2.fit(disp=0)\n",
    "print (ma2_fit.summary())\n",
    "print('\\n')\n",
    "\n",
    "arma11 = ARMA(SNP_daily_ret, order=[1,1])\n",
    "arma11_fit = arma11.fit(disp=0)\n",
    "print (arma11_fit.summary())\n",
    "print('\\n')\n"
   ]
  },
  {
   "cell_type": "markdown",
   "metadata": {},
   "source": [
    "AIC values for all the models are extremely similar and hence we look to BIC to decide the best model()\n",
    "\n",
    "It seems like AR(2) does the best out of all the models.\n",
    "\n",
    "However, as shown later, adding MA(q) to AR(2) to eliminate autocorrelations yields higher AIC than ARMA(1,1)."
   ]
  },
  {
   "cell_type": "code",
   "execution_count": 12,
   "metadata": {},
   "outputs": [
    {
     "data": {
      "text/plain": [
       "'\\narma22_fit.aic\\narma22_fit.bic\\narma22_fit.fittedvalues  ## return fitted values of the model\\narma22_fit.predict(start=2568, end=2570)\\n'"
      ]
     },
     "execution_count": 12,
     "metadata": {},
     "output_type": "execute_result"
    }
   ],
   "source": [
    "## some usful attributes that might be used in future\n",
    "\"\"\"\n",
    "arma22_fit.aic\n",
    "arma22_fit.bic\n",
    "arma22_fit.fittedvalues  ## return fitted values of the model\n",
    "arma22_fit.predict(start=2568, end=2570)\n",
    "\"\"\""
   ]
  },
  {
   "cell_type": "code",
   "execution_count": 13,
   "metadata": {
    "scrolled": true
   },
   "outputs": [
    {
     "data": {
      "image/png": "[encoded data removed]",
      "text/plain": [
       "<Figure size 432x288 with 1 Axes>"
      ]
     },
     "execution_count": 13,
     "metadata": {},
     "output_type": "execute_result"
    },
    {
     "data": {
      "image/png": "[encoded data removed]",
      "text/plain": [
       "<Figure size 432x288 with 1 Axes>"
      ]
     },
     "metadata": {
      "needs_background": "light"
     },
     "output_type": "display_data"
    }
   ],
   "source": [
    "plot_acf(ar2_fit.fittedvalues)"
   ]
  },
  {
   "cell_type": "markdown",
   "metadata": {},
   "source": [
    "2 lags are present in AR(2) model so we try to fit ARMA(2,2) to rid of the autocorrelations."
   ]
  },
  {
   "cell_type": "code",
   "execution_count": 14,
   "metadata": {},
   "outputs": [
    {
     "name": "stderr",
     "output_type": "stream",
     "text": [
      "C:\\Users\\JJ\\AppData\\Roaming\\Python\\Python37\\site-packages\\statsmodels\\tsa\\base\\tsa_model.py:218: ValueWarning: A date index has been provided, but it has no associated frequency information and so will be ignored when e.g. forecasting.\n",
      "  ' ignored when e.g. forecasting.', ValueWarning)\n",
      "C:\\Users\\JJ\\AppData\\Roaming\\Python\\Python37\\site-packages\\statsmodels\\tsa\\base\\tsa_model.py:222: ValueWarning: A date index has been provided, but it is not monotonic and so will be ignored when e.g. forecasting.\n",
      "  ' forecasting.', ValueWarning)\n"
     ]
    },
    {
     "name": "stdout",
     "output_type": "stream",
     "text": [
      "                              ARMA Model Results                              \n",
      "==============================================================================\n",
      "Dep. Variable:       Adj Close_SNP500   No. Observations:                 2387\n",
      "Model:                     ARMA(2, 2)   Log Likelihood                7770.862\n",
      "Method:                       css-mle   S.D. of innovations              0.009\n",
      "Date:                Fri, 10 Apr 2020   AIC                         -15529.724\n",
      "Time:                        00:43:12   BIC                         -15495.057\n",
      "Sample:                             0   HQIC                        -15517.108\n",
      "                                                                              \n",
      "==========================================================================================\n",
      "                             coef    std err          z      P>|z|      [0.025      0.975]\n",
      "------------------------------------------------------------------------------------------\n",
      "const                      0.0004   7.64e-05      5.864      0.000       0.000       0.001\n",
      "ar.L1.Adj Close_SNP500     0.1676      0.121      1.384      0.167      -0.070       0.405\n",
      "ar.L2.Adj Close_SNP500     0.7765      0.115      6.761      0.000       0.551       1.002\n",
      "ma.L1.Adj Close_SNP500    -0.2186      0.128     -1.707      0.088      -0.470       0.032\n",
      "ma.L2.Adj Close_SNP500    -0.7596      0.125     -6.077      0.000      -1.005      -0.515\n",
      "                                    Roots                                    \n",
      "=============================================================================\n",
      "                  Real          Imaginary           Modulus         Frequency\n",
      "-----------------------------------------------------------------------------\n",
      "AR.1            1.0321           +0.0000j            1.0321            0.0000\n",
      "AR.2           -1.2479           +0.0000j            1.2479            0.5000\n",
      "MA.1            1.0125           +0.0000j            1.0125            0.0000\n",
      "MA.2           -1.3003           +0.0000j            1.3003            0.5000\n",
      "-----------------------------------------------------------------------------\n",
      "\n",
      "\n"
     ]
    }
   ],
   "source": [
    "arma22 = ARMA(SNP_daily_ret, order=[2,2])\n",
    "arma22_fit = arma22.fit(disp=0)\n",
    "print (arma22_fit.summary())\n",
    "print('\\n')"
   ]
  },
  {
   "cell_type": "markdown",
   "metadata": {},
   "source": [
    "AIC at -15529.724 is marginally lower than AR(2).\n",
    "\n",
    "So far, our benchmarked models are:\n",
    "- AR(2)\n",
    "- ARMA(1,1)\n",
    "- ARMA(2,2)"
   ]
  },
  {
   "cell_type": "markdown",
   "metadata": {},
   "source": [
    "Moving on, we add more variables, to build ADL models that would hopefully beat our benchmark models\n",
    "\n",
    "We'll start from one industry, build ARMA for models with lags $\\in (1,5)$ and then look at their BIC values \n",
    "\n",
    "**Note:** we chose lags from 1 to 5 because 5 represents 1 trading week and we want to quickly be able to spot changes\n",
    "\n",
    "We then choose the lagged_model with lowest BIC (BIC tend to give parsimonous model hence it would better fit our needs to prevent too many variables in our models to prevent overfitting) and iteratively add more industries up to the full model\n",
    "\n",
    "Afterwords, we rid insignificant variables based on their t-stat. We do this iteratively with the final model till all the variables are significant. \n",
    "\n",
    "We note that this method may not be the best method since we didn't cover the full subset to see the lowest AIC/BIC but that is too computationally expensive.\n",
    "\n",
    "By sampling 50 subsets of **n** variables, it will cover a signiicant subset and such iterative addition of variables is generally accepted in statistics."
   ]
  },
  {
   "cell_type": "code",
   "execution_count": 15,
   "metadata": {},
   "outputs": [],
   "source": [
    "## Adding more variables\n",
    "from statsmodels.tsa.api import VAR\n",
    "from statsmodels.regression.linear_model import OLS\n",
    "\n",
    "\n",
    "def build_and_model_VAR(main_df:pd.DataFrame, var2add:list ):\n",
    "    \"\"\"\n",
    "    Arguments:\n",
    "    main_df - output.csv which has ALL the variables\n",
    "    var2add - the industry, eg. Pharm. The value MUST be inside the colname \n",
    "    \"\"\"\n",
    "    temp_df = pd.DataFrame()\n",
    "    for var in var2add:\n",
    "        for col in main_df.columns:\n",
    "            if \"Open_\"+var in col or \"Volume_\" + var in col:\n",
    "                try:\n",
    "                    temp_df.columns\n",
    "                except:\n",
    "                    temp_df = main_df[col]\n",
    "                else:\n",
    "                    temp_df = pd.concat([temp_df, main_df[col]], axis=1)\n",
    "                    \n",
    "    temp_df['Open_SNP500'] = main_df['Open_SNP500']\n",
    "    temp_df['Volume_SNP500'] = main_df['Volume_SNP500']\n",
    "    \n",
    "    temp_df.index = main_df.index\n",
    "        \n",
    "    return temp_df\n",
    "\n",
    "# lagged_df_exog(industries=[\"Pharm\",\"Utilities\"], col2lag=list(pharm_utils.columns))\n",
    "def lagged_df_exog(industries:list, target=\"Open_SNP500\", method=\"ARMA\", order=[2,0], remove_vars=[]):\n",
    "    temp_df = build_and_model_VAR(df, industries)\n",
    "    y = temp_df[target][order[0]:]\n",
    "    temp_df = temp_df.drop(target, axis=1)\n",
    "    og = temp_df.columns \n",
    "    temp_df = data_prep.get_lagged_df(temp_df,col2lag=list(temp_df.columns), n=order[0])  ## lags every single var\n",
    "    \n",
    "    X_lagged = temp_df.drop(og, axis=1)\n",
    "    if len(remove_vars) != 0:\n",
    "        for colname in remove_vars:\n",
    "            X_lagged = X_lagged.drop(colname, axis=1)\n",
    "    \n",
    "    if method == \"ARMA\":\n",
    "        model = ARMA(y, order=order, exog=X_lagged)\n",
    "    elif method == \"OLS\":\n",
    "        model = OLS(y, X_lagged)\n",
    "    else:\n",
    "        raise Exception(\"method has to be 'ARMA' or 'OLS'.\")\n",
    "        \n",
    "    results = model.fit()\n",
    "    return results\n",
    "\n",
    "full_industries = [\"Pharm\", \"Semicon\", \"Industrial\", \"Energy\", \"Financial\", \"Tech\", \"Utilities\", \"Consumer\"]\n",
    "def best_lagged_model(industries:list, max_p_lag:int, max_q_lag=0, method=\"ARMA\", start_ic=0, ic_method=\"BIC\", print_summ=False):\n",
    "    info = []\n",
    "    ic = start_ic\n",
    "    for p in range(1, max_p_lag+1):\n",
    "        for q in range(max_q_lag+1):\n",
    "            # q can be 0 but p has to be min 1\n",
    "            try:\n",
    "                temp_res = lagged_df_exog(industries=industries, order=[p,q])\n",
    "                if print_summ:\n",
    "                    print(temp_res.summary())\n",
    "            except Exception:\n",
    "                print(Exception)\n",
    "                continue\n",
    "            t = {\n",
    "                    \"order\": [p,q],\n",
    "                    \"params\": dict(temp_res.params),\n",
    "                    \"aic\": temp_res.aic,\n",
    "                    \"bic\": temp_res.bic,\n",
    "                }\n",
    "            info.append(t)\n",
    "            if ic_method == \"BIC\":\n",
    "                temp_ic = temp_res.bic\n",
    "            elif ic_method == \"AIC\":\n",
    "                temp_ic = temp_res.aic\n",
    "            else:\n",
    "                raise Exception(\"ic_method argument has to be 'BIC' or 'AIC'.\")\n",
    "            if ic == 0:  ## first iteration only\n",
    "                ic = temp_ic\n",
    "                res = temp_res\n",
    "            elif temp_ic < ic:\n",
    "                ic = temp_ic\n",
    "                res = temp_res\n",
    "    ## res will have the lowest ic. \n",
    "    ## info will be a list of dictionary\n",
    "    return res, info"
   ]
  },
  {
   "cell_type": "markdown",
   "metadata": {},
   "source": [
    "We look at the full model first and find the best lag for the full model."
   ]
  },
  {
   "cell_type": "code",
   "execution_count": 16,
   "metadata": {
    "scrolled": false
   },
   "outputs": [
    {
     "data": {
      "text/plain": [
       "['Pharm',\n",
       " 'Semicon',\n",
       " 'Industrial',\n",
       " 'Energy',\n",
       " 'Financial',\n",
       " 'Tech',\n",
       " 'Utilities',\n",
       " 'Consumer']"
      ]
     },
     "execution_count": 16,
     "metadata": {},
     "output_type": "execute_result"
    }
   ],
   "source": [
    "df.columns\n",
    "full_industries"
   ]
  },
  {
   "cell_type": "code",
   "execution_count": 17,
   "metadata": {
    "scrolled": true
   },
   "outputs": [
    {
     "name": "stderr",
     "output_type": "stream",
     "text": [
      "C:\\Users\\JJ\\AppData\\Roaming\\Python\\Python37\\site-packages\\statsmodels\\tsa\\base\\tsa_model.py:218: ValueWarning: A date index has been provided, but it has no associated frequency information and so will be ignored when e.g. forecasting.\n",
      "  ' ignored when e.g. forecasting.', ValueWarning)\n",
      "C:\\Users\\JJ\\AppData\\Roaming\\Python\\Python37\\site-packages\\statsmodels\\tsa\\base\\tsa_model.py:222: ValueWarning: A date index has been provided, but it is not monotonic and so will be ignored when e.g. forecasting.\n",
      "  ' forecasting.', ValueWarning)\n",
      "C:\\Users\\JJ\\AppData\\Roaming\\Python\\Python37\\site-packages\\statsmodels\\base\\model.py:548: HessianInversionWarning: Inverting hessian failed, no bse or cov_params available\n",
      "  'available', HessianInversionWarning)\n",
      "C:\\Users\\JJ\\AppData\\Roaming\\Python\\Python37\\site-packages\\statsmodels\\base\\model.py:568: ConvergenceWarning: Maximum Likelihood optimization failed to converge. Check mle_retvals\n",
      "  \"Check mle_retvals\", ConvergenceWarning)\n"
     ]
    },
    {
     "name": "stdout",
     "output_type": "stream",
     "text": [
      "                              ARMA Model Results                              \n",
      "==============================================================================\n",
      "Dep. Variable:            Open_SNP500   No. Observations:                 2387\n",
      "Model:                     ARMA(1, 0)   Log Likelihood               -9992.204\n",
      "Method:                       css-mle   S.D. of innovations             15.913\n",
      "Date:                Fri, 10 Apr 2020   AIC                          20024.408\n",
      "Time:                        00:43:13   BIC                          20139.964\n",
      "Sample:                             0   HQIC                         20066.459\n",
      "                                                                              \n",
      "========================================================================================\n",
      "                           coef    std err          z      P>|z|      [0.025      0.975]\n",
      "----------------------------------------------------------------------------------------\n",
      "const                   15.4183      3.475      4.436      0.000       8.607      22.230\n",
      "Open_Pharm_L1            2.8500      0.025    114.527      0.000       2.801       2.899\n",
      "Volume_Pharm_L1      -2.306e-06   8.64e-07     -2.668      0.008      -4e-06   -6.12e-07\n",
      "Open_Semicon_L1          0.4877      0.016     30.634      0.000       0.456       0.519\n",
      "Volume_Semicon_L1    -1.374e-07        nan        nan        nan         nan         nan\n",
      "Open_Industrial_L1       3.0321        nan        nan        nan         nan         nan\n",
      "Volume_Industrial_L1  3.538e-07    2.7e-06      0.131      0.896   -4.95e-06    5.65e-06\n",
      "Open_Energy_L1           1.3188      0.052     25.228      0.000       1.216       1.421\n",
      "Volume_Energy_L1      5.119e-08        nan        nan        nan         nan         nan\n",
      "Open_Financial_L1       16.3849      0.219     74.940      0.000      15.956      16.813\n",
      "Volume_Financial_L1  -2.468e-08        nan        nan        nan         nan         nan\n",
      "Open_Tech_L1             7.8101      0.095     81.792      0.000       7.623       7.997\n",
      "Volume_Tech_L1       -2.372e-07        nan        nan        nan         nan         nan\n",
      "Open_Utilities_L1        7.1685        nan        nan        nan         nan         nan\n",
      "Volume_Utilities_L1    4.17e-07        nan        nan        nan         nan         nan\n",
      "Open_Consumer_L1         5.8398        nan        nan        nan         nan         nan\n",
      "Volume_Consumer_L1   -4.856e-07   4.44e-08    -10.943      0.000   -5.73e-07   -3.99e-07\n",
      "Volume_SNP500_L1     -3.081e-10    1.4e-08     -0.022      0.982   -2.77e-08    2.71e-08\n",
      "ar.L1.Open_SNP500        0.1700      0.020      8.318      0.000       0.130       0.210\n",
      "                                    Roots                                    \n",
      "=============================================================================\n",
      "                  Real          Imaginary           Modulus         Frequency\n",
      "-----------------------------------------------------------------------------\n",
      "AR.1            5.8809           +0.0000j            5.8809            0.0000\n",
      "-----------------------------------------------------------------------------\n"
     ]
    },
    {
     "name": "stderr",
     "output_type": "stream",
     "text": [
      "C:\\Users\\JJ\\AppData\\Roaming\\Python\\Python37\\site-packages\\statsmodels\\tsa\\base\\tsa_model.py:218: ValueWarning: A date index has been provided, but it has no associated frequency information and so will be ignored when e.g. forecasting.\n",
      "  ' ignored when e.g. forecasting.', ValueWarning)\n",
      "C:\\Users\\JJ\\AppData\\Roaming\\Python\\Python37\\site-packages\\statsmodels\\tsa\\base\\tsa_model.py:222: ValueWarning: A date index has been provided, but it is not monotonic and so will be ignored when e.g. forecasting.\n",
      "  ' forecasting.', ValueWarning)\n",
      "C:\\Users\\JJ\\AppData\\Roaming\\Python\\Python37\\site-packages\\statsmodels\\base\\model.py:548: HessianInversionWarning: Inverting hessian failed, no bse or cov_params available\n",
      "  'available', HessianInversionWarning)\n",
      "C:\\Users\\JJ\\AppData\\Roaming\\Python\\Python37\\site-packages\\statsmodels\\base\\model.py:568: ConvergenceWarning: Maximum Likelihood optimization failed to converge. Check mle_retvals\n",
      "  \"Check mle_retvals\", ConvergenceWarning)\n"
     ]
    },
    {
     "name": "stdout",
     "output_type": "stream",
     "text": [
      "                              ARMA Model Results                              \n",
      "==============================================================================\n",
      "Dep. Variable:            Open_SNP500   No. Observations:                 2387\n",
      "Model:                     ARMA(1, 1)   Log Likelihood               -9953.034\n",
      "Method:                       css-mle   S.D. of innovations             15.654\n",
      "Date:                Fri, 10 Apr 2020   AIC                          19948.068\n",
      "Time:                        00:43:16   BIC                          20069.402\n",
      "Sample:                             0   HQIC                         19992.222\n",
      "                                                                              \n",
      "========================================================================================\n",
      "                           coef    std err          z      P>|z|      [0.025      0.975]\n",
      "----------------------------------------------------------------------------------------\n",
      "const                   15.4183      3.474      4.439      0.000       8.610      22.226\n",
      "Open_Pharm_L1            2.8500      0.023    124.813      0.000       2.805       2.895\n",
      "Volume_Pharm_L1      -2.306e-06   8.49e-07     -2.716      0.007   -3.97e-06   -6.42e-07\n",
      "Open_Semicon_L1          0.4877      0.012     42.012      0.000       0.465       0.510\n",
      "Volume_Semicon_L1    -1.374e-07        nan        nan        nan         nan         nan\n",
      "Open_Industrial_L1       3.0321        nan        nan        nan         nan         nan\n",
      "Volume_Industrial_L1  3.538e-07   2.65e-06      0.133      0.894   -4.85e-06    5.56e-06\n",
      "Open_Energy_L1           1.3188      0.052     25.180      0.000       1.216       1.421\n",
      "Volume_Energy_L1      5.119e-08        nan        nan        nan         nan         nan\n",
      "Open_Financial_L1       16.3849      0.219     74.897      0.000      15.956      16.814\n",
      "Volume_Financial_L1  -2.468e-08        nan        nan        nan         nan         nan\n",
      "Open_Tech_L1             7.8101      0.096     81.728      0.000       7.623       7.997\n",
      "Volume_Tech_L1       -2.372e-07        nan        nan        nan         nan         nan\n",
      "Open_Utilities_L1        7.1685        nan        nan        nan         nan         nan\n",
      "Volume_Utilities_L1    4.17e-07        nan        nan        nan         nan         nan\n",
      "Open_Consumer_L1         5.8398        nan        nan        nan         nan         nan\n",
      "Volume_Consumer_L1   -4.856e-07   4.33e-08    -11.225      0.000    -5.7e-07   -4.01e-07\n",
      "Volume_SNP500_L1     -3.081e-10    1.4e-08     -0.022      0.982   -2.77e-08    2.71e-08\n",
      "ar.L1.Open_SNP500        0.7852        nan        nan        nan         nan         nan\n",
      "ma.L1.Open_SNP500       -0.7343        nan        nan        nan         nan         nan\n",
      "                                    Roots                                    \n",
      "=============================================================================\n",
      "                  Real          Imaginary           Modulus         Frequency\n",
      "-----------------------------------------------------------------------------\n",
      "AR.1            1.2736           +0.0000j            1.2736            0.0000\n",
      "MA.1            1.3618           +0.0000j            1.3618            0.0000\n",
      "-----------------------------------------------------------------------------\n"
     ]
    },
    {
     "name": "stderr",
     "output_type": "stream",
     "text": [
      "C:\\Users\\JJ\\AppData\\Roaming\\Python\\Python37\\site-packages\\statsmodels\\tsa\\base\\tsa_model.py:218: ValueWarning: A date index has been provided, but it has no associated frequency information and so will be ignored when e.g. forecasting.\n",
      "  ' ignored when e.g. forecasting.', ValueWarning)\n",
      "C:\\Users\\JJ\\AppData\\Roaming\\Python\\Python37\\site-packages\\statsmodels\\tsa\\base\\tsa_model.py:222: ValueWarning: A date index has been provided, but it is not monotonic and so will be ignored when e.g. forecasting.\n",
      "  ' forecasting.', ValueWarning)\n",
      "C:\\Users\\JJ\\AppData\\Roaming\\Python\\Python37\\site-packages\\statsmodels\\base\\model.py:548: HessianInversionWarning: Inverting hessian failed, no bse or cov_params available\n",
      "  'available', HessianInversionWarning)\n",
      "C:\\Users\\JJ\\AppData\\Roaming\\Python\\Python37\\site-packages\\statsmodels\\base\\model.py:568: ConvergenceWarning: Maximum Likelihood optimization failed to converge. Check mle_retvals\n",
      "  \"Check mle_retvals\", ConvergenceWarning)\n"
     ]
    },
    {
     "name": "stdout",
     "output_type": "stream",
     "text": [
      "                              ARMA Model Results                              \n",
      "==============================================================================\n",
      "Dep. Variable:            Open_SNP500   No. Observations:                 2387\n",
      "Model:                     ARMA(1, 2)   Log Likelihood               -9907.312\n",
      "Method:                       css-mle   S.D. of innovations             15.357\n",
      "Date:                Fri, 10 Apr 2020   AIC                          19858.624\n",
      "Time:                        00:43:22   BIC                          19985.736\n",
      "Sample:                             0   HQIC                         19904.880\n",
      "                                                                              \n",
      "========================================================================================\n",
      "                           coef    std err          z      P>|z|      [0.025      0.975]\n",
      "----------------------------------------------------------------------------------------\n",
      "const                   15.4183      4.120      3.742      0.000       7.343      23.493\n",
      "Open_Pharm_L1            2.8500        nan        nan        nan         nan         nan\n",
      "Volume_Pharm_L1      -2.306e-06    8.3e-07     -2.779      0.005   -3.93e-06    -6.8e-07\n",
      "Open_Semicon_L1          0.4877        nan        nan        nan         nan         nan\n",
      "Volume_Semicon_L1    -1.374e-07        nan        nan        nan         nan         nan\n",
      "Open_Industrial_L1       3.0321        nan        nan        nan         nan         nan\n",
      "Volume_Industrial_L1  3.538e-07   2.62e-06      0.135      0.893   -4.78e-06    5.49e-06\n",
      "Open_Energy_L1           1.3188      0.061     21.503      0.000       1.199       1.439\n",
      "Volume_Energy_L1      5.119e-08        nan        nan        nan         nan         nan\n",
      "Open_Financial_L1       16.3849      0.239     68.695      0.000      15.917      16.852\n",
      "Volume_Financial_L1  -2.468e-08        nan        nan        nan         nan         nan\n",
      "Open_Tech_L1             7.8101      0.104     75.186      0.000       7.607       8.014\n",
      "Volume_Tech_L1       -2.372e-07        nan        nan        nan         nan         nan\n",
      "Open_Utilities_L1        7.1685        nan        nan        nan         nan         nan\n",
      "Volume_Utilities_L1    4.17e-07        nan        nan        nan         nan         nan\n",
      "Open_Consumer_L1         5.8398        nan        nan        nan         nan         nan\n",
      "Volume_Consumer_L1   -4.856e-07   3.64e-08    -13.346      0.000   -5.57e-07   -4.14e-07\n",
      "Volume_SNP500_L1     -3.081e-10    1.4e-08     -0.022      0.982   -2.77e-08    2.71e-08\n",
      "ar.L1.Open_SNP500        0.7662        nan        nan        nan         nan         nan\n",
      "ma.L1.Open_SNP500       -0.7155        nan        nan        nan         nan         nan\n",
      "ma.L2.Open_SNP500        0.0733      0.020      3.651      0.000       0.034       0.113\n",
      "                                    Roots                                    \n",
      "=============================================================================\n",
      "                  Real          Imaginary           Modulus         Frequency\n",
      "-----------------------------------------------------------------------------\n",
      "AR.1            1.3051           +0.0000j            1.3051            0.0000\n",
      "MA.1            1.6905           +0.0000j            1.6905            0.0000\n",
      "MA.2            8.0679           +0.0000j            8.0679            0.0000\n",
      "-----------------------------------------------------------------------------\n"
     ]
    },
    {
     "name": "stderr",
     "output_type": "stream",
     "text": [
      "C:\\Users\\JJ\\AppData\\Roaming\\Python\\Python37\\site-packages\\statsmodels\\tsa\\base\\tsa_model.py:218: ValueWarning: A date index has been provided, but it has no associated frequency information and so will be ignored when e.g. forecasting.\n",
      "  ' ignored when e.g. forecasting.', ValueWarning)\n",
      "C:\\Users\\JJ\\AppData\\Roaming\\Python\\Python37\\site-packages\\statsmodels\\tsa\\base\\tsa_model.py:222: ValueWarning: A date index has been provided, but it is not monotonic and so will be ignored when e.g. forecasting.\n",
      "  ' forecasting.', ValueWarning)\n",
      "C:\\Users\\JJ\\AppData\\Roaming\\Python\\Python37\\site-packages\\statsmodels\\base\\model.py:548: HessianInversionWarning: Inverting hessian failed, no bse or cov_params available\n",
      "  'available', HessianInversionWarning)\n",
      "C:\\Users\\JJ\\AppData\\Roaming\\Python\\Python37\\site-packages\\statsmodels\\base\\model.py:568: ConvergenceWarning: Maximum Likelihood optimization failed to converge. Check mle_retvals\n",
      "  \"Check mle_retvals\", ConvergenceWarning)\n"
     ]
    },
    {
     "name": "stdout",
     "output_type": "stream",
     "text": [
      "                              ARMA Model Results                              \n",
      "==============================================================================\n",
      "Dep. Variable:            Open_SNP500   No. Observations:                 2387\n",
      "Model:                     ARMA(1, 3)   Log Likelihood               -9898.676\n",
      "Method:                       css-mle   S.D. of innovations             15.301\n",
      "Date:                Fri, 10 Apr 2020   AIC                          19843.352\n",
      "Time:                        00:43:24   BIC                          19976.242\n",
      "Sample:                             0   HQIC                         19891.711\n",
      "                                                                              \n",
      "========================================================================================\n",
      "                           coef    std err          z      P>|z|      [0.025      0.975]\n",
      "----------------------------------------------------------------------------------------\n",
      "const                   15.4183      4.566      3.377      0.001       6.468      24.368\n",
      "Open_Pharm_L1            2.8500        nan        nan        nan         nan         nan\n",
      "Volume_Pharm_L1      -2.306e-06   6.92e-07     -3.335      0.001   -3.66e-06   -9.51e-07\n",
      "Open_Semicon_L1          0.4877        nan        nan        nan         nan         nan\n",
      "Volume_Semicon_L1    -1.374e-07        nan        nan        nan         nan         nan\n",
      "Open_Industrial_L1       3.0321        nan        nan        nan         nan         nan\n",
      "Volume_Industrial_L1  3.538e-07    2.6e-06      0.136      0.892   -4.74e-06    5.44e-06\n",
      "Open_Energy_L1           1.3188      0.062     21.153      0.000       1.197       1.441\n",
      "Volume_Energy_L1      5.119e-08        nan        nan        nan         nan         nan\n",
      "Open_Financial_L1       16.3849      0.127    129.397      0.000      16.137      16.633\n",
      "Volume_Financial_L1  -2.468e-08        nan        nan        nan         nan         nan\n",
      "Open_Tech_L1             7.8101      0.071    110.389      0.000       7.671       7.949\n",
      "Volume_Tech_L1       -2.372e-07        nan        nan        nan         nan         nan\n",
      "Open_Utilities_L1        7.1685        nan        nan        nan         nan         nan\n",
      "Volume_Utilities_L1    4.17e-07        nan        nan        nan         nan         nan\n",
      "Open_Consumer_L1         5.8398        nan        nan        nan         nan         nan\n",
      "Volume_Consumer_L1   -4.856e-07        nan        nan        nan         nan         nan\n",
      "Volume_SNP500_L1     -3.081e-10    1.4e-08     -0.022      0.982   -2.77e-08    2.71e-08\n",
      "ar.L1.Open_SNP500        0.7214        nan        nan        nan         nan         nan\n",
      "ma.L1.Open_SNP500       -0.6707        nan        nan        nan         nan         nan\n",
      "ma.L2.Open_SNP500        0.0758      0.026      2.925      0.003       0.025       0.127\n",
      "ma.L3.Open_SNP500        0.0772      0.018      4.344      0.000       0.042       0.112\n",
      "                                    Roots                                    \n",
      "=============================================================================\n",
      "                  Real          Imaginary           Modulus         Frequency\n",
      "-----------------------------------------------------------------------------\n",
      "AR.1            1.3862           +0.0000j            1.3862            0.0000\n",
      "MA.1            1.4995           -1.0022j            1.8036           -0.0938\n",
      "MA.2            1.4995           +1.0022j            1.8036            0.0938\n",
      "MA.3           -3.9810           -0.0000j            3.9810           -0.5000\n",
      "-----------------------------------------------------------------------------\n"
     ]
    },
    {
     "name": "stderr",
     "output_type": "stream",
     "text": [
      "C:\\Users\\JJ\\AppData\\Roaming\\Python\\Python37\\site-packages\\statsmodels\\tsa\\base\\tsa_model.py:218: ValueWarning: A date index has been provided, but it has no associated frequency information and so will be ignored when e.g. forecasting.\n",
      "  ' ignored when e.g. forecasting.', ValueWarning)\n",
      "C:\\Users\\JJ\\AppData\\Roaming\\Python\\Python37\\site-packages\\statsmodels\\tsa\\base\\tsa_model.py:222: ValueWarning: A date index has been provided, but it is not monotonic and so will be ignored when e.g. forecasting.\n",
      "  ' forecasting.', ValueWarning)\n",
      "C:\\Users\\JJ\\AppData\\Roaming\\Python\\Python37\\site-packages\\statsmodels\\base\\model.py:548: HessianInversionWarning: Inverting hessian failed, no bse or cov_params available\n",
      "  'available', HessianInversionWarning)\n",
      "C:\\Users\\JJ\\AppData\\Roaming\\Python\\Python37\\site-packages\\statsmodels\\base\\model.py:568: ConvergenceWarning: Maximum Likelihood optimization failed to converge. Check mle_retvals\n",
      "  \"Check mle_retvals\", ConvergenceWarning)\n"
     ]
    },
    {
     "name": "stdout",
     "output_type": "stream",
     "text": [
      "                              ARMA Model Results                              \n",
      "==============================================================================\n",
      "Dep. Variable:            Open_SNP500   No. Observations:                 2386\n",
      "Model:                     ARMA(2, 0)   Log Likelihood               -9890.371\n",
      "Method:                       css-mle   S.D. of innovations             15.275\n",
      "Date:                Fri, 10 Apr 2020   AIC                          19856.741\n",
      "Time:                        00:43:27   BIC                          20076.282\n",
      "Sample:                             0   HQIC                         19936.634\n",
      "                                                                              \n",
      "========================================================================================\n",
      "                           coef    std err          z      P>|z|      [0.025      0.975]\n",
      "----------------------------------------------------------------------------------------\n",
      "const                   13.5375      4.413      3.067      0.002       4.888      22.187\n",
      "Open_Pharm_L1            3.5941      0.780      4.610      0.000       2.066       5.122\n",
      "Open_Pharm_L2           -0.7112      0.779     -0.912      0.362      -2.239       0.817\n",
      "Volume_Pharm_L1      -2.612e-06   8.87e-07     -2.945      0.003   -4.35e-06   -8.74e-07\n",
      "Volume_Pharm_L2       1.524e-06    8.8e-07      1.731      0.083   -2.01e-07    3.25e-06\n",
      "Open_Semicon_L1          0.8490      0.652      1.301      0.193      -0.430       2.128\n",
      "Open_Semicon_L2         -0.3371      0.651     -0.518      0.604      -1.612       0.938\n",
      "Volume_Semicon_L1    -1.933e-07   8.98e-08     -2.153      0.031   -3.69e-07   -1.73e-08\n",
      "Volume_Semicon_L2    -2.047e-09   9.16e-08     -0.022      0.982   -1.82e-07    1.78e-07\n",
      "Open_Industrial_L1       3.1630      0.639      4.951      0.000       1.911       4.415\n",
      "Open_Industrial_L2      -0.1936      0.636     -0.305      0.761      -1.440       1.052\n",
      "Volume_Industrial_L1 -8.551e-07   2.61e-06     -0.328      0.743   -5.96e-06    4.25e-06\n",
      "Volume_Industrial_L2  1.084e-05   2.61e-06      4.160      0.000    5.73e-06    1.59e-05\n",
      "Open_Energy_L1           1.8614      0.453      4.113      0.000       0.974       2.748\n",
      "Open_Energy_L2          -0.5270      0.453     -1.164      0.244      -1.414       0.360\n",
      "Volume_Energy_L1      -3.33e-08   5.19e-08     -0.642      0.521   -1.35e-07    6.84e-08\n",
      "Volume_Energy_L2      7.688e-08   5.19e-08      1.482      0.138   -2.48e-08    1.79e-07\n",
      "Open_Financial_L1       13.6664      2.399      5.697      0.000       8.964      18.368\n",
      "Open_Financial_L2        2.7208      2.396      1.136      0.256      -1.975       7.417\n",
      "Volume_Financial_L1  -4.307e-08        nan        nan        nan         nan         nan\n",
      "Volume_Financial_L2   3.303e-08        nan        nan        nan         nan         nan\n",
      "Open_Tech_L1             6.7679      1.578      4.289      0.000       3.675       9.861\n",
      "Open_Tech_L2             1.0790      1.574      0.686      0.493      -2.006       4.164\n",
      "Volume_Tech_L1       -3.607e-07   5.92e-08     -6.095      0.000   -4.77e-07   -2.45e-07\n",
      "Volume_Tech_L2         8.14e-08   5.89e-08      1.382      0.167    -3.4e-08    1.97e-07\n",
      "Open_Utilities_L1        5.4365      0.885      6.142      0.000       3.702       7.171\n",
      "Open_Utilities_L2        1.7769      0.886      2.005      0.045       0.040       3.514\n",
      "Volume_Utilities_L1   3.346e-07      6e-08      5.578      0.000    2.17e-07    4.52e-07\n",
      "Volume_Utilities_L2   1.273e-07      6e-08      2.122      0.034    9.72e-09    2.45e-07\n",
      "Open_Consumer_L1         3.8032      0.954      3.987      0.000       1.934       5.673\n",
      "Open_Consumer_L2         2.0339      0.954      2.132      0.033       0.165       3.903\n",
      "Volume_Consumer_L1   -5.648e-07   9.92e-08     -5.694      0.000   -7.59e-07    -3.7e-07\n",
      "Volume_Consumer_L2    5.958e-08      1e-07      0.595      0.552   -1.37e-07    2.56e-07\n",
      "Volume_SNP500_L1      6.018e-11   8.92e-07   6.75e-05      1.000   -1.75e-06    1.75e-06\n",
      "Volume_SNP500_L2     -7.166e-10   8.92e-07     -0.001      0.999   -1.75e-06    1.75e-06\n",
      "ar.L1.Open_SNP500        0.1875      0.028      6.620      0.000       0.132       0.243\n",
      "ar.L2.Open_SNP500        0.1684      0.023      7.299      0.000       0.123       0.214\n",
      "                                    Roots                                    \n",
      "=============================================================================\n",
      "                  Real          Imaginary           Modulus         Frequency\n",
      "-----------------------------------------------------------------------------\n",
      "AR.1            1.9426           +0.0000j            1.9426            0.0000\n",
      "AR.2           -3.0560           +0.0000j            3.0560            0.5000\n",
      "-----------------------------------------------------------------------------\n"
     ]
    },
    {
     "name": "stderr",
     "output_type": "stream",
     "text": [
      "C:\\Users\\JJ\\AppData\\Roaming\\Python\\Python37\\site-packages\\statsmodels\\tsa\\base\\tsa_model.py:218: ValueWarning: A date index has been provided, but it has no associated frequency information and so will be ignored when e.g. forecasting.\n",
      "  ' ignored when e.g. forecasting.', ValueWarning)\n",
      "C:\\Users\\JJ\\AppData\\Roaming\\Python\\Python37\\site-packages\\statsmodels\\tsa\\base\\tsa_model.py:222: ValueWarning: A date index has been provided, but it is not monotonic and so will be ignored when e.g. forecasting.\n",
      "  ' forecasting.', ValueWarning)\n",
      "C:\\Users\\JJ\\AppData\\Roaming\\Python\\Python37\\site-packages\\statsmodels\\base\\model.py:548: HessianInversionWarning: Inverting hessian failed, no bse or cov_params available\n",
      "  'available', HessianInversionWarning)\n",
      "C:\\Users\\JJ\\AppData\\Roaming\\Python\\Python37\\site-packages\\statsmodels\\base\\model.py:568: ConvergenceWarning: Maximum Likelihood optimization failed to converge. Check mle_retvals\n",
      "  \"Check mle_retvals\", ConvergenceWarning)\n"
     ]
    },
    {
     "name": "stdout",
     "output_type": "stream",
     "text": [
      "                              ARMA Model Results                              \n",
      "==============================================================================\n",
      "Dep. Variable:            Open_SNP500   No. Observations:                 2386\n",
      "Model:                     ARMA(2, 1)   Log Likelihood               -9851.731\n",
      "Method:                       css-mle   S.D. of innovations             15.030\n",
      "Date:                Fri, 10 Apr 2020   AIC                          19781.461\n",
      "Time:                        00:43:31   BIC                          20006.779\n",
      "Sample:                             0   HQIC                         19863.456\n",
      "                                                                              \n",
      "========================================================================================\n",
      "                           coef    std err          z      P>|z|      [0.025      0.975]\n",
      "----------------------------------------------------------------------------------------\n",
      "const                   13.5375      4.652      2.910      0.004       4.420      22.655\n",
      "Open_Pharm_L1            3.5941      0.778      4.621      0.000       2.070       5.118\n",
      "Open_Pharm_L2           -0.7112      0.778     -0.914      0.361      -2.236       0.814\n",
      "Volume_Pharm_L1      -2.612e-06   8.87e-07     -2.945      0.003   -4.35e-06   -8.74e-07\n",
      "Volume_Pharm_L2       1.524e-06   8.76e-07      1.740      0.082   -1.92e-07    3.24e-06\n",
      "Open_Semicon_L1          0.8490      0.650      1.306      0.191      -0.425       2.123\n",
      "Open_Semicon_L2         -0.3371      0.647     -0.521      0.603      -1.606       0.932\n",
      "Volume_Semicon_L1    -1.933e-07   8.69e-08     -2.224      0.026   -3.64e-07   -2.29e-08\n",
      "Volume_Semicon_L2    -2.047e-09   8.94e-08     -0.023      0.982   -1.77e-07    1.73e-07\n",
      "Open_Industrial_L1       3.1630      0.638      4.956      0.000       1.912       4.414\n",
      "Open_Industrial_L2      -0.1936      0.631     -0.307      0.759      -1.430       1.043\n",
      "Volume_Industrial_L1 -8.551e-07   2.58e-06     -0.331      0.740   -5.91e-06     4.2e-06\n",
      "Volume_Industrial_L2  1.084e-05   2.58e-06      4.195      0.000    5.78e-06    1.59e-05\n",
      "Open_Energy_L1           1.8614      0.450      4.132      0.000       0.978       2.744\n",
      "Open_Energy_L2          -0.5270      0.451     -1.169      0.242      -1.410       0.356\n",
      "Volume_Energy_L1      -3.33e-08   5.51e-08     -0.605      0.545   -1.41e-07    7.46e-08\n",
      "Volume_Energy_L2      7.688e-08   5.51e-08      1.394      0.163   -3.12e-08    1.85e-07\n",
      "Open_Financial_L1       13.6664      2.411      5.669      0.000       8.941      18.391\n",
      "Open_Financial_L2        2.7208      2.405      1.131      0.258      -1.993       7.435\n",
      "Volume_Financial_L1  -4.307e-08        nan        nan        nan         nan         nan\n",
      "Volume_Financial_L2   3.303e-08        nan        nan        nan         nan         nan\n",
      "Open_Tech_L1             6.7679      1.600      4.230      0.000       3.632       9.904\n",
      "Open_Tech_L2             1.0790      1.591      0.678      0.498      -2.040       4.198\n",
      "Volume_Tech_L1       -3.607e-07   6.08e-08     -5.935      0.000    -4.8e-07   -2.42e-07\n",
      "Volume_Tech_L2         8.14e-08   6.03e-08      1.350      0.177   -3.68e-08       2e-07\n",
      "Open_Utilities_L1        5.4365      0.890      6.106      0.000       3.691       7.182\n",
      "Open_Utilities_L2        1.7769      0.891      1.994      0.046       0.030       3.524\n",
      "Volume_Utilities_L1   3.346e-07   6.09e-08      5.492      0.000    2.15e-07    4.54e-07\n",
      "Volume_Utilities_L2   1.273e-07   6.09e-08      2.090      0.037    7.91e-09    2.47e-07\n",
      "Open_Consumer_L1         3.8032      0.953      3.992      0.000       1.936       5.671\n",
      "Open_Consumer_L2         2.0339      0.953      2.135      0.033       0.167       3.901\n",
      "Volume_Consumer_L1   -5.648e-07   1.01e-07     -5.586      0.000   -7.63e-07   -3.67e-07\n",
      "Volume_Consumer_L2    5.958e-08   1.02e-07      0.583      0.560   -1.41e-07     2.6e-07\n",
      "Volume_SNP500_L1      6.018e-11   9.86e-07   6.11e-05      1.000   -1.93e-06    1.93e-06\n",
      "Volume_SNP500_L2     -7.166e-10   9.86e-07     -0.001      0.999   -1.93e-06    1.93e-06\n",
      "ar.L1.Open_SNP500        0.7039        nan        nan        nan         nan         nan\n",
      "ar.L2.Open_SNP500        0.0523      0.037      1.414      0.157      -0.020       0.125\n",
      "ma.L1.Open_SNP500       -0.5859        nan        nan        nan         nan         nan\n",
      "                                    Roots                                    \n",
      "=============================================================================\n",
      "                  Real          Imaginary           Modulus         Frequency\n",
      "-----------------------------------------------------------------------------\n",
      "AR.1            1.2958           +0.0000j            1.2958            0.0000\n",
      "AR.2          -14.7438           +0.0000j           14.7438            0.5000\n",
      "MA.1            1.7067           +0.0000j            1.7067            0.0000\n",
      "-----------------------------------------------------------------------------\n"
     ]
    },
    {
     "name": "stderr",
     "output_type": "stream",
     "text": [
      "C:\\Users\\JJ\\AppData\\Roaming\\Python\\Python37\\site-packages\\statsmodels\\tsa\\base\\tsa_model.py:218: ValueWarning: A date index has been provided, but it has no associated frequency information and so will be ignored when e.g. forecasting.\n",
      "  ' ignored when e.g. forecasting.', ValueWarning)\n",
      "C:\\Users\\JJ\\AppData\\Roaming\\Python\\Python37\\site-packages\\statsmodels\\tsa\\base\\tsa_model.py:222: ValueWarning: A date index has been provided, but it is not monotonic and so will be ignored when e.g. forecasting.\n",
      "  ' forecasting.', ValueWarning)\n",
      "C:\\Users\\JJ\\AppData\\Roaming\\Python\\Python37\\site-packages\\statsmodels\\base\\model.py:548: HessianInversionWarning: Inverting hessian failed, no bse or cov_params available\n",
      "  'available', HessianInversionWarning)\n",
      "C:\\Users\\JJ\\AppData\\Roaming\\Python\\Python37\\site-packages\\statsmodels\\base\\model.py:568: ConvergenceWarning: Maximum Likelihood optimization failed to converge. Check mle_retvals\n",
      "  \"Check mle_retvals\", ConvergenceWarning)\n"
     ]
    },
    {
     "name": "stdout",
     "output_type": "stream",
     "text": [
      "                              ARMA Model Results                              \n",
      "==============================================================================\n",
      "Dep. Variable:            Open_SNP500   No. Observations:                 2386\n",
      "Model:                     ARMA(2, 2)   Log Likelihood               -9834.171\n",
      "Method:                       css-mle   S.D. of innovations             14.919\n",
      "Date:                Fri, 10 Apr 2020   AIC                          19748.341\n",
      "Time:                        00:43:38   BIC                          19979.436\n",
      "Sample:                             0   HQIC                         19832.439\n",
      "                                                                              \n",
      "========================================================================================\n",
      "                           coef    std err          z      P>|z|      [0.025      0.975]\n",
      "----------------------------------------------------------------------------------------\n",
      "const                   13.5375      5.622      2.408      0.016       2.519      24.556\n",
      "Open_Pharm_L1            3.5941      0.762      4.718      0.000       2.101       5.087\n",
      "Open_Pharm_L2           -0.7112      0.763     -0.933      0.351      -2.206       0.783\n",
      "Volume_Pharm_L1      -2.612e-06   8.12e-07     -3.217      0.001    -4.2e-06   -1.02e-06\n",
      "Volume_Pharm_L2       1.524e-06   6.68e-07      2.280      0.023    2.14e-07    2.83e-06\n",
      "Open_Semicon_L1          0.8490      0.631      1.346      0.178      -0.387       2.085\n",
      "Open_Semicon_L2         -0.3371      0.645     -0.522      0.601      -1.602       0.928\n",
      "Volume_Semicon_L1    -1.933e-07        nan        nan        nan         nan         nan\n",
      "Volume_Semicon_L2    -2.047e-09        nan        nan        nan         nan         nan\n",
      "Open_Industrial_L1       3.1630      0.623      5.081      0.000       1.943       4.383\n",
      "Open_Industrial_L2      -0.1936      0.608     -0.319      0.750      -1.385       0.997\n",
      "Volume_Industrial_L1 -8.551e-07   2.71e-06     -0.316      0.752   -6.17e-06    4.46e-06\n",
      "Volume_Industrial_L2  1.084e-05   2.89e-06      3.745      0.000    5.17e-06    1.65e-05\n",
      "Open_Energy_L1           1.8614      0.445      4.182      0.000       0.989       2.734\n",
      "Open_Energy_L2          -0.5270      0.448     -1.177      0.239      -1.405       0.351\n",
      "Volume_Energy_L1      -3.33e-08   5.54e-08     -0.601      0.548   -1.42e-07    7.53e-08\n",
      "Volume_Energy_L2      7.688e-08   5.63e-08      1.365      0.172   -3.35e-08    1.87e-07\n",
      "Open_Financial_L1       13.6664      2.488      5.492      0.000       8.789      18.544\n",
      "Open_Financial_L2        2.7208      2.558      1.064      0.287      -2.292       7.734\n",
      "Volume_Financial_L1  -4.307e-08        nan        nan        nan         nan         nan\n",
      "Volume_Financial_L2   3.303e-08        nan        nan        nan         nan         nan\n",
      "Open_Tech_L1             6.7679      1.700      3.982      0.000       3.436      10.099\n",
      "Open_Tech_L2             1.0790      1.620      0.666      0.505      -2.097       4.255\n",
      "Volume_Tech_L1       -3.607e-07    6.3e-08     -5.721      0.000   -4.84e-07   -2.37e-07\n",
      "Volume_Tech_L2         8.14e-08   6.67e-08      1.220      0.223   -4.94e-08    2.12e-07\n",
      "Open_Utilities_L1        5.4365      0.956      5.688      0.000       3.563       7.310\n",
      "Open_Utilities_L2        1.7769      0.947      1.877      0.061      -0.078       3.632\n",
      "Volume_Utilities_L1   3.346e-07   6.27e-08      5.332      0.000    2.12e-07    4.58e-07\n",
      "Volume_Utilities_L2   1.273e-07   5.96e-08      2.136      0.033    1.05e-08    2.44e-07\n",
      "Open_Consumer_L1         3.8032      0.963      3.948      0.000       1.915       5.691\n",
      "Open_Consumer_L2         2.0339      0.960      2.118      0.034       0.152       3.916\n",
      "Volume_Consumer_L1   -5.648e-07   9.13e-08     -6.183      0.000   -7.44e-07   -3.86e-07\n",
      "Volume_Consumer_L2    5.958e-08   9.77e-08      0.610      0.542   -1.32e-07    2.51e-07\n",
      "Volume_SNP500_L1      6.018e-11   1.13e-06   5.34e-05      1.000   -2.21e-06    2.21e-06\n",
      "Volume_SNP500_L2     -7.166e-10   1.13e-06     -0.001      0.999   -2.21e-06    2.21e-06\n",
      "ar.L1.Open_SNP500        0.4485      0.454      0.987      0.324      -0.442       1.339\n",
      "ar.L2.Open_SNP500        0.3746      0.569      0.658      0.511      -0.741       1.490\n",
      "ma.L1.Open_SNP500       -0.3300      0.498     -0.663      0.508      -1.306       0.646\n",
      "ma.L2.Open_SNP500       -0.3163      0.616     -0.513      0.608      -1.524       0.891\n",
      "                                    Roots                                    \n",
      "=============================================================================\n",
      "                  Real          Imaginary           Modulus         Frequency\n",
      "-----------------------------------------------------------------------------\n",
      "AR.1            1.1415           +0.0000j            1.1415            0.0000\n",
      "AR.2           -2.3388           +0.0000j            2.3388            0.5000\n",
      "MA.1            1.3313           +0.0000j            1.3313            0.0000\n",
      "MA.2           -2.3748           +0.0000j            2.3748            0.5000\n",
      "-----------------------------------------------------------------------------\n"
     ]
    },
    {
     "name": "stderr",
     "output_type": "stream",
     "text": [
      "C:\\Users\\JJ\\AppData\\Roaming\\Python\\Python37\\site-packages\\statsmodels\\tsa\\base\\tsa_model.py:218: ValueWarning: A date index has been provided, but it has no associated frequency information and so will be ignored when e.g. forecasting.\n",
      "  ' ignored when e.g. forecasting.', ValueWarning)\n",
      "C:\\Users\\JJ\\AppData\\Roaming\\Python\\Python37\\site-packages\\statsmodels\\tsa\\base\\tsa_model.py:222: ValueWarning: A date index has been provided, but it is not monotonic and so will be ignored when e.g. forecasting.\n",
      "  ' forecasting.', ValueWarning)\n",
      "C:\\Users\\JJ\\AppData\\Roaming\\Python\\Python37\\site-packages\\statsmodels\\base\\model.py:548: HessianInversionWarning: Inverting hessian failed, no bse or cov_params available\n",
      "  'available', HessianInversionWarning)\n",
      "C:\\Users\\JJ\\AppData\\Roaming\\Python\\Python37\\site-packages\\statsmodels\\base\\model.py:568: ConvergenceWarning: Maximum Likelihood optimization failed to converge. Check mle_retvals\n",
      "  \"Check mle_retvals\", ConvergenceWarning)\n"
     ]
    },
    {
     "name": "stdout",
     "output_type": "stream",
     "text": [
      "                              ARMA Model Results                              \n",
      "==============================================================================\n",
      "Dep. Variable:            Open_SNP500   No. Observations:                 2386\n",
      "Model:                     ARMA(2, 3)   Log Likelihood               -9833.207\n",
      "Method:                       css-mle   S.D. of innovations             14.913\n",
      "Date:                Fri, 10 Apr 2020   AIC                          19748.414\n",
      "Time:                        00:43:44   BIC                          19985.286\n",
      "Sample:                             0   HQIC                         19834.614\n",
      "                                                                              \n",
      "========================================================================================\n",
      "                           coef    std err          z      P>|z|      [0.025      0.975]\n",
      "----------------------------------------------------------------------------------------\n",
      "const                   13.5375      5.598      2.418      0.016       2.566      24.509\n",
      "Open_Pharm_L1            3.5941      0.901      3.990      0.000       1.829       5.360\n",
      "Open_Pharm_L2           -0.7112      0.840     -0.846      0.397      -2.358       0.936\n",
      "Volume_Pharm_L1      -2.612e-06   1.87e-06     -1.395      0.163   -6.28e-06    1.06e-06\n",
      "Volume_Pharm_L2       1.524e-06   2.04e-06      0.746      0.456   -2.48e-06    5.53e-06\n",
      "Open_Semicon_L1          0.8490      0.772      1.100      0.271      -0.664       2.362\n",
      "Open_Semicon_L2         -0.3371      0.789     -0.428      0.669      -1.883       1.208\n",
      "Volume_Semicon_L1    -1.933e-07   4.04e-07     -0.478      0.632   -9.85e-07    5.99e-07\n",
      "Volume_Semicon_L2    -2.047e-09   3.85e-07     -0.005      0.996   -7.56e-07    7.52e-07\n",
      "Open_Industrial_L1       3.1630      0.703      4.501      0.000       1.786       4.540\n",
      "Open_Industrial_L2      -0.1936      0.990     -0.196      0.845      -2.134       1.747\n",
      "Volume_Industrial_L1 -8.551e-07   2.58e-06     -0.332      0.740    -5.9e-06    4.19e-06\n",
      "Volume_Industrial_L2  1.084e-05   2.61e-06      4.153      0.000    5.72e-06     1.6e-05\n",
      "Open_Energy_L1           1.8614      0.473      3.932      0.000       0.934       2.789\n",
      "Open_Energy_L2          -0.5270      0.445     -1.183      0.237      -1.400       0.346\n",
      "Volume_Energy_L1      -3.33e-08   6.29e-08     -0.529      0.596   -1.57e-07       9e-08\n",
      "Volume_Energy_L2      7.688e-08   5.75e-08      1.338      0.181   -3.58e-08     1.9e-07\n",
      "Open_Financial_L1       13.6664      2.394      5.708      0.000       8.974      18.359\n",
      "Open_Financial_L2        2.7208      2.662      1.022      0.307      -2.497       7.938\n",
      "Volume_Financial_L1  -4.307e-08        nan        nan        nan         nan         nan\n",
      "Volume_Financial_L2   3.303e-08        nan        nan        nan         nan         nan\n",
      "Open_Tech_L1             6.7679      1.762      3.841      0.000       3.314      10.222\n",
      "Open_Tech_L2             1.0790      2.018      0.535      0.593      -2.876       5.034\n",
      "Volume_Tech_L1       -3.607e-07   6.14e-08     -5.880      0.000   -4.81e-07    -2.4e-07\n",
      "Volume_Tech_L2         8.14e-08   7.58e-08      1.074      0.283   -6.72e-08     2.3e-07\n",
      "Open_Utilities_L1        5.4365      0.886      6.138      0.000       3.700       7.173\n",
      "Open_Utilities_L2        1.7769      0.891      1.994      0.046       0.031       3.523\n",
      "Volume_Utilities_L1   3.346e-07    5.9e-08      5.671      0.000    2.19e-07     4.5e-07\n",
      "Volume_Utilities_L2   1.273e-07   5.89e-08      2.163      0.031    1.19e-08    2.43e-07\n",
      "Open_Consumer_L1         3.8032      1.001      3.800      0.000       1.842       5.765\n",
      "Open_Consumer_L2         2.0339      1.012      2.010      0.044       0.051       4.017\n",
      "Volume_Consumer_L1   -5.648e-07   1.84e-07     -3.075      0.002   -9.25e-07   -2.05e-07\n",
      "Volume_Consumer_L2    5.958e-08   1.95e-07      0.305      0.760   -3.23e-07    4.42e-07\n",
      "Volume_SNP500_L1      6.018e-11   1.01e-06   5.96e-05      1.000   -1.98e-06    1.98e-06\n",
      "Volume_SNP500_L2     -7.166e-10   1.01e-06     -0.001      0.999   -1.98e-06    1.98e-06\n",
      "ar.L1.Open_SNP500        0.4314      0.139      3.097      0.002       0.158       0.704\n",
      "ar.L2.Open_SNP500        0.3496      0.156      2.237      0.025       0.043       0.656\n",
      "ma.L1.Open_SNP500       -0.3134      0.117     -2.672      0.008      -0.543      -0.084\n",
      "ma.L2.Open_SNP500       -0.2892      0.136     -2.123      0.034      -0.556      -0.022\n",
      "ma.L3.Open_SNP500        0.0632      0.024      2.619      0.009       0.016       0.111\n",
      "                                    Roots                                    \n",
      "=============================================================================\n",
      "                  Real          Imaginary           Modulus         Frequency\n",
      "-----------------------------------------------------------------------------\n",
      "AR.1            1.1833           +0.0000j            1.1833            0.0000\n",
      "AR.2           -2.4170           +0.0000j            2.4170            0.5000\n",
      "MA.1           -1.9774           +0.0000j            1.9774            0.5000\n",
      "MA.2            1.6227           +0.0000j            1.6227            0.0000\n",
      "MA.3            4.9283           +0.0000j            4.9283            0.0000\n",
      "-----------------------------------------------------------------------------\n"
     ]
    },
    {
     "name": "stderr",
     "output_type": "stream",
     "text": [
      "C:\\Users\\JJ\\AppData\\Roaming\\Python\\Python37\\site-packages\\statsmodels\\tsa\\base\\tsa_model.py:218: ValueWarning: A date index has been provided, but it has no associated frequency information and so will be ignored when e.g. forecasting.\n",
      "  ' ignored when e.g. forecasting.', ValueWarning)\n",
      "C:\\Users\\JJ\\AppData\\Roaming\\Python\\Python37\\site-packages\\statsmodels\\tsa\\base\\tsa_model.py:222: ValueWarning: A date index has been provided, but it is not monotonic and so will be ignored when e.g. forecasting.\n",
      "  ' forecasting.', ValueWarning)\n",
      "C:\\Users\\JJ\\AppData\\Roaming\\Python\\Python37\\site-packages\\statsmodels\\base\\model.py:548: HessianInversionWarning: Inverting hessian failed, no bse or cov_params available\n",
      "  'available', HessianInversionWarning)\n",
      "C:\\Users\\JJ\\AppData\\Roaming\\Python\\Python37\\site-packages\\statsmodels\\base\\model.py:568: ConvergenceWarning: Maximum Likelihood optimization failed to converge. Check mle_retvals\n",
      "  \"Check mle_retvals\", ConvergenceWarning)\n"
     ]
    },
    {
     "name": "stdout",
     "output_type": "stream",
     "text": [
      "                              ARMA Model Results                              \n",
      "==============================================================================\n",
      "Dep. Variable:            Open_SNP500   No. Observations:                 2385\n",
      "Model:                     ARMA(3, 0)   Log Likelihood               -9817.001\n",
      "Method:                       css-mle   S.D. of innovations             14.838\n",
      "Date:                Fri, 10 Apr 2020   AIC                          19746.003\n",
      "Time:                        00:43:53   BIC                          20069.512\n",
      "Sample:                             0   HQIC                         19863.733\n",
      "                                                                              \n",
      "========================================================================================\n",
      "                           coef    std err          z      P>|z|      [0.025      0.975]\n",
      "----------------------------------------------------------------------------------------\n",
      "const                   14.8897      5.300      2.810      0.005       4.502      25.277\n",
      "Open_Pharm_L1            3.5897      0.753      4.765      0.000       2.113       5.066\n",
      "Open_Pharm_L2           -0.3684      0.957     -0.385      0.700      -2.244       1.507\n",
      "Open_Pharm_L3           -0.3665      0.742     -0.494      0.621      -1.821       1.088\n",
      "Volume_Pharm_L1      -2.587e-06    8.7e-07     -2.972      0.003   -4.29e-06   -8.81e-07\n",
      "Volume_Pharm_L2       1.534e-06   8.89e-07      1.724      0.085   -2.09e-07    3.28e-06\n",
      "Volume_Pharm_L3      -7.782e-07   8.83e-07     -0.881      0.378   -2.51e-06    9.53e-07\n",
      "Open_Semicon_L1          0.6929      0.634      1.094      0.274      -0.549       1.935\n",
      "Open_Semicon_L2          0.0703      0.788      0.089      0.929      -1.473       1.614\n",
      "Open_Semicon_L3         -0.2729      0.614     -0.444      0.657      -1.477       0.931\n",
      "Volume_Semicon_L1    -2.075e-07   8.31e-08     -2.497      0.013    -3.7e-07   -4.46e-08\n",
      "Volume_Semicon_L2    -1.159e-08   1.05e-07     -0.110      0.912   -2.18e-07    1.94e-07\n",
      "Volume_Semicon_L3     5.059e-08   9.71e-08      0.521      0.602    -1.4e-07    2.41e-07\n",
      "Open_Industrial_L1       2.8844      0.606      4.762      0.000       1.697       4.072\n",
      "Open_Industrial_L2      -0.7664      0.769     -0.996      0.319      -2.274       0.741\n",
      "Open_Industrial_L3       0.8902      0.612      1.454      0.146      -0.310       2.090\n",
      "Volume_Industrial_L1 -1.423e-06   2.54e-06     -0.560      0.575    -6.4e-06    3.56e-06\n",
      "Volume_Industrial_L2  9.589e-06   2.53e-06      3.795      0.000    4.64e-06    1.45e-05\n",
      "Volume_Industrial_L3  6.656e-06   2.56e-06      2.602      0.009    1.64e-06    1.17e-05\n",
      "Open_Energy_L1           1.7675      0.442      3.996      0.000       0.901       2.634\n",
      "Open_Energy_L2           0.1031      0.583      0.177      0.860      -1.040       1.246\n",
      "Open_Energy_L3          -0.5418      0.443     -1.222      0.222      -1.410       0.327\n",
      "Volume_Energy_L1     -1.126e-07        nan        nan        nan         nan         nan\n",
      "Volume_Energy_L2     -9.193e-08   3.84e-08     -2.396      0.017   -1.67e-07   -1.67e-08\n",
      "Volume_Energy_L3      3.149e-07   5.95e-08      5.291      0.000    1.98e-07    4.32e-07\n",
      "Open_Financial_L1       14.2829      2.413      5.919      0.000       9.553      19.012\n",
      "Open_Financial_L2        0.5380      3.045      0.177      0.860      -5.430       6.506\n",
      "Open_Financial_L3        1.5012      2.408      0.623      0.533      -3.218       6.221\n",
      "Volume_Financial_L1  -4.007e-08        nan        nan        nan         nan         nan\n",
      "Volume_Financial_L2   3.843e-08        nan        nan        nan         nan         nan\n",
      "Volume_Financial_L3  -1.199e-08        nan        nan        nan         nan         nan\n",
      "Open_Tech_L1             7.2640      1.597      4.547      0.000       4.133      10.395\n",
      "Open_Tech_L2             0.4007      2.074      0.193      0.847      -3.664       4.465\n",
      "Open_Tech_L3             0.2415      1.472      0.164      0.870      -2.644       3.127\n",
      "Volume_Tech_L1       -3.655e-07   6.15e-08     -5.942      0.000   -4.86e-07   -2.45e-07\n",
      "Volume_Tech_L2        7.136e-12   6.58e-08      0.000      1.000   -1.29e-07    1.29e-07\n",
      "Volume_Tech_L3        1.056e-07   6.78e-08      1.557      0.119   -2.73e-08    2.39e-07\n",
      "Open_Utilities_L1        5.1948      0.906      5.734      0.000       3.419       6.971\n",
      "Open_Utilities_L2        0.3439      1.274      0.270      0.787      -2.154       2.842\n",
      "Open_Utilities_L3        1.6562      0.896      1.847      0.065      -0.101       3.413\n",
      "Volume_Utilities_L1   2.646e-07   6.15e-08      4.305      0.000    1.44e-07    3.85e-07\n",
      "Volume_Utilities_L2   3.172e-08   6.61e-08      0.480      0.631   -9.78e-08    1.61e-07\n",
      "Volume_Utilities_L3   2.611e-07   6.55e-08      3.989      0.000    1.33e-07    3.89e-07\n",
      "Open_Consumer_L1         3.5989      0.917      3.925      0.000       1.802       5.396\n",
      "Open_Consumer_L2         2.8838      1.249      2.310      0.021       0.436       5.331\n",
      "Open_Consumer_L3        -0.7012      0.913     -0.768      0.442      -2.490       1.087\n",
      "Volume_Consumer_L1    -5.47e-07    9.2e-08     -5.948      0.000   -7.27e-07   -3.67e-07\n",
      "Volume_Consumer_L2      3.9e-08   1.12e-07      0.347      0.728   -1.81e-07    2.59e-07\n",
      "Volume_Consumer_L3   -1.193e-07   1.08e-07     -1.102      0.271   -3.32e-07    9.29e-08\n",
      "Volume_SNP500_L1      3.087e-10        nan        nan        nan         nan         nan\n",
      "Volume_SNP500_L2      -2.18e-10        nan        nan        nan         nan         nan\n",
      "Volume_SNP500_L3     -9.081e-10   9.58e-07     -0.001      0.999   -1.88e-06    1.88e-06\n",
      "ar.L1.Open_SNP500        0.1584      0.037      4.274      0.000       0.086       0.231\n",
      "ar.L2.Open_SNP500        0.1322      0.043      3.096      0.002       0.049       0.216\n",
      "ar.L3.Open_SNP500        0.1857      0.025      7.438      0.000       0.137       0.235\n",
      "                                    Roots                                    \n",
      "=============================================================================\n",
      "                  Real          Imaginary           Modulus         Frequency\n",
      "-----------------------------------------------------------------------------\n",
      "AR.1            1.4059           -0.0000j            1.4059           -0.0000\n",
      "AR.2           -1.0591           -1.6460j            1.9573           -0.3410\n",
      "AR.3           -1.0591           +1.6460j            1.9573            0.3410\n",
      "-----------------------------------------------------------------------------\n"
     ]
    },
    {
     "name": "stderr",
     "output_type": "stream",
     "text": [
      "C:\\Users\\JJ\\AppData\\Roaming\\Python\\Python37\\site-packages\\statsmodels\\tsa\\base\\tsa_model.py:218: ValueWarning: A date index has been provided, but it has no associated frequency information and so will be ignored when e.g. forecasting.\n",
      "  ' ignored when e.g. forecasting.', ValueWarning)\n",
      "C:\\Users\\JJ\\AppData\\Roaming\\Python\\Python37\\site-packages\\statsmodels\\tsa\\base\\tsa_model.py:222: ValueWarning: A date index has been provided, but it is not monotonic and so will be ignored when e.g. forecasting.\n",
      "  ' forecasting.', ValueWarning)\n"
     ]
    },
    {
     "ename": "KeyboardInterrupt",
     "evalue": "",
     "output_type": "error",
     "traceback": [
      "\u001b[1;31m---------------------------------------------------------------------------\u001b[0m",
      "\u001b[1;31mKeyboardInterrupt\u001b[0m                         Traceback (most recent call last)",
      "\u001b[1;32m<ipython-input-17-34294fc2f184>\u001b[0m in \u001b[0;36m<module>\u001b[1;34m\u001b[0m\n\u001b[1;32m----> 1\u001b[1;33m \u001b[0mres_full\u001b[0m\u001b[1;33m,\u001b[0m \u001b[0minfo\u001b[0m \u001b[1;33m=\u001b[0m \u001b[0mbest_lagged_model\u001b[0m\u001b[1;33m(\u001b[0m\u001b[0mfull_industries\u001b[0m\u001b[1;33m,\u001b[0m \u001b[0mmax_p_lag\u001b[0m\u001b[1;33m=\u001b[0m\u001b[1;36m5\u001b[0m\u001b[1;33m,\u001b[0m \u001b[0mmax_q_lag\u001b[0m\u001b[1;33m=\u001b[0m\u001b[1;36m3\u001b[0m\u001b[1;33m,\u001b[0m \u001b[0mprint_summ\u001b[0m\u001b[1;33m=\u001b[0m\u001b[1;32mTrue\u001b[0m\u001b[1;33m)\u001b[0m\u001b[1;33m\u001b[0m\u001b[1;33m\u001b[0m\u001b[0m\n\u001b[0m",
      "\u001b[1;32m<ipython-input-15-6fd6cb791b10>\u001b[0m in \u001b[0;36mbest_lagged_model\u001b[1;34m(industries, max_p_lag, max_q_lag, method, start_ic, ic_method, print_summ)\u001b[0m\n\u001b[0;32m     59\u001b[0m             \u001b[1;31m# q can be 0 but p has to be min 1\u001b[0m\u001b[1;33m\u001b[0m\u001b[1;33m\u001b[0m\u001b[1;33m\u001b[0m\u001b[0m\n\u001b[0;32m     60\u001b[0m             \u001b[1;32mtry\u001b[0m\u001b[1;33m:\u001b[0m\u001b[1;33m\u001b[0m\u001b[1;33m\u001b[0m\u001b[0m\n\u001b[1;32m---> 61\u001b[1;33m                 \u001b[0mtemp_res\u001b[0m \u001b[1;33m=\u001b[0m \u001b[0mlagged_df_exog\u001b[0m\u001b[1;33m(\u001b[0m\u001b[0mindustries\u001b[0m\u001b[1;33m=\u001b[0m\u001b[0mindustries\u001b[0m\u001b[1;33m,\u001b[0m \u001b[0morder\u001b[0m\u001b[1;33m=\u001b[0m\u001b[1;33m[\u001b[0m\u001b[0mp\u001b[0m\u001b[1;33m,\u001b[0m\u001b[0mq\u001b[0m\u001b[1;33m]\u001b[0m\u001b[1;33m)\u001b[0m\u001b[1;33m\u001b[0m\u001b[1;33m\u001b[0m\u001b[0m\n\u001b[0m\u001b[0;32m     62\u001b[0m                 \u001b[1;32mif\u001b[0m \u001b[0mprint_summ\u001b[0m\u001b[1;33m:\u001b[0m\u001b[1;33m\u001b[0m\u001b[1;33m\u001b[0m\u001b[0m\n\u001b[0;32m     63\u001b[0m                     \u001b[0mprint\u001b[0m\u001b[1;33m(\u001b[0m\u001b[0mtemp_res\u001b[0m\u001b[1;33m.\u001b[0m\u001b[0msummary\u001b[0m\u001b[1;33m(\u001b[0m\u001b[1;33m)\u001b[0m\u001b[1;33m)\u001b[0m\u001b[1;33m\u001b[0m\u001b[1;33m\u001b[0m\u001b[0m\n",
      "\u001b[1;32m<ipython-input-15-6fd6cb791b10>\u001b[0m in \u001b[0;36mlagged_df_exog\u001b[1;34m(industries, target, method, order, remove_vars)\u001b[0m\n\u001b[0;32m     48\u001b[0m         \u001b[1;32mraise\u001b[0m \u001b[0mException\u001b[0m\u001b[1;33m(\u001b[0m\u001b[1;34m\"method has to be 'ARMA' or 'OLS'.\"\u001b[0m\u001b[1;33m)\u001b[0m\u001b[1;33m\u001b[0m\u001b[1;33m\u001b[0m\u001b[0m\n\u001b[0;32m     49\u001b[0m \u001b[1;33m\u001b[0m\u001b[0m\n\u001b[1;32m---> 50\u001b[1;33m     \u001b[0mresults\u001b[0m \u001b[1;33m=\u001b[0m \u001b[0mmodel\u001b[0m\u001b[1;33m.\u001b[0m\u001b[0mfit\u001b[0m\u001b[1;33m(\u001b[0m\u001b[1;33m)\u001b[0m\u001b[1;33m\u001b[0m\u001b[1;33m\u001b[0m\u001b[0m\n\u001b[0m\u001b[0;32m     51\u001b[0m     \u001b[1;32mreturn\u001b[0m \u001b[0mresults\u001b[0m\u001b[1;33m\u001b[0m\u001b[1;33m\u001b[0m\u001b[0m\n\u001b[0;32m     52\u001b[0m \u001b[1;33m\u001b[0m\u001b[0m\n",
      "\u001b[1;32m~\\AppData\\Roaming\\Python\\Python37\\site-packages\\statsmodels\\tsa\\arima_model.py\u001b[0m in \u001b[0;36mfit\u001b[1;34m(self, start_params, trend, method, transparams, solver, maxiter, full_output, disp, callback, start_ar_lags, **kwargs)\u001b[0m\n\u001b[0;32m    997\u001b[0m                                        \u001b[0mmaxiter\u001b[0m\u001b[1;33m=\u001b[0m\u001b[0mmaxiter\u001b[0m\u001b[1;33m,\u001b[0m\u001b[1;33m\u001b[0m\u001b[1;33m\u001b[0m\u001b[0m\n\u001b[0;32m    998\u001b[0m                                        \u001b[0mfull_output\u001b[0m\u001b[1;33m=\u001b[0m\u001b[0mfull_output\u001b[0m\u001b[1;33m,\u001b[0m \u001b[0mdisp\u001b[0m\u001b[1;33m=\u001b[0m\u001b[0mdisp\u001b[0m\u001b[1;33m,\u001b[0m\u001b[1;33m\u001b[0m\u001b[1;33m\u001b[0m\u001b[0m\n\u001b[1;32m--> 999\u001b[1;33m                                        callback=callback, **kwargs)\n\u001b[0m\u001b[0;32m   1000\u001b[0m         \u001b[0mparams\u001b[0m \u001b[1;33m=\u001b[0m \u001b[0mmlefit\u001b[0m\u001b[1;33m.\u001b[0m\u001b[0mparams\u001b[0m\u001b[1;33m\u001b[0m\u001b[1;33m\u001b[0m\u001b[0m\n\u001b[0;32m   1001\u001b[0m \u001b[1;33m\u001b[0m\u001b[0m\n",
      "\u001b[1;32m~\\AppData\\Roaming\\Python\\Python37\\site-packages\\statsmodels\\base\\model.py\u001b[0m in \u001b[0;36mfit\u001b[1;34m(self, start_params, method, maxiter, full_output, disp, fargs, callback, retall, skip_hessian, **kwargs)\u001b[0m\n\u001b[0;32m    524\u001b[0m                                                        \u001b[0mcallback\u001b[0m\u001b[1;33m=\u001b[0m\u001b[0mcallback\u001b[0m\u001b[1;33m,\u001b[0m\u001b[1;33m\u001b[0m\u001b[1;33m\u001b[0m\u001b[0m\n\u001b[0;32m    525\u001b[0m                                                        \u001b[0mretall\u001b[0m\u001b[1;33m=\u001b[0m\u001b[0mretall\u001b[0m\u001b[1;33m,\u001b[0m\u001b[1;33m\u001b[0m\u001b[1;33m\u001b[0m\u001b[0m\n\u001b[1;32m--> 526\u001b[1;33m                                                        full_output=full_output)\n\u001b[0m\u001b[0;32m    527\u001b[0m \u001b[1;33m\u001b[0m\u001b[0m\n\u001b[0;32m    528\u001b[0m         \u001b[1;31m# NOTE: this is for fit_regularized and should be generalized\u001b[0m\u001b[1;33m\u001b[0m\u001b[1;33m\u001b[0m\u001b[1;33m\u001b[0m\u001b[0m\n",
      "\u001b[1;32m~\\AppData\\Roaming\\Python\\Python37\\site-packages\\statsmodels\\base\\optimizer.py\u001b[0m in \u001b[0;36m_fit\u001b[1;34m(self, objective, gradient, start_params, fargs, kwargs, hessian, method, maxiter, full_output, disp, callback, retall)\u001b[0m\n\u001b[0;32m    216\u001b[0m                             \u001b[0mdisp\u001b[0m\u001b[1;33m=\u001b[0m\u001b[0mdisp\u001b[0m\u001b[1;33m,\u001b[0m \u001b[0mmaxiter\u001b[0m\u001b[1;33m=\u001b[0m\u001b[0mmaxiter\u001b[0m\u001b[1;33m,\u001b[0m \u001b[0mcallback\u001b[0m\u001b[1;33m=\u001b[0m\u001b[0mcallback\u001b[0m\u001b[1;33m,\u001b[0m\u001b[1;33m\u001b[0m\u001b[1;33m\u001b[0m\u001b[0m\n\u001b[0;32m    217\u001b[0m                             \u001b[0mretall\u001b[0m\u001b[1;33m=\u001b[0m\u001b[0mretall\u001b[0m\u001b[1;33m,\u001b[0m \u001b[0mfull_output\u001b[0m\u001b[1;33m=\u001b[0m\u001b[0mfull_output\u001b[0m\u001b[1;33m,\u001b[0m\u001b[1;33m\u001b[0m\u001b[1;33m\u001b[0m\u001b[0m\n\u001b[1;32m--> 218\u001b[1;33m                             hess=hessian)\n\u001b[0m\u001b[0;32m    219\u001b[0m \u001b[1;33m\u001b[0m\u001b[0m\n\u001b[0;32m    220\u001b[0m         optim_settings = {'optimizer': method, 'start_params': start_params,\n",
      "\u001b[1;32m~\\AppData\\Roaming\\Python\\Python37\\site-packages\\statsmodels\\base\\optimizer.py\u001b[0m in \u001b[0;36m_fit_lbfgs\u001b[1;34m(f, score, start_params, fargs, kwargs, disp, maxiter, callback, retall, full_output, hess)\u001b[0m\n\u001b[0;32m    438\u001b[0m                                      \u001b[0mcallback\u001b[0m\u001b[1;33m=\u001b[0m\u001b[0mcallback\u001b[0m\u001b[1;33m,\u001b[0m \u001b[0margs\u001b[0m\u001b[1;33m=\u001b[0m\u001b[0mfargs\u001b[0m\u001b[1;33m,\u001b[0m\u001b[1;33m\u001b[0m\u001b[1;33m\u001b[0m\u001b[0m\n\u001b[0;32m    439\u001b[0m                                      \u001b[0mbounds\u001b[0m\u001b[1;33m=\u001b[0m\u001b[0mbounds\u001b[0m\u001b[1;33m,\u001b[0m \u001b[0mdisp\u001b[0m\u001b[1;33m=\u001b[0m\u001b[0mdisp\u001b[0m\u001b[1;33m,\u001b[0m\u001b[1;33m\u001b[0m\u001b[1;33m\u001b[0m\u001b[0m\n\u001b[1;32m--> 440\u001b[1;33m                                      **extra_kwargs)\n\u001b[0m\u001b[0;32m    441\u001b[0m \u001b[1;33m\u001b[0m\u001b[0m\n\u001b[0;32m    442\u001b[0m     \u001b[1;32mif\u001b[0m \u001b[0mfull_output\u001b[0m\u001b[1;33m:\u001b[0m\u001b[1;33m\u001b[0m\u001b[1;33m\u001b[0m\u001b[0m\n",
      "\u001b[1;32mC:\\ProgramData\\Anaconda3\\lib\\site-packages\\scipy\\optimize\\lbfgsb.py\u001b[0m in \u001b[0;36mfmin_l_bfgs_b\u001b[1;34m(func, x0, fprime, args, approx_grad, bounds, m, factr, pgtol, epsilon, iprint, maxfun, maxiter, disp, callback, maxls)\u001b[0m\n\u001b[0;32m    197\u001b[0m \u001b[1;33m\u001b[0m\u001b[0m\n\u001b[0;32m    198\u001b[0m     res = _minimize_lbfgsb(fun, x0, args=args, jac=jac, bounds=bounds,\n\u001b[1;32m--> 199\u001b[1;33m                            **opts)\n\u001b[0m\u001b[0;32m    200\u001b[0m     d = {'grad': res['jac'],\n\u001b[0;32m    201\u001b[0m          \u001b[1;34m'task'\u001b[0m\u001b[1;33m:\u001b[0m \u001b[0mres\u001b[0m\u001b[1;33m[\u001b[0m\u001b[1;34m'message'\u001b[0m\u001b[1;33m]\u001b[0m\u001b[1;33m,\u001b[0m\u001b[1;33m\u001b[0m\u001b[1;33m\u001b[0m\u001b[0m\n",
      "\u001b[1;32mC:\\ProgramData\\Anaconda3\\lib\\site-packages\\scipy\\optimize\\lbfgsb.py\u001b[0m in \u001b[0;36m_minimize_lbfgsb\u001b[1;34m(fun, x0, args, jac, bounds, disp, maxcor, ftol, gtol, eps, maxfun, maxiter, iprint, callback, maxls, **unknown_options)\u001b[0m\n\u001b[0;32m    343\u001b[0m             \u001b[1;31m# until the completion of the current minimization iteration.\u001b[0m\u001b[1;33m\u001b[0m\u001b[1;33m\u001b[0m\u001b[1;33m\u001b[0m\u001b[0m\n\u001b[0;32m    344\u001b[0m             \u001b[1;31m# Overwrite f and g:\u001b[0m\u001b[1;33m\u001b[0m\u001b[1;33m\u001b[0m\u001b[1;33m\u001b[0m\u001b[0m\n\u001b[1;32m--> 345\u001b[1;33m             \u001b[0mf\u001b[0m\u001b[1;33m,\u001b[0m \u001b[0mg\u001b[0m \u001b[1;33m=\u001b[0m \u001b[0mfunc_and_grad\u001b[0m\u001b[1;33m(\u001b[0m\u001b[0mx\u001b[0m\u001b[1;33m)\u001b[0m\u001b[1;33m\u001b[0m\u001b[1;33m\u001b[0m\u001b[0m\n\u001b[0m\u001b[0;32m    346\u001b[0m         \u001b[1;32melif\u001b[0m \u001b[0mtask_str\u001b[0m\u001b[1;33m.\u001b[0m\u001b[0mstartswith\u001b[0m\u001b[1;33m(\u001b[0m\u001b[1;34mb'NEW_X'\u001b[0m\u001b[1;33m)\u001b[0m\u001b[1;33m:\u001b[0m\u001b[1;33m\u001b[0m\u001b[1;33m\u001b[0m\u001b[0m\n\u001b[0;32m    347\u001b[0m             \u001b[1;31m# new iteration\u001b[0m\u001b[1;33m\u001b[0m\u001b[1;33m\u001b[0m\u001b[1;33m\u001b[0m\u001b[0m\n",
      "\u001b[1;32mC:\\ProgramData\\Anaconda3\\lib\\site-packages\\scipy\\optimize\\lbfgsb.py\u001b[0m in \u001b[0;36mfunc_and_grad\u001b[1;34m(x)\u001b[0m\n\u001b[0;32m    289\u001b[0m         \u001b[1;32mdef\u001b[0m \u001b[0mfunc_and_grad\u001b[0m\u001b[1;33m(\u001b[0m\u001b[0mx\u001b[0m\u001b[1;33m)\u001b[0m\u001b[1;33m:\u001b[0m\u001b[1;33m\u001b[0m\u001b[1;33m\u001b[0m\u001b[0m\n\u001b[0;32m    290\u001b[0m             \u001b[0mf\u001b[0m \u001b[1;33m=\u001b[0m \u001b[0mfun\u001b[0m\u001b[1;33m(\u001b[0m\u001b[0mx\u001b[0m\u001b[1;33m,\u001b[0m \u001b[1;33m*\u001b[0m\u001b[0margs\u001b[0m\u001b[1;33m)\u001b[0m\u001b[1;33m\u001b[0m\u001b[1;33m\u001b[0m\u001b[0m\n\u001b[1;32m--> 291\u001b[1;33m             \u001b[0mg\u001b[0m \u001b[1;33m=\u001b[0m \u001b[0m_approx_fprime_helper\u001b[0m\u001b[1;33m(\u001b[0m\u001b[0mx\u001b[0m\u001b[1;33m,\u001b[0m \u001b[0mfun\u001b[0m\u001b[1;33m,\u001b[0m \u001b[0mepsilon\u001b[0m\u001b[1;33m,\u001b[0m \u001b[0margs\u001b[0m\u001b[1;33m=\u001b[0m\u001b[0margs\u001b[0m\u001b[1;33m,\u001b[0m \u001b[0mf0\u001b[0m\u001b[1;33m=\u001b[0m\u001b[0mf\u001b[0m\u001b[1;33m)\u001b[0m\u001b[1;33m\u001b[0m\u001b[1;33m\u001b[0m\u001b[0m\n\u001b[0m\u001b[0;32m    292\u001b[0m             \u001b[1;32mreturn\u001b[0m \u001b[0mf\u001b[0m\u001b[1;33m,\u001b[0m \u001b[0mg\u001b[0m\u001b[1;33m\u001b[0m\u001b[1;33m\u001b[0m\u001b[0m\n\u001b[0;32m    293\u001b[0m     \u001b[1;32melse\u001b[0m\u001b[1;33m:\u001b[0m\u001b[1;33m\u001b[0m\u001b[1;33m\u001b[0m\u001b[0m\n",
      "\u001b[1;32mC:\\ProgramData\\Anaconda3\\lib\\site-packages\\scipy\\optimize\\optimize.py\u001b[0m in \u001b[0;36m_approx_fprime_helper\u001b[1;34m(xk, f, epsilon, args, f0)\u001b[0m\n\u001b[0;32m    695\u001b[0m         \u001b[0mei\u001b[0m\u001b[1;33m[\u001b[0m\u001b[0mk\u001b[0m\u001b[1;33m]\u001b[0m \u001b[1;33m=\u001b[0m \u001b[1;36m1.0\u001b[0m\u001b[1;33m\u001b[0m\u001b[1;33m\u001b[0m\u001b[0m\n\u001b[0;32m    696\u001b[0m         \u001b[0md\u001b[0m \u001b[1;33m=\u001b[0m \u001b[0mepsilon\u001b[0m \u001b[1;33m*\u001b[0m \u001b[0mei\u001b[0m\u001b[1;33m\u001b[0m\u001b[1;33m\u001b[0m\u001b[0m\n\u001b[1;32m--> 697\u001b[1;33m         \u001b[0mdf\u001b[0m \u001b[1;33m=\u001b[0m \u001b[1;33m(\u001b[0m\u001b[0mf\u001b[0m\u001b[1;33m(\u001b[0m\u001b[1;33m*\u001b[0m\u001b[1;33m(\u001b[0m\u001b[1;33m(\u001b[0m\u001b[0mxk\u001b[0m \u001b[1;33m+\u001b[0m \u001b[0md\u001b[0m\u001b[1;33m,\u001b[0m\u001b[1;33m)\u001b[0m \u001b[1;33m+\u001b[0m \u001b[0margs\u001b[0m\u001b[1;33m)\u001b[0m\u001b[1;33m)\u001b[0m \u001b[1;33m-\u001b[0m \u001b[0mf0\u001b[0m\u001b[1;33m)\u001b[0m \u001b[1;33m/\u001b[0m \u001b[0md\u001b[0m\u001b[1;33m[\u001b[0m\u001b[0mk\u001b[0m\u001b[1;33m]\u001b[0m\u001b[1;33m\u001b[0m\u001b[1;33m\u001b[0m\u001b[0m\n\u001b[0m\u001b[0;32m    698\u001b[0m         \u001b[1;32mif\u001b[0m \u001b[1;32mnot\u001b[0m \u001b[0mnp\u001b[0m\u001b[1;33m.\u001b[0m\u001b[0misscalar\u001b[0m\u001b[1;33m(\u001b[0m\u001b[0mdf\u001b[0m\u001b[1;33m)\u001b[0m\u001b[1;33m:\u001b[0m\u001b[1;33m\u001b[0m\u001b[1;33m\u001b[0m\u001b[0m\n\u001b[0;32m    699\u001b[0m             \u001b[1;32mtry\u001b[0m\u001b[1;33m:\u001b[0m\u001b[1;33m\u001b[0m\u001b[1;33m\u001b[0m\u001b[0m\n",
      "\u001b[1;32mC:\\ProgramData\\Anaconda3\\lib\\site-packages\\scipy\\optimize\\optimize.py\u001b[0m in \u001b[0;36mfunction_wrapper\u001b[1;34m(*wrapper_args)\u001b[0m\n\u001b[0;32m    325\u001b[0m     \u001b[1;32mdef\u001b[0m \u001b[0mfunction_wrapper\u001b[0m\u001b[1;33m(\u001b[0m\u001b[1;33m*\u001b[0m\u001b[0mwrapper_args\u001b[0m\u001b[1;33m)\u001b[0m\u001b[1;33m:\u001b[0m\u001b[1;33m\u001b[0m\u001b[1;33m\u001b[0m\u001b[0m\n\u001b[0;32m    326\u001b[0m         \u001b[0mncalls\u001b[0m\u001b[1;33m[\u001b[0m\u001b[1;36m0\u001b[0m\u001b[1;33m]\u001b[0m \u001b[1;33m+=\u001b[0m \u001b[1;36m1\u001b[0m\u001b[1;33m\u001b[0m\u001b[1;33m\u001b[0m\u001b[0m\n\u001b[1;32m--> 327\u001b[1;33m         \u001b[1;32mreturn\u001b[0m \u001b[0mfunction\u001b[0m\u001b[1;33m(\u001b[0m\u001b[1;33m*\u001b[0m\u001b[1;33m(\u001b[0m\u001b[0mwrapper_args\u001b[0m \u001b[1;33m+\u001b[0m \u001b[0margs\u001b[0m\u001b[1;33m)\u001b[0m\u001b[1;33m)\u001b[0m\u001b[1;33m\u001b[0m\u001b[1;33m\u001b[0m\u001b[0m\n\u001b[0m\u001b[0;32m    328\u001b[0m \u001b[1;33m\u001b[0m\u001b[0m\n\u001b[0;32m    329\u001b[0m     \u001b[1;32mreturn\u001b[0m \u001b[0mncalls\u001b[0m\u001b[1;33m,\u001b[0m \u001b[0mfunction_wrapper\u001b[0m\u001b[1;33m\u001b[0m\u001b[1;33m\u001b[0m\u001b[0m\n",
      "\u001b[1;32m~\\AppData\\Roaming\\Python\\Python37\\site-packages\\statsmodels\\base\\model.py\u001b[0m in \u001b[0;36mf\u001b[1;34m(params, *args)\u001b[0m\n\u001b[0;32m    498\u001b[0m \u001b[1;33m\u001b[0m\u001b[0m\n\u001b[0;32m    499\u001b[0m         \u001b[1;32mdef\u001b[0m \u001b[0mf\u001b[0m\u001b[1;33m(\u001b[0m\u001b[0mparams\u001b[0m\u001b[1;33m,\u001b[0m \u001b[1;33m*\u001b[0m\u001b[0margs\u001b[0m\u001b[1;33m)\u001b[0m\u001b[1;33m:\u001b[0m\u001b[1;33m\u001b[0m\u001b[1;33m\u001b[0m\u001b[0m\n\u001b[1;32m--> 500\u001b[1;33m             \u001b[1;32mreturn\u001b[0m \u001b[1;33m-\u001b[0m\u001b[0mself\u001b[0m\u001b[1;33m.\u001b[0m\u001b[0mloglike\u001b[0m\u001b[1;33m(\u001b[0m\u001b[0mparams\u001b[0m\u001b[1;33m,\u001b[0m \u001b[1;33m*\u001b[0m\u001b[0margs\u001b[0m\u001b[1;33m)\u001b[0m \u001b[1;33m/\u001b[0m \u001b[0mnobs\u001b[0m\u001b[1;33m\u001b[0m\u001b[1;33m\u001b[0m\u001b[0m\n\u001b[0m\u001b[0;32m    501\u001b[0m \u001b[1;33m\u001b[0m\u001b[0m\n\u001b[0;32m    502\u001b[0m         \u001b[1;32mif\u001b[0m \u001b[0mmethod\u001b[0m \u001b[1;33m==\u001b[0m \u001b[1;34m'newton'\u001b[0m\u001b[1;33m:\u001b[0m\u001b[1;33m\u001b[0m\u001b[1;33m\u001b[0m\u001b[0m\n",
      "\u001b[1;32m~\\AppData\\Roaming\\Python\\Python37\\site-packages\\statsmodels\\tsa\\arima_model.py\u001b[0m in \u001b[0;36mloglike\u001b[1;34m(self, params, set_sigma2)\u001b[0m\n\u001b[0;32m    808\u001b[0m         \u001b[0mmethod\u001b[0m \u001b[1;33m=\u001b[0m \u001b[0mself\u001b[0m\u001b[1;33m.\u001b[0m\u001b[0mmethod\u001b[0m\u001b[1;33m\u001b[0m\u001b[1;33m\u001b[0m\u001b[0m\n\u001b[0;32m    809\u001b[0m         \u001b[1;32mif\u001b[0m \u001b[0mmethod\u001b[0m \u001b[1;32min\u001b[0m \u001b[1;33m[\u001b[0m\u001b[1;34m'mle'\u001b[0m\u001b[1;33m,\u001b[0m \u001b[1;34m'css-mle'\u001b[0m\u001b[1;33m]\u001b[0m\u001b[1;33m:\u001b[0m\u001b[1;33m\u001b[0m\u001b[1;33m\u001b[0m\u001b[0m\n\u001b[1;32m--> 810\u001b[1;33m             \u001b[1;32mreturn\u001b[0m \u001b[0mself\u001b[0m\u001b[1;33m.\u001b[0m\u001b[0mloglike_kalman\u001b[0m\u001b[1;33m(\u001b[0m\u001b[0mparams\u001b[0m\u001b[1;33m,\u001b[0m \u001b[0mset_sigma2\u001b[0m\u001b[1;33m)\u001b[0m\u001b[1;33m\u001b[0m\u001b[1;33m\u001b[0m\u001b[0m\n\u001b[0m\u001b[0;32m    811\u001b[0m         \u001b[1;32melif\u001b[0m \u001b[0mmethod\u001b[0m \u001b[1;33m==\u001b[0m \u001b[1;34m'css'\u001b[0m\u001b[1;33m:\u001b[0m\u001b[1;33m\u001b[0m\u001b[1;33m\u001b[0m\u001b[0m\n\u001b[0;32m    812\u001b[0m             \u001b[1;32mreturn\u001b[0m \u001b[0mself\u001b[0m\u001b[1;33m.\u001b[0m\u001b[0mloglike_css\u001b[0m\u001b[1;33m(\u001b[0m\u001b[0mparams\u001b[0m\u001b[1;33m,\u001b[0m \u001b[0mset_sigma2\u001b[0m\u001b[1;33m)\u001b[0m\u001b[1;33m\u001b[0m\u001b[1;33m\u001b[0m\u001b[0m\n",
      "\u001b[1;32m~\\AppData\\Roaming\\Python\\Python37\\site-packages\\statsmodels\\tsa\\arima_model.py\u001b[0m in \u001b[0;36mloglike_kalman\u001b[1;34m(self, params, set_sigma2)\u001b[0m\n\u001b[0;32m    818\u001b[0m         \u001b[0mCompute\u001b[0m \u001b[0mexact\u001b[0m \u001b[0mloglikelihood\u001b[0m \u001b[1;32mfor\u001b[0m \u001b[0mARMA\u001b[0m\u001b[1;33m(\u001b[0m\u001b[0mp\u001b[0m\u001b[1;33m,\u001b[0m\u001b[0mq\u001b[0m\u001b[1;33m)\u001b[0m \u001b[0mmodel\u001b[0m \u001b[0mby\u001b[0m \u001b[0mthe\u001b[0m \u001b[0mKalman\u001b[0m \u001b[0mFilter\u001b[0m\u001b[1;33m.\u001b[0m\u001b[1;33m\u001b[0m\u001b[1;33m\u001b[0m\u001b[0m\n\u001b[0;32m    819\u001b[0m         \"\"\"\n\u001b[1;32m--> 820\u001b[1;33m         \u001b[1;32mreturn\u001b[0m \u001b[0mKalmanFilter\u001b[0m\u001b[1;33m.\u001b[0m\u001b[0mloglike\u001b[0m\u001b[1;33m(\u001b[0m\u001b[0mparams\u001b[0m\u001b[1;33m,\u001b[0m \u001b[0mself\u001b[0m\u001b[1;33m,\u001b[0m \u001b[0mset_sigma2\u001b[0m\u001b[1;33m)\u001b[0m\u001b[1;33m\u001b[0m\u001b[1;33m\u001b[0m\u001b[0m\n\u001b[0m\u001b[0;32m    821\u001b[0m \u001b[1;33m\u001b[0m\u001b[0m\n\u001b[0;32m    822\u001b[0m     \u001b[1;32mdef\u001b[0m \u001b[0mloglike_css\u001b[0m\u001b[1;33m(\u001b[0m\u001b[0mself\u001b[0m\u001b[1;33m,\u001b[0m \u001b[0mparams\u001b[0m\u001b[1;33m,\u001b[0m \u001b[0mset_sigma2\u001b[0m\u001b[1;33m=\u001b[0m\u001b[1;32mTrue\u001b[0m\u001b[1;33m)\u001b[0m\u001b[1;33m:\u001b[0m\u001b[1;33m\u001b[0m\u001b[1;33m\u001b[0m\u001b[0m\n",
      "\u001b[1;32m~\\AppData\\Roaming\\Python\\Python37\\site-packages\\statsmodels\\tsa\\kalmanf\\kalmanfilter.py\u001b[0m in \u001b[0;36mloglike\u001b[1;34m(cls, params, arma_model, set_sigma2)\u001b[0m\n\u001b[0;32m    214\u001b[0m         \u001b[1;31m# TODO: this will not work for time-varying parameters\u001b[0m\u001b[1;33m\u001b[0m\u001b[1;33m\u001b[0m\u001b[1;33m\u001b[0m\u001b[0m\n\u001b[0;32m    215\u001b[0m         (y, k, nobs, k_ar, k_ma, k_lags, newparams, Z_mat, m, R_mat, T_mat,\n\u001b[1;32m--> 216\u001b[1;33m          paramsdtype) = cls._init_kalman_state(params, arma_model)\n\u001b[0m\u001b[0;32m    217\u001b[0m         \u001b[1;32mif\u001b[0m \u001b[0mnp\u001b[0m\u001b[1;33m.\u001b[0m\u001b[0missubdtype\u001b[0m\u001b[1;33m(\u001b[0m\u001b[0mparamsdtype\u001b[0m\u001b[1;33m,\u001b[0m \u001b[0mnp\u001b[0m\u001b[1;33m.\u001b[0m\u001b[0mfloat64\u001b[0m\u001b[1;33m)\u001b[0m\u001b[1;33m:\u001b[0m\u001b[1;33m\u001b[0m\u001b[1;33m\u001b[0m\u001b[0m\n\u001b[0;32m    218\u001b[0m             loglike, sigma2 = kalman_loglike.kalman_loglike_double(\n",
      "\u001b[1;32m~\\AppData\\Roaming\\Python\\Python37\\site-packages\\statsmodels\\tsa\\kalmanf\\kalmanfilter.py\u001b[0m in \u001b[0;36m_init_kalman_state\u001b[1;34m(cls, params, arma_model)\u001b[0m\n\u001b[0;32m    163\u001b[0m         \"\"\"\n\u001b[0;32m    164\u001b[0m         \u001b[0mparamsdtype\u001b[0m \u001b[1;33m=\u001b[0m \u001b[0mparams\u001b[0m\u001b[1;33m.\u001b[0m\u001b[0mdtype\u001b[0m\u001b[1;33m\u001b[0m\u001b[1;33m\u001b[0m\u001b[0m\n\u001b[1;32m--> 165\u001b[1;33m         \u001b[0my\u001b[0m \u001b[1;33m=\u001b[0m \u001b[0marma_model\u001b[0m\u001b[1;33m.\u001b[0m\u001b[0mendog\u001b[0m\u001b[1;33m.\u001b[0m\u001b[0mcopy\u001b[0m\u001b[1;33m(\u001b[0m\u001b[1;33m)\u001b[0m\u001b[1;33m.\u001b[0m\u001b[0mastype\u001b[0m\u001b[1;33m(\u001b[0m\u001b[0mparamsdtype\u001b[0m\u001b[1;33m)\u001b[0m\u001b[1;33m\u001b[0m\u001b[1;33m\u001b[0m\u001b[0m\n\u001b[0m\u001b[0;32m    166\u001b[0m         \u001b[0mk\u001b[0m \u001b[1;33m=\u001b[0m \u001b[0marma_model\u001b[0m\u001b[1;33m.\u001b[0m\u001b[0mk_exog\u001b[0m \u001b[1;33m+\u001b[0m \u001b[0marma_model\u001b[0m\u001b[1;33m.\u001b[0m\u001b[0mk_trend\u001b[0m\u001b[1;33m\u001b[0m\u001b[1;33m\u001b[0m\u001b[0m\n\u001b[0;32m    167\u001b[0m         \u001b[0mnobs\u001b[0m \u001b[1;33m=\u001b[0m \u001b[0marma_model\u001b[0m\u001b[1;33m.\u001b[0m\u001b[0mnobs\u001b[0m\u001b[1;33m\u001b[0m\u001b[1;33m\u001b[0m\u001b[0m\n",
      "\u001b[1;31mKeyboardInterrupt\u001b[0m: "
     ]
    }
   ],
   "source": [
    "res_full, info = best_lagged_model(full_industries, max_p_lag=5, max_q_lag=3, print_summ=True)"
   ]
  },
  {
   "cell_type": "code",
   "execution_count": null,
   "metadata": {},
   "outputs": [],
   "source": [
    "import json\n",
    "with open('./arma_adl_full.json', 'w') as fout:\n",
    "    json.dump(info , fout)\n",
    "    \n",
    "\"\"\"\n",
    "To load it:\n",
    "with open('./arma_adl_full.json', 'w') as fin:\n",
    "    info = json.load(fin)\n",
    "\n",
    "print(info)\n",
    "\"\"\""
   ]
  },
  {
   "cell_type": "code",
   "execution_count": null,
   "metadata": {
    "scrolled": true
   },
   "outputs": [],
   "source": [
    "print(res_full.summary())"
   ]
  },
  {
   "cell_type": "markdown",
   "metadata": {},
   "source": [
    "Seems like **ARMA(4,0)** fits the full model the best.\n",
    "\n",
    "The full model has some variables where p-values are not significant. We remove some of those that have the highest p-values (> 0.5). And recompute the ARMA model after removing those variables."
   ]
  },
  {
   "cell_type": "markdown",
   "metadata": {},
   "source": []
  },
  {
   "cell_type": "code",
   "execution_count": null,
   "metadata": {
    "scrolled": true
   },
   "outputs": [],
   "source": []
  },
  {
   "cell_type": "code",
   "execution_count": null,
   "metadata": {},
   "outputs": [],
   "source": []
  },
  {
   "cell_type": "markdown",
   "metadata": {},
   "source": [
    "### Extras"
   ]
  },
  {
   "cell_type": "code",
   "execution_count": null,
   "metadata": {
    "scrolled": true
   },
   "outputs": [],
   "source": [
    "pharm_utils = build_and_model_VAR(df, [\"Pharm\",\"Utilities\"])\n",
    "data_prep.get_lagged_df(pharm_utils,col2lag=list(pharm_utils.columns), n=3)"
   ]
  },
  {
   "cell_type": "code",
   "execution_count": null,
   "metadata": {
    "scrolled": true
   },
   "outputs": [],
   "source": [
    "print(res.aic)\n",
    "print(res.bic)\n",
    "print(res.fittedvalues[-10:])\n",
    "\n",
    "\"\"\"\n",
    "If the model is an ARMAX and out-of-sample forecasting is requested, exog must be given. \n",
    "exog must be aligned so that exog[0] is used to produce the first out-of-sample forecast.\n",
    "\"\"\"\n",
    "# print(res.predict(start=2568, end=2570))\n",
    "\n",
    "res.summary()"
   ]
  },
  {
   "cell_type": "code",
   "execution_count": null,
   "metadata": {},
   "outputs": [],
   "source": [
    "## forecasting\n",
    "lag_order = results.k_ar\n",
    "lag_order\n",
    "# results.forecast(data.values[-lag_order:], 5)\n",
    "# results.plot_forecast(10)\n",
    "\n",
    "# We can do 2 tests as well, Granger casuality and Normality\n",
    "results.test_causality('Open_SNP500', ['Open_Utilities', 'Open_Pharm'], kind='f')\n",
    "# results.test_normality()"
   ]
  },
  {
   "cell_type": "code",
   "execution_count": null,
   "metadata": {
    "scrolled": true
   },
   "outputs": [],
   "source": [
    "df.columns"
   ]
  },
  {
   "cell_type": "code",
   "execution_count": null,
   "metadata": {},
   "outputs": [],
   "source": []
  }
 ],
 "metadata": {
  "kernelspec": {
   "display_name": "Python 3",
   "language": "python",
   "name": "python3"
  },
  "language_info": {
   "codemirror_mode": {
    "name": "ipython",
    "version": 3
   },
   "file_extension": ".py",
   "mimetype": "text/x-python",
   "name": "python",
   "nbconvert_exporter": "python",
   "pygments_lexer": "ipython3",
   "version": "3.7.6"
  }
 },
 "nbformat": 4,
 "nbformat_minor": 4
}
