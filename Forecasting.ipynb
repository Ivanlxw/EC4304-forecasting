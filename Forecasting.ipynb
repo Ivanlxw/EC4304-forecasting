{
 "cells": [
  {
   "cell_type": "markdown",
   "metadata": {},
   "source": [
    "Run the following line if you don't have any of the libraries"
   ]
  },
  {
   "cell_type": "code",
   "execution_count": null,
   "metadata": {
    "scrolled": false
   },
   "outputs": [],
   "source": [
    "# %%bash\n",
    "# pip install statsmodels pandas numpy"
   ]
  },
  {
   "cell_type": "code",
   "execution_count": 2,
   "metadata": {},
   "outputs": [],
   "source": [
    "import warnings\n",
    "warnings.filterwarnings('ignore')\n",
    "\n",
    "import numpy as np\n",
    "import pandas as pd\n",
    "import matplotlib.pyplot as plt\n",
    "import statsmodels\n",
    "from statsmodels.tsa.ar_model import AutoReg, ar_select_order\n",
    "from statsmodels.graphics.tsaplots import plot_acf, plot_pacf\n",
    "from statsmodels.tsa.arima_model import ARMA\n",
    "\n",
    "import data_prep\n",
    "import eval_utils\n",
    "from eval_utils import build_and_model_VAR"
   ]
  },
  {
   "cell_type": "code",
   "execution_count": 3,
   "metadata": {
    "scrolled": true
   },
   "outputs": [
    {
     "data": {
      "text/html": [
       "<div>\n",
       "<style scoped>\n",
       "    .dataframe tbody tr th:only-of-type {\n",
       "        vertical-align: middle;\n",
       "    }\n",
       "\n",
       "    .dataframe tbody tr th {\n",
       "        vertical-align: top;\n",
       "    }\n",
       "\n",
       "    .dataframe thead th {\n",
       "        text-align: right;\n",
       "    }\n",
       "</style>\n",
       "<table border=\"1\" class=\"dataframe\">\n",
       "  <thead>\n",
       "    <tr style=\"text-align: right;\">\n",
       "      <th></th>\n",
       "      <th>Open</th>\n",
       "      <th>High</th>\n",
       "      <th>Low</th>\n",
       "      <th>Close</th>\n",
       "      <th>Adj Close</th>\n",
       "      <th>Volume</th>\n",
       "      <th>Adj Close_1</th>\n",
       "      <th>Adj Close_2</th>\n",
       "      <th>Adj Close_3</th>\n",
       "    </tr>\n",
       "    <tr>\n",
       "      <th>Date</th>\n",
       "      <th></th>\n",
       "      <th></th>\n",
       "      <th></th>\n",
       "      <th></th>\n",
       "      <th></th>\n",
       "      <th></th>\n",
       "      <th></th>\n",
       "      <th></th>\n",
       "      <th></th>\n",
       "    </tr>\n",
       "  </thead>\n",
       "  <tbody>\n",
       "    <tr>\n",
       "      <th>2020-03-16</th>\n",
       "      <td>27.950001</td>\n",
       "      <td>31.120001</td>\n",
       "      <td>27.670000</td>\n",
       "      <td>27.809999</td>\n",
       "      <td>27.809999</td>\n",
       "      <td>40233600</td>\n",
       "      <td>32.189999</td>\n",
       "      <td>29.469999</td>\n",
       "      <td>33.669998</td>\n",
       "    </tr>\n",
       "    <tr>\n",
       "      <th>2020-03-17</th>\n",
       "      <td>28.080000</td>\n",
       "      <td>29.180000</td>\n",
       "      <td>26.950001</td>\n",
       "      <td>28.000000</td>\n",
       "      <td>28.000000</td>\n",
       "      <td>45443600</td>\n",
       "      <td>27.809999</td>\n",
       "      <td>32.189999</td>\n",
       "      <td>29.469999</td>\n",
       "    </tr>\n",
       "    <tr>\n",
       "      <th>2020-03-18</th>\n",
       "      <td>26.040001</td>\n",
       "      <td>26.580000</td>\n",
       "      <td>22.879999</td>\n",
       "      <td>23.980000</td>\n",
       "      <td>23.980000</td>\n",
       "      <td>52135800</td>\n",
       "      <td>28.000000</td>\n",
       "      <td>27.809999</td>\n",
       "      <td>32.189999</td>\n",
       "    </tr>\n",
       "    <tr>\n",
       "      <th>2020-03-19</th>\n",
       "      <td>24.330000</td>\n",
       "      <td>25.709999</td>\n",
       "      <td>22.980000</td>\n",
       "      <td>25.610001</td>\n",
       "      <td>25.610001</td>\n",
       "      <td>52226500</td>\n",
       "      <td>23.980000</td>\n",
       "      <td>28.000000</td>\n",
       "      <td>27.809999</td>\n",
       "    </tr>\n",
       "    <tr>\n",
       "      <th>2020-03-20</th>\n",
       "      <td>26.260000</td>\n",
       "      <td>26.840000</td>\n",
       "      <td>24.760000</td>\n",
       "      <td>25.860001</td>\n",
       "      <td>25.860001</td>\n",
       "      <td>58313200</td>\n",
       "      <td>25.610001</td>\n",
       "      <td>23.980000</td>\n",
       "      <td>28.000000</td>\n",
       "    </tr>\n",
       "  </tbody>\n",
       "</table>\n",
       "</div>"
      ],
      "text/plain": [
       "                 Open       High        Low      Close  Adj Close    Volume  \\\n",
       "Date                                                                          \n",
       "2020-03-16  27.950001  31.120001  27.670000  27.809999  27.809999  40233600   \n",
       "2020-03-17  28.080000  29.180000  26.950001  28.000000  28.000000  45443600   \n",
       "2020-03-18  26.040001  26.580000  22.879999  23.980000  23.980000  52135800   \n",
       "2020-03-19  24.330000  25.709999  22.980000  25.610001  25.610001  52226500   \n",
       "2020-03-20  26.260000  26.840000  24.760000  25.860001  25.860001  58313200   \n",
       "\n",
       "            Adj Close_1  Adj Close_2  Adj Close_3  \n",
       "Date                                               \n",
       "2020-03-16    32.189999    29.469999    33.669998  \n",
       "2020-03-17    27.809999    32.189999    29.469999  \n",
       "2020-03-18    28.000000    27.809999    32.189999  \n",
       "2020-03-19    23.980000    28.000000    27.809999  \n",
       "2020-03-20    25.610001    23.980000    28.000000  "
      ]
     },
     "execution_count": 3,
     "metadata": {},
     "output_type": "execute_result"
    }
   ],
   "source": [
    "data_prep.get_lagged(\"./data/XLE_energy_etf.csv\", n=3).tail()"
   ]
  },
  {
   "cell_type": "code",
   "execution_count": 4,
   "metadata": {},
   "outputs": [
    {
     "data": {
      "text/html": [
       "<div>\n",
       "<style scoped>\n",
       "    .dataframe tbody tr th:only-of-type {\n",
       "        vertical-align: middle;\n",
       "    }\n",
       "\n",
       "    .dataframe tbody tr th {\n",
       "        vertical-align: top;\n",
       "    }\n",
       "\n",
       "    .dataframe thead th {\n",
       "        text-align: right;\n",
       "    }\n",
       "</style>\n",
       "<table border=\"1\" class=\"dataframe\">\n",
       "  <thead>\n",
       "    <tr style=\"text-align: right;\">\n",
       "      <th></th>\n",
       "      <th>Open</th>\n",
       "      <th>High</th>\n",
       "      <th>Low</th>\n",
       "      <th>Close</th>\n",
       "      <th>Adj Close</th>\n",
       "      <th>Volume</th>\n",
       "    </tr>\n",
       "    <tr>\n",
       "      <th>Date</th>\n",
       "      <th></th>\n",
       "      <th></th>\n",
       "      <th></th>\n",
       "      <th></th>\n",
       "      <th></th>\n",
       "      <th></th>\n",
       "    </tr>\n",
       "  </thead>\n",
       "  <tbody>\n",
       "    <tr>\n",
       "      <th>2010-01-04</th>\n",
       "      <td>1116.560059</td>\n",
       "      <td>1133.869995</td>\n",
       "      <td>1116.560059</td>\n",
       "      <td>1132.989990</td>\n",
       "      <td>1132.989990</td>\n",
       "      <td>3991400000</td>\n",
       "    </tr>\n",
       "    <tr>\n",
       "      <th>2010-01-05</th>\n",
       "      <td>1132.660034</td>\n",
       "      <td>1136.630005</td>\n",
       "      <td>1129.660034</td>\n",
       "      <td>1136.520020</td>\n",
       "      <td>1136.520020</td>\n",
       "      <td>2491020000</td>\n",
       "    </tr>\n",
       "    <tr>\n",
       "      <th>2010-01-06</th>\n",
       "      <td>1135.709961</td>\n",
       "      <td>1139.189941</td>\n",
       "      <td>1133.949951</td>\n",
       "      <td>1137.140015</td>\n",
       "      <td>1137.140015</td>\n",
       "      <td>4972660000</td>\n",
       "    </tr>\n",
       "    <tr>\n",
       "      <th>2010-01-07</th>\n",
       "      <td>1136.270020</td>\n",
       "      <td>1142.459961</td>\n",
       "      <td>1131.319946</td>\n",
       "      <td>1141.689941</td>\n",
       "      <td>1141.689941</td>\n",
       "      <td>5270680000</td>\n",
       "    </tr>\n",
       "    <tr>\n",
       "      <th>2010-01-08</th>\n",
       "      <td>1140.520020</td>\n",
       "      <td>1145.390015</td>\n",
       "      <td>1136.219971</td>\n",
       "      <td>1144.979980</td>\n",
       "      <td>1144.979980</td>\n",
       "      <td>4389590000</td>\n",
       "    </tr>\n",
       "  </tbody>\n",
       "</table>\n",
       "</div>"
      ],
      "text/plain": [
       "                   Open         High          Low        Close    Adj Close  \\\n",
       "Date                                                                          \n",
       "2010-01-04  1116.560059  1133.869995  1116.560059  1132.989990  1132.989990   \n",
       "2010-01-05  1132.660034  1136.630005  1129.660034  1136.520020  1136.520020   \n",
       "2010-01-06  1135.709961  1139.189941  1133.949951  1137.140015  1137.140015   \n",
       "2010-01-07  1136.270020  1142.459961  1131.319946  1141.689941  1141.689941   \n",
       "2010-01-08  1140.520020  1145.390015  1136.219971  1144.979980  1144.979980   \n",
       "\n",
       "                Volume  \n",
       "Date                    \n",
       "2010-01-04  3991400000  \n",
       "2010-01-05  2491020000  \n",
       "2010-01-06  4972660000  \n",
       "2010-01-07  5270680000  \n",
       "2010-01-08  4389590000  "
      ]
     },
     "execution_count": 4,
     "metadata": {},
     "output_type": "execute_result"
    }
   ],
   "source": [
    "pd.read_csv(\"./data/SnP_500.csv\", index_col=\"Date\").head()"
   ]
  },
  {
   "cell_type": "code",
   "execution_count": 5,
   "metadata": {
    "scrolled": true
   },
   "outputs": [
    {
     "data": {
      "text/plain": [
       "<matplotlib.axes._subplots.AxesSubplot at 0x20bc1bd4d48>"
      ]
     },
     "execution_count": 5,
     "metadata": {},
     "output_type": "execute_result"
    },
    {
     "data": {
      "image/png": "[encoded data removed]",
      "text/plain": [
       "<Figure size 432x288 with 1 Axes>"
      ]
     },
     "metadata": {
      "needs_background": "light"
     },
     "output_type": "display_data"
    }
   ],
   "source": [
    "df_perc_returns = data_prep.get_perc_return(\"./data/SnP_500.csv\", column_name=\"Open\")\n",
    "df_perc_returns.plot()"
   ]
  },
  {
   "cell_type": "markdown",
   "metadata": {},
   "source": [
    "The way returns are distributed shows a stationary process with no correlation with time \n",
    "This also leads us to try out GARCH models since we proabably can model these spikes in volatility.\n",
    "\n",
    "Following which, we'll look at the full dataset, a concatnation of all the variables together with S&P500"
   ]
  },
  {
   "cell_type": "code",
   "execution_count": 6,
   "metadata": {
    "scrolled": false
   },
   "outputs": [
    {
     "data": {
      "text/html": [
       "<div>\n",
       "<style scoped>\n",
       "    .dataframe tbody tr th:only-of-type {\n",
       "        vertical-align: middle;\n",
       "    }\n",
       "\n",
       "    .dataframe tbody tr th {\n",
       "        vertical-align: top;\n",
       "    }\n",
       "\n",
       "    .dataframe thead th {\n",
       "        text-align: right;\n",
       "    }\n",
       "</style>\n",
       "<table border=\"1\" class=\"dataframe\">\n",
       "  <thead>\n",
       "    <tr style=\"text-align: right;\">\n",
       "      <th></th>\n",
       "      <th>Adj Close_Pharm</th>\n",
       "      <th>Volume_Pharm</th>\n",
       "      <th>Adj Close_Semicon</th>\n",
       "      <th>Volume_Semicon</th>\n",
       "      <th>Adj Close_Industrial</th>\n",
       "      <th>Volume_Industrial</th>\n",
       "      <th>Adj Close_Energy</th>\n",
       "      <th>Volume_Energy</th>\n",
       "      <th>Adj Close_Financial</th>\n",
       "      <th>Volume_Financial</th>\n",
       "      <th>Adj Close_Tech</th>\n",
       "      <th>Volume_Tech</th>\n",
       "      <th>Adj Close_Utilities</th>\n",
       "      <th>Volume_Utilities</th>\n",
       "      <th>Adj Close_Consumer</th>\n",
       "      <th>Volume_Consumer</th>\n",
       "      <th>Adj Close_SNP500</th>\n",
       "      <th>Volume_SNP500</th>\n",
       "    </tr>\n",
       "    <tr>\n",
       "      <th>Date</th>\n",
       "      <th></th>\n",
       "      <th></th>\n",
       "      <th></th>\n",
       "      <th></th>\n",
       "      <th></th>\n",
       "      <th></th>\n",
       "      <th></th>\n",
       "      <th></th>\n",
       "      <th></th>\n",
       "      <th></th>\n",
       "      <th></th>\n",
       "      <th></th>\n",
       "      <th></th>\n",
       "      <th></th>\n",
       "      <th></th>\n",
       "      <th></th>\n",
       "      <th></th>\n",
       "      <th></th>\n",
       "    </tr>\n",
       "  </thead>\n",
       "  <tbody>\n",
       "    <tr>\n",
       "      <th>4/1/2010</th>\n",
       "      <td>-0.015450</td>\n",
       "      <td>500600</td>\n",
       "      <td>0.000000</td>\n",
       "      <td>12679000</td>\n",
       "      <td>0.121133</td>\n",
       "      <td>55300</td>\n",
       "      <td>1.337844</td>\n",
       "      <td>20009900</td>\n",
       "      <td>1.045284</td>\n",
       "      <td>162650700</td>\n",
       "      <td>0.043401</td>\n",
       "      <td>12167700</td>\n",
       "      <td>0.541733</td>\n",
       "      <td>6426800</td>\n",
       "      <td>0.119717</td>\n",
       "      <td>7620900</td>\n",
       "      <td>0.441644</td>\n",
       "      <td>4298910000</td>\n",
       "    </tr>\n",
       "    <tr>\n",
       "      <th>5/1/2010</th>\n",
       "      <td>0.536562</td>\n",
       "      <td>18800</td>\n",
       "      <td>-0.031617</td>\n",
       "      <td>2033900</td>\n",
       "      <td>0.376432</td>\n",
       "      <td>27600</td>\n",
       "      <td>0.503858</td>\n",
       "      <td>11121400</td>\n",
       "      <td>0.449035</td>\n",
       "      <td>66024100</td>\n",
       "      <td>-0.227089</td>\n",
       "      <td>14927500</td>\n",
       "      <td>-0.467168</td>\n",
       "      <td>7193800</td>\n",
       "      <td>-0.064129</td>\n",
       "      <td>2687600</td>\n",
       "      <td>0.265151</td>\n",
       "      <td>3505080000</td>\n",
       "    </tr>\n",
       "    <tr>\n",
       "      <th>6/1/2010</th>\n",
       "      <td>1.249080</td>\n",
       "      <td>16400</td>\n",
       "      <td>0.977934</td>\n",
       "      <td>1148100</td>\n",
       "      <td>0.816670</td>\n",
       "      <td>571400</td>\n",
       "      <td>0.639237</td>\n",
       "      <td>10844100</td>\n",
       "      <td>0.703183</td>\n",
       "      <td>50421300</td>\n",
       "      <td>0.873890</td>\n",
       "      <td>8177000</td>\n",
       "      <td>0.294376</td>\n",
       "      <td>7856800</td>\n",
       "      <td>0.808171</td>\n",
       "      <td>6192300</td>\n",
       "      <td>0.799854</td>\n",
       "      <td>3238690000</td>\n",
       "    </tr>\n",
       "    <tr>\n",
       "      <th>7/1/2010</th>\n",
       "      <td>-0.837922</td>\n",
       "      <td>69800</td>\n",
       "      <td>-2.192202</td>\n",
       "      <td>3392200</td>\n",
       "      <td>-1.932548</td>\n",
       "      <td>261000</td>\n",
       "      <td>-2.041514</td>\n",
       "      <td>18977300</td>\n",
       "      <td>-1.208479</td>\n",
       "      <td>63257800</td>\n",
       "      <td>-1.553905</td>\n",
       "      <td>13059200</td>\n",
       "      <td>0.570200</td>\n",
       "      <td>17635700</td>\n",
       "      <td>-1.334539</td>\n",
       "      <td>6557000</td>\n",
       "      <td>-1.324856</td>\n",
       "      <td>4188590000</td>\n",
       "    </tr>\n",
       "    <tr>\n",
       "      <th>8/1/2010</th>\n",
       "      <td>0.915656</td>\n",
       "      <td>45200</td>\n",
       "      <td>-0.661596</td>\n",
       "      <td>2835000</td>\n",
       "      <td>-0.200104</td>\n",
       "      <td>95500</td>\n",
       "      <td>0.196063</td>\n",
       "      <td>17445500</td>\n",
       "      <td>0.044139</td>\n",
       "      <td>48512900</td>\n",
       "      <td>0.050617</td>\n",
       "      <td>13518000</td>\n",
       "      <td>-1.178113</td>\n",
       "      <td>15646000</td>\n",
       "      <td>0.740619</td>\n",
       "      <td>8362700</td>\n",
       "      <td>0.197388</td>\n",
       "      <td>3983600000</td>\n",
       "    </tr>\n",
       "    <tr>\n",
       "      <th>...</th>\n",
       "      <td>...</td>\n",
       "      <td>...</td>\n",
       "      <td>...</td>\n",
       "      <td>...</td>\n",
       "      <td>...</td>\n",
       "      <td>...</td>\n",
       "      <td>...</td>\n",
       "      <td>...</td>\n",
       "      <td>...</td>\n",
       "      <td>...</td>\n",
       "      <td>...</td>\n",
       "      <td>...</td>\n",
       "      <td>...</td>\n",
       "      <td>...</td>\n",
       "      <td>...</td>\n",
       "      <td>...</td>\n",
       "      <td>...</td>\n",
       "      <td>...</td>\n",
       "    </tr>\n",
       "    <tr>\n",
       "      <th>24/6/2019</th>\n",
       "      <td>-2.722026</td>\n",
       "      <td>686600</td>\n",
       "      <td>-0.592517</td>\n",
       "      <td>14581600</td>\n",
       "      <td>-2.821312</td>\n",
       "      <td>29700</td>\n",
       "      <td>-3.307980</td>\n",
       "      <td>35039400</td>\n",
       "      <td>-3.167062</td>\n",
       "      <td>158558700</td>\n",
       "      <td>-2.124984</td>\n",
       "      <td>16506900</td>\n",
       "      <td>-2.031095</td>\n",
       "      <td>14075500</td>\n",
       "      <td>-2.638847</td>\n",
       "      <td>11124000</td>\n",
       "      <td>-2.670549</td>\n",
       "      <td>4586370000</td>\n",
       "    </tr>\n",
       "    <tr>\n",
       "      <th>25/6/2019</th>\n",
       "      <td>0.191134</td>\n",
       "      <td>18000</td>\n",
       "      <td>1.276376</td>\n",
       "      <td>461900</td>\n",
       "      <td>1.386932</td>\n",
       "      <td>81000</td>\n",
       "      <td>1.122118</td>\n",
       "      <td>8434900</td>\n",
       "      <td>1.161625</td>\n",
       "      <td>40325800</td>\n",
       "      <td>1.196105</td>\n",
       "      <td>5714600</td>\n",
       "      <td>0.351488</td>\n",
       "      <td>6507800</td>\n",
       "      <td>0.886610</td>\n",
       "      <td>4365200</td>\n",
       "      <td>0.999288</td>\n",
       "      <td>3102780000</td>\n",
       "    </tr>\n",
       "    <tr>\n",
       "      <th>26/6/2019</th>\n",
       "      <td>-0.223198</td>\n",
       "      <td>52100</td>\n",
       "      <td>-0.746845</td>\n",
       "      <td>1037200</td>\n",
       "      <td>-0.507608</td>\n",
       "      <td>57700</td>\n",
       "      <td>-0.439487</td>\n",
       "      <td>9998300</td>\n",
       "      <td>-1.022594</td>\n",
       "      <td>38428600</td>\n",
       "      <td>-0.718702</td>\n",
       "      <td>8562700</td>\n",
       "      <td>-1.153127</td>\n",
       "      <td>13414500</td>\n",
       "      <td>-1.000450</td>\n",
       "      <td>2558400</td>\n",
       "      <td>-0.654501</td>\n",
       "      <td>2882830000</td>\n",
       "    </tr>\n",
       "    <tr>\n",
       "      <th>27/6/2019</th>\n",
       "      <td>-1.724396</td>\n",
       "      <td>32400</td>\n",
       "      <td>-1.516638</td>\n",
       "      <td>6774600</td>\n",
       "      <td>-0.979898</td>\n",
       "      <td>81700</td>\n",
       "      <td>-1.883018</td>\n",
       "      <td>18477700</td>\n",
       "      <td>-1.377522</td>\n",
       "      <td>43741700</td>\n",
       "      <td>-1.311910</td>\n",
       "      <td>9652300</td>\n",
       "      <td>-1.243129</td>\n",
       "      <td>11542500</td>\n",
       "      <td>-1.071972</td>\n",
       "      <td>7682100</td>\n",
       "      <td>-1.389756</td>\n",
       "      <td>3652120000</td>\n",
       "    </tr>\n",
       "    <tr>\n",
       "      <th>28/6/2019</th>\n",
       "      <td>-2.212457</td>\n",
       "      <td>58600</td>\n",
       "      <td>-3.626477</td>\n",
       "      <td>10923600</td>\n",
       "      <td>-2.981095</td>\n",
       "      <td>131400</td>\n",
       "      <td>-2.978829</td>\n",
       "      <td>21771800</td>\n",
       "      <td>-1.877552</td>\n",
       "      <td>66476800</td>\n",
       "      <td>-2.451385</td>\n",
       "      <td>16809200</td>\n",
       "      <td>-3.753718</td>\n",
       "      <td>25759100</td>\n",
       "      <td>-2.413859</td>\n",
       "      <td>9562500</td>\n",
       "      <td>-2.452207</td>\n",
       "      <td>4233960000</td>\n",
       "    </tr>\n",
       "  </tbody>\n",
       "</table>\n",
       "<p>2388 rows × 18 columns</p>\n",
       "</div>"
      ],
      "text/plain": [
       "           Adj Close_Pharm  Volume_Pharm  Adj Close_Semicon  Volume_Semicon  \\\n",
       "Date                                                                          \n",
       "4/1/2010         -0.015450        500600           0.000000        12679000   \n",
       "5/1/2010          0.536562         18800          -0.031617         2033900   \n",
       "6/1/2010          1.249080         16400           0.977934         1148100   \n",
       "7/1/2010         -0.837922         69800          -2.192202         3392200   \n",
       "8/1/2010          0.915656         45200          -0.661596         2835000   \n",
       "...                    ...           ...                ...             ...   \n",
       "24/6/2019        -2.722026        686600          -0.592517        14581600   \n",
       "25/6/2019         0.191134         18000           1.276376          461900   \n",
       "26/6/2019        -0.223198         52100          -0.746845         1037200   \n",
       "27/6/2019        -1.724396         32400          -1.516638         6774600   \n",
       "28/6/2019        -2.212457         58600          -3.626477        10923600   \n",
       "\n",
       "           Adj Close_Industrial  Volume_Industrial  Adj Close_Energy  \\\n",
       "Date                                                                   \n",
       "4/1/2010               0.121133              55300          1.337844   \n",
       "5/1/2010               0.376432              27600          0.503858   \n",
       "6/1/2010               0.816670             571400          0.639237   \n",
       "7/1/2010              -1.932548             261000         -2.041514   \n",
       "8/1/2010              -0.200104              95500          0.196063   \n",
       "...                         ...                ...               ...   \n",
       "24/6/2019             -2.821312              29700         -3.307980   \n",
       "25/6/2019              1.386932              81000          1.122118   \n",
       "26/6/2019             -0.507608              57700         -0.439487   \n",
       "27/6/2019             -0.979898              81700         -1.883018   \n",
       "28/6/2019             -2.981095             131400         -2.978829   \n",
       "\n",
       "           Volume_Energy  Adj Close_Financial  Volume_Financial  \\\n",
       "Date                                                              \n",
       "4/1/2010        20009900             1.045284         162650700   \n",
       "5/1/2010        11121400             0.449035          66024100   \n",
       "6/1/2010        10844100             0.703183          50421300   \n",
       "7/1/2010        18977300            -1.208479          63257800   \n",
       "8/1/2010        17445500             0.044139          48512900   \n",
       "...                  ...                  ...               ...   \n",
       "24/6/2019       35039400            -3.167062         158558700   \n",
       "25/6/2019        8434900             1.161625          40325800   \n",
       "26/6/2019        9998300            -1.022594          38428600   \n",
       "27/6/2019       18477700            -1.377522          43741700   \n",
       "28/6/2019       21771800            -1.877552          66476800   \n",
       "\n",
       "           Adj Close_Tech  Volume_Tech  Adj Close_Utilities  Volume_Utilities  \\\n",
       "Date                                                                            \n",
       "4/1/2010         0.043401     12167700             0.541733           6426800   \n",
       "5/1/2010        -0.227089     14927500            -0.467168           7193800   \n",
       "6/1/2010         0.873890      8177000             0.294376           7856800   \n",
       "7/1/2010        -1.553905     13059200             0.570200          17635700   \n",
       "8/1/2010         0.050617     13518000            -1.178113          15646000   \n",
       "...                   ...          ...                  ...               ...   \n",
       "24/6/2019       -2.124984     16506900            -2.031095          14075500   \n",
       "25/6/2019        1.196105      5714600             0.351488           6507800   \n",
       "26/6/2019       -0.718702      8562700            -1.153127          13414500   \n",
       "27/6/2019       -1.311910      9652300            -1.243129          11542500   \n",
       "28/6/2019       -2.451385     16809200            -3.753718          25759100   \n",
       "\n",
       "           Adj Close_Consumer  Volume_Consumer  Adj Close_SNP500  \\\n",
       "Date                                                               \n",
       "4/1/2010             0.119717          7620900          0.441644   \n",
       "5/1/2010            -0.064129          2687600          0.265151   \n",
       "6/1/2010             0.808171          6192300          0.799854   \n",
       "7/1/2010            -1.334539          6557000         -1.324856   \n",
       "8/1/2010             0.740619          8362700          0.197388   \n",
       "...                       ...              ...               ...   \n",
       "24/6/2019           -2.638847         11124000         -2.670549   \n",
       "25/6/2019            0.886610          4365200          0.999288   \n",
       "26/6/2019           -1.000450          2558400         -0.654501   \n",
       "27/6/2019           -1.071972          7682100         -1.389756   \n",
       "28/6/2019           -2.413859          9562500         -2.452207   \n",
       "\n",
       "           Volume_SNP500  \n",
       "Date                      \n",
       "4/1/2010      4298910000  \n",
       "5/1/2010      3505080000  \n",
       "6/1/2010      3238690000  \n",
       "7/1/2010      4188590000  \n",
       "8/1/2010      3983600000  \n",
       "...                  ...  \n",
       "24/6/2019     4586370000  \n",
       "25/6/2019     3102780000  \n",
       "26/6/2019     2882830000  \n",
       "27/6/2019     3652120000  \n",
       "28/6/2019     4233960000  \n",
       "\n",
       "[2388 rows x 18 columns]"
      ]
     },
     "execution_count": 6,
     "metadata": {},
     "output_type": "execute_result"
    }
   ],
   "source": [
    "full_industries = [\"Pharm\", \"Semicon\", \"Industrial\", \"Energy\", \"Financial\", \"Tech\", \"Utilities\", \"Consumer\"]\n",
    "df, idx_psuedo_OOB, idx_OOB = data_prep.split_data(\"./data/output.csv\")\n",
    "full_df = pd.read_csv(\"./data/output.csv\")\n",
    "full_df = full_df.set_index(\"Date\")\n",
    "\n",
    "t = build_and_model_VAR(df, full_industries)\n",
    "t"
   ]
  },
  {
   "cell_type": "markdown",
   "metadata": {},
   "source": [
    "Columns are laballed as such:  VARIABLE_SECTOR"
   ]
  },
  {
   "cell_type": "code",
   "execution_count": null,
   "metadata": {},
   "outputs": [],
   "source": [
    "SNP_daily_ret = (df['Adj Close_SNP500']/df['Adj Close_SNP500'].shift(1)) - 1\n",
    "SNP_daily_ret = SNP_daily_ret.dropna()"
   ]
  },
  {
   "cell_type": "code",
   "execution_count": null,
   "metadata": {
    "scrolled": true
   },
   "outputs": [],
   "source": [
    "mod = AutoReg(SNP_daily_ret, 1)\n",
    "res = mod.fit()\n",
    "res.summary()"
   ]
  },
  {
   "cell_type": "code",
   "execution_count": null,
   "metadata": {},
   "outputs": [],
   "source": [
    "plot_acf(SNP_daily_ret, lags=30)\n",
    "plt.show()\n",
    "plot_pacf(SNP_daily_ret, lags=30)\n",
    "plt.show()"
   ]
  },
  {
   "cell_type": "markdown",
   "metadata": {},
   "source": [
    "The ACF shows that after lags of t=2, autocorrelation stays near 0 which means a **MA(2)** model\n",
    "\n",
    "The PACF shows that after lags of t=2, autocorrelation stays near 0 which means an **AR(2)** model"
   ]
  },
  {
   "cell_type": "code",
   "execution_count": null,
   "metadata": {
    "scrolled": true
   },
   "outputs": [],
   "source": [
    "mod = AutoReg(SNP_daily_ret, 2)\n",
    "res = mod.fit()\n",
    "res.summary()"
   ]
  },
  {
   "cell_type": "code",
   "execution_count": null,
   "metadata": {
    "scrolled": true
   },
   "outputs": [],
   "source": [
    "ar2 = ARMA(SNP_daily_ret, order=[2,0])\n",
    "ar2_fit = ar2.fit(disp=0)\n",
    "print (ar2_fit.summary())\n",
    "print('\\n')\n",
    "\n",
    "ma2 = ARMA(SNP_daily_ret, order=[0,2])\n",
    "ma2_fit = ma2.fit(disp=0)\n",
    "print (ma2_fit.summary())\n",
    "print('\\n')\n",
    "\n",
    "arma11 = ARMA(SNP_daily_ret, order=[1,1])\n",
    "arma11_fit = arma11.fit(disp=0)\n",
    "print (arma11_fit.summary())\n",
    "print('\\n')\n"
   ]
  },
  {
   "cell_type": "markdown",
   "metadata": {},
   "source": [
    "AIC values for all the models are extremely similar and hence we look to BIC to decide the best model()\n",
    "\n",
    "It seems like AR(2) does the best out of all the models.\n",
    "\n",
    "However, as shown later, adding MA(q) to AR(2) to eliminate autocorrelations yields higher AIC than ARMA(1,1)."
   ]
  },
  {
   "cell_type": "code",
   "execution_count": null,
   "metadata": {},
   "outputs": [],
   "source": [
    "## some usful attributes that might be used in future\n",
    "\"\"\"\n",
    "arma22_fit.aic\n",
    "arma22_fit.bic\n",
    "arma22_fit.fittedvalues  ## return fitted values of the model\n",
    "arma22_fit.predict(start=2568, end=2570)\n",
    "\"\"\""
   ]
  },
  {
   "cell_type": "code",
   "execution_count": null,
   "metadata": {
    "scrolled": true
   },
   "outputs": [],
   "source": [
    "plot_acf(ar2_fit.fittedvalues)"
   ]
  },
  {
   "cell_type": "markdown",
   "metadata": {},
   "source": [
    "2 lags are present in AR(2) model so we try to fit ARMA(2,2) to rid of the autocorrelations."
   ]
  },
  {
   "cell_type": "code",
   "execution_count": null,
   "metadata": {},
   "outputs": [],
   "source": [
    "arma22 = ARMA(SNP_daily_ret, order=[2,2])\n",
    "arma22_fit = arma22.fit(disp=0)\n",
    "print (arma22_fit.summary())\n",
    "print('\\n')"
   ]
  },
  {
   "cell_type": "markdown",
   "metadata": {},
   "source": [
    "AIC at -15529.724 is marginally lower than AR(2).\n",
    "\n",
    "So far, our benchmarked models are:\n",
    "- AR(2)\n",
    "- ARMA(1,1)\n",
    "- ARMA(2,2)"
   ]
  },
  {
   "cell_type": "markdown",
   "metadata": {},
   "source": [
    "Moving on, we add more variables, to build ADL models that would hopefully beat our benchmark models\n",
    "\n",
    "We'll start from one industry, build ARMA for models with lags $\\in (1,5)$ and then look at their BIC values \n",
    "\n",
    "**Note:** we chose lags from 1 to 5 because 5 represents 1 trading week and we want to quickly be able to spot changes\n",
    "\n",
    "We then choose the lagged_model with lowest BIC (BIC tend to give parsimonous model hence it would better fit our needs to prevent too many variables in our models to prevent overfitting) and iteratively add more industries up to the full model\n",
    "\n",
    "Afterwords, we rid insignificant variables based on their t-stat. We do this iteratively with the final model till all the variables are significant. \n",
    "\n",
    "We note that this method may not be the best method since we didn't cover the full subset to see the lowest AIC/BIC but that is too computationally expensive.\n",
    "\n",
    "By sampling 50 subsets of **n** variables, it will cover a signiicant subset and such iterative addition of variables is generally accepted in statistics."
   ]
  },
  {
   "cell_type": "code",
   "execution_count": null,
   "metadata": {},
   "outputs": [],
   "source": [
    "## Adding more variables\n",
    "from statsmodels.tsa.api import VAR\n",
    "from statsmodels.regression.linear_model import OLS\n",
    "\n",
    "# lagged_df_exog(industries=[\"Pharm\",\"Utilities\"], col2lag=list(pharm_utils.columns))\n",
    "def lagged_df_exog(industries:list, target=\"Open_SNP500\", method=\"ARMA\", order=[2,0], remove_vars=[]):\n",
    "    temp_df = eval_utils.build_and_model_VAR(df, industries)\n",
    "    y = data_prep.get_perc_return_df(temp_df[target])\n",
    "    y = y[order[0]:]\n",
    "    temp_df = temp_df.drop(\"Open_SNP500\", axis=1)\n",
    "    og = temp_df.columns \n",
    "    temp_df = data_prep.get_lagged_df(temp_df,col2lag=list(temp_df.columns), n=order[0])  ## lags every single var\n",
    "    \n",
    "    X_lagged = temp_df.drop(og, axis=1)\n",
    "    if len(remove_vars) != 0:\n",
    "        for colname in remove_vars:\n",
    "            X_lagged = X_lagged.drop(colname, axis=1)\n",
    "    \n",
    "    if method == \"ARMA\":\n",
    "        model = ARMA(y, order=order, exog=X_lagged)\n",
    "    elif method == \"OLS\":\n",
    "        model = OLS(y, X_lagged)\n",
    "    else:\n",
    "        raise Exception(\"method has to be 'ARMA' or 'OLS'.\")\n",
    "        \n",
    "    results = model.fit()\n",
    "    return results\n",
    "\n",
    "full_industries = [\"Pharm\", \"Semicon\", \"Industrial\", \"Energy\", \"Financial\", \"Tech\", \"Utilities\", \"Consumer\"]\n",
    "def best_lagged_model(industries:list, max_p_lag:int, max_q_lag=0, method=\"ARMA\", start_ic=0, ic_method=\"BIC\", print_summ=False):\n",
    "    info = []\n",
    "    ic = start_ic\n",
    "    for p in range(1, max_p_lag+1):\n",
    "        for q in range(max_q_lag+1):\n",
    "            # q can be 0 but p has to be min 1\n",
    "            try:\n",
    "                temp_res = lagged_df_exog(industries=industries, order=[p,q])\n",
    "                if print_summ:\n",
    "                    print(temp_res.summary())\n",
    "            except Exception:\n",
    "                print(Exception)\n",
    "                continue\n",
    "            \n",
    "            ## maybe can append ARMAResults into some global list.\n",
    "            t = {\n",
    "                    \"order\": [p,q],\n",
    "                    \"params\": dict(temp_res.params),\n",
    "                    \"aic\": temp_res.aic,\n",
    "                    \"bic\": temp_res.bic,\n",
    "                }\n",
    "            info.append(t)\n",
    "            if ic_method == \"BIC\":\n",
    "                temp_ic = temp_res.bic\n",
    "            elif ic_method == \"AIC\":\n",
    "                temp_ic = temp_res.aic\n",
    "            else:\n",
    "                raise Exception(\"ic_method argument has to be 'BIC' or 'AIC'.\")\n",
    "            if ic == 0:  ## first iteration only\n",
    "                ic = temp_ic\n",
    "                res = temp_res\n",
    "            elif temp_ic < ic:\n",
    "                ic = temp_ic\n",
    "                res = temp_res\n",
    "    ## res will have the lowest ic. \n",
    "    ## info will be a list of dictionary\n",
    "    return res, info"
   ]
  },
  {
   "cell_type": "markdown",
   "metadata": {},
   "source": [
    "We look at the full model first and find the best lag for the full model."
   ]
  },
  {
   "cell_type": "code",
   "execution_count": null,
   "metadata": {
    "scrolled": true
   },
   "outputs": [],
   "source": [
    "res_full, info = best_lagged_model(full_industries, max_p_lag=5, max_q_lag=3, print_summ=True)"
   ]
  },
  {
   "cell_type": "code",
   "execution_count": null,
   "metadata": {
    "scrolled": true
   },
   "outputs": [],
   "source": [
    "import json\n",
    "with open('./arma_adl_full.json', 'w') as fout:\n",
    "    json.dump(info , fout)\n",
    "    \n",
    "## To load it:\n",
    "with open('./arma_adl_full.json', 'r') as fin:\n",
    "    info = json.load(fin)  ## a list of fict\n",
    "\n",
    "print(info)\n",
    "## Note: Order of lowest AIC can be derived from info."
   ]
  },
  {
   "cell_type": "code",
   "execution_count": null,
   "metadata": {
    "scrolled": true
   },
   "outputs": [],
   "source": [
    "print(res_full.summary())"
   ]
  },
  {
   "cell_type": "markdown",
   "metadata": {},
   "source": [
    "Seems like **ARMA(4,0)** fits the full model the best.\n",
    "\n",
    "The full model has some variables where p-values are not significant. We remove some of those that have the highest p-values (> 0.5). And recompute the ARMA model after removing those variables."
   ]
  },
  {
   "cell_type": "code",
   "execution_count": null,
   "metadata": {},
   "outputs": [],
   "source": [
    "data_prep.get_perc_return_df(build_and_model_VAR(df, full_industries)[\"Open_SNP500\"])"
   ]
  },
  {
   "cell_type": "code",
   "execution_count": null,
   "metadata": {
    "scrolled": true
   },
   "outputs": [],
   "source": [
    "to_remove = [\"Volume_Pharm_L2\", \"Volume_Semicon_L3\", \"Volume_Industrial_L3\", \"Volume_Tech_L2\", \"Volume_Utilities_L2\", \"Volume_Utilities_L3\", \"Volume_Consumer_L3\", \"Open_Industrial_L2\", \"Open_Pharm_L1\"]\n",
    "res_full2 = lagged_df_exog(full_industries, order=[4,0], remove_vars=to_remove)\n",
    "print(res_full2.summary())"
   ]
  },
  {
   "cell_type": "markdown",
   "metadata": {},
   "source": [
    "**Evaluation:**\n",
    "\n",
    "Looking at the AIC's and BIC's of all of the models being compared to determine the best ARMA+exogeneous variables, it seems like adding MA components increases AIC and BIC, hence ARMA(4,0)+exogeneous variables is the best model in the subset of models. There might be some correlation between the endogeneous variables and exogeneous variables, and not much random error. Hence, adding random errors actually lowers the effectiveness of the model in predicting daily percentage change in SNP500.\n",
    "\n",
    "Let's take variable `res_full2` as the final model for ARMA with exogeneous variables. This models behaves similar to an ADL model, since there are no lags. involved."
   ]
  },
  {
   "cell_type": "code",
   "execution_count": null,
   "metadata": {
    "scrolled": true
   },
   "outputs": [],
   "source": [
    "## lag the variables in psuedo_OOB\n",
    "lagged_fulldf = build_and_model_VAR(full_df, full_industries)\n",
    "y_val = lagged_fulldf[\"Open_SNP500\"]\n",
    "lagged_fulldf = lagged_fulldf.drop(\"Open_SNP500\", axis=1)\n",
    "lagged_fulldf = data_prep.get_lagged_df(lagged_fulldf,col2lag=list(lagged_fulldf.columns), n=4)\n",
    "psuedo_OOB = lagged_fulldf[list(res_full2.params.keys()[1:-4])].iloc[idx_psuedo_OOB:idx_OOB]"
   ]
  },
  {
   "cell_type": "code",
   "execution_count": null,
   "metadata": {},
   "outputs": [],
   "source": [
    "psuedo_OOB = lagged_fulldf[list(res_full2.params.keys()[1:-4])].iloc[idx_psuedo_OOB-4+1:idx_OOB-4+1]\n",
    "res_full2.k_ar"
   ]
  },
  {
   "cell_type": "code",
   "execution_count": null,
   "metadata": {
    "scrolled": true
   },
   "outputs": [],
   "source": [
    "var_to_drop = to_remove + [\"Open_SNP500\"]\n",
    "print(idx_psuedo_OOB)\n",
    "print(idx_OOB)\n",
    "steps = idx_OOB-idx_psuedo_OOB\n",
    "\n",
    "exog_data = psuedo_OOB.iloc[:5].reset_index(drop=True)\n",
    "res2 = list(res_full2.forecast(steps=5, exog=exog_data))\n",
    "print(res2)\n",
    "nice_result = {\n",
    "    \"forecast\": res2[0].tolist(),\n",
    "    \"sd\": res2[1].tolist(),\n",
    "    \"conf interval\": res2[2].tolist(),\n",
    "}\n",
    "nice_result"
   ]
  },
  {
   "cell_type": "code",
   "execution_count": null,
   "metadata": {},
   "outputs": [],
   "source": [
    "lagged_fulldf.shape"
   ]
  },
  {
   "cell_type": "code",
   "execution_count": null,
   "metadata": {},
   "outputs": [],
   "source": [
    "import eval_utils\n",
    "## full_df is the output.csv after setting \"Date\" to be index\n",
    "res_function = eval_utils.forecast_ARMA_ADL(full_df, model=res_full2, start_idx=idx_psuedo_OOB, end_idx=idx_OOB) "
   ]
  },
  {
   "cell_type": "code",
   "execution_count": null,
   "metadata": {},
   "outputs": [],
   "source": [
    "y_val.iloc[idx_psuedo_OOB:idx_OOB+1]\n",
    "y_perc = data_prep.get_perc_return_df(y_val.iloc[idx_psuedo_OOB-1:idx_OOB+1]).dropna()"
   ]
  },
  {
   "cell_type": "code",
   "execution_count": null,
   "metadata": {},
   "outputs": [],
   "source": [
    "y_pred = res_function['forecast']\n",
    "plt.plot(y_pred)\n",
    "plt.plot(y_perc)"
   ]
  },
  {
   "cell_type": "code",
   "execution_count": null,
   "metadata": {},
   "outputs": [],
   "source": [
    "eval_utils.predicted_views(y_val.iloc[idx_psuedo_OOB-1:idx_OOB+1], y_pred)"
   ]
  },
  {
   "cell_type": "markdown",
   "metadata": {},
   "source": [
    "### Extras"
   ]
  },
  {
   "cell_type": "code",
   "execution_count": null,
   "metadata": {
    "scrolled": true
   },
   "outputs": [],
   "source": [
    "pharm_utils = build_and_model_VAR(df, [\"Pharm\",\"Utilities\"])\n",
    "data_prep.get_lagged_df(pharm_utils,col2lag=list(pharm_utils.columns), n=3)"
   ]
  },
  {
   "cell_type": "code",
   "execution_count": null,
   "metadata": {
    "scrolled": true
   },
   "outputs": [],
   "source": [
    "print(res.aic)\n",
    "print(res.bic)\n",
    "print(res.fittedvalues[-10:])\n",
    "\n",
    "\"\"\"\n",
    "If the model is an ARMAX and out-of-sample forecasting is requested, exog must be given. \n",
    "exog must be aligned so that exog[0] is used to produce the first out-of-sample forecast.\n",
    "\"\"\"\n",
    "# print(res.predict(start=2568, end=2570))\n",
    "\n",
    "res.summary()"
   ]
  },
  {
   "cell_type": "code",
   "execution_count": null,
   "metadata": {
    "scrolled": true
   },
   "outputs": [],
   "source": [
    "df.columns"
   ]
  },
  {
   "cell_type": "code",
   "execution_count": null,
   "metadata": {},
   "outputs": [],
   "source": []
  },
  {
   "cell_type": "code",
   "execution_count": null,
   "metadata": {},
   "outputs": [],
   "source": []
  }
 ],
 "metadata": {
  "kernelspec": {
   "display_name": "Python 3",
   "language": "python",
   "name": "python3"
  },
  "language_info": {
   "codemirror_mode": {
    "name": "ipython",
    "version": 3
   },
   "file_extension": ".py",
   "mimetype": "text/x-python",
   "name": "python",
   "nbconvert_exporter": "python",
   "pygments_lexer": "ipython3",
   "version": "3.7.6"
  }
 },
 "nbformat": 4,
 "nbformat_minor": 4
}
