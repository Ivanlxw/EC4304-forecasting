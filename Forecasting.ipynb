{
 "cells": [
  {
   "cell_type": "markdown",
   "metadata": {},
   "source": [
    "Run the following line if you don't have any of the libraries"
   ]
  },
  {
   "cell_type": "code",
   "execution_count": 1,
   "metadata": {
    "scrolled": false
   },
   "outputs": [
    {
     "name": "stdout",
     "output_type": "stream",
     "text": [
      "Requirement already satisfied: statsmodels in /Users/cedric/anaconda3/lib/python3.7/site-packages (0.9.0)\n",
      "Requirement already satisfied: pandas in /Users/cedric/anaconda3/lib/python3.7/site-packages (0.24.2)\n",
      "Requirement already satisfied: numpy in /Users/cedric/anaconda3/lib/python3.7/site-packages (1.16.2)\n",
      "Requirement already satisfied: pytz>=2011k in /Users/cedric/anaconda3/lib/python3.7/site-packages (from pandas) (2018.9)\n",
      "Requirement already satisfied: python-dateutil>=2.5.0 in /Users/cedric/anaconda3/lib/python3.7/site-packages (from pandas) (2.8.0)\n",
      "Requirement already satisfied: six>=1.5 in /Users/cedric/anaconda3/lib/python3.7/site-packages (from python-dateutil>=2.5.0->pandas) (1.12.0)\n"
     ]
    }
   ],
   "source": [
    "%%bash\n",
    "pip install statsmodels pandas numpy"
   ]
  },
  {
   "cell_type": "code",
   "execution_count": 113,
   "metadata": {},
   "outputs": [],
   "source": [
    "import numpy as np\n",
    "import pandas as pd\n",
    "import matplotlib.pyplot as plt\n",
    "import statsmodels\n",
    "\n",
    "import data_prep"
   ]
  },
  {
   "cell_type": "code",
   "execution_count": 3,
   "metadata": {
    "scrolled": true
   },
   "outputs": [
    {
     "data": {
      "text/html": [
       "<div>\n",
       "<style scoped>\n",
       "    .dataframe tbody tr th:only-of-type {\n",
       "        vertical-align: middle;\n",
       "    }\n",
       "\n",
       "    .dataframe tbody tr th {\n",
       "        vertical-align: top;\n",
       "    }\n",
       "\n",
       "    .dataframe thead th {\n",
       "        text-align: right;\n",
       "    }\n",
       "</style>\n",
       "<table border=\"1\" class=\"dataframe\">\n",
       "  <thead>\n",
       "    <tr style=\"text-align: right;\">\n",
       "      <th></th>\n",
       "      <th>Open</th>\n",
       "      <th>High</th>\n",
       "      <th>Low</th>\n",
       "      <th>Close</th>\n",
       "      <th>Adj Close</th>\n",
       "      <th>Volume</th>\n",
       "      <th>Adj Close_1</th>\n",
       "      <th>Adj Close_2</th>\n",
       "      <th>Adj Close_3</th>\n",
       "    </tr>\n",
       "    <tr>\n",
       "      <th>Date</th>\n",
       "      <th></th>\n",
       "      <th></th>\n",
       "      <th></th>\n",
       "      <th></th>\n",
       "      <th></th>\n",
       "      <th></th>\n",
       "      <th></th>\n",
       "      <th></th>\n",
       "      <th></th>\n",
       "    </tr>\n",
       "  </thead>\n",
       "  <tbody>\n",
       "    <tr>\n",
       "      <th>2010-01-04</th>\n",
       "      <td>57.919998</td>\n",
       "      <td>58.810001</td>\n",
       "      <td>57.790001</td>\n",
       "      <td>58.810001</td>\n",
       "      <td>44.789688</td>\n",
       "      <td>16928400</td>\n",
       "      <td>NaN</td>\n",
       "      <td>NaN</td>\n",
       "      <td>NaN</td>\n",
       "    </tr>\n",
       "    <tr>\n",
       "      <th>2010-01-05</th>\n",
       "      <td>58.889999</td>\n",
       "      <td>59.410000</td>\n",
       "      <td>58.619999</td>\n",
       "      <td>59.290001</td>\n",
       "      <td>45.155247</td>\n",
       "      <td>17368100</td>\n",
       "      <td>44.789688</td>\n",
       "      <td>NaN</td>\n",
       "      <td>NaN</td>\n",
       "    </tr>\n",
       "    <tr>\n",
       "      <th>2010-01-06</th>\n",
       "      <td>59.320000</td>\n",
       "      <td>60.180000</td>\n",
       "      <td>59.189999</td>\n",
       "      <td>60.000000</td>\n",
       "      <td>45.695988</td>\n",
       "      <td>24351900</td>\n",
       "      <td>45.155247</td>\n",
       "      <td>44.789688</td>\n",
       "      <td>NaN</td>\n",
       "    </tr>\n",
       "    <tr>\n",
       "      <th>2010-01-07</th>\n",
       "      <td>59.740002</td>\n",
       "      <td>60.009998</td>\n",
       "      <td>59.299999</td>\n",
       "      <td>59.910000</td>\n",
       "      <td>45.627445</td>\n",
       "      <td>17449500</td>\n",
       "      <td>45.695988</td>\n",
       "      <td>45.155247</td>\n",
       "      <td>44.789688</td>\n",
       "    </tr>\n",
       "    <tr>\n",
       "      <th>2010-01-08</th>\n",
       "      <td>59.700001</td>\n",
       "      <td>60.349998</td>\n",
       "      <td>59.490002</td>\n",
       "      <td>60.299999</td>\n",
       "      <td>45.924469</td>\n",
       "      <td>13344300</td>\n",
       "      <td>45.627445</td>\n",
       "      <td>45.695988</td>\n",
       "      <td>45.155247</td>\n",
       "    </tr>\n",
       "    <tr>\n",
       "      <th>...</th>\n",
       "      <td>...</td>\n",
       "      <td>...</td>\n",
       "      <td>...</td>\n",
       "      <td>...</td>\n",
       "      <td>...</td>\n",
       "      <td>...</td>\n",
       "      <td>...</td>\n",
       "      <td>...</td>\n",
       "      <td>...</td>\n",
       "    </tr>\n",
       "    <tr>\n",
       "      <th>2020-03-16</th>\n",
       "      <td>27.950001</td>\n",
       "      <td>31.120001</td>\n",
       "      <td>27.670000</td>\n",
       "      <td>27.809999</td>\n",
       "      <td>27.809999</td>\n",
       "      <td>40233600</td>\n",
       "      <td>32.189999</td>\n",
       "      <td>29.469999</td>\n",
       "      <td>33.669998</td>\n",
       "    </tr>\n",
       "    <tr>\n",
       "      <th>2020-03-17</th>\n",
       "      <td>28.080000</td>\n",
       "      <td>29.180000</td>\n",
       "      <td>26.950001</td>\n",
       "      <td>28.000000</td>\n",
       "      <td>28.000000</td>\n",
       "      <td>45443600</td>\n",
       "      <td>27.809999</td>\n",
       "      <td>32.189999</td>\n",
       "      <td>29.469999</td>\n",
       "    </tr>\n",
       "    <tr>\n",
       "      <th>2020-03-18</th>\n",
       "      <td>26.040001</td>\n",
       "      <td>26.580000</td>\n",
       "      <td>22.879999</td>\n",
       "      <td>23.980000</td>\n",
       "      <td>23.980000</td>\n",
       "      <td>52135800</td>\n",
       "      <td>28.000000</td>\n",
       "      <td>27.809999</td>\n",
       "      <td>32.189999</td>\n",
       "    </tr>\n",
       "    <tr>\n",
       "      <th>2020-03-19</th>\n",
       "      <td>24.330000</td>\n",
       "      <td>25.709999</td>\n",
       "      <td>22.980000</td>\n",
       "      <td>25.610001</td>\n",
       "      <td>25.610001</td>\n",
       "      <td>52226500</td>\n",
       "      <td>23.980000</td>\n",
       "      <td>28.000000</td>\n",
       "      <td>27.809999</td>\n",
       "    </tr>\n",
       "    <tr>\n",
       "      <th>2020-03-20</th>\n",
       "      <td>26.260000</td>\n",
       "      <td>26.840000</td>\n",
       "      <td>24.760000</td>\n",
       "      <td>25.860001</td>\n",
       "      <td>25.860001</td>\n",
       "      <td>58313200</td>\n",
       "      <td>25.610001</td>\n",
       "      <td>23.980000</td>\n",
       "      <td>28.000000</td>\n",
       "    </tr>\n",
       "  </tbody>\n",
       "</table>\n",
       "<p>2571 rows × 9 columns</p>\n",
       "</div>"
      ],
      "text/plain": [
       "                 Open       High        Low      Close  Adj Close    Volume  \\\n",
       "Date                                                                          \n",
       "2010-01-04  57.919998  58.810001  57.790001  58.810001  44.789688  16928400   \n",
       "2010-01-05  58.889999  59.410000  58.619999  59.290001  45.155247  17368100   \n",
       "2010-01-06  59.320000  60.180000  59.189999  60.000000  45.695988  24351900   \n",
       "2010-01-07  59.740002  60.009998  59.299999  59.910000  45.627445  17449500   \n",
       "2010-01-08  59.700001  60.349998  59.490002  60.299999  45.924469  13344300   \n",
       "...               ...        ...        ...        ...        ...       ...   \n",
       "2020-03-16  27.950001  31.120001  27.670000  27.809999  27.809999  40233600   \n",
       "2020-03-17  28.080000  29.180000  26.950001  28.000000  28.000000  45443600   \n",
       "2020-03-18  26.040001  26.580000  22.879999  23.980000  23.980000  52135800   \n",
       "2020-03-19  24.330000  25.709999  22.980000  25.610001  25.610001  52226500   \n",
       "2020-03-20  26.260000  26.840000  24.760000  25.860001  25.860001  58313200   \n",
       "\n",
       "            Adj Close_1  Adj Close_2  Adj Close_3  \n",
       "Date                                               \n",
       "2010-01-04          NaN          NaN          NaN  \n",
       "2010-01-05    44.789688          NaN          NaN  \n",
       "2010-01-06    45.155247    44.789688          NaN  \n",
       "2010-01-07    45.695988    45.155247    44.789688  \n",
       "2010-01-08    45.627445    45.695988    45.155247  \n",
       "...                 ...          ...          ...  \n",
       "2020-03-16    32.189999    29.469999    33.669998  \n",
       "2020-03-17    27.809999    32.189999    29.469999  \n",
       "2020-03-18    28.000000    27.809999    32.189999  \n",
       "2020-03-19    23.980000    28.000000    27.809999  \n",
       "2020-03-20    25.610001    23.980000    28.000000  \n",
       "\n",
       "[2571 rows x 9 columns]"
      ]
     },
     "execution_count": 3,
     "metadata": {},
     "output_type": "execute_result"
    }
   ],
   "source": [
    "data_prep.get_lagged(\"./data/XLE_energy_etf.csv\", n=3)"
   ]
  },
  {
   "cell_type": "code",
   "execution_count": 4,
   "metadata": {},
   "outputs": [
    {
     "data": {
      "text/html": [
       "<div>\n",
       "<style scoped>\n",
       "    .dataframe tbody tr th:only-of-type {\n",
       "        vertical-align: middle;\n",
       "    }\n",
       "\n",
       "    .dataframe tbody tr th {\n",
       "        vertical-align: top;\n",
       "    }\n",
       "\n",
       "    .dataframe thead th {\n",
       "        text-align: right;\n",
       "    }\n",
       "</style>\n",
       "<table border=\"1\" class=\"dataframe\">\n",
       "  <thead>\n",
       "    <tr style=\"text-align: right;\">\n",
       "      <th></th>\n",
       "      <th>Open</th>\n",
       "      <th>High</th>\n",
       "      <th>Low</th>\n",
       "      <th>Close</th>\n",
       "      <th>Adj Close</th>\n",
       "      <th>Volume</th>\n",
       "    </tr>\n",
       "    <tr>\n",
       "      <th>Date</th>\n",
       "      <th></th>\n",
       "      <th></th>\n",
       "      <th></th>\n",
       "      <th></th>\n",
       "      <th></th>\n",
       "      <th></th>\n",
       "    </tr>\n",
       "  </thead>\n",
       "  <tbody>\n",
       "    <tr>\n",
       "      <th>2010-01-04</th>\n",
       "      <td>1116.560059</td>\n",
       "      <td>1133.869995</td>\n",
       "      <td>1116.560059</td>\n",
       "      <td>1132.989990</td>\n",
       "      <td>1132.989990</td>\n",
       "      <td>3991400000</td>\n",
       "    </tr>\n",
       "    <tr>\n",
       "      <th>2010-01-05</th>\n",
       "      <td>1132.660034</td>\n",
       "      <td>1136.630005</td>\n",
       "      <td>1129.660034</td>\n",
       "      <td>1136.520020</td>\n",
       "      <td>1136.520020</td>\n",
       "      <td>2491020000</td>\n",
       "    </tr>\n",
       "    <tr>\n",
       "      <th>2010-01-06</th>\n",
       "      <td>1135.709961</td>\n",
       "      <td>1139.189941</td>\n",
       "      <td>1133.949951</td>\n",
       "      <td>1137.140015</td>\n",
       "      <td>1137.140015</td>\n",
       "      <td>4972660000</td>\n",
       "    </tr>\n",
       "    <tr>\n",
       "      <th>2010-01-07</th>\n",
       "      <td>1136.270020</td>\n",
       "      <td>1142.459961</td>\n",
       "      <td>1131.319946</td>\n",
       "      <td>1141.689941</td>\n",
       "      <td>1141.689941</td>\n",
       "      <td>5270680000</td>\n",
       "    </tr>\n",
       "    <tr>\n",
       "      <th>2010-01-08</th>\n",
       "      <td>1140.520020</td>\n",
       "      <td>1145.390015</td>\n",
       "      <td>1136.219971</td>\n",
       "      <td>1144.979980</td>\n",
       "      <td>1144.979980</td>\n",
       "      <td>4389590000</td>\n",
       "    </tr>\n",
       "  </tbody>\n",
       "</table>\n",
       "</div>"
      ],
      "text/plain": [
       "                   Open         High          Low        Close    Adj Close  \\\n",
       "Date                                                                          \n",
       "2010-01-04  1116.560059  1133.869995  1116.560059  1132.989990  1132.989990   \n",
       "2010-01-05  1132.660034  1136.630005  1129.660034  1136.520020  1136.520020   \n",
       "2010-01-06  1135.709961  1139.189941  1133.949951  1137.140015  1137.140015   \n",
       "2010-01-07  1136.270020  1142.459961  1131.319946  1141.689941  1141.689941   \n",
       "2010-01-08  1140.520020  1145.390015  1136.219971  1144.979980  1144.979980   \n",
       "\n",
       "                Volume  \n",
       "Date                    \n",
       "2010-01-04  3991400000  \n",
       "2010-01-05  2491020000  \n",
       "2010-01-06  4972660000  \n",
       "2010-01-07  5270680000  \n",
       "2010-01-08  4389590000  "
      ]
     },
     "execution_count": 4,
     "metadata": {},
     "output_type": "execute_result"
    }
   ],
   "source": [
    "pd.read_csv(\"./data/SnP_500.csv\", index_col=\"Date\").head()"
   ]
  },
  {
   "cell_type": "code",
   "execution_count": 5,
   "metadata": {
    "scrolled": true
   },
   "outputs": [
    {
     "data": {
      "text/plain": [
       "<matplotlib.axes._subplots.AxesSubplot at 0x245d14b8b48>"
      ]
     },
     "execution_count": 5,
     "metadata": {},
     "output_type": "execute_result"
    },
    {
     "data": {
      "image/png": "[encoded data removed]",
      "text/plain": [
       "<Figure size 432x288 with 1 Axes>"
      ]
     },
     "metadata": {
      "needs_background": "light"
     },
     "output_type": "display_data"
    }
   ],
   "source": [
    "df_perc_returns = data_prep.get_perc_return(\"./data/SnP_500.csv\", column_name=\"Open\")\n",
    "df_perc_returns.plot()"
   ]
  },
  {
   "cell_type": "markdown",
   "metadata": {},
   "source": [
    "The way returns are distributed shows a stationary process with no correlation with time \n",
    "This also leads us to try out GARCH models since we proabably can model these spikes in volatility.\n",
    "\n",
    "Following which, we'll look at the full dataset, a concatnation of all the variables together with S&P500"
   ]
  },
  {
   "cell_type": "code",
   "execution_count": 7,
   "metadata": {},
   "outputs": [
    {
     "data": {
      "text/html": [
       "<div>\n",
       "<style scoped>\n",
       "    .dataframe tbody tr th:only-of-type {\n",
       "        vertical-align: middle;\n",
       "    }\n",
       "\n",
       "    .dataframe tbody tr th {\n",
       "        vertical-align: top;\n",
       "    }\n",
       "\n",
       "    .dataframe thead th {\n",
       "        text-align: right;\n",
       "    }\n",
       "</style>\n",
       "<table border=\"1\" class=\"dataframe\">\n",
       "  <thead>\n",
       "    <tr style=\"text-align: right;\">\n",
       "      <th></th>\n",
       "      <th>Open_Pharm</th>\n",
       "      <th>High_Pharm</th>\n",
       "      <th>Low_Pharm</th>\n",
       "      <th>Close_Pharm</th>\n",
       "      <th>Adj Close_Pharm</th>\n",
       "      <th>Volume_Pharm</th>\n",
       "      <th>Open_Semicon</th>\n",
       "      <th>High_Semicon</th>\n",
       "      <th>Low_Semicon</th>\n",
       "      <th>Close_Semicon</th>\n",
       "      <th>...</th>\n",
       "      <th>Low_Utilities</th>\n",
       "      <th>Close_Utilities</th>\n",
       "      <th>Adj Close_Utilities</th>\n",
       "      <th>Volume_Utilities</th>\n",
       "      <th>Open_Consumer</th>\n",
       "      <th>High_Consumer</th>\n",
       "      <th>Low_Consumer</th>\n",
       "      <th>Close_Consumer</th>\n",
       "      <th>Adj Close_Consumer</th>\n",
       "      <th>Volume_Consumer</th>\n",
       "    </tr>\n",
       "    <tr>\n",
       "      <th>Date</th>\n",
       "      <th></th>\n",
       "      <th></th>\n",
       "      <th></th>\n",
       "      <th></th>\n",
       "      <th></th>\n",
       "      <th></th>\n",
       "      <th></th>\n",
       "      <th></th>\n",
       "      <th></th>\n",
       "      <th></th>\n",
       "      <th></th>\n",
       "      <th></th>\n",
       "      <th></th>\n",
       "      <th></th>\n",
       "      <th></th>\n",
       "      <th></th>\n",
       "      <th></th>\n",
       "      <th></th>\n",
       "      <th></th>\n",
       "      <th></th>\n",
       "      <th></th>\n",
       "    </tr>\n",
       "  </thead>\n",
       "  <tbody>\n",
       "    <tr>\n",
       "      <th>4/1/2010</th>\n",
       "      <td>33.150002</td>\n",
       "      <td>33.544998</td>\n",
       "      <td>33.020000</td>\n",
       "      <td>33.535000</td>\n",
       "      <td>26.125103</td>\n",
       "      <td>1622800</td>\n",
       "      <td>28.350000</td>\n",
       "      <td>28.660000</td>\n",
       "      <td>28.299999</td>\n",
       "      <td>28.410000</td>\n",
       "      <td>...</td>\n",
       "      <td>31.010000</td>\n",
       "      <td>31.080000</td>\n",
       "      <td>21.588554</td>\n",
       "      <td>8217600</td>\n",
       "      <td>29.900000</td>\n",
       "      <td>30.110001</td>\n",
       "      <td>29.900000</td>\n",
       "      <td>30.000000</td>\n",
       "      <td>25.967613</td>\n",
       "      <td>5443900</td>\n",
       "    </tr>\n",
       "    <tr>\n",
       "      <th>5/1/2010</th>\n",
       "      <td>33.580002</td>\n",
       "      <td>33.580002</td>\n",
       "      <td>33.134998</td>\n",
       "      <td>33.220001</td>\n",
       "      <td>25.879725</td>\n",
       "      <td>1933200</td>\n",
       "      <td>28.450001</td>\n",
       "      <td>28.540001</td>\n",
       "      <td>28.080000</td>\n",
       "      <td>28.250000</td>\n",
       "      <td>...</td>\n",
       "      <td>30.559999</td>\n",
       "      <td>30.709999</td>\n",
       "      <td>21.331547</td>\n",
       "      <td>18023700</td>\n",
       "      <td>30.010000</td>\n",
       "      <td>30.139999</td>\n",
       "      <td>29.820000</td>\n",
       "      <td>30.110001</td>\n",
       "      <td>26.062828</td>\n",
       "      <td>6162200</td>\n",
       "    </tr>\n",
       "    <tr>\n",
       "      <th>6/1/2010</th>\n",
       "      <td>33.250000</td>\n",
       "      <td>33.384998</td>\n",
       "      <td>33.169998</td>\n",
       "      <td>33.384998</td>\n",
       "      <td>26.008247</td>\n",
       "      <td>1492400</td>\n",
       "      <td>28.209999</td>\n",
       "      <td>28.450001</td>\n",
       "      <td>28.080000</td>\n",
       "      <td>28.180000</td>\n",
       "      <td>...</td>\n",
       "      <td>30.690001</td>\n",
       "      <td>30.889999</td>\n",
       "      <td>21.456575</td>\n",
       "      <td>12745100</td>\n",
       "      <td>30.090000</td>\n",
       "      <td>30.219999</td>\n",
       "      <td>30.020000</td>\n",
       "      <td>30.150000</td>\n",
       "      <td>26.097452</td>\n",
       "      <td>4246900</td>\n",
       "    </tr>\n",
       "    <tr>\n",
       "      <th>7/1/2010</th>\n",
       "      <td>33.285000</td>\n",
       "      <td>33.419998</td>\n",
       "      <td>33.230000</td>\n",
       "      <td>33.330002</td>\n",
       "      <td>25.965412</td>\n",
       "      <td>764600</td>\n",
       "      <td>28.090000</td>\n",
       "      <td>28.160000</td>\n",
       "      <td>27.760000</td>\n",
       "      <td>27.959999</td>\n",
       "      <td>...</td>\n",
       "      <td>30.639999</td>\n",
       "      <td>30.750000</td>\n",
       "      <td>21.359331</td>\n",
       "      <td>6563100</td>\n",
       "      <td>30.340000</td>\n",
       "      <td>30.410000</td>\n",
       "      <td>30.139999</td>\n",
       "      <td>30.400000</td>\n",
       "      <td>26.313848</td>\n",
       "      <td>5736700</td>\n",
       "    </tr>\n",
       "    <tr>\n",
       "      <th>8/1/2010</th>\n",
       "      <td>33.259998</td>\n",
       "      <td>33.369999</td>\n",
       "      <td>33.185001</td>\n",
       "      <td>33.340000</td>\n",
       "      <td>25.973190</td>\n",
       "      <td>1218200</td>\n",
       "      <td>27.940001</td>\n",
       "      <td>28.549999</td>\n",
       "      <td>27.870001</td>\n",
       "      <td>28.520000</td>\n",
       "      <td>...</td>\n",
       "      <td>30.520000</td>\n",
       "      <td>30.719999</td>\n",
       "      <td>21.338493</td>\n",
       "      <td>6267600</td>\n",
       "      <td>30.290001</td>\n",
       "      <td>30.410000</td>\n",
       "      <td>30.120001</td>\n",
       "      <td>30.389999</td>\n",
       "      <td>26.305195</td>\n",
       "      <td>6438000</td>\n",
       "    </tr>\n",
       "  </tbody>\n",
       "</table>\n",
       "<p>5 rows × 54 columns</p>\n",
       "</div>"
      ],
      "text/plain": [
       "          Open_Pharm  High_Pharm  Low_Pharm  Close_Pharm  Adj Close_Pharm  \\\n",
       "Date                                                                        \n",
       "4/1/2010   33.150002   33.544998  33.020000    33.535000        26.125103   \n",
       "5/1/2010   33.580002   33.580002  33.134998    33.220001        25.879725   \n",
       "6/1/2010   33.250000   33.384998  33.169998    33.384998        26.008247   \n",
       "7/1/2010   33.285000   33.419998  33.230000    33.330002        25.965412   \n",
       "8/1/2010   33.259998   33.369999  33.185001    33.340000        25.973190   \n",
       "\n",
       "          Volume_Pharm  Open_Semicon  High_Semicon  Low_Semicon  \\\n",
       "Date                                                              \n",
       "4/1/2010       1622800     28.350000     28.660000    28.299999   \n",
       "5/1/2010       1933200     28.450001     28.540001    28.080000   \n",
       "6/1/2010       1492400     28.209999     28.450001    28.080000   \n",
       "7/1/2010        764600     28.090000     28.160000    27.760000   \n",
       "8/1/2010       1218200     27.940001     28.549999    27.870001   \n",
       "\n",
       "          Close_Semicon  ...  Low_Utilities  Close_Utilities  \\\n",
       "Date                     ...                                   \n",
       "4/1/2010      28.410000  ...      31.010000        31.080000   \n",
       "5/1/2010      28.250000  ...      30.559999        30.709999   \n",
       "6/1/2010      28.180000  ...      30.690001        30.889999   \n",
       "7/1/2010      27.959999  ...      30.639999        30.750000   \n",
       "8/1/2010      28.520000  ...      30.520000        30.719999   \n",
       "\n",
       "          Adj Close_Utilities  Volume_Utilities  Open_Consumer  High_Consumer  \\\n",
       "Date                                                                            \n",
       "4/1/2010            21.588554           8217600      29.900000      30.110001   \n",
       "5/1/2010            21.331547          18023700      30.010000      30.139999   \n",
       "6/1/2010            21.456575          12745100      30.090000      30.219999   \n",
       "7/1/2010            21.359331           6563100      30.340000      30.410000   \n",
       "8/1/2010            21.338493           6267600      30.290001      30.410000   \n",
       "\n",
       "          Low_Consumer  Close_Consumer  Adj Close_Consumer  Volume_Consumer  \n",
       "Date                                                                         \n",
       "4/1/2010     29.900000       30.000000           25.967613          5443900  \n",
       "5/1/2010     29.820000       30.110001           26.062828          6162200  \n",
       "6/1/2010     30.020000       30.150000           26.097452          4246900  \n",
       "7/1/2010     30.139999       30.400000           26.313848          5736700  \n",
       "8/1/2010     30.120001       30.389999           26.305195          6438000  \n",
       "\n",
       "[5 rows x 54 columns]"
      ]
     },
     "execution_count": 7,
     "metadata": {},
     "output_type": "execute_result"
    }
   ],
   "source": [
    "df = pd.read_csv(\"./data/output.csv\", index_col=\"Date\")\n",
    "df.head()"
   ]
  },
  {
   "cell_type": "markdown",
   "metadata": {},
   "source": [
    "Columns are laballed as such:  VARIABLE_SECTOR"
   ]
  },
  {
   "cell_type": "code",
   "execution_count": 14,
   "metadata": {},
   "outputs": [],
   "source": [
    "SNP_daily_ret = (df['Adj Close_SNP500']/df['Adj Close_SNP500'].shift(1)) - 1\n",
    "SNP_daily_ret = SNP_daily_ret.dropna()"
   ]
  },
  {
   "cell_type": "code",
   "execution_count": 10,
   "metadata": {},
   "outputs": [],
   "source": [
    "from statsmodels.tsa.ar_model import AutoReg, ar_select_order\n",
    "from statsmodels.graphics.tsaplots import plot_acf, plot_pacf"
   ]
  },
  {
   "cell_type": "code",
   "execution_count": 15,
   "metadata": {
    "scrolled": true
   },
   "outputs": [
    {
     "data": {
      "text/html": [
       "<table class=\"simpletable\">\n",
       "<caption>AutoReg Model Results</caption>\n",
       "<tr>\n",
       "  <th>Dep. Variable:</th> <td>Adj Close_SNP500</td> <th>  No. Observations:  </th>   <td>2570</td>  \n",
       "</tr>\n",
       "<tr>\n",
       "  <th>Model:</th>            <td>AutoReg(1)</td>    <th>  Log Likelihood     </th> <td>8102.487</td>\n",
       "</tr>\n",
       "<tr>\n",
       "  <th>Method:</th>         <td>Conditional MLE</td> <th>  S.D. of innovations</th>   <td>0.010</td> \n",
       "</tr>\n",
       "<tr>\n",
       "  <th>Date:</th>          <td>Mon, 06 Apr 2020</td> <th>  AIC                </th>  <td>-9.143</td> \n",
       "</tr>\n",
       "<tr>\n",
       "  <th>Time:</th>              <td>10:34:26</td>     <th>  BIC                </th>  <td>-9.137</td> \n",
       "</tr>\n",
       "<tr>\n",
       "  <th>Sample:</th>                <td>1</td>        <th>  HQIC               </th>  <td>-9.141</td> \n",
       "</tr>\n",
       "<tr>\n",
       "  <th></th>                     <td>2570</td>       <th>                     </th>     <td> </td>   \n",
       "</tr>\n",
       "</table>\n",
       "<table class=\"simpletable\">\n",
       "<tr>\n",
       "           <td></td>              <th>coef</th>     <th>std err</th>      <th>z</th>      <th>P>|z|</th>  <th>[0.025</th>    <th>0.975]</th>  \n",
       "</tr>\n",
       "<tr>\n",
       "  <th>intercept</th>           <td>    0.0004</td> <td>    0.000</td> <td>    1.882</td> <td> 0.060</td> <td>-1.59e-05</td> <td>    0.001</td>\n",
       "</tr>\n",
       "<tr>\n",
       "  <th>Adj Close_SNP500.L1</th> <td>   -0.1533</td> <td>    0.020</td> <td>   -7.836</td> <td> 0.000</td> <td>   -0.192</td> <td>   -0.115</td>\n",
       "</tr>\n",
       "</table>\n",
       "<table class=\"simpletable\">\n",
       "<caption>Roots</caption>\n",
       "<tr>\n",
       "    <td></td>   <th>            Real</th>  <th>         Imaginary</th> <th>         Modulus</th>  <th>        Frequency</th>\n",
       "</tr>\n",
       "<tr>\n",
       "  <th>AR.1</th> <td>          -6.5230</td> <td>          +0.0000j</td> <td>           6.5230</td> <td>           0.5000</td>\n",
       "</tr>\n",
       "</table>"
      ],
      "text/plain": [
       "<class 'statsmodels.iolib.summary.Summary'>\n",
       "\"\"\"\n",
       "                            AutoReg Model Results                             \n",
       "==============================================================================\n",
       "Dep. Variable:       Adj Close_SNP500   No. Observations:                 2570\n",
       "Model:                     AutoReg(1)   Log Likelihood                8102.487\n",
       "Method:               Conditional MLE   S.D. of innovations              0.010\n",
       "Date:                Mon, 06 Apr 2020   AIC                             -9.143\n",
       "Time:                        10:34:26   BIC                             -9.137\n",
       "Sample:                             1   HQIC                            -9.141\n",
       "                                 2570                                         \n",
       "=======================================================================================\n",
       "                          coef    std err          z      P>|z|      [0.025      0.975]\n",
       "---------------------------------------------------------------------------------------\n",
       "intercept               0.0004      0.000      1.882      0.060   -1.59e-05       0.001\n",
       "Adj Close_SNP500.L1    -0.1533      0.020     -7.836      0.000      -0.192      -0.115\n",
       "                                    Roots                                    \n",
       "=============================================================================\n",
       "                  Real          Imaginary           Modulus         Frequency\n",
       "-----------------------------------------------------------------------------\n",
       "AR.1           -6.5230           +0.0000j            6.5230            0.5000\n",
       "-----------------------------------------------------------------------------\n",
       "\"\"\""
      ]
     },
     "execution_count": 15,
     "metadata": {},
     "output_type": "execute_result"
    }
   ],
   "source": [
    "import warnings\n",
    "warnings.filterwarnings('ignore')\n",
    "\n",
    "mod = AutoReg(SNP_daily_ret, 1)\n",
    "res = mod.fit()\n",
    "res.summary()"
   ]
  },
  {
   "cell_type": "code",
   "execution_count": 16,
   "metadata": {},
   "outputs": [
    {
     "data": {
      "image/png": "[encoded data removed]",
      "text/plain": [
       "<Figure size 432x288 with 1 Axes>"
      ]
     },
     "metadata": {
      "needs_background": "light"
     },
     "output_type": "display_data"
    },
    {
     "data": {
      "image/png": "[encoded data removed]",
      "text/plain": [
       "<Figure size 432x288 with 1 Axes>"
      ]
     },
     "metadata": {
      "needs_background": "light"
     },
     "output_type": "display_data"
    }
   ],
   "source": [
    "plot_acf(SNP_daily_ret, lags=30)\n",
    "plt.show()\n",
    "plot_pacf(SNP_daily_ret, lags=30)\n",
    "plt.show()"
   ]
  },
  {
   "cell_type": "markdown",
   "metadata": {},
   "source": [
    "The ACF shows that after lags of t=3, autocorrelation stays near 0 which means a **MA(3)** model\n",
    "\n",
    "The PACF shows that after lags of t=3, autocorrelation stays near 0 which means an **AR(3)** model"
   ]
  },
  {
   "cell_type": "code",
   "execution_count": 17,
   "metadata": {},
   "outputs": [],
   "source": [
    "from statsmodels.tsa.arima_model import ARMA"
   ]
  },
  {
   "cell_type": "code",
   "execution_count": 18,
   "metadata": {
    "scrolled": true
   },
   "outputs": [
    {
     "data": {
      "text/html": [
       "<table class=\"simpletable\">\n",
       "<caption>AutoReg Model Results</caption>\n",
       "<tr>\n",
       "  <th>Dep. Variable:</th> <td>Adj Close_SNP500</td> <th>  No. Observations:  </th>   <td>2570</td>  \n",
       "</tr>\n",
       "<tr>\n",
       "  <th>Model:</th>            <td>AutoReg(3)</td>    <th>  Log Likelihood     </th> <td>8101.672</td>\n",
       "</tr>\n",
       "<tr>\n",
       "  <th>Method:</th>         <td>Conditional MLE</td> <th>  S.D. of innovations</th>   <td>0.010</td> \n",
       "</tr>\n",
       "<tr>\n",
       "  <th>Date:</th>          <td>Mon, 06 Apr 2020</td> <th>  AIC                </th>  <td>-9.146</td> \n",
       "</tr>\n",
       "<tr>\n",
       "  <th>Time:</th>              <td>10:35:15</td>     <th>  BIC                </th>  <td>-9.135</td> \n",
       "</tr>\n",
       "<tr>\n",
       "  <th>Sample:</th>                <td>3</td>        <th>  HQIC               </th>  <td>-9.142</td> \n",
       "</tr>\n",
       "<tr>\n",
       "  <th></th>                     <td>2570</td>       <th>                     </th>     <td> </td>   \n",
       "</tr>\n",
       "</table>\n",
       "<table class=\"simpletable\">\n",
       "<tr>\n",
       "           <td></td>              <th>coef</th>     <th>std err</th>      <th>z</th>      <th>P>|z|</th>  <th>[0.025</th>    <th>0.975]</th>  \n",
       "</tr>\n",
       "<tr>\n",
       "  <th>intercept</th>           <td>    0.0004</td> <td>    0.000</td> <td>    1.739</td> <td> 0.082</td> <td> -4.5e-05</td> <td>    0.001</td>\n",
       "</tr>\n",
       "<tr>\n",
       "  <th>Adj Close_SNP500.L1</th> <td>   -0.1424</td> <td>    0.020</td> <td>   -7.193</td> <td> 0.000</td> <td>   -0.181</td> <td>   -0.104</td>\n",
       "</tr>\n",
       "<tr>\n",
       "  <th>Adj Close_SNP500.L2</th> <td>    0.0706</td> <td>    0.020</td> <td>    3.539</td> <td> 0.000</td> <td>    0.032</td> <td>    0.110</td>\n",
       "</tr>\n",
       "<tr>\n",
       "  <th>Adj Close_SNP500.L3</th> <td>   -0.0019</td> <td>    0.020</td> <td>   -0.094</td> <td> 0.925</td> <td>   -0.041</td> <td>    0.037</td>\n",
       "</tr>\n",
       "</table>\n",
       "<table class=\"simpletable\">\n",
       "<caption>Roots</caption>\n",
       "<tr>\n",
       "    <td></td>   <th>            Real</th>  <th>         Imaginary</th> <th>         Modulus</th>  <th>        Frequency</th>\n",
       "</tr>\n",
       "<tr>\n",
       "  <th>AR.1</th> <td>          -2.8115</td> <td>          +0.0000j</td> <td>           2.8115</td> <td>           0.5000</td>\n",
       "</tr>\n",
       "<tr>\n",
       "  <th>AR.2</th> <td>           5.4089</td> <td>          +0.0000j</td> <td>           5.4089</td> <td>           0.0000</td>\n",
       "</tr>\n",
       "<tr>\n",
       "  <th>AR.3</th> <td>          35.1725</td> <td>          +0.0000j</td> <td>          35.1725</td> <td>           0.0000</td>\n",
       "</tr>\n",
       "</table>"
      ],
      "text/plain": [
       "<class 'statsmodels.iolib.summary.Summary'>\n",
       "\"\"\"\n",
       "                            AutoReg Model Results                             \n",
       "==============================================================================\n",
       "Dep. Variable:       Adj Close_SNP500   No. Observations:                 2570\n",
       "Model:                     AutoReg(3)   Log Likelihood                8101.672\n",
       "Method:               Conditional MLE   S.D. of innovations              0.010\n",
       "Date:                Mon, 06 Apr 2020   AIC                             -9.146\n",
       "Time:                        10:35:15   BIC                             -9.135\n",
       "Sample:                             3   HQIC                            -9.142\n",
       "                                 2570                                         \n",
       "=======================================================================================\n",
       "                          coef    std err          z      P>|z|      [0.025      0.975]\n",
       "---------------------------------------------------------------------------------------\n",
       "intercept               0.0004      0.000      1.739      0.082    -4.5e-05       0.001\n",
       "Adj Close_SNP500.L1    -0.1424      0.020     -7.193      0.000      -0.181      -0.104\n",
       "Adj Close_SNP500.L2     0.0706      0.020      3.539      0.000       0.032       0.110\n",
       "Adj Close_SNP500.L3    -0.0019      0.020     -0.094      0.925      -0.041       0.037\n",
       "                                    Roots                                    \n",
       "=============================================================================\n",
       "                  Real          Imaginary           Modulus         Frequency\n",
       "-----------------------------------------------------------------------------\n",
       "AR.1           -2.8115           +0.0000j            2.8115            0.5000\n",
       "AR.2            5.4089           +0.0000j            5.4089            0.0000\n",
       "AR.3           35.1725           +0.0000j           35.1725            0.0000\n",
       "-----------------------------------------------------------------------------\n",
       "\"\"\""
      ]
     },
     "execution_count": 18,
     "metadata": {},
     "output_type": "execute_result"
    }
   ],
   "source": [
    "mod = AutoReg(SNP_daily_ret, 3)\n",
    "res = mod.fit()\n",
    "res.summary()"
   ]
  },
  {
   "cell_type": "code",
   "execution_count": 42,
   "metadata": {
    "scrolled": true
   },
   "outputs": [
    {
     "name": "stdout",
     "output_type": "stream",
     "text": [
      "                              ARMA Model Results                              \n",
      "==============================================================================\n",
      "Dep. Variable:       Adj Close_SNP500   No. Observations:                 2570\n",
      "Model:                     ARMA(3, 0)   Log Likelihood                8112.528\n",
      "Method:                       css-mle   S.D. of innovations              0.010\n",
      "Date:                Mon, 06 Apr 2020   AIC                         -16215.057\n",
      "Time:                        11:06:13   BIC                         -16185.799\n",
      "Sample:                             0   HQIC                        -16204.450\n",
      "                                                                              \n",
      "==========================================================================================\n",
      "                             coef    std err          z      P>|z|      [0.025      0.975]\n",
      "------------------------------------------------------------------------------------------\n",
      "const                      0.0003      0.000      1.758      0.079   -3.83e-05       0.001\n",
      "ar.L1.Adj Close_SNP500    -0.1423      0.020     -7.195      0.000      -0.181      -0.104\n",
      "ar.L2.Adj Close_SNP500     0.0706      0.020      3.541      0.000       0.032       0.110\n",
      "ar.L3.Adj Close_SNP500    -0.0019      0.020     -0.094      0.925      -0.041       0.037\n",
      "                                    Roots                                    \n",
      "=============================================================================\n",
      "                  Real          Imaginary           Modulus         Frequency\n",
      "-----------------------------------------------------------------------------\n",
      "AR.1           -2.8121           +0.0000j            2.8121            0.5000\n",
      "AR.2            5.4089           +0.0000j            5.4089            0.0000\n",
      "AR.3           35.1908           +0.0000j           35.1908            0.0000\n",
      "-----------------------------------------------------------------------------\n",
      "\n",
      "\n",
      "                              ARMA Model Results                              \n",
      "==============================================================================\n",
      "Dep. Variable:       Adj Close_SNP500   No. Observations:                 2570\n",
      "Model:                     ARMA(0, 3)   Log Likelihood                8112.753\n",
      "Method:                       css-mle   S.D. of innovations              0.010\n",
      "Date:                Mon, 06 Apr 2020   AIC                         -16215.506\n",
      "Time:                        11:06:14   BIC                         -16186.248\n",
      "Sample:                             0   HQIC                        -16204.899\n",
      "                                                                              \n",
      "==========================================================================================\n",
      "                             coef    std err          z      P>|z|      [0.025      0.975]\n",
      "------------------------------------------------------------------------------------------\n",
      "const                      0.0003      0.000      1.763      0.078   -3.71e-05       0.001\n",
      "ma.L1.Adj Close_SNP500    -0.1431      0.020     -7.207      0.000      -0.182      -0.104\n",
      "ma.L2.Adj Close_SNP500     0.0929      0.020      4.571      0.000       0.053       0.133\n",
      "ma.L3.Adj Close_SNP500    -0.0214      0.019     -1.110      0.267      -0.059       0.016\n",
      "                                    Roots                                    \n",
      "=============================================================================\n",
      "                  Real          Imaginary           Modulus         Frequency\n",
      "-----------------------------------------------------------------------------\n",
      "MA.1           -0.2882           -3.0691j            3.0826           -0.2649\n",
      "MA.2           -0.2882           +3.0691j            3.0826            0.2649\n",
      "MA.3            4.9081           -0.0000j            4.9081           -0.0000\n",
      "-----------------------------------------------------------------------------\n",
      "\n",
      "\n",
      "                              ARMA Model Results                              \n",
      "==============================================================================\n",
      "Dep. Variable:       Adj Close_SNP500   No. Observations:                 2570\n",
      "Model:                     ARMA(1, 1)   Log Likelihood                8111.611\n",
      "Method:                       css-mle   S.D. of innovations              0.010\n",
      "Date:                Mon, 06 Apr 2020   AIC                         -16215.221\n",
      "Time:                        11:06:15   BIC                         -16191.815\n",
      "Sample:                             0   HQIC                        -16206.735\n",
      "                                                                              \n",
      "==========================================================================================\n",
      "                             coef    std err          z      P>|z|      [0.025      0.975]\n",
      "------------------------------------------------------------------------------------------\n",
      "const                      0.0003      0.000      1.820      0.069   -2.57e-05       0.001\n",
      "ar.L1.Adj Close_SNP500    -0.4934      0.085     -5.830      0.000      -0.659      -0.328\n",
      "ma.L1.Adj Close_SNP500     0.3463      0.091      3.824      0.000       0.169       0.524\n",
      "                                    Roots                                    \n",
      "=============================================================================\n",
      "                  Real          Imaginary           Modulus         Frequency\n",
      "-----------------------------------------------------------------------------\n",
      "AR.1           -2.0267           +0.0000j            2.0267            0.5000\n",
      "MA.1           -2.8877           +0.0000j            2.8877            0.5000\n",
      "-----------------------------------------------------------------------------\n",
      "\n",
      "\n"
     ]
    }
   ],
   "source": [
    "ar3 = ARMA(SNP_daily_ret, order=[3,0])\n",
    "ar3_fit = ar3.fit(disp=0)\n",
    "print (ar3_fit.summary())\n",
    "print('\\n')\n",
    "\n",
    "ma3 = ARMA(SNP_daily_ret, order=[0,3])\n",
    "ma3_fit = ma3.fit(disp=0)\n",
    "print (ma3_fit.summary())\n",
    "print('\\n')\n",
    "\n",
    "arma11 = ARMA(SNP_daily_ret, order=[1,1])\n",
    "arma11_fit = arma11.fit(disp=0)\n",
    "print (arma11_fit.summary())\n",
    "print('\\n')\n"
   ]
  },
  {
   "cell_type": "markdown",
   "metadata": {},
   "source": [
    "AIC values for all the models are extremely similar and hence we look to BIC to decide the best model()\n",
    "\n",
    "It seems like ARMA(1,1) has the lowest BIC so we should benchmark ARMA(1,1) for comparison as well. \n",
    "\n",
    "However, as shown later, adding MA(q) to AR(3) to eliminate autocorrelations yields higher AIC than ARMA(1,1)."
   ]
  },
  {
   "cell_type": "code",
   "execution_count": 39,
   "metadata": {},
   "outputs": [
    {
     "data": {
      "text/plain": [
       "2568    0.013849\n",
       "2569   -0.003590\n",
       "2570    0.007919\n",
       "dtype: float64"
      ]
     },
     "execution_count": 39,
     "metadata": {},
     "output_type": "execute_result"
    }
   ],
   "source": [
    "## some usful attributes that might be used in future\n",
    "arma33_fit.aic\n",
    "arma33_fit.bic\n",
    "arma33_fit.fittedvalues  ## return fitted values of the model\n",
    "arma33_fit.predict(start=2568, end=2570)"
   ]
  },
  {
   "cell_type": "code",
   "execution_count": 41,
   "metadata": {
    "scrolled": true
   },
   "outputs": [
    {
     "data": {
      "image/png": "[encoded data removed]",
      "text/plain": [
       "<Figure size 432x288 with 1 Axes>"
      ]
     },
     "execution_count": 41,
     "metadata": {},
     "output_type": "execute_result"
    },
    {
     "data": {
      "image/png": "[encoded data removed]",
      "text/plain": [
       "<Figure size 432x288 with 1 Axes>"
      ]
     },
     "metadata": {
      "needs_background": "light"
     },
     "output_type": "display_data"
    }
   ],
   "source": [
    "plot_acf(ar3_fit.fittedvalues)"
   ]
  },
  {
   "cell_type": "markdown",
   "metadata": {},
   "source": [
    "2 lags are present in AR(3) model so we try to fir ARMA(3,2) to rid of the autocorrelations."
   ]
  },
  {
   "cell_type": "code",
   "execution_count": 43,
   "metadata": {},
   "outputs": [
    {
     "name": "stdout",
     "output_type": "stream",
     "text": [
      "                              ARMA Model Results                              \n",
      "==============================================================================\n",
      "Dep. Variable:       Adj Close_SNP500   No. Observations:                 2570\n",
      "Model:                     ARMA(3, 2)   Log Likelihood                8116.270\n",
      "Method:                       css-mle   S.D. of innovations              0.010\n",
      "Date:                Mon, 06 Apr 2020   AIC                         -16218.540\n",
      "Time:                        11:06:31   BIC                         -16177.578\n",
      "Sample:                             0   HQIC                        -16203.690\n",
      "                                                                              \n",
      "==========================================================================================\n",
      "                             coef    std err          z      P>|z|      [0.025      0.975]\n",
      "------------------------------------------------------------------------------------------\n",
      "const                      0.0003      0.000      1.815      0.070   -2.66e-05       0.001\n",
      "ar.L1.Adj Close_SNP500     0.2961      0.157      1.887      0.059      -0.011       0.604\n",
      "ar.L2.Adj Close_SNP500    -0.6134      0.099     -6.189      0.000      -0.808      -0.419\n",
      "ar.L3.Adj Close_SNP500    -0.1244      0.032     -3.926      0.000      -0.187      -0.062\n",
      "ma.L1.Adj Close_SNP500    -0.4415      0.156     -2.831      0.005      -0.747      -0.136\n",
      "ma.L2.Adj Close_SNP500     0.7446      0.093      8.002      0.000       0.562       0.927\n",
      "                                    Roots                                    \n",
      "=============================================================================\n",
      "                  Real          Imaginary           Modulus         Frequency\n",
      "-----------------------------------------------------------------------------\n",
      "AR.1            0.3398           -1.1477j            1.1970           -0.2042\n",
      "AR.2            0.3398           +1.1477j            1.1970            0.2042\n",
      "AR.3           -5.6097           -0.0000j            5.6097           -0.5000\n",
      "MA.1            0.2965           -1.1203j            1.1589           -0.2088\n",
      "MA.2            0.2965           +1.1203j            1.1589            0.2088\n",
      "-----------------------------------------------------------------------------\n",
      "\n",
      "\n"
     ]
    }
   ],
   "source": [
    "arma32 = ARMA(SNP_daily_ret, order=[3,2])\n",
    "arma32_fit = arma32.fit(disp=0)\n",
    "print (arma32_fit.summary())\n",
    "print('\\n')"
   ]
  },
  {
   "cell_type": "markdown",
   "metadata": {},
   "source": [
    "AIC at -16218.540 is lower than all the previous models hence we also benchmarh ARMA(3,2).\n",
    "\n",
    "So far, our benchmarked models are:\n",
    "- AR(3)\n",
    "- ARMA(1,1)\n",
    "- ARMA(3,2)"
   ]
  },
  {
   "cell_type": "markdown",
   "metadata": {},
   "source": [
    "Moving on, we add more variables, to build ADL models that would hopefully beat our benchmark models\n",
    "\n",
    "The easiest way to implement multivariate autoregressions in Python would be Vector Autoregressions(VAR) where each lags would be a vector of size N*K where:\n",
    "- N = No. of observations\n",
    "- K = No. of variables\n",
    "\n",
    "More info is shown [here](https://www.statsmodels.org/devel/vector_ar.html#var)\n",
    "\n",
    "Once again, we obtain **various VAR(q)** models and compare AIC, BIC to select best model"
   ]
  },
  {
   "cell_type": "code",
   "execution_count": 83,
   "metadata": {},
   "outputs": [],
   "source": [
    "## Adding more variables\n",
    "from statsmodels.tsa.api import VAR\n",
    "\n",
    "def build_and_model_VAR(main_df:pd.DataFrame, var2add:list ):\n",
    "    \"\"\"\n",
    "    Arguments:\n",
    "    main_df - output.csv which has ALL the variables\n",
    "    var2add - the industry, eg. Pharm. The value MUST be inside the colname \n",
    "    \"\"\"\n",
    "    temp_df = pd.DataFrame()\n",
    "    for var in var2add:\n",
    "        for col in main_df.columns:\n",
    "            if \"Open_\"+var in col or \"Volume_\" + var in col:\n",
    "                try:\n",
    "                    temp_df.columns\n",
    "                except:\n",
    "                    temp_df = main_df[col]\n",
    "                else:\n",
    "                    temp_df = pd.concat([temp_df, main_df[col]], axis=1)\n",
    "                    \n",
    "    temp_df['Open_SNP500'] = main_df['Open_SNP500']\n",
    "    temp_df['Volume_SNP500'] = main_df['Volume_SNP500']\n",
    "    \n",
    "    temp_df.index = main_df.index\n",
    "        \n",
    "    return temp_df\n"
   ]
  },
  {
   "cell_type": "code",
   "execution_count": 120,
   "metadata": {
    "scrolled": true
   },
   "outputs": [
    {
     "ename": "ValueError",
     "evalue": "Only gave one variable to VAR",
     "output_type": "error",
     "traceback": [
      "\u001b[1;31m---------------------------------------------------------------------------\u001b[0m",
      "\u001b[1;31mValueError\u001b[0m                                Traceback (most recent call last)",
      "\u001b[1;32m<ipython-input-120-57c429241a78>\u001b[0m in \u001b[0;36m<module>\u001b[1;34m\u001b[0m\n\u001b[0;32m      1\u001b[0m \u001b[0mpharm_utils\u001b[0m \u001b[1;33m=\u001b[0m \u001b[0mbuild_and_model_VAR\u001b[0m\u001b[1;33m(\u001b[0m\u001b[0mdf\u001b[0m\u001b[1;33m,\u001b[0m \u001b[1;33m[\u001b[0m\u001b[1;34m\"Pharm\"\u001b[0m\u001b[1;33m,\u001b[0m\u001b[1;34m\"Utilities\"\u001b[0m\u001b[1;33m]\u001b[0m\u001b[1;33m)\u001b[0m\u001b[1;33m\u001b[0m\u001b[1;33m\u001b[0m\u001b[0m\n\u001b[0;32m      2\u001b[0m \u001b[1;33m\u001b[0m\u001b[0m\n\u001b[1;32m----> 3\u001b[1;33m \u001b[0mADL_pharmutils\u001b[0m \u001b[1;33m=\u001b[0m \u001b[0mVAR\u001b[0m\u001b[1;33m(\u001b[0m\u001b[0mendog\u001b[0m\u001b[1;33m=\u001b[0m\u001b[0mpharm_utils\u001b[0m\u001b[1;33m[\u001b[0m\u001b[1;34m'Open_SNP500'\u001b[0m\u001b[1;33m]\u001b[0m\u001b[1;33m,\u001b[0m \u001b[0mexog\u001b[0m\u001b[1;33m=\u001b[0m\u001b[0mpharm_utils\u001b[0m\u001b[1;33m.\u001b[0m\u001b[0mdrop\u001b[0m\u001b[1;33m(\u001b[0m\u001b[1;34m'Open_SNP500'\u001b[0m\u001b[1;33m,\u001b[0m\u001b[0maxis\u001b[0m\u001b[1;33m=\u001b[0m\u001b[1;36m1\u001b[0m\u001b[1;33m)\u001b[0m\u001b[1;33m)\u001b[0m\u001b[1;33m\u001b[0m\u001b[1;33m\u001b[0m\u001b[0m\n\u001b[0m",
      "\u001b[1;32mc:\\users\\ivanl\\appdata\\local\\programs\\python\\python37\\lib\\site-packages\\statsmodels\\tsa\\vector_ar\\var_model.py\u001b[0m in \u001b[0;36m__init__\u001b[1;34m(self, endog, exog, dates, freq, missing)\u001b[0m\n\u001b[0;32m    517\u001b[0m         \u001b[0msuper\u001b[0m\u001b[1;33m(\u001b[0m\u001b[0mVAR\u001b[0m\u001b[1;33m,\u001b[0m \u001b[0mself\u001b[0m\u001b[1;33m)\u001b[0m\u001b[1;33m.\u001b[0m\u001b[0m__init__\u001b[0m\u001b[1;33m(\u001b[0m\u001b[0mendog\u001b[0m\u001b[1;33m,\u001b[0m \u001b[0mexog\u001b[0m\u001b[1;33m,\u001b[0m \u001b[0mdates\u001b[0m\u001b[1;33m,\u001b[0m \u001b[0mfreq\u001b[0m\u001b[1;33m,\u001b[0m \u001b[0mmissing\u001b[0m\u001b[1;33m=\u001b[0m\u001b[0mmissing\u001b[0m\u001b[1;33m)\u001b[0m\u001b[1;33m\u001b[0m\u001b[1;33m\u001b[0m\u001b[0m\n\u001b[0;32m    518\u001b[0m         \u001b[1;32mif\u001b[0m \u001b[0mself\u001b[0m\u001b[1;33m.\u001b[0m\u001b[0mendog\u001b[0m\u001b[1;33m.\u001b[0m\u001b[0mndim\u001b[0m \u001b[1;33m==\u001b[0m \u001b[1;36m1\u001b[0m\u001b[1;33m:\u001b[0m\u001b[1;33m\u001b[0m\u001b[1;33m\u001b[0m\u001b[0m\n\u001b[1;32m--> 519\u001b[1;33m             \u001b[1;32mraise\u001b[0m \u001b[0mValueError\u001b[0m\u001b[1;33m(\u001b[0m\u001b[1;34m\"Only gave one variable to VAR\"\u001b[0m\u001b[1;33m)\u001b[0m\u001b[1;33m\u001b[0m\u001b[1;33m\u001b[0m\u001b[0m\n\u001b[0m\u001b[0;32m    520\u001b[0m         \u001b[0mself\u001b[0m\u001b[1;33m.\u001b[0m\u001b[0mneqs\u001b[0m \u001b[1;33m=\u001b[0m \u001b[0mself\u001b[0m\u001b[1;33m.\u001b[0m\u001b[0mendog\u001b[0m\u001b[1;33m.\u001b[0m\u001b[0mshape\u001b[0m\u001b[1;33m[\u001b[0m\u001b[1;36m1\u001b[0m\u001b[1;33m]\u001b[0m\u001b[1;33m\u001b[0m\u001b[1;33m\u001b[0m\u001b[0m\n\u001b[0;32m    521\u001b[0m         \u001b[0mself\u001b[0m\u001b[1;33m.\u001b[0m\u001b[0mn_totobs\u001b[0m \u001b[1;33m=\u001b[0m \u001b[0mlen\u001b[0m\u001b[1;33m(\u001b[0m\u001b[0mendog\u001b[0m\u001b[1;33m)\u001b[0m\u001b[1;33m\u001b[0m\u001b[1;33m\u001b[0m\u001b[0m\n",
      "\u001b[1;31mValueError\u001b[0m: Only gave one variable to VAR"
     ]
    }
   ],
   "source": [
    "pharm_utils = build_and_model_VAR(df, [\"Pharm\",\"Utilities\"])\n",
    "\n",
    "ADL_pharmutils = VAR(endog=pharm_utils['Open_SNP500'], exog=pharm_utils.drop('Open_SNP500',axis=1))"
   ]
  },
  {
   "cell_type": "code",
   "execution_count": 118,
   "metadata": {},
   "outputs": [
    {
     "data": {
      "text/plain": [
       "Index(['Open_Pharm', 'Volume_Pharm', 'Open_Utilities', 'Volume_Utilities',\n",
       "       'Open_SNP500', 'Volume_SNP500'],\n",
       "      dtype='object')"
      ]
     },
     "execution_count": 118,
     "metadata": {},
     "output_type": "execute_result"
    }
   ],
   "source": [
    "pharm_utils.columns"
   ]
  },
  {
   "cell_type": "code",
   "execution_count": 103,
   "metadata": {},
   "outputs": [
    {
     "name": "stdout",
     "output_type": "stream",
     "text": [
      "(2570,)\n"
     ]
    },
    {
     "data": {
      "text/plain": [
       "(2571, 6)"
      ]
     },
     "execution_count": 103,
     "metadata": {},
     "output_type": "execute_result"
    }
   ],
   "source": [
    "print(SNP_daily_ret.shape)\n",
    "pharm_utils.shape"
   ]
  },
  {
   "cell_type": "code",
   "execution_count": 92,
   "metadata": {},
   "outputs": [
    {
     "data": {
      "text/plain": [
       "5"
      ]
     },
     "execution_count": 92,
     "metadata": {},
     "output_type": "execute_result"
    }
   ],
   "source": [
    "## forecasting\n",
    "lag_order = results.k_ar\n",
    "lag_order\n",
    "# results.forecast(data.values[-lag_order:], 5)\n",
    "# results.plot_forecast(10)"
   ]
  },
  {
   "cell_type": "code",
   "execution_count": 94,
   "metadata": {
    "scrolled": true
   },
   "outputs": [
    {
     "data": {
      "text/plain": [
       "<statsmodels.tsa.vector_ar.hypothesis_test_results.CausalityTestResults at 0x245d87f4608>"
      ]
     },
     "execution_count": 94,
     "metadata": {},
     "output_type": "execute_result"
    }
   ],
   "source": [
    "# We can do 2 tests as well, Granger casuality and Normality\n",
    "results.test_causality('Open_SNP500', ['Open_Utilities', 'Open_Pharm'], kind='f')\n",
    "# results.test_normality()"
   ]
  },
  {
   "cell_type": "code",
   "execution_count": null,
   "metadata": {},
   "outputs": [],
   "source": []
  }
 ],
 "metadata": {
  "kernelspec": {
   "display_name": "Python 3",
   "language": "python",
   "name": "python3"
  },
  "language_info": {
   "codemirror_mode": {
    "name": "ipython",
    "version": 3
   },
   "file_extension": ".py",
   "mimetype": "text/x-python",
   "name": "python",
   "nbconvert_exporter": "python",
   "pygments_lexer": "ipython3",
   "version": "3.7.6"
  }
 },
 "nbformat": 4,
 "nbformat_minor": 4
}
