{
 "cells": [
  {
   "cell_type": "markdown",
   "metadata": {},
   "source": [
    "<h1>Time Series Forecasting Recurrent Neural Network (RNN) </h1>\n",
    "\n",
    "This notebook aims to use deep learning to forecast the time series the \"CLOSE\" of the SNP 500 stock using the stock data from other industries. \n",
    "\n",
    "Libraries of interest: <b>\n",
    "    \n",
    "    TensorFlow\n",
    "    Keras\n",
    "    \n",
    "</b>"
   ]
  },
  {
   "cell_type": "code",
   "execution_count": 1,
   "metadata": {},
   "outputs": [],
   "source": [
    "# Download the following libraries if you do not have them:\n",
    "# !pip install --upgrade tensorflow"
   ]
  },
  {
   "cell_type": "code",
   "execution_count": 2,
   "metadata": {},
   "outputs": [],
   "source": [
    "%matplotlib inline\n",
    "import matplotlib.pyplot as plt\n",
    "import tensorflow as tf\n",
    "import numpy as np\n",
    "import pandas as pd\n",
    "import os\n",
    "from sklearn.preprocessing import MinMaxScaler"
   ]
  },
  {
   "cell_type": "code",
   "execution_count": 3,
   "metadata": {},
   "outputs": [],
   "source": [
    "# Keras imports\n",
    "from tensorflow.keras.models import Sequential\n",
    "from tensorflow.keras.layers import Input, Dense, GRU, Embedding\n",
    "from tensorflow.keras.optimizers import RMSprop\n",
    "from tensorflow.keras.callbacks import EarlyStopping, ModelCheckpoint, TensorBoard, ReduceLROnPlateau\n",
    "from tensorflow.keras.backend import square, mean"
   ]
  },
  {
   "cell_type": "code",
   "execution_count": 4,
   "metadata": {},
   "outputs": [
    {
     "data": {
      "text/html": [
       "<div>\n",
       "<style scoped>\n",
       "    .dataframe tbody tr th:only-of-type {\n",
       "        vertical-align: middle;\n",
       "    }\n",
       "\n",
       "    .dataframe tbody tr th {\n",
       "        vertical-align: top;\n",
       "    }\n",
       "\n",
       "    .dataframe thead th {\n",
       "        text-align: right;\n",
       "    }\n",
       "</style>\n",
       "<table border=\"1\" class=\"dataframe\">\n",
       "  <thead>\n",
       "    <tr style=\"text-align: right;\">\n",
       "      <th></th>\n",
       "      <th>Date</th>\n",
       "      <th>Open_Pharm</th>\n",
       "      <th>High_Pharm</th>\n",
       "      <th>Low_Pharm</th>\n",
       "      <th>Close_Pharm</th>\n",
       "      <th>Adj Close_Pharm</th>\n",
       "      <th>Volume_Pharm</th>\n",
       "      <th>Open_Semicon</th>\n",
       "      <th>High_Semicon</th>\n",
       "      <th>Low_Semicon</th>\n",
       "      <th>...</th>\n",
       "      <th>Low_Utilities</th>\n",
       "      <th>Close_Utilities</th>\n",
       "      <th>Adj Close_Utilities</th>\n",
       "      <th>Volume_Utilities</th>\n",
       "      <th>Open_Consumer</th>\n",
       "      <th>High_Consumer</th>\n",
       "      <th>Low_Consumer</th>\n",
       "      <th>Close_Consumer</th>\n",
       "      <th>Adj Close_Consumer</th>\n",
       "      <th>Volume_Consumer</th>\n",
       "    </tr>\n",
       "  </thead>\n",
       "  <tbody>\n",
       "    <tr>\n",
       "      <th>0</th>\n",
       "      <td>4/1/2010</td>\n",
       "      <td>33.150002</td>\n",
       "      <td>33.544998</td>\n",
       "      <td>33.020000</td>\n",
       "      <td>33.535000</td>\n",
       "      <td>26.125103</td>\n",
       "      <td>1622800</td>\n",
       "      <td>28.350000</td>\n",
       "      <td>28.660000</td>\n",
       "      <td>28.299999</td>\n",
       "      <td>...</td>\n",
       "      <td>31.010000</td>\n",
       "      <td>31.080000</td>\n",
       "      <td>21.588554</td>\n",
       "      <td>8217600</td>\n",
       "      <td>29.900000</td>\n",
       "      <td>30.110001</td>\n",
       "      <td>29.900000</td>\n",
       "      <td>30.000000</td>\n",
       "      <td>25.967613</td>\n",
       "      <td>5443900</td>\n",
       "    </tr>\n",
       "    <tr>\n",
       "      <th>1</th>\n",
       "      <td>5/1/2010</td>\n",
       "      <td>33.580002</td>\n",
       "      <td>33.580002</td>\n",
       "      <td>33.134998</td>\n",
       "      <td>33.220001</td>\n",
       "      <td>25.879725</td>\n",
       "      <td>1933200</td>\n",
       "      <td>28.450001</td>\n",
       "      <td>28.540001</td>\n",
       "      <td>28.080000</td>\n",
       "      <td>...</td>\n",
       "      <td>30.559999</td>\n",
       "      <td>30.709999</td>\n",
       "      <td>21.331547</td>\n",
       "      <td>18023700</td>\n",
       "      <td>30.010000</td>\n",
       "      <td>30.139999</td>\n",
       "      <td>29.820000</td>\n",
       "      <td>30.110001</td>\n",
       "      <td>26.062828</td>\n",
       "      <td>6162200</td>\n",
       "    </tr>\n",
       "    <tr>\n",
       "      <th>2</th>\n",
       "      <td>6/1/2010</td>\n",
       "      <td>33.250000</td>\n",
       "      <td>33.384998</td>\n",
       "      <td>33.169998</td>\n",
       "      <td>33.384998</td>\n",
       "      <td>26.008247</td>\n",
       "      <td>1492400</td>\n",
       "      <td>28.209999</td>\n",
       "      <td>28.450001</td>\n",
       "      <td>28.080000</td>\n",
       "      <td>...</td>\n",
       "      <td>30.690001</td>\n",
       "      <td>30.889999</td>\n",
       "      <td>21.456575</td>\n",
       "      <td>12745100</td>\n",
       "      <td>30.090000</td>\n",
       "      <td>30.219999</td>\n",
       "      <td>30.020000</td>\n",
       "      <td>30.150000</td>\n",
       "      <td>26.097452</td>\n",
       "      <td>4246900</td>\n",
       "    </tr>\n",
       "    <tr>\n",
       "      <th>3</th>\n",
       "      <td>7/1/2010</td>\n",
       "      <td>33.285000</td>\n",
       "      <td>33.419998</td>\n",
       "      <td>33.230000</td>\n",
       "      <td>33.330002</td>\n",
       "      <td>25.965412</td>\n",
       "      <td>764600</td>\n",
       "      <td>28.090000</td>\n",
       "      <td>28.160000</td>\n",
       "      <td>27.760000</td>\n",
       "      <td>...</td>\n",
       "      <td>30.639999</td>\n",
       "      <td>30.750000</td>\n",
       "      <td>21.359331</td>\n",
       "      <td>6563100</td>\n",
       "      <td>30.340000</td>\n",
       "      <td>30.410000</td>\n",
       "      <td>30.139999</td>\n",
       "      <td>30.400000</td>\n",
       "      <td>26.313848</td>\n",
       "      <td>5736700</td>\n",
       "    </tr>\n",
       "    <tr>\n",
       "      <th>4</th>\n",
       "      <td>8/1/2010</td>\n",
       "      <td>33.259998</td>\n",
       "      <td>33.369999</td>\n",
       "      <td>33.185001</td>\n",
       "      <td>33.340000</td>\n",
       "      <td>25.973190</td>\n",
       "      <td>1218200</td>\n",
       "      <td>27.940001</td>\n",
       "      <td>28.549999</td>\n",
       "      <td>27.870001</td>\n",
       "      <td>...</td>\n",
       "      <td>30.520000</td>\n",
       "      <td>30.719999</td>\n",
       "      <td>21.338493</td>\n",
       "      <td>6267600</td>\n",
       "      <td>30.290001</td>\n",
       "      <td>30.410000</td>\n",
       "      <td>30.120001</td>\n",
       "      <td>30.389999</td>\n",
       "      <td>26.305195</td>\n",
       "      <td>6438000</td>\n",
       "    </tr>\n",
       "  </tbody>\n",
       "</table>\n",
       "<p>5 rows × 55 columns</p>\n",
       "</div>"
      ],
      "text/plain": [
       "       Date  Open_Pharm  High_Pharm  Low_Pharm  Close_Pharm  Adj Close_Pharm  \\\n",
       "0  4/1/2010   33.150002   33.544998  33.020000    33.535000        26.125103   \n",
       "1  5/1/2010   33.580002   33.580002  33.134998    33.220001        25.879725   \n",
       "2  6/1/2010   33.250000   33.384998  33.169998    33.384998        26.008247   \n",
       "3  7/1/2010   33.285000   33.419998  33.230000    33.330002        25.965412   \n",
       "4  8/1/2010   33.259998   33.369999  33.185001    33.340000        25.973190   \n",
       "\n",
       "   Volume_Pharm  Open_Semicon  High_Semicon  Low_Semicon  ...  Low_Utilities  \\\n",
       "0       1622800     28.350000     28.660000    28.299999  ...      31.010000   \n",
       "1       1933200     28.450001     28.540001    28.080000  ...      30.559999   \n",
       "2       1492400     28.209999     28.450001    28.080000  ...      30.690001   \n",
       "3        764600     28.090000     28.160000    27.760000  ...      30.639999   \n",
       "4       1218200     27.940001     28.549999    27.870001  ...      30.520000   \n",
       "\n",
       "   Close_Utilities  Adj Close_Utilities  Volume_Utilities  Open_Consumer  \\\n",
       "0        31.080000            21.588554           8217600      29.900000   \n",
       "1        30.709999            21.331547          18023700      30.010000   \n",
       "2        30.889999            21.456575          12745100      30.090000   \n",
       "3        30.750000            21.359331           6563100      30.340000   \n",
       "4        30.719999            21.338493           6267600      30.290001   \n",
       "\n",
       "   High_Consumer  Low_Consumer  Close_Consumer  Adj Close_Consumer  \\\n",
       "0      30.110001     29.900000       30.000000           25.967613   \n",
       "1      30.139999     29.820000       30.110001           26.062828   \n",
       "2      30.219999     30.020000       30.150000           26.097452   \n",
       "3      30.410000     30.139999       30.400000           26.313848   \n",
       "4      30.410000     30.120001       30.389999           26.305195   \n",
       "\n",
       "   Volume_Consumer  \n",
       "0          5443900  \n",
       "1          6162200  \n",
       "2          4246900  \n",
       "3          5736700  \n",
       "4          6438000  \n",
       "\n",
       "[5 rows x 55 columns]"
      ]
     },
     "execution_count": 4,
     "metadata": {},
     "output_type": "execute_result"
    }
   ],
   "source": [
    "df = pd.read_csv(\"data\\output.csv\")\n",
    "df.head()"
   ]
  },
  {
   "cell_type": "code",
   "execution_count": 5,
   "metadata": {},
   "outputs": [
    {
     "data": {
      "text/html": [
       "<div>\n",
       "<style scoped>\n",
       "    .dataframe tbody tr th:only-of-type {\n",
       "        vertical-align: middle;\n",
       "    }\n",
       "\n",
       "    .dataframe tbody tr th {\n",
       "        vertical-align: top;\n",
       "    }\n",
       "\n",
       "    .dataframe thead th {\n",
       "        text-align: right;\n",
       "    }\n",
       "</style>\n",
       "<table border=\"1\" class=\"dataframe\">\n",
       "  <thead>\n",
       "    <tr style=\"text-align: right;\">\n",
       "      <th></th>\n",
       "      <th>Open_Pharm</th>\n",
       "      <th>High_Pharm</th>\n",
       "      <th>Low_Pharm</th>\n",
       "      <th>Close_Pharm</th>\n",
       "      <th>Adj Close_Pharm</th>\n",
       "      <th>Volume_Pharm</th>\n",
       "      <th>Open_Semicon</th>\n",
       "      <th>High_Semicon</th>\n",
       "      <th>Low_Semicon</th>\n",
       "      <th>Close_Semicon</th>\n",
       "      <th>...</th>\n",
       "      <th>Low_Utilities</th>\n",
       "      <th>Close_Utilities</th>\n",
       "      <th>Adj Close_Utilities</th>\n",
       "      <th>Volume_Utilities</th>\n",
       "      <th>Open_Consumer</th>\n",
       "      <th>High_Consumer</th>\n",
       "      <th>Low_Consumer</th>\n",
       "      <th>Close_Consumer</th>\n",
       "      <th>Adj Close_Consumer</th>\n",
       "      <th>Volume_Consumer</th>\n",
       "    </tr>\n",
       "    <tr>\n",
       "      <th>Date</th>\n",
       "      <th></th>\n",
       "      <th></th>\n",
       "      <th></th>\n",
       "      <th></th>\n",
       "      <th></th>\n",
       "      <th></th>\n",
       "      <th></th>\n",
       "      <th></th>\n",
       "      <th></th>\n",
       "      <th></th>\n",
       "      <th></th>\n",
       "      <th></th>\n",
       "      <th></th>\n",
       "      <th></th>\n",
       "      <th></th>\n",
       "      <th></th>\n",
       "      <th></th>\n",
       "      <th></th>\n",
       "      <th></th>\n",
       "      <th></th>\n",
       "      <th></th>\n",
       "    </tr>\n",
       "  </thead>\n",
       "  <tbody>\n",
       "    <tr>\n",
       "      <th>2010-04-01</th>\n",
       "      <td>33.150002</td>\n",
       "      <td>33.544998</td>\n",
       "      <td>33.020000</td>\n",
       "      <td>33.535000</td>\n",
       "      <td>26.125103</td>\n",
       "      <td>1622800</td>\n",
       "      <td>28.350000</td>\n",
       "      <td>28.660000</td>\n",
       "      <td>28.299999</td>\n",
       "      <td>28.410000</td>\n",
       "      <td>...</td>\n",
       "      <td>31.010000</td>\n",
       "      <td>31.080000</td>\n",
       "      <td>21.588554</td>\n",
       "      <td>8217600</td>\n",
       "      <td>29.900000</td>\n",
       "      <td>30.110001</td>\n",
       "      <td>29.900000</td>\n",
       "      <td>30.000000</td>\n",
       "      <td>25.967613</td>\n",
       "      <td>5443900</td>\n",
       "    </tr>\n",
       "    <tr>\n",
       "      <th>2010-05-01</th>\n",
       "      <td>33.580002</td>\n",
       "      <td>33.580002</td>\n",
       "      <td>33.134998</td>\n",
       "      <td>33.220001</td>\n",
       "      <td>25.879725</td>\n",
       "      <td>1933200</td>\n",
       "      <td>28.450001</td>\n",
       "      <td>28.540001</td>\n",
       "      <td>28.080000</td>\n",
       "      <td>28.250000</td>\n",
       "      <td>...</td>\n",
       "      <td>30.559999</td>\n",
       "      <td>30.709999</td>\n",
       "      <td>21.331547</td>\n",
       "      <td>18023700</td>\n",
       "      <td>30.010000</td>\n",
       "      <td>30.139999</td>\n",
       "      <td>29.820000</td>\n",
       "      <td>30.110001</td>\n",
       "      <td>26.062828</td>\n",
       "      <td>6162200</td>\n",
       "    </tr>\n",
       "    <tr>\n",
       "      <th>2010-06-01</th>\n",
       "      <td>33.250000</td>\n",
       "      <td>33.384998</td>\n",
       "      <td>33.169998</td>\n",
       "      <td>33.384998</td>\n",
       "      <td>26.008247</td>\n",
       "      <td>1492400</td>\n",
       "      <td>28.209999</td>\n",
       "      <td>28.450001</td>\n",
       "      <td>28.080000</td>\n",
       "      <td>28.180000</td>\n",
       "      <td>...</td>\n",
       "      <td>30.690001</td>\n",
       "      <td>30.889999</td>\n",
       "      <td>21.456575</td>\n",
       "      <td>12745100</td>\n",
       "      <td>30.090000</td>\n",
       "      <td>30.219999</td>\n",
       "      <td>30.020000</td>\n",
       "      <td>30.150000</td>\n",
       "      <td>26.097452</td>\n",
       "      <td>4246900</td>\n",
       "    </tr>\n",
       "    <tr>\n",
       "      <th>2010-07-01</th>\n",
       "      <td>33.285000</td>\n",
       "      <td>33.419998</td>\n",
       "      <td>33.230000</td>\n",
       "      <td>33.330002</td>\n",
       "      <td>25.965412</td>\n",
       "      <td>764600</td>\n",
       "      <td>28.090000</td>\n",
       "      <td>28.160000</td>\n",
       "      <td>27.760000</td>\n",
       "      <td>27.959999</td>\n",
       "      <td>...</td>\n",
       "      <td>30.639999</td>\n",
       "      <td>30.750000</td>\n",
       "      <td>21.359331</td>\n",
       "      <td>6563100</td>\n",
       "      <td>30.340000</td>\n",
       "      <td>30.410000</td>\n",
       "      <td>30.139999</td>\n",
       "      <td>30.400000</td>\n",
       "      <td>26.313848</td>\n",
       "      <td>5736700</td>\n",
       "    </tr>\n",
       "    <tr>\n",
       "      <th>2010-08-01</th>\n",
       "      <td>33.259998</td>\n",
       "      <td>33.369999</td>\n",
       "      <td>33.185001</td>\n",
       "      <td>33.340000</td>\n",
       "      <td>25.973190</td>\n",
       "      <td>1218200</td>\n",
       "      <td>27.940001</td>\n",
       "      <td>28.549999</td>\n",
       "      <td>27.870001</td>\n",
       "      <td>28.520000</td>\n",
       "      <td>...</td>\n",
       "      <td>30.520000</td>\n",
       "      <td>30.719999</td>\n",
       "      <td>21.338493</td>\n",
       "      <td>6267600</td>\n",
       "      <td>30.290001</td>\n",
       "      <td>30.410000</td>\n",
       "      <td>30.120001</td>\n",
       "      <td>30.389999</td>\n",
       "      <td>26.305195</td>\n",
       "      <td>6438000</td>\n",
       "    </tr>\n",
       "  </tbody>\n",
       "</table>\n",
       "<p>5 rows × 54 columns</p>\n",
       "</div>"
      ],
      "text/plain": [
       "            Open_Pharm  High_Pharm  Low_Pharm  Close_Pharm  Adj Close_Pharm  \\\n",
       "Date                                                                          \n",
       "2010-04-01   33.150002   33.544998  33.020000    33.535000        26.125103   \n",
       "2010-05-01   33.580002   33.580002  33.134998    33.220001        25.879725   \n",
       "2010-06-01   33.250000   33.384998  33.169998    33.384998        26.008247   \n",
       "2010-07-01   33.285000   33.419998  33.230000    33.330002        25.965412   \n",
       "2010-08-01   33.259998   33.369999  33.185001    33.340000        25.973190   \n",
       "\n",
       "            Volume_Pharm  Open_Semicon  High_Semicon  Low_Semicon  \\\n",
       "Date                                                                \n",
       "2010-04-01       1622800     28.350000     28.660000    28.299999   \n",
       "2010-05-01       1933200     28.450001     28.540001    28.080000   \n",
       "2010-06-01       1492400     28.209999     28.450001    28.080000   \n",
       "2010-07-01        764600     28.090000     28.160000    27.760000   \n",
       "2010-08-01       1218200     27.940001     28.549999    27.870001   \n",
       "\n",
       "            Close_Semicon  ...  Low_Utilities  Close_Utilities  \\\n",
       "Date                       ...                                   \n",
       "2010-04-01      28.410000  ...      31.010000        31.080000   \n",
       "2010-05-01      28.250000  ...      30.559999        30.709999   \n",
       "2010-06-01      28.180000  ...      30.690001        30.889999   \n",
       "2010-07-01      27.959999  ...      30.639999        30.750000   \n",
       "2010-08-01      28.520000  ...      30.520000        30.719999   \n",
       "\n",
       "            Adj Close_Utilities  Volume_Utilities  Open_Consumer  \\\n",
       "Date                                                               \n",
       "2010-04-01            21.588554           8217600      29.900000   \n",
       "2010-05-01            21.331547          18023700      30.010000   \n",
       "2010-06-01            21.456575          12745100      30.090000   \n",
       "2010-07-01            21.359331           6563100      30.340000   \n",
       "2010-08-01            21.338493           6267600      30.290001   \n",
       "\n",
       "            High_Consumer  Low_Consumer  Close_Consumer  Adj Close_Consumer  \\\n",
       "Date                                                                          \n",
       "2010-04-01      30.110001     29.900000       30.000000           25.967613   \n",
       "2010-05-01      30.139999     29.820000       30.110001           26.062828   \n",
       "2010-06-01      30.219999     30.020000       30.150000           26.097452   \n",
       "2010-07-01      30.410000     30.139999       30.400000           26.313848   \n",
       "2010-08-01      30.410000     30.120001       30.389999           26.305195   \n",
       "\n",
       "            Volume_Consumer  \n",
       "Date                         \n",
       "2010-04-01          5443900  \n",
       "2010-05-01          6162200  \n",
       "2010-06-01          4246900  \n",
       "2010-07-01          5736700  \n",
       "2010-08-01          6438000  \n",
       "\n",
       "[5 rows x 54 columns]"
      ]
     },
     "execution_count": 5,
     "metadata": {},
     "output_type": "execute_result"
    }
   ],
   "source": [
    "df['Date'] = pd.to_datetime(df['Date'], infer_datetime_format=True)\n",
    "indexeddf = df.set_index(['Date']) # Passed strings into a datetime format using to_datetime (inbuilt function in pandas)\n",
    "from datetime import datetime\n",
    "indexeddf.head(5) # Dates should be bold now and the word \\\"Date\\\" should be of a different row from the rest"
   ]
  },
  {
   "cell_type": "code",
   "execution_count": 6,
   "metadata": {},
   "outputs": [
    {
     "data": {
      "text/plain": [
       "(2571, 55)"
      ]
     },
     "execution_count": 6,
     "metadata": {},
     "output_type": "execute_result"
    }
   ],
   "source": [
    "df.values.shape"
   ]
  },
  {
   "cell_type": "markdown",
   "metadata": {},
   "source": [
    "Now we need to pinpoint the variable of interest as well as the shifting rate, which is the amount of days into the future we want to predict."
   ]
  },
  {
   "cell_type": "code",
   "execution_count": 7,
   "metadata": {},
   "outputs": [],
   "source": [
    "targets = ['Adj Close_SNP500', 'Close_SNP500']"
   ]
  },
  {
   "cell_type": "code",
   "execution_count": 8,
   "metadata": {},
   "outputs": [],
   "source": [
    "shift_days = 1\n",
    "shift_steps = 1 * 7 # Number of weeks"
   ]
  },
  {
   "cell_type": "markdown",
   "metadata": {},
   "source": [
    "This is the new dataframe with the time-shifted data"
   ]
  },
  {
   "cell_type": "code",
   "execution_count": 9,
   "metadata": {},
   "outputs": [],
   "source": [
    "df_targets = df[targets].shift(-shift_steps)"
   ]
  },
  {
   "cell_type": "markdown",
   "metadata": {},
   "source": [
    "<h4>Ensure that the df has been successfully shifted:"
   ]
  },
  {
   "cell_type": "code",
   "execution_count": 10,
   "metadata": {},
   "outputs": [
    {
     "data": {
      "text/html": [
       "<div>\n",
       "<style scoped>\n",
       "    .dataframe tbody tr th:only-of-type {\n",
       "        vertical-align: middle;\n",
       "    }\n",
       "\n",
       "    .dataframe tbody tr th {\n",
       "        vertical-align: top;\n",
       "    }\n",
       "\n",
       "    .dataframe thead th {\n",
       "        text-align: right;\n",
       "    }\n",
       "</style>\n",
       "<table border=\"1\" class=\"dataframe\">\n",
       "  <thead>\n",
       "    <tr style=\"text-align: right;\">\n",
       "      <th></th>\n",
       "      <th>Adj Close_SNP500</th>\n",
       "      <th>Close_SNP500</th>\n",
       "    </tr>\n",
       "  </thead>\n",
       "  <tbody>\n",
       "    <tr>\n",
       "      <th>0</th>\n",
       "      <td>1132.989990</td>\n",
       "      <td>1132.989990</td>\n",
       "    </tr>\n",
       "    <tr>\n",
       "      <th>1</th>\n",
       "      <td>1136.520020</td>\n",
       "      <td>1136.520020</td>\n",
       "    </tr>\n",
       "    <tr>\n",
       "      <th>2</th>\n",
       "      <td>1137.140015</td>\n",
       "      <td>1137.140015</td>\n",
       "    </tr>\n",
       "    <tr>\n",
       "      <th>3</th>\n",
       "      <td>1141.689941</td>\n",
       "      <td>1141.689941</td>\n",
       "    </tr>\n",
       "    <tr>\n",
       "      <th>4</th>\n",
       "      <td>1144.979980</td>\n",
       "      <td>1144.979980</td>\n",
       "    </tr>\n",
       "    <tr>\n",
       "      <th>5</th>\n",
       "      <td>1146.979980</td>\n",
       "      <td>1146.979980</td>\n",
       "    </tr>\n",
       "    <tr>\n",
       "      <th>6</th>\n",
       "      <td>1136.219971</td>\n",
       "      <td>1136.219971</td>\n",
       "    </tr>\n",
       "    <tr>\n",
       "      <th>7</th>\n",
       "      <td>1145.680054</td>\n",
       "      <td>1145.680054</td>\n",
       "    </tr>\n",
       "    <tr>\n",
       "      <th>8</th>\n",
       "      <td>1148.459961</td>\n",
       "      <td>1148.459961</td>\n",
       "    </tr>\n",
       "    <tr>\n",
       "      <th>9</th>\n",
       "      <td>1136.030029</td>\n",
       "      <td>1136.030029</td>\n",
       "    </tr>\n",
       "    <tr>\n",
       "      <th>10</th>\n",
       "      <td>1150.229980</td>\n",
       "      <td>1150.229980</td>\n",
       "    </tr>\n",
       "    <tr>\n",
       "      <th>11</th>\n",
       "      <td>1138.040039</td>\n",
       "      <td>1138.040039</td>\n",
       "    </tr>\n",
       "  </tbody>\n",
       "</table>\n",
       "</div>"
      ],
      "text/plain": [
       "    Adj Close_SNP500  Close_SNP500\n",
       "0        1132.989990   1132.989990\n",
       "1        1136.520020   1136.520020\n",
       "2        1137.140015   1137.140015\n",
       "3        1141.689941   1141.689941\n",
       "4        1144.979980   1144.979980\n",
       "5        1146.979980   1146.979980\n",
       "6        1136.219971   1136.219971\n",
       "7        1145.680054   1145.680054\n",
       "8        1148.459961   1148.459961\n",
       "9        1136.030029   1136.030029\n",
       "10       1150.229980   1150.229980\n",
       "11       1138.040039   1138.040039"
      ]
     },
     "execution_count": 10,
     "metadata": {},
     "output_type": "execute_result"
    }
   ],
   "source": [
    "df[targets].head(shift_steps + 5)"
   ]
  },
  {
   "cell_type": "code",
   "execution_count": 11,
   "metadata": {},
   "outputs": [
    {
     "data": {
      "text/html": [
       "<div>\n",
       "<style scoped>\n",
       "    .dataframe tbody tr th:only-of-type {\n",
       "        vertical-align: middle;\n",
       "    }\n",
       "\n",
       "    .dataframe tbody tr th {\n",
       "        vertical-align: top;\n",
       "    }\n",
       "\n",
       "    .dataframe thead th {\n",
       "        text-align: right;\n",
       "    }\n",
       "</style>\n",
       "<table border=\"1\" class=\"dataframe\">\n",
       "  <thead>\n",
       "    <tr style=\"text-align: right;\">\n",
       "      <th></th>\n",
       "      <th>Adj Close_SNP500</th>\n",
       "      <th>Close_SNP500</th>\n",
       "    </tr>\n",
       "  </thead>\n",
       "  <tbody>\n",
       "    <tr>\n",
       "      <th>0</th>\n",
       "      <td>1145.680054</td>\n",
       "      <td>1145.680054</td>\n",
       "    </tr>\n",
       "    <tr>\n",
       "      <th>1</th>\n",
       "      <td>1148.459961</td>\n",
       "      <td>1148.459961</td>\n",
       "    </tr>\n",
       "    <tr>\n",
       "      <th>2</th>\n",
       "      <td>1136.030029</td>\n",
       "      <td>1136.030029</td>\n",
       "    </tr>\n",
       "    <tr>\n",
       "      <th>3</th>\n",
       "      <td>1150.229980</td>\n",
       "      <td>1150.229980</td>\n",
       "    </tr>\n",
       "    <tr>\n",
       "      <th>4</th>\n",
       "      <td>1138.040039</td>\n",
       "      <td>1138.040039</td>\n",
       "    </tr>\n",
       "  </tbody>\n",
       "</table>\n",
       "</div>"
      ],
      "text/plain": [
       "   Adj Close_SNP500  Close_SNP500\n",
       "0       1145.680054   1145.680054\n",
       "1       1148.459961   1148.459961\n",
       "2       1136.030029   1136.030029\n",
       "3       1150.229980   1150.229980\n",
       "4       1138.040039   1138.040039"
      ]
     },
     "execution_count": 11,
     "metadata": {},
     "output_type": "execute_result"
    }
   ],
   "source": [
    "df_targets.head(5)"
   ]
  },
  {
   "cell_type": "code",
   "execution_count": 12,
   "metadata": {},
   "outputs": [
    {
     "data": {
      "text/html": [
       "<div>\n",
       "<style scoped>\n",
       "    .dataframe tbody tr th:only-of-type {\n",
       "        vertical-align: middle;\n",
       "    }\n",
       "\n",
       "    .dataframe tbody tr th {\n",
       "        vertical-align: top;\n",
       "    }\n",
       "\n",
       "    .dataframe thead th {\n",
       "        text-align: right;\n",
       "    }\n",
       "</style>\n",
       "<table border=\"1\" class=\"dataframe\">\n",
       "  <thead>\n",
       "    <tr style=\"text-align: right;\">\n",
       "      <th></th>\n",
       "      <th>Adj Close_SNP500</th>\n",
       "      <th>Close_SNP500</th>\n",
       "    </tr>\n",
       "  </thead>\n",
       "  <tbody>\n",
       "    <tr>\n",
       "      <th>2566</th>\n",
       "      <td>NaN</td>\n",
       "      <td>NaN</td>\n",
       "    </tr>\n",
       "    <tr>\n",
       "      <th>2567</th>\n",
       "      <td>NaN</td>\n",
       "      <td>NaN</td>\n",
       "    </tr>\n",
       "    <tr>\n",
       "      <th>2568</th>\n",
       "      <td>NaN</td>\n",
       "      <td>NaN</td>\n",
       "    </tr>\n",
       "    <tr>\n",
       "      <th>2569</th>\n",
       "      <td>NaN</td>\n",
       "      <td>NaN</td>\n",
       "    </tr>\n",
       "    <tr>\n",
       "      <th>2570</th>\n",
       "      <td>NaN</td>\n",
       "      <td>NaN</td>\n",
       "    </tr>\n",
       "  </tbody>\n",
       "</table>\n",
       "</div>"
      ],
      "text/plain": [
       "      Adj Close_SNP500  Close_SNP500\n",
       "2566               NaN           NaN\n",
       "2567               NaN           NaN\n",
       "2568               NaN           NaN\n",
       "2569               NaN           NaN\n",
       "2570               NaN           NaN"
      ]
     },
     "execution_count": 12,
     "metadata": {},
     "output_type": "execute_result"
    }
   ],
   "source": [
    "df_targets.tail()"
   ]
  },
  {
   "cell_type": "code",
   "execution_count": 14,
   "metadata": {},
   "outputs": [],
   "source": [
    "dforiginal = pd.read_csv(\"data\\output.csv\") # Assigning the unedited one"
   ]
  },
  {
   "cell_type": "markdown",
   "metadata": {},
   "source": [
    "### NumPy Arrays\n",
    "\n",
    "We now convert the Pandas data-frames to NumPy arrays that can be input to the neural network. We also remove the last part of the numpy arrays, because the target-data has `NaN` for the shifted period, and we only want to have valid data and we need the same array-shapes for the input- and output-data.\n",
    "\n",
    "These are the input-signals:"
   ]
  },
  {
   "cell_type": "code",
   "execution_count": 65,
   "metadata": {},
   "outputs": [
    {
     "ename": "KeyError",
     "evalue": "\"['Date'] not found in axis\"",
     "output_type": "error",
     "traceback": [
      "\u001b[1;31m---------------------------------------------------------------------------\u001b[0m",
      "\u001b[1;31mKeyError\u001b[0m                                  Traceback (most recent call last)",
      "\u001b[1;32m<ipython-input-65-23a86e6d0f7b>\u001b[0m in \u001b[0;36m<module>\u001b[1;34m\u001b[0m\n\u001b[0;32m      1\u001b[0m \u001b[1;31m# # We want to only include data from other industries and NOT SNP500, hence remove them.\u001b[0m\u001b[1;33m\u001b[0m\u001b[1;33m\u001b[0m\u001b[1;33m\u001b[0m\u001b[0m\n\u001b[0;32m      2\u001b[0m \u001b[1;33m\u001b[0m\u001b[0m\n\u001b[1;32m----> 3\u001b[1;33m \u001b[0mdf\u001b[0m \u001b[1;33m=\u001b[0m \u001b[0mdf\u001b[0m\u001b[1;33m.\u001b[0m\u001b[0mdrop\u001b[0m\u001b[1;33m(\u001b[0m\u001b[1;33m[\u001b[0m\u001b[1;34m'Date'\u001b[0m\u001b[1;33m]\u001b[0m\u001b[1;33m,\u001b[0m \u001b[0maxis\u001b[0m \u001b[1;33m=\u001b[0m \u001b[1;36m1\u001b[0m\u001b[1;33m)\u001b[0m\u001b[1;33m\u001b[0m\u001b[1;33m\u001b[0m\u001b[0m\n\u001b[0m\u001b[0;32m      4\u001b[0m \u001b[0mdf\u001b[0m \u001b[1;33m=\u001b[0m \u001b[0mdf\u001b[0m\u001b[1;33m.\u001b[0m\u001b[0mdrop\u001b[0m\u001b[1;33m(\u001b[0m\u001b[1;33m[\u001b[0m\u001b[1;34m'Close_SNP500'\u001b[0m\u001b[1;33m,\u001b[0m \u001b[1;34m'Adj Close_SNP500'\u001b[0m\u001b[1;33m]\u001b[0m\u001b[1;33m)\u001b[0m\u001b[1;33m\u001b[0m\u001b[1;33m\u001b[0m\u001b[0m\n",
      "\u001b[1;32m~\\AppData\\Roaming\\Python\\Python37\\site-packages\\pandas\\core\\frame.py\u001b[0m in \u001b[0;36mdrop\u001b[1;34m(self, labels, axis, index, columns, level, inplace, errors)\u001b[0m\n\u001b[0;32m   3995\u001b[0m             \u001b[0mlevel\u001b[0m\u001b[1;33m=\u001b[0m\u001b[0mlevel\u001b[0m\u001b[1;33m,\u001b[0m\u001b[1;33m\u001b[0m\u001b[1;33m\u001b[0m\u001b[0m\n\u001b[0;32m   3996\u001b[0m             \u001b[0minplace\u001b[0m\u001b[1;33m=\u001b[0m\u001b[0minplace\u001b[0m\u001b[1;33m,\u001b[0m\u001b[1;33m\u001b[0m\u001b[1;33m\u001b[0m\u001b[0m\n\u001b[1;32m-> 3997\u001b[1;33m             \u001b[0merrors\u001b[0m\u001b[1;33m=\u001b[0m\u001b[0merrors\u001b[0m\u001b[1;33m,\u001b[0m\u001b[1;33m\u001b[0m\u001b[1;33m\u001b[0m\u001b[0m\n\u001b[0m\u001b[0;32m   3998\u001b[0m         )\n\u001b[0;32m   3999\u001b[0m \u001b[1;33m\u001b[0m\u001b[0m\n",
      "\u001b[1;32m~\\AppData\\Roaming\\Python\\Python37\\site-packages\\pandas\\core\\generic.py\u001b[0m in \u001b[0;36mdrop\u001b[1;34m(self, labels, axis, index, columns, level, inplace, errors)\u001b[0m\n\u001b[0;32m   3934\u001b[0m         \u001b[1;32mfor\u001b[0m \u001b[0maxis\u001b[0m\u001b[1;33m,\u001b[0m \u001b[0mlabels\u001b[0m \u001b[1;32min\u001b[0m \u001b[0maxes\u001b[0m\u001b[1;33m.\u001b[0m\u001b[0mitems\u001b[0m\u001b[1;33m(\u001b[0m\u001b[1;33m)\u001b[0m\u001b[1;33m:\u001b[0m\u001b[1;33m\u001b[0m\u001b[1;33m\u001b[0m\u001b[0m\n\u001b[0;32m   3935\u001b[0m             \u001b[1;32mif\u001b[0m \u001b[0mlabels\u001b[0m \u001b[1;32mis\u001b[0m \u001b[1;32mnot\u001b[0m \u001b[1;32mNone\u001b[0m\u001b[1;33m:\u001b[0m\u001b[1;33m\u001b[0m\u001b[1;33m\u001b[0m\u001b[0m\n\u001b[1;32m-> 3936\u001b[1;33m                 \u001b[0mobj\u001b[0m \u001b[1;33m=\u001b[0m \u001b[0mobj\u001b[0m\u001b[1;33m.\u001b[0m\u001b[0m_drop_axis\u001b[0m\u001b[1;33m(\u001b[0m\u001b[0mlabels\u001b[0m\u001b[1;33m,\u001b[0m \u001b[0maxis\u001b[0m\u001b[1;33m,\u001b[0m \u001b[0mlevel\u001b[0m\u001b[1;33m=\u001b[0m\u001b[0mlevel\u001b[0m\u001b[1;33m,\u001b[0m \u001b[0merrors\u001b[0m\u001b[1;33m=\u001b[0m\u001b[0merrors\u001b[0m\u001b[1;33m)\u001b[0m\u001b[1;33m\u001b[0m\u001b[1;33m\u001b[0m\u001b[0m\n\u001b[0m\u001b[0;32m   3937\u001b[0m \u001b[1;33m\u001b[0m\u001b[0m\n\u001b[0;32m   3938\u001b[0m         \u001b[1;32mif\u001b[0m \u001b[0minplace\u001b[0m\u001b[1;33m:\u001b[0m\u001b[1;33m\u001b[0m\u001b[1;33m\u001b[0m\u001b[0m\n",
      "\u001b[1;32m~\\AppData\\Roaming\\Python\\Python37\\site-packages\\pandas\\core\\generic.py\u001b[0m in \u001b[0;36m_drop_axis\u001b[1;34m(self, labels, axis, level, errors)\u001b[0m\n\u001b[0;32m   3968\u001b[0m                 \u001b[0mnew_axis\u001b[0m \u001b[1;33m=\u001b[0m \u001b[0maxis\u001b[0m\u001b[1;33m.\u001b[0m\u001b[0mdrop\u001b[0m\u001b[1;33m(\u001b[0m\u001b[0mlabels\u001b[0m\u001b[1;33m,\u001b[0m \u001b[0mlevel\u001b[0m\u001b[1;33m=\u001b[0m\u001b[0mlevel\u001b[0m\u001b[1;33m,\u001b[0m \u001b[0merrors\u001b[0m\u001b[1;33m=\u001b[0m\u001b[0merrors\u001b[0m\u001b[1;33m)\u001b[0m\u001b[1;33m\u001b[0m\u001b[1;33m\u001b[0m\u001b[0m\n\u001b[0;32m   3969\u001b[0m             \u001b[1;32melse\u001b[0m\u001b[1;33m:\u001b[0m\u001b[1;33m\u001b[0m\u001b[1;33m\u001b[0m\u001b[0m\n\u001b[1;32m-> 3970\u001b[1;33m                 \u001b[0mnew_axis\u001b[0m \u001b[1;33m=\u001b[0m \u001b[0maxis\u001b[0m\u001b[1;33m.\u001b[0m\u001b[0mdrop\u001b[0m\u001b[1;33m(\u001b[0m\u001b[0mlabels\u001b[0m\u001b[1;33m,\u001b[0m \u001b[0merrors\u001b[0m\u001b[1;33m=\u001b[0m\u001b[0merrors\u001b[0m\u001b[1;33m)\u001b[0m\u001b[1;33m\u001b[0m\u001b[1;33m\u001b[0m\u001b[0m\n\u001b[0m\u001b[0;32m   3971\u001b[0m             \u001b[0mresult\u001b[0m \u001b[1;33m=\u001b[0m \u001b[0mself\u001b[0m\u001b[1;33m.\u001b[0m\u001b[0mreindex\u001b[0m\u001b[1;33m(\u001b[0m\u001b[1;33m**\u001b[0m\u001b[1;33m{\u001b[0m\u001b[0maxis_name\u001b[0m\u001b[1;33m:\u001b[0m \u001b[0mnew_axis\u001b[0m\u001b[1;33m}\u001b[0m\u001b[1;33m)\u001b[0m\u001b[1;33m\u001b[0m\u001b[1;33m\u001b[0m\u001b[0m\n\u001b[0;32m   3972\u001b[0m \u001b[1;33m\u001b[0m\u001b[0m\n",
      "\u001b[1;32m~\\AppData\\Roaming\\Python\\Python37\\site-packages\\pandas\\core\\indexes\\base.py\u001b[0m in \u001b[0;36mdrop\u001b[1;34m(self, labels, errors)\u001b[0m\n\u001b[0;32m   5015\u001b[0m         \u001b[1;32mif\u001b[0m \u001b[0mmask\u001b[0m\u001b[1;33m.\u001b[0m\u001b[0many\u001b[0m\u001b[1;33m(\u001b[0m\u001b[1;33m)\u001b[0m\u001b[1;33m:\u001b[0m\u001b[1;33m\u001b[0m\u001b[1;33m\u001b[0m\u001b[0m\n\u001b[0;32m   5016\u001b[0m             \u001b[1;32mif\u001b[0m \u001b[0merrors\u001b[0m \u001b[1;33m!=\u001b[0m \u001b[1;34m\"ignore\"\u001b[0m\u001b[1;33m:\u001b[0m\u001b[1;33m\u001b[0m\u001b[1;33m\u001b[0m\u001b[0m\n\u001b[1;32m-> 5017\u001b[1;33m                 \u001b[1;32mraise\u001b[0m \u001b[0mKeyError\u001b[0m\u001b[1;33m(\u001b[0m\u001b[1;34mf\"{labels[mask]} not found in axis\"\u001b[0m\u001b[1;33m)\u001b[0m\u001b[1;33m\u001b[0m\u001b[1;33m\u001b[0m\u001b[0m\n\u001b[0m\u001b[0;32m   5018\u001b[0m             \u001b[0mindexer\u001b[0m \u001b[1;33m=\u001b[0m \u001b[0mindexer\u001b[0m\u001b[1;33m[\u001b[0m\u001b[1;33m~\u001b[0m\u001b[0mmask\u001b[0m\u001b[1;33m]\u001b[0m\u001b[1;33m\u001b[0m\u001b[1;33m\u001b[0m\u001b[0m\n\u001b[0;32m   5019\u001b[0m         \u001b[1;32mreturn\u001b[0m \u001b[0mself\u001b[0m\u001b[1;33m.\u001b[0m\u001b[0mdelete\u001b[0m\u001b[1;33m(\u001b[0m\u001b[0mindexer\u001b[0m\u001b[1;33m)\u001b[0m\u001b[1;33m\u001b[0m\u001b[1;33m\u001b[0m\u001b[0m\n",
      "\u001b[1;31mKeyError\u001b[0m: \"['Date'] not found in axis\""
     ]
    }
   ],
   "source": [
    "# # We want to only include data from other industries and NOT SNP500, hence remove them.\n",
    "\n",
    "df = df.drop(['Date'], axis = 1)"
   ]
  },
  {
   "cell_type": "code",
   "execution_count": 15,
   "metadata": {},
   "outputs": [],
   "source": [
    "x_data = df.values[0:-shift_steps]"
   ]
  },
  {
   "cell_type": "code",
   "execution_count": 16,
   "metadata": {},
   "outputs": [
    {
     "name": "stdout",
     "output_type": "stream",
     "text": [
      "<class 'numpy.ndarray'>\n",
      "Shape: (2564, 54)\n"
     ]
    }
   ],
   "source": [
    "print(type(x_data))\n",
    "print(\"Shape:\", x_data.shape)"
   ]
  },
  {
   "cell_type": "markdown",
   "metadata": {},
   "source": [
    "These are the output-signals (or target-signals):"
   ]
  },
  {
   "cell_type": "code",
   "execution_count": 17,
   "metadata": {},
   "outputs": [],
   "source": [
    "y_data = df_targets.values[:-shift_steps]"
   ]
  },
  {
   "cell_type": "code",
   "execution_count": 18,
   "metadata": {},
   "outputs": [
    {
     "name": "stdout",
     "output_type": "stream",
     "text": [
      "<class 'numpy.ndarray'>\n",
      "Shape: (2564, 2)\n"
     ]
    }
   ],
   "source": [
    "print(type(y_data))\n",
    "print(\"Shape:\", y_data.shape)"
   ]
  },
  {
   "cell_type": "code",
   "execution_count": 19,
   "metadata": {},
   "outputs": [
    {
     "data": {
      "text/plain": [
       "2051"
      ]
     },
     "execution_count": 19,
     "metadata": {},
     "output_type": "execute_result"
    }
   ],
   "source": [
    "num_data = len(x_data) # No. of obs\n",
    "train_split = 0.8 # Fraction of data used as training\n",
    "num_train = int(num_data * train_split) # Number of obs used in training set\n",
    "num_train"
   ]
  },
  {
   "cell_type": "code",
   "execution_count": 20,
   "metadata": {},
   "outputs": [
    {
     "data": {
      "text/plain": [
       "513"
      ]
     },
     "execution_count": 20,
     "metadata": {},
     "output_type": "execute_result"
    }
   ],
   "source": [
    "num_test = num_data - num_train # Number of obs used for testing\n",
    "num_test"
   ]
  },
  {
   "cell_type": "code",
   "execution_count": 21,
   "metadata": {},
   "outputs": [
    {
     "name": "stdout",
     "output_type": "stream",
     "text": [
      "No. of input times: 2564\n"
     ]
    }
   ],
   "source": [
    "x_train = x_data[0:num_train] # Assigning input signals\n",
    "x_test = x_data[num_train:]\n",
    "print('No. of input times: ' + str(len(x_train) + len(x_test)))"
   ]
  },
  {
   "cell_type": "code",
   "execution_count": 22,
   "metadata": {},
   "outputs": [
    {
     "name": "stdout",
     "output_type": "stream",
     "text": [
      "No. of output times: 2564\n"
     ]
    }
   ],
   "source": [
    "y_train = y_data[0:num_train] # Assigning output signals\n",
    "y_test = y_data[num_train:]\n",
    "print('No. of output times: ' + str(len(y_train) + len(y_test)))"
   ]
  },
  {
   "cell_type": "code",
   "execution_count": 23,
   "metadata": {},
   "outputs": [
    {
     "name": "stdout",
     "output_type": "stream",
     "text": [
      "No of input signals: 54\n"
     ]
    }
   ],
   "source": [
    "num_x_signals = x_data.shape[1]\n",
    "print('No of input signals: ' + str(num_x_signals))"
   ]
  },
  {
   "cell_type": "code",
   "execution_count": 24,
   "metadata": {},
   "outputs": [
    {
     "name": "stdout",
     "output_type": "stream",
     "text": [
      "No of output signals: 2\n"
     ]
    }
   ],
   "source": [
    "num_y_signals = y_data.shape[1]\n",
    "print('No of output signals: ' + str(num_y_signals))"
   ]
  },
  {
   "cell_type": "markdown",
   "metadata": {},
   "source": [
    "### Scaling the Data\n",
    "\n",
    "Look for the range of values in the data-set:"
   ]
  },
  {
   "cell_type": "code",
   "execution_count": 25,
   "metadata": {},
   "outputs": [
    {
     "name": "stdout",
     "output_type": "stream",
     "text": [
      "Min: 6.054201\n",
      "Max: 10617810000.0\n"
     ]
    }
   ],
   "source": [
    "print(\"Min:\", np.min(x_train))\n",
    "print(\"Max:\", np.max(x_train))"
   ]
  },
  {
   "cell_type": "code",
   "execution_count": 26,
   "metadata": {},
   "outputs": [],
   "source": [
    "x_scaler = MinMaxScaler()"
   ]
  },
  {
   "cell_type": "code",
   "execution_count": 27,
   "metadata": {},
   "outputs": [
    {
     "name": "stdout",
     "output_type": "stream",
     "text": [
      "Min: 0.0\n",
      "Max: 1.0000000000000002\n"
     ]
    }
   ],
   "source": [
    "x_train_scaled = x_scaler.fit_transform(x_train)\n",
    "print(\"Min:\", np.min(x_train_scaled))\n",
    "print(\"Max:\", np.max(x_train_scaled))\n",
    "x_test_scaled = x_scaler.transform(x_test)"
   ]
  },
  {
   "cell_type": "code",
   "execution_count": 28,
   "metadata": {},
   "outputs": [
    {
     "name": "stdout",
     "output_type": "stream",
     "text": [
      "Min: 0.0\n",
      "Max: 1.0\n"
     ]
    }
   ],
   "source": [
    "y_scaler = MinMaxScaler()\n",
    "y_train_scaled = y_scaler.fit_transform(y_train)\n",
    "y_test_scaled = y_scaler.transform(y_test)\n",
    "print(\"Min:\", np.min(y_train_scaled))\n",
    "print(\"Max:\", np.max(y_train_scaled))"
   ]
  },
  {
   "cell_type": "markdown",
   "metadata": {},
   "source": [
    "## Data Generation\n",
    "\n",
    "Instead of training the Recurrent Neural Network on the complete sequences of almost 2.5k observations, we will use the following function to create a batch of shorter sub-sequences picked at random from the training-data."
   ]
  },
  {
   "cell_type": "code",
   "execution_count": 29,
   "metadata": {},
   "outputs": [],
   "source": [
    "def batch_generator(batch_size, sequence_length):\n",
    "    \"\"\"\n",
    "    Generator function for creating random batches of training-data.\n",
    "    \"\"\"\n",
    "\n",
    "    # Infinite loop.\n",
    "    while True:\n",
    "        # Allocate a new array for the batch of input-signals.\n",
    "        x_shape = (batch_size, sequence_length, num_x_signals)\n",
    "        x_batch = np.zeros(shape=x_shape, dtype=np.float16)\n",
    "\n",
    "        # Allocate a new array for the batch of output-signals.\n",
    "        y_shape = (batch_size, sequence_length, num_y_signals)\n",
    "        y_batch = np.zeros(shape=y_shape, dtype=np.float16)\n",
    "\n",
    "        # Fill the batch with random sequences of data.\n",
    "        for i in range(batch_size):\n",
    "            # Get a random start-index.\n",
    "            # This points somewhere into the training-data.\n",
    "            idx = np.random.randint(num_train - sequence_length)\n",
    "            \n",
    "            # Copy the sequences of data starting at this index.\n",
    "            x_batch[i] = x_train_scaled[idx:idx+sequence_length]\n",
    "            y_batch[i] = y_train_scaled[idx:idx+sequence_length]\n",
    "        \n",
    "        yield (x_batch, y_batch)"
   ]
  },
  {
   "cell_type": "markdown",
   "metadata": {},
   "source": [
    "We will use a large batch-size so as to keep the GPU near 100% work-load. You may have to adjust this number depending on your GPU, its RAM and your choice of `sequence_length` below."
   ]
  },
  {
   "cell_type": "code",
   "execution_count": 30,
   "metadata": {},
   "outputs": [],
   "source": [
    "batch_size = 144"
   ]
  },
  {
   "cell_type": "markdown",
   "metadata": {},
   "source": [
    "Use a sequence length of 7, which corresponds to 1 week"
   ]
  },
  {
   "cell_type": "code",
   "execution_count": 31,
   "metadata": {},
   "outputs": [
    {
     "data": {
      "text/plain": [
       "7"
      ]
     },
     "execution_count": 31,
     "metadata": {},
     "output_type": "execute_result"
    }
   ],
   "source": [
    "sequence_length = 7\n",
    "sequence_length"
   ]
  },
  {
   "cell_type": "code",
   "execution_count": 32,
   "metadata": {},
   "outputs": [],
   "source": [
    "generator = batch_generator(batch_size=batch_size,\n",
    "                            sequence_length=sequence_length) # Creation of batch-generator"
   ]
  },
  {
   "cell_type": "code",
   "execution_count": 33,
   "metadata": {},
   "outputs": [],
   "source": [
    "x_batch, y_batch = next(generator)"
   ]
  },
  {
   "cell_type": "code",
   "execution_count": 34,
   "metadata": {},
   "outputs": [
    {
     "name": "stdout",
     "output_type": "stream",
     "text": [
      "(144, 7, 54)\n",
      "(144, 7, 2)\n"
     ]
    }
   ],
   "source": [
    "print(x_batch.shape)\n",
    "print(y_batch.shape)"
   ]
  },
  {
   "cell_type": "code",
   "execution_count": 35,
   "metadata": {},
   "outputs": [
    {
     "data": {
      "text/plain": [
       "[<matplotlib.lines.Line2D at 0x1cfb689fa48>]"
      ]
     },
     "execution_count": 35,
     "metadata": {},
     "output_type": "execute_result"
    },
    {
     "data": {
      "image/png": "[encoded data removed]",
      "text/plain": [
       "<Figure size 432x288 with 1 Axes>"
      ]
     },
     "metadata": {
      "needs_background": "light"
     },
     "output_type": "display_data"
    }
   ],
   "source": [
    "batch = 0   # First sequence in the batch.\n",
    "signal = 0  # First signal from the 20 input-signals.\n",
    "seq = x_batch[batch, :, signal]\n",
    "plt.plot(seq)"
   ]
  },
  {
   "cell_type": "code",
   "execution_count": 36,
   "metadata": {},
   "outputs": [
    {
     "data": {
      "text/plain": [
       "[<matplotlib.lines.Line2D at 0x1cfb6953388>]"
      ]
     },
     "execution_count": 36,
     "metadata": {},
     "output_type": "execute_result"
    },
    {
     "data": {
      "image/png": "[encoded data removed]",
      "text/plain": [
       "<Figure size 432x288 with 1 Axes>"
      ]
     },
     "metadata": {
      "needs_background": "light"
     },
     "output_type": "display_data"
    }
   ],
   "source": [
    "seq = y_batch[batch, :, signal]\n",
    "plt.plot(seq)"
   ]
  },
  {
   "cell_type": "markdown",
   "metadata": {},
   "source": [
    "### Validation Set\n",
    "\n",
    "The neural network trains quickly so we can easily run many training epochs. But then there is a risk of overfitting the model to the training-set so it does not generalize well to unseen data. We will therefore monitor the model's performance on the test-set after each epoch and only save the model's weights if the performance is improved on the test-set.\n",
    "\n",
    "The batch-generator randomly selects a batch of short sequences from the training-data and uses that during training. But for the validation-data we will instead run through the entire sequence from the test-set and measure the prediction accuracy on that entire sequence."
   ]
  },
  {
   "cell_type": "code",
   "execution_count": 37,
   "metadata": {},
   "outputs": [],
   "source": [
    "validation_data = (np.expand_dims(x_test_scaled, axis=0),\n",
    "                   np.expand_dims(y_test_scaled, axis=0))"
   ]
  },
  {
   "cell_type": "markdown",
   "metadata": {},
   "source": [
    "## Create the Recurrent Neural Network\n",
    "\n",
    "We are now ready to create the Recurrent Neural Network (RNN). We will use the Keras API for this because of its simplicity. "
   ]
  },
  {
   "cell_type": "code",
   "execution_count": 38,
   "metadata": {},
   "outputs": [],
   "source": [
    "model = Sequential()"
   ]
  },
  {
   "cell_type": "markdown",
   "metadata": {},
   "source": [
    "We can now add a Gated Recurrent Unit (GRU) to the network. This will have 512 outputs for each time-step in the sequence.\n",
    "\n",
    "Note that because this is the first layer in the model, Keras needs to know the shape of its input, which is a batch of sequences of arbitrary length (indicated by `None`), where each observation has a number of input-signals (`num_x_signals`)."
   ]
  },
  {
   "cell_type": "code",
   "execution_count": 39,
   "metadata": {},
   "outputs": [],
   "source": [
    "model.add(GRU(units=512,\n",
    "              return_sequences=True,\n",
    "              input_shape=(None, num_x_signals,)))"
   ]
  },
  {
   "cell_type": "markdown",
   "metadata": {},
   "source": [
    "The GRU outputs a batch of sequences of 512 values. We want to predict 3 output-signals, so we add a fully-connected (or dense) layer which maps 512 values down to only 3 values.\n",
    "\n",
    "The output-signals in the data-set have been limited to be between 0 and 1 using a scaler-object. So we also limit the output of the neural network using the Sigmoid activation function, which squashes the output to be between 0 and 1."
   ]
  },
  {
   "cell_type": "code",
   "execution_count": 40,
   "metadata": {},
   "outputs": [],
   "source": [
    "model.add(Dense(num_y_signals, activation='sigmoid'))"
   ]
  },
  {
   "cell_type": "markdown",
   "metadata": {},
   "source": [
    "### Loss Function\n",
    "\n",
    "We will use Mean Squared Error (MSE) as the loss-function that will be minimized. This measures how closely the model's output matches the true output signals.\n",
    "\n",
    "However, at the beginning of a sequence, the model has only seen input-signals for a few time-steps, so its generated output may be very inaccurate. Using the loss-value for the early time-steps may cause the model to distort its later output. We therefore give the model a \"warmup-period\" of 5 time-steps where we don't use its accuracy in the loss-function, in hope of improving the accuracy for later time-steps."
   ]
  },
  {
   "cell_type": "code",
   "execution_count": 41,
   "metadata": {},
   "outputs": [],
   "source": [
    "warmup_steps = 5 # Apparently if you raise this value the training will get buggy, do not raise this value too high."
   ]
  },
  {
   "cell_type": "code",
   "execution_count": 42,
   "metadata": {},
   "outputs": [],
   "source": [
    "def loss_mse_warmup(y_true, y_pred):\n",
    "    \"\"\"\n",
    "    Calculate the Mean Squared Error between y_true and y_pred,\n",
    "    but ignore the beginning \"warmup\" part of the sequences.\n",
    "    \n",
    "    y_true is the desired output.\n",
    "    y_pred is the model's output.\n",
    "    \"\"\"\n",
    "\n",
    "    # The shape of both input tensors are:\n",
    "    # [batch_size, sequence_length, num_y_signals].\n",
    "\n",
    "    # Ignore the \"warmup\" parts of the sequences\n",
    "    # by taking slices of the tensors.\n",
    "    y_true_slice = y_true[:, warmup_steps:, :]\n",
    "    y_pred_slice = y_pred[:, warmup_steps:, :]\n",
    "\n",
    "    # These sliced tensors both have this shape:\n",
    "    # [batch_size, sequence_length - warmup_steps, num_y_signals]\n",
    "\n",
    "    # Calculat the Mean Squared Error and use it as loss.\n",
    "    mse = mean(square(y_true_slice - y_pred_slice))\n",
    "    \n",
    "    return mse"
   ]
  },
  {
   "cell_type": "markdown",
   "metadata": {},
   "source": [
    "### Compile Model\n",
    "\n",
    "This is the optimizer and the beginning learning-rate that we will use."
   ]
  },
  {
   "cell_type": "code",
   "execution_count": 43,
   "metadata": {},
   "outputs": [
    {
     "name": "stdout",
     "output_type": "stream",
     "text": [
      "Model: \"sequential\"\n",
      "_________________________________________________________________\n",
      "Layer (type)                 Output Shape              Param #   \n",
      "=================================================================\n",
      "gru (GRU)                    (None, None, 512)         872448    \n",
      "_________________________________________________________________\n",
      "dense (Dense)                (None, None, 2)           1026      \n",
      "=================================================================\n",
      "Total params: 873,474\n",
      "Trainable params: 873,474\n",
      "Non-trainable params: 0\n",
      "_________________________________________________________________\n"
     ]
    }
   ],
   "source": [
    "optimizer = RMSprop(lr=1e-3)\n",
    "model.compile(loss=loss_mse_warmup, optimizer=optimizer)\n",
    "model.summary()"
   ]
  },
  {
   "cell_type": "markdown",
   "metadata": {},
   "source": [
    "### Callback Functions\n",
    "\n",
    "During training we want to save checkpoints and log the progress to TensorBoard so we create the appropriate callbacks for Keras.\n",
    "\n",
    "This is the callback for writing checkpoints during training."
   ]
  },
  {
   "cell_type": "code",
   "execution_count": 44,
   "metadata": {},
   "outputs": [],
   "source": [
    "path_checkpoint = '23_checkpoint.keras'\n",
    "callback_checkpoint = ModelCheckpoint(filepath=path_checkpoint,\n",
    "                                      monitor='val_loss',\n",
    "                                      verbose=1,\n",
    "                                      save_weights_only=True,\n",
    "                                      save_best_only=True)\n",
    "callback_early_stopping = EarlyStopping(monitor='val_loss',\n",
    "                                        patience=5, verbose=1)\n",
    "callback_tensorboard = TensorBoard(log_dir='./23_logs/',\n",
    "                                   histogram_freq=0,\n",
    "                                   write_graph=False,\n",
    "                                  profile_batch = 100000000)\n",
    "callback_reduce_lr = ReduceLROnPlateau(monitor='val_loss',\n",
    "                                       factor=0.1,\n",
    "                                       min_lr=1e-4,\n",
    "                                       patience=0,\n",
    "                                       verbose=1)\n",
    "callbacks = [callback_early_stopping,\n",
    "             callback_checkpoint,\n",
    "             callback_tensorboard,\n",
    "             callback_reduce_lr]"
   ]
  },
  {
   "cell_type": "markdown",
   "metadata": {},
   "source": [
    "## Train the Recurrent Neural Network\n",
    "\n",
    "We can now train the neural network.\n",
    "\n",
    "Note that a single \"epoch\" does not correspond to a single processing of the training-set, because of how the batch-generator randomly selects sub-sequences from the training-set. Instead we have selected `steps_per_epoch` so that one \"epoch\" is processed in a few minutes.\n",
    "\n",
    "With these settings, each \"epoch\" took about 2.5 minutes to process on a GTX 1070. After 14 \"epochs\" the optimization was stopped because the validation-loss had not decreased for 5 \"epochs\". This optimization took about 35 minutes to finish.\n",
    "\n",
    "Also note that the loss sometimes becomes `NaN` (not-a-number). This is often resolved by restarting and running the Notebook again. But it may also be caused by your neural network architecture, learning-rate, batch-size, sequence-length, etc. in which case you may have to modify those settings."
   ]
  },
  {
   "cell_type": "code",
   "execution_count": 62,
   "metadata": {},
   "outputs": [
    {
     "name": "stdout",
     "output_type": "stream",
     "text": [
      "WARNING:tensorflow:sample_weight modes were coerced from\n",
      "  ...\n",
      "    to  \n",
      "  ['...']\n",
      "Train for 100 steps, validate on 1 samples\n",
      "Epoch 1/20\n",
      " 99/100 [============================>.] - ETA: 0s - loss: 0.0012- ETA: 2s\n",
      "Epoch 00001: val_loss did not improve from 0.01311\n",
      "100/100 [==============================] - 6s 63ms/step - loss: 0.0012 - val_loss: 0.0268\n",
      "Epoch 2/20\n",
      " 99/100 [============================>.] - ETA: 0s - loss: 7.0506e-04\n",
      "Epoch 00002: val_loss did not improve from 0.01311\n",
      "100/100 [==============================] - 6s 64ms/step - loss: 7.0363e-04 - val_loss: 0.0251\n",
      "Epoch 3/20\n",
      " 99/100 [============================>.] - ETA: 0s - loss: 5.8971e-04\n",
      "Epoch 00003: val_loss did not improve from 0.01311\n",
      "100/100 [==============================] - 7s 65ms/step - loss: 5.8863e-04 - val_loss: 0.0233\n",
      "Epoch 4/20\n",
      " 99/100 [============================>.] - ETA: 0s - loss: 5.3960e-04\n",
      "Epoch 00004: val_loss did not improve from 0.01311\n",
      "100/100 [==============================] - 7s 71ms/step - loss: 5.4041e-04 - val_loss: 0.0189\n",
      "Epoch 5/20\n",
      " 99/100 [============================>.] - ETA: 0s - loss: 5.0986e-04\n",
      "Epoch 00005: val_loss did not improve from 0.01311\n",
      "100/100 [==============================] - 7s 70ms/step - loss: 5.0938e-04 - val_loss: 0.0203\n",
      "Epoch 6/20\n",
      " 99/100 [============================>.] - ETA: 0s - loss: 4.9891e-04\n",
      "Epoch 00006: val_loss did not improve from 0.01311\n",
      "100/100 [==============================] - 7s 69ms/step - loss: 4.9847e-04 - val_loss: 0.0180\n",
      "Epoch 7/20\n",
      " 99/100 [============================>.] - ETA: 0s - loss: 4.8636e-04\n",
      "Epoch 00007: val_loss did not improve from 0.01311\n",
      "100/100 [==============================] - 7s 71ms/step - loss: 4.8698e-04 - val_loss: 0.0178\n",
      "Epoch 8/20\n",
      " 99/100 [============================>.] - ETA: 0s - loss: 4.7963e-04\n",
      "Epoch 00008: val_loss did not improve from 0.01311\n",
      "100/100 [==============================] - 7s 72ms/step - loss: 4.7979e-04 - val_loss: 0.0164\n",
      "Epoch 9/20\n",
      " 99/100 [============================>.] - ETA: 0s - loss: 4.6069e-04\n",
      "Epoch 00009: val_loss did not improve from 0.01311\n",
      "100/100 [==============================] - 7s 73ms/step - loss: 4.6012e-04 - val_loss: 0.0166\n",
      "Epoch 10/20\n",
      " 99/100 [============================>.] - ETA: 0s - loss: 4.4648e-04\n",
      "Epoch 00010: val_loss did not improve from 0.01311\n",
      "100/100 [==============================] - 7s 69ms/step - loss: 4.4597e-04 - val_loss: 0.0167\n",
      "Epoch 11/20\n",
      " 99/100 [============================>.] - ETA: 0s - loss: 4.5419e-04\n",
      "Epoch 00011: val_loss did not improve from 0.01311\n",
      "100/100 [==============================] - 7s 69ms/step - loss: 4.5305e-04 - val_loss: 0.0150\n",
      "Epoch 12/20\n",
      " 99/100 [============================>.] - ETA: 0s - loss: 4.2458e-04\n",
      "Epoch 00012: val_loss did not improve from 0.01311\n",
      "100/100 [==============================] - 7s 69ms/step - loss: 4.2343e-04 - val_loss: 0.0150\n",
      "Epoch 13/20\n",
      " 99/100 [============================>.] - ETA: 0s - loss: 4.2633e-04\n",
      "Epoch 00013: val_loss did not improve from 0.01311\n",
      "100/100 [==============================] - 7s 69ms/step - loss: 4.2765e-04 - val_loss: 0.0135\n",
      "Epoch 14/20\n",
      " 99/100 [============================>.] - ETA: 0s - loss: 4.1677e-04\n",
      "Epoch 00014: val_loss did not improve from 0.01311\n",
      "100/100 [==============================] - 7s 69ms/step - loss: 4.1733e-04 - val_loss: 0.0141\n",
      "Epoch 15/20\n",
      " 99/100 [============================>.] - ETA: 0s - loss: 4.1595e-04\n",
      "Epoch 00015: val_loss did not improve from 0.01311\n",
      "100/100 [==============================] - 7s 69ms/step - loss: 4.1550e-04 - val_loss: 0.0148\n",
      "Epoch 16/20\n",
      " 99/100 [============================>.] - ETA: 0s - loss: 4.0486e-04\n",
      "Epoch 00016: val_loss did not improve from 0.01311\n",
      "100/100 [==============================] - 7s 69ms/step - loss: 4.0445e-04 - val_loss: 0.0157\n",
      "Epoch 17/20\n",
      " 99/100 [============================>.] - ETA: 0s - loss: 4.1053e-04\n",
      "Epoch 00017: val_loss did not improve from 0.01311\n",
      "100/100 [==============================] - 7s 69ms/step - loss: 4.0927e-04 - val_loss: 0.0155\n",
      "Epoch 18/20\n",
      " 99/100 [============================>.] - ETA: 0s - loss: 3.9409e-04\n",
      "Epoch 00018: val_loss did not improve from 0.01311\n",
      "100/100 [==============================] - 7s 70ms/step - loss: 3.9394e-04 - val_loss: 0.0158\n",
      "Epoch 00018: early stopping\n",
      "Wall time: 2min 4s\n"
     ]
    },
    {
     "data": {
      "text/plain": [
       "<tensorflow.python.keras.callbacks.History at 0x1cfc614ff48>"
      ]
     },
     "execution_count": 62,
     "metadata": {},
     "output_type": "execute_result"
    }
   ],
   "source": [
    "%%time\n",
    "model.fit(x=generator,\n",
    "          epochs=20,\n",
    "          steps_per_epoch=100,\n",
    "          validation_data=validation_data,\n",
    "          callbacks=callbacks)"
   ]
  },
  {
   "cell_type": "markdown",
   "metadata": {},
   "source": [
    "### Load Checkpoint\n",
    "\n",
    "Because we use early-stopping when training the model, it is possible that the model's performance has worsened on the test-set for several epochs before training was stopped. We therefore reload the last saved checkpoint, which should have the best performance on the test-set.\n"
   ]
  },
  {
   "cell_type": "code",
   "execution_count": 59,
   "metadata": {},
   "outputs": [],
   "source": [
    "try:\n",
    "    model.load_weights(path_checkpoint)\n",
    "except Exception as error:\n",
    "    print(\"Error trying to load checkpoint.\")\n",
    "    print(error)"
   ]
  },
  {
   "cell_type": "markdown",
   "metadata": {},
   "source": [
    "## Performance on Test-Set\n",
    "\n",
    "We can now evaluate the model's performance on the test-set. This function expects a batch of data, but we will just use one long time-series for the test-set, so we just expand the array-dimensionality to create a batch with that one sequence."
   ]
  },
  {
   "cell_type": "code",
   "execution_count": 60,
   "metadata": {},
   "outputs": [
    {
     "name": "stdout",
     "output_type": "stream",
     "text": [
      "\r",
      "1/1 [==============================] - 0s 65ms/sample - loss: 0.0131\n"
     ]
    }
   ],
   "source": [
    "result = model.evaluate(x=np.expand_dims(x_test_scaled, axis=0),\n",
    "                        y=np.expand_dims(y_test_scaled, axis=0))"
   ]
  },
  {
   "cell_type": "code",
   "execution_count": 61,
   "metadata": {},
   "outputs": [
    {
     "name": "stdout",
     "output_type": "stream",
     "text": [
      "loss (test-set): 0.01310591772198677\n"
     ]
    }
   ],
   "source": [
    "print(\"loss (test-set):\", result)"
   ]
  },
  {
   "cell_type": "code",
   "execution_count": 63,
   "metadata": {},
   "outputs": [],
   "source": [
    "def plot_comparison(start_idx, length=100, train=True):\n",
    "    \"\"\"\n",
    "    Plot the predicted and true output-signals.\n",
    "    \n",
    "    :param start_idx: Start-index for the time-series.\n",
    "    :param length: Sequence-length to process and plot.\n",
    "    :param train: Boolean whether to use training- or test-set.\n",
    "    \"\"\"\n",
    "    \n",
    "    if train:\n",
    "        # Use training-data.\n",
    "        x = x_train_scaled\n",
    "        y_true = y_train\n",
    "    else:\n",
    "        # Use test-data.\n",
    "        x = x_test_scaled\n",
    "        y_true = y_test\n",
    "    \n",
    "    # End-index for the sequences.\n",
    "    end_idx = start_idx + length\n",
    "    \n",
    "    # Select the sequences from the given start-index and\n",
    "    # of the given length.\n",
    "    x = x[start_idx:end_idx]\n",
    "    y_true = y_true[start_idx:end_idx]\n",
    "    \n",
    "    # Input-signals for the model.\n",
    "    x = np.expand_dims(x, axis=0)\n",
    "\n",
    "    # Use the model to predict the output-signals.\n",
    "    y_pred = model.predict(x)\n",
    "    \n",
    "    # The output of the model is between 0 and 1.\n",
    "    # Do an inverse map to get it back to the scale\n",
    "    # of the original data-set.\n",
    "    y_pred_rescaled = y_scaler.inverse_transform(y_pred[0])\n",
    "    \n",
    "    # For each output-signal.\n",
    "    for signal in range(len(targets)):\n",
    "        # Get the output-signal predicted by the model.\n",
    "        signal_pred = y_pred_rescaled[:, signal]\n",
    "        \n",
    "        # Get the true output-signal from the data-set.\n",
    "        signal_true = y_true[:, signal]\n",
    "\n",
    "        # Make the plotting-canvas bigger.\n",
    "        plt.figure(figsize=(15,5))\n",
    "        \n",
    "        # Plot and compare the two signals.\n",
    "        plt.plot(signal_true, label='true')\n",
    "        plt.plot(signal_pred, label='pred')\n",
    "        \n",
    "        # Plot grey box for warmup-period.\n",
    "        p = plt.axvspan(0, warmup_steps, facecolor='black', alpha=0.15)\n",
    "        \n",
    "        # Plot labels etc.\n",
    "        plt.ylabel(targets[signal])\n",
    "        plt.legend()\n",
    "        plt.show()"
   ]
  },
  {
   "cell_type": "code",
   "execution_count": 64,
   "metadata": {},
   "outputs": [
    {
     "data": {
      "image/png": "[encoded data removed]",
      "text/plain": [
       "<Figure size 1080x360 with 1 Axes>"
      ]
     },
     "metadata": {
      "needs_background": "light"
     },
     "output_type": "display_data"
    },
    {
     "data": {
      "image/png": "[encoded data removed]",
      "text/plain": [
       "<Figure size 1080x360 with 1 Axes>"
      ]
     },
     "metadata": {
      "needs_background": "light"
     },
     "output_type": "display_data"
    }
   ],
   "source": [
    "plot_comparison(start_idx=1, length=3000, train=True)"
   ]
  },
  {
   "cell_type": "markdown",
   "metadata": {},
   "source": [
    "The model was able to more accurately predict the future as the number of steps increased. However, its ometimes predicted drops and fluctuations a little to early or late. The predicted values initially also seemed much lower than the true values especially when predicting the Close of SNP500 for some reason, maybe it has to do with the other input signals (stock prices from other industries)."
   ]
  },
  {
   "cell_type": "markdown",
   "metadata": {},
   "source": [
    "### Model on Actual Test Set:"
   ]
  },
  {
   "cell_type": "code",
   "execution_count": 51,
   "metadata": {},
   "outputs": [
    {
     "data": {
      "image/png": "[encoded data removed]",
      "text/plain": [
       "<Figure size 1080x360 with 1 Axes>"
      ]
     },
     "metadata": {
      "needs_background": "light"
     },
     "output_type": "display_data"
    },
    {
     "data": {
      "image/png": "[encoded data removed]",
      "text/plain": [
       "<Figure size 1080x360 with 1 Axes>"
      ]
     },
     "metadata": {
      "needs_background": "light"
     },
     "output_type": "display_data"
    }
   ],
   "source": [
    "plot_comparison(start_idx=1, length=1000, train=False)"
   ]
  },
  {
   "cell_type": "code",
   "execution_count": 57,
   "metadata": {},
   "outputs": [
    {
     "data": {
      "text/plain": [
       "<matplotlib.axes._subplots.AxesSubplot at 0x1cfc6000648>"
      ]
     },
     "execution_count": 57,
     "metadata": {},
     "output_type": "execute_result"
    },
    {
     "data": {
      "image/png": "[encoded data removed]",
      "text/plain": [
       "<Figure size 432x288 with 1 Axes>"
      ]
     },
     "metadata": {
      "needs_background": "light"
     },
     "output_type": "display_data"
    }
   ],
   "source": [
    "dforiginal['Close_SNP500'].plot()"
   ]
  }
 ],
 "metadata": {
  "kernelspec": {
   "display_name": "Python 3",
   "language": "python",
   "name": "python3"
  },
  "language_info": {
   "codemirror_mode": {
    "name": "ipython",
    "version": 3
   },
   "file_extension": ".py",
   "mimetype": "text/x-python",
   "name": "python",
   "nbconvert_exporter": "python",
   "pygments_lexer": "ipython3",
   "version": "3.7.6"
  }
 },
 "nbformat": 4,
 "nbformat_minor": 4
}
